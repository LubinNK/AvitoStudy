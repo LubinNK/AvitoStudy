{
 "cells": [
  {
   "cell_type": "code",
   "execution_count": 1,
   "metadata": {},
   "outputs": [],
   "source": [
    "import pandas\n",
    "import plotly.express as px\n",
    "import pandas as pd\n",
    "import plotly.graph_objects as go\n",
    "from plotly.subplots import make_subplots\n",
    "import numpy as np"
   ]
  },
  {
   "cell_type": "code",
   "execution_count": 2,
   "metadata": {},
   "outputs": [
    {
     "data": {
      "text/html": [
       "<div>\n",
       "<style scoped>\n",
       "    .dataframe tbody tr th:only-of-type {\n",
       "        vertical-align: middle;\n",
       "    }\n",
       "\n",
       "    .dataframe tbody tr th {\n",
       "        vertical-align: top;\n",
       "    }\n",
       "\n",
       "    .dataframe thead th {\n",
       "        text-align: right;\n",
       "    }\n",
       "</style>\n",
       "<table border=\"1\" class=\"dataframe\">\n",
       "  <thead>\n",
       "    <tr style=\"text-align: right;\">\n",
       "      <th></th>\n",
       "      <th>listing_id</th>\n",
       "      <th>date</th>\n",
       "      <th>available</th>\n",
       "      <th>price</th>\n",
       "      <th>minimum_nights</th>\n",
       "      <th>maximum_nights</th>\n",
       "    </tr>\n",
       "  </thead>\n",
       "  <tbody>\n",
       "    <tr>\n",
       "      <th>0</th>\n",
       "      <td>2818</td>\n",
       "      <td>2023-03-09</td>\n",
       "      <td>False</td>\n",
       "      <td>69.00</td>\n",
       "      <td>3.0</td>\n",
       "      <td>1125.0</td>\n",
       "    </tr>\n",
       "    <tr>\n",
       "      <th>1</th>\n",
       "      <td>2818</td>\n",
       "      <td>2023-03-10</td>\n",
       "      <td>False</td>\n",
       "      <td>69.00</td>\n",
       "      <td>3.0</td>\n",
       "      <td>1125.0</td>\n",
       "    </tr>\n",
       "    <tr>\n",
       "      <th>2</th>\n",
       "      <td>2818</td>\n",
       "      <td>2023-03-11</td>\n",
       "      <td>False</td>\n",
       "      <td>69.00</td>\n",
       "      <td>3.0</td>\n",
       "      <td>1125.0</td>\n",
       "    </tr>\n",
       "    <tr>\n",
       "      <th>3</th>\n",
       "      <td>2818</td>\n",
       "      <td>2023-03-12</td>\n",
       "      <td>False</td>\n",
       "      <td>69.00</td>\n",
       "      <td>3.0</td>\n",
       "      <td>1125.0</td>\n",
       "    </tr>\n",
       "    <tr>\n",
       "      <th>4</th>\n",
       "      <td>2818</td>\n",
       "      <td>2023-03-13</td>\n",
       "      <td>True</td>\n",
       "      <td>69.00</td>\n",
       "      <td>3.0</td>\n",
       "      <td>1125.0</td>\n",
       "    </tr>\n",
       "  </tbody>\n",
       "</table>\n",
       "</div>"
      ],
      "text/plain": [
       "   listing_id        date  available  price  minimum_nights  maximum_nights\n",
       "0        2818  2023-03-09      False  69.00             3.0          1125.0\n",
       "1        2818  2023-03-10      False  69.00             3.0          1125.0\n",
       "2        2818  2023-03-11      False  69.00             3.0          1125.0\n",
       "3        2818  2023-03-12      False  69.00             3.0          1125.0\n",
       "4        2818  2023-03-13       True  69.00             3.0          1125.0"
      ]
     },
     "execution_count": 2,
     "metadata": {},
     "output_type": "execute_result"
    }
   ],
   "source": [
    "data_calendar = pd.read_csv(\"AirBnB Amsterdam Data\\public.calendar_amsterdam_airbnb.csv\")\n",
    "data_calendar.head()"
   ]
  },
  {
   "cell_type": "code",
   "execution_count": 3,
   "metadata": {},
   "outputs": [],
   "source": [
    "def mod_price(x):\n",
    "    if x == 'an':\n",
    "        return None\n",
    "    else:\n",
    "        x = str(x).replace(',', '')\n",
    "        return float(x)\n",
    "\n",
    "data_calendar['date'] = pd.to_datetime(data_calendar['date'])\n",
    "data_calendar['price'] = data_calendar.price.apply(mod_price)\n",
    "data_calendar = data_calendar.dropna(subset=['price', 'minimum_nights', 'maximum_nights'])"
   ]
  },
  {
   "cell_type": "code",
   "execution_count": 4,
   "metadata": {},
   "outputs": [
    {
     "data": {
      "text/plain": [
       "0"
      ]
     },
     "execution_count": 4,
     "metadata": {},
     "output_type": "execute_result"
    }
   ],
   "source": [
    "data_calendar.price.isna().sum()"
   ]
  },
  {
   "cell_type": "code",
   "execution_count": 5,
   "metadata": {},
   "outputs": [
    {
     "name": "stdout",
     "output_type": "stream",
     "text": [
      "<class 'pandas.core.frame.DataFrame'>\n",
      "Int64Index: 792432 entries, 0 to 792775\n",
      "Data columns (total 6 columns):\n",
      " #   Column          Non-Null Count   Dtype         \n",
      "---  ------          --------------   -----         \n",
      " 0   listing_id      792432 non-null  int64         \n",
      " 1   date            792432 non-null  datetime64[ns]\n",
      " 2   available       792432 non-null  bool          \n",
      " 3   price           792432 non-null  float64       \n",
      " 4   minimum_nights  792432 non-null  float64       \n",
      " 5   maximum_nights  792432 non-null  float64       \n",
      "dtypes: bool(1), datetime64[ns](1), float64(3), int64(1)\n",
      "memory usage: 37.0 MB\n"
     ]
    }
   ],
   "source": [
    "data_calendar.info()"
   ]
  },
  {
   "cell_type": "code",
   "execution_count": 6,
   "metadata": {},
   "outputs": [
    {
     "data": {
      "text/html": [
       "<div>\n",
       "<style scoped>\n",
       "    .dataframe tbody tr th:only-of-type {\n",
       "        vertical-align: middle;\n",
       "    }\n",
       "\n",
       "    .dataframe tbody tr th {\n",
       "        vertical-align: top;\n",
       "    }\n",
       "\n",
       "    .dataframe thead th {\n",
       "        text-align: right;\n",
       "    }\n",
       "</style>\n",
       "<table border=\"1\" class=\"dataframe\">\n",
       "  <thead>\n",
       "    <tr style=\"text-align: right;\">\n",
       "      <th></th>\n",
       "      <th>id</th>\n",
       "      <th>listing_url</th>\n",
       "      <th>name</th>\n",
       "      <th>description</th>\n",
       "      <th>neighborhood_overview</th>\n",
       "      <th>picture_url</th>\n",
       "      <th>host_id</th>\n",
       "      <th>host_url</th>\n",
       "      <th>host_name</th>\n",
       "      <th>host_since</th>\n",
       "      <th>...</th>\n",
       "      <th>review_scores_rating</th>\n",
       "      <th>review_scores_accuracy</th>\n",
       "      <th>review_scores_cleanliness</th>\n",
       "      <th>review_scores_checkin</th>\n",
       "      <th>review_scores_communication</th>\n",
       "      <th>review_scores_location</th>\n",
       "      <th>review_scores_value</th>\n",
       "      <th>license</th>\n",
       "      <th>instant_bookable</th>\n",
       "      <th>reviews_per_month</th>\n",
       "    </tr>\n",
       "  </thead>\n",
       "  <tbody>\n",
       "    <tr>\n",
       "      <th>0</th>\n",
       "      <td>2818</td>\n",
       "      <td>https://www.airbnb.com/rooms/2818</td>\n",
       "      <td>Quiet Garden View Room &amp; Super Fast Wi-Fi</td>\n",
       "      <td>Quiet Garden View Room &amp; Super Fast Wi-Fi&lt;br /...</td>\n",
       "      <td>Indische Buurt (\"Indies Neighborhood\") is a ne...</td>\n",
       "      <td>https://a0.muscache.com/pictures/10272854/8dcc...</td>\n",
       "      <td>3159</td>\n",
       "      <td>https://www.airbnb.com/users/show/3159</td>\n",
       "      <td>Daniel</td>\n",
       "      <td>2008-09-24</td>\n",
       "      <td>...</td>\n",
       "      <td>4.89</td>\n",
       "      <td>4.93</td>\n",
       "      <td>4.99</td>\n",
       "      <td>4.97</td>\n",
       "      <td>4.98</td>\n",
       "      <td>4.69</td>\n",
       "      <td>4.81</td>\n",
       "      <td>0363 5F3A 5684 6750 D14D</td>\n",
       "      <td>False</td>\n",
       "      <td>1.90</td>\n",
       "    </tr>\n",
       "    <tr>\n",
       "      <th>1</th>\n",
       "      <td>311124</td>\n",
       "      <td>https://www.airbnb.com/rooms/311124</td>\n",
       "      <td>*historic centre* *bright* *canal view* *jordaan*</td>\n",
       "      <td>&gt; Please be so kind to book  ONLY AFTER  conta...</td>\n",
       "      <td>Perfect location in the lively centre. All his...</td>\n",
       "      <td>https://a0.muscache.com/pictures/5208672/5bb60...</td>\n",
       "      <td>1600010</td>\n",
       "      <td>https://www.airbnb.com/users/show/1600010</td>\n",
       "      <td>Anke &amp; Robert</td>\n",
       "      <td>2012-01-12</td>\n",
       "      <td>...</td>\n",
       "      <td>4.76</td>\n",
       "      <td>4.72</td>\n",
       "      <td>4.79</td>\n",
       "      <td>4.90</td>\n",
       "      <td>4.92</td>\n",
       "      <td>4.93</td>\n",
       "      <td>4.60</td>\n",
       "      <td>0363 59D8 7D30 6CFA DC81</td>\n",
       "      <td>False</td>\n",
       "      <td>0.66</td>\n",
       "    </tr>\n",
       "    <tr>\n",
       "      <th>2</th>\n",
       "      <td>319985</td>\n",
       "      <td>https://www.airbnb.com/rooms/319985</td>\n",
       "      <td>Elegant Appartement Central Location.</td>\n",
       "      <td>From December 26 thru January 2, minimum stay ...</td>\n",
       "      <td>Bij aankomst vertel ik mijn gasten graag over ...</td>\n",
       "      <td>https://a0.muscache.com/pictures/3b76222e-ed0a...</td>\n",
       "      <td>1640702</td>\n",
       "      <td>https://www.airbnb.com/users/show/1640702</td>\n",
       "      <td>J</td>\n",
       "      <td>2012-01-23</td>\n",
       "      <td>...</td>\n",
       "      <td>4.75</td>\n",
       "      <td>4.83</td>\n",
       "      <td>4.69</td>\n",
       "      <td>4.86</td>\n",
       "      <td>4.78</td>\n",
       "      <td>4.85</td>\n",
       "      <td>4.62</td>\n",
       "      <td>0363 7D88 E1E8 F521 9A10</td>\n",
       "      <td>False</td>\n",
       "      <td>3.73</td>\n",
       "    </tr>\n",
       "    <tr>\n",
       "      <th>3</th>\n",
       "      <td>327285</td>\n",
       "      <td>https://www.airbnb.com/rooms/327285</td>\n",
       "      <td>beautiful designed ap.+bikes+garden</td>\n",
       "      <td>Cosy and comfortable apartment on the ground f...</td>\n",
       "      <td>'De Pijp' as we Amsterdammers know it today is...</td>\n",
       "      <td>https://a0.muscache.com/pictures/4283713/63eaa...</td>\n",
       "      <td>1672823</td>\n",
       "      <td>https://www.airbnb.com/users/show/1672823</td>\n",
       "      <td>Ester</td>\n",
       "      <td>2012-01-30</td>\n",
       "      <td>...</td>\n",
       "      <td>4.94</td>\n",
       "      <td>4.91</td>\n",
       "      <td>4.92</td>\n",
       "      <td>4.98</td>\n",
       "      <td>4.99</td>\n",
       "      <td>4.91</td>\n",
       "      <td>4.84</td>\n",
       "      <td>0363 8A88 B129 62B5 BD4E</td>\n",
       "      <td>True</td>\n",
       "      <td>4.19</td>\n",
       "    </tr>\n",
       "    <tr>\n",
       "      <th>4</th>\n",
       "      <td>331946</td>\n",
       "      <td>https://www.airbnb.com/rooms/331946</td>\n",
       "      <td>Lovely FAMILY house near Vondelpark</td>\n",
       "      <td>* Our house is only suitable for a couple or f...</td>\n",
       "      <td>NaN</td>\n",
       "      <td>https://a0.muscache.com/pictures/b73c16af-4e31...</td>\n",
       "      <td>1687595</td>\n",
       "      <td>https://www.airbnb.com/users/show/1687595</td>\n",
       "      <td>Sebastiaan</td>\n",
       "      <td>2012-02-02</td>\n",
       "      <td>...</td>\n",
       "      <td>4.88</td>\n",
       "      <td>4.88</td>\n",
       "      <td>4.64</td>\n",
       "      <td>4.92</td>\n",
       "      <td>4.88</td>\n",
       "      <td>4.79</td>\n",
       "      <td>4.75</td>\n",
       "      <td>0363 A942 21DC C431 1AD1</td>\n",
       "      <td>False</td>\n",
       "      <td>0.24</td>\n",
       "    </tr>\n",
       "  </tbody>\n",
       "</table>\n",
       "<p>5 rows × 48 columns</p>\n",
       "</div>"
      ],
      "text/plain": [
       "       id                          listing_url  \\\n",
       "0    2818    https://www.airbnb.com/rooms/2818   \n",
       "1  311124  https://www.airbnb.com/rooms/311124   \n",
       "2  319985  https://www.airbnb.com/rooms/319985   \n",
       "3  327285  https://www.airbnb.com/rooms/327285   \n",
       "4  331946  https://www.airbnb.com/rooms/331946   \n",
       "\n",
       "                                                name  \\\n",
       "0          Quiet Garden View Room & Super Fast Wi-Fi   \n",
       "1  *historic centre* *bright* *canal view* *jordaan*   \n",
       "2              Elegant Appartement Central Location.   \n",
       "3                beautiful designed ap.+bikes+garden   \n",
       "4                Lovely FAMILY house near Vondelpark   \n",
       "\n",
       "                                         description  \\\n",
       "0  Quiet Garden View Room & Super Fast Wi-Fi<br /...   \n",
       "1  > Please be so kind to book  ONLY AFTER  conta...   \n",
       "2  From December 26 thru January 2, minimum stay ...   \n",
       "3  Cosy and comfortable apartment on the ground f...   \n",
       "4  * Our house is only suitable for a couple or f...   \n",
       "\n",
       "                               neighborhood_overview  \\\n",
       "0  Indische Buurt (\"Indies Neighborhood\") is a ne...   \n",
       "1  Perfect location in the lively centre. All his...   \n",
       "2  Bij aankomst vertel ik mijn gasten graag over ...   \n",
       "3  'De Pijp' as we Amsterdammers know it today is...   \n",
       "4                                                NaN   \n",
       "\n",
       "                                         picture_url  host_id  \\\n",
       "0  https://a0.muscache.com/pictures/10272854/8dcc...     3159   \n",
       "1  https://a0.muscache.com/pictures/5208672/5bb60...  1600010   \n",
       "2  https://a0.muscache.com/pictures/3b76222e-ed0a...  1640702   \n",
       "3  https://a0.muscache.com/pictures/4283713/63eaa...  1672823   \n",
       "4  https://a0.muscache.com/pictures/b73c16af-4e31...  1687595   \n",
       "\n",
       "                                    host_url      host_name  host_since  ...  \\\n",
       "0     https://www.airbnb.com/users/show/3159         Daniel  2008-09-24  ...   \n",
       "1  https://www.airbnb.com/users/show/1600010  Anke & Robert  2012-01-12  ...   \n",
       "2  https://www.airbnb.com/users/show/1640702              J  2012-01-23  ...   \n",
       "3  https://www.airbnb.com/users/show/1672823          Ester  2012-01-30  ...   \n",
       "4  https://www.airbnb.com/users/show/1687595     Sebastiaan  2012-02-02  ...   \n",
       "\n",
       "  review_scores_rating review_scores_accuracy review_scores_cleanliness  \\\n",
       "0                 4.89                   4.93                      4.99   \n",
       "1                 4.76                   4.72                      4.79   \n",
       "2                 4.75                   4.83                      4.69   \n",
       "3                 4.94                   4.91                      4.92   \n",
       "4                 4.88                   4.88                      4.64   \n",
       "\n",
       "  review_scores_checkin review_scores_communication  review_scores_location  \\\n",
       "0                  4.97                        4.98                    4.69   \n",
       "1                  4.90                        4.92                    4.93   \n",
       "2                  4.86                        4.78                    4.85   \n",
       "3                  4.98                        4.99                    4.91   \n",
       "4                  4.92                        4.88                    4.79   \n",
       "\n",
       "   review_scores_value                   license instant_bookable  \\\n",
       "0                 4.81  0363 5F3A 5684 6750 D14D            False   \n",
       "1                 4.60  0363 59D8 7D30 6CFA DC81            False   \n",
       "2                 4.62  0363 7D88 E1E8 F521 9A10            False   \n",
       "3                 4.84  0363 8A88 B129 62B5 BD4E             True   \n",
       "4                 4.75  0363 A942 21DC C431 1AD1            False   \n",
       "\n",
       "   reviews_per_month  \n",
       "0               1.90  \n",
       "1               0.66  \n",
       "2               3.73  \n",
       "3               4.19  \n",
       "4               0.24  \n",
       "\n",
       "[5 rows x 48 columns]"
      ]
     },
     "execution_count": 6,
     "metadata": {},
     "output_type": "execute_result"
    }
   ],
   "source": [
    "data_listing = pd.read_csv(\"AirBnB Amsterdam Data\\public.listings_amsterdam_airbnb.csv\")\n",
    "data_listing.head()"
   ]
  },
  {
   "cell_type": "code",
   "execution_count": 7,
   "metadata": {},
   "outputs": [
    {
     "data": {
      "text/plain": [
       "6998"
      ]
     },
     "execution_count": 7,
     "metadata": {},
     "output_type": "execute_result"
    }
   ],
   "source": [
    "data_listing.id.count()"
   ]
  },
  {
   "cell_type": "code",
   "execution_count": 8,
   "metadata": {},
   "outputs": [
    {
     "data": {
      "text/plain": [
       "22"
      ]
     },
     "execution_count": 8,
     "metadata": {},
     "output_type": "execute_result"
    }
   ],
   "source": [
    "len(data_listing.neighbourhood_cleansed.unique())"
   ]
  },
  {
   "cell_type": "code",
   "execution_count": 9,
   "metadata": {},
   "outputs": [
    {
     "data": {
      "text/plain": [
       "De Baarsjes - Oud-West                    1139\n",
       "Centrum-West                               922\n",
       "De Pijp - Rivierenbuurt                    802\n",
       "Centrum-Oost                               681\n",
       "Westerpark                                 481\n",
       "Zuid                                       464\n",
       "Oud-Oost                                   408\n",
       "Bos en Lommer                              344\n",
       "Oud-Noord                                  322\n",
       "Oostelijk Havengebied - Indische Buurt     260\n",
       "Watergraafsmeer                            208\n",
       "Noord-West                                 179\n",
       "IJburg - Zeeburgereiland                   157\n",
       "Slotervaart                                143\n",
       "Noord-Oost                                 113\n",
       "Geuzenveld - Slotermeer                     87\n",
       "Buitenveldert - Zuidas                      80\n",
       "De Aker - Nieuw Sloten                      49\n",
       "Bijlmer-Centrum                             44\n",
       "Gaasperdam - Driemond                       44\n",
       "Osdorp                                      43\n",
       "Bijlmer-Oost                                28\n",
       "Name: neighbourhood_cleansed, dtype: int64"
      ]
     },
     "execution_count": 9,
     "metadata": {},
     "output_type": "execute_result"
    }
   ],
   "source": [
    "data_listing['neighbourhood_cleansed'].value_counts()"
   ]
  },
  {
   "cell_type": "code",
   "execution_count": 10,
   "metadata": {},
   "outputs": [],
   "source": [
    "list_review = ['review_scores_rating', 'review_scores_accuracy', 'review_scores_cleanliness', 'review_scores_checkin', 'review_scores_communication', 'review_scores_location', 'review_scores_value']\n",
    "data_listing[list_review] = data_listing[list_review].fillna(0)\n",
    "data_listing['price'] = data_listing['price'].apply(mod_price)\n",
    "data_listing['review_scores_extra'] = data_listing[list_review[1:]].mean(axis=1)\n",
    "data_listing['rating'] = data_listing[['review_scores_rating', 'review_scores_extra']].mean(axis=1)"
   ]
  },
  {
   "cell_type": "code",
   "execution_count": 11,
   "metadata": {},
   "outputs": [
    {
     "name": "stdout",
     "output_type": "stream",
     "text": [
      "<class 'pandas.core.frame.DataFrame'>\n",
      "RangeIndex: 6998 entries, 0 to 6997\n",
      "Data columns (total 50 columns):\n",
      " #   Column                       Non-Null Count  Dtype  \n",
      "---  ------                       --------------  -----  \n",
      " 0   id                           6998 non-null   int64  \n",
      " 1   listing_url                  6998 non-null   object \n",
      " 2   name                         6998 non-null   object \n",
      " 3   description                  6992 non-null   object \n",
      " 4   neighborhood_overview        4506 non-null   object \n",
      " 5   picture_url                  6998 non-null   object \n",
      " 6   host_id                      6998 non-null   int64  \n",
      " 7   host_url                     6998 non-null   object \n",
      " 8   host_name                    6998 non-null   object \n",
      " 9   host_since                   6998 non-null   object \n",
      " 10  host_location                6195 non-null   object \n",
      " 11  host_about                   4083 non-null   object \n",
      " 12  host_response_time           4959 non-null   object \n",
      " 13  host_is_superhost            6994 non-null   object \n",
      " 14  host_neighbourhood           2976 non-null   object \n",
      " 15  host_total_listings_count    6998 non-null   int64  \n",
      " 16  host_identity_verified       6998 non-null   bool   \n",
      " 17  neighbourhood                4506 non-null   object \n",
      " 18  neighbourhood_cleansed       6998 non-null   object \n",
      " 19  latitude                     6998 non-null   float64\n",
      " 20  longitude                    6998 non-null   float64\n",
      " 21  property_type                6998 non-null   object \n",
      " 22  room_type                    6998 non-null   object \n",
      " 23  accommodates                 6998 non-null   int64  \n",
      " 24  bathrooms_text               6985 non-null   object \n",
      " 25  bedrooms                     6714 non-null   float64\n",
      " 26  beds                         6913 non-null   float64\n",
      " 27  amenities                    6998 non-null   object \n",
      " 28  price                        6998 non-null   float64\n",
      " 29  minimum_nights               6998 non-null   int64  \n",
      " 30  maximum_nights               6998 non-null   int64  \n",
      " 31  availability_30              6998 non-null   int64  \n",
      " 32  availability_60              6998 non-null   int64  \n",
      " 33  availability_90              6998 non-null   int64  \n",
      " 34  availability_365             6998 non-null   int64  \n",
      " 35  number_of_reviews            6998 non-null   int64  \n",
      " 36  first_review                 6316 non-null   object \n",
      " 37  last_review                  6316 non-null   object \n",
      " 38  review_scores_rating         6998 non-null   float64\n",
      " 39  review_scores_accuracy       6998 non-null   float64\n",
      " 40  review_scores_cleanliness    6998 non-null   float64\n",
      " 41  review_scores_checkin        6998 non-null   float64\n",
      " 42  review_scores_communication  6998 non-null   float64\n",
      " 43  review_scores_location       6998 non-null   float64\n",
      " 44  review_scores_value          6998 non-null   float64\n",
      " 45  license                      6974 non-null   object \n",
      " 46  instant_bookable             6998 non-null   bool   \n",
      " 47  reviews_per_month            6316 non-null   float64\n",
      " 48  review_scores_extra          6998 non-null   float64\n",
      " 49  rating                       6998 non-null   float64\n",
      "dtypes: bool(2), float64(15), int64(11), object(22)\n",
      "memory usage: 2.6+ MB\n"
     ]
    }
   ],
   "source": [
    "data_listing.info()"
   ]
  },
  {
   "cell_type": "code",
   "execution_count": 12,
   "metadata": {},
   "outputs": [
    {
     "data": {
      "text/plain": [
       "array(['Private room in rental unit', 'Entire rental unit',\n",
       "       'Private room in home', 'Entire loft', 'Private room in townhouse',\n",
       "       'Boat', 'Entire townhouse', 'Private room in condo',\n",
       "       'Entire condo', 'Private room in houseboat', 'Entire guest suite',\n",
       "       'Private room in loft', 'Private room in bed and breakfast',\n",
       "       'Entire home', 'Private room in guest suite', 'Entire guesthouse',\n",
       "       'Private room in boat', 'Room in boutique hotel',\n",
       "       'Private room in farm stay', 'Houseboat',\n",
       "       'Room in bed and breakfast', 'Entire chalet',\n",
       "       'Private room in guesthouse', 'Shared room in rental unit',\n",
       "       'Shared room in home', 'Private room in serviced apartment',\n",
       "       'Entire villa', 'Private room in villa',\n",
       "       'Private room in tiny home', 'Private room in casa particular',\n",
       "       'Entire serviced apartment', 'Private room in bungalow', 'Barn',\n",
       "       'Entire cabin', 'Room in hotel', 'Room in aparthotel',\n",
       "       'Entire place', 'Tiny home', 'Entire cottage',\n",
       "       'Private room in cabin', 'Private room',\n",
       "       'Private room in nature lodge', 'Room in serviced apartment',\n",
       "       'Private room in earthen home', 'Entire vacation home', 'Tower',\n",
       "       'Shared room in houseboat', 'Room in hostel',\n",
       "       'Shared room in hostel', 'Private room in hostel',\n",
       "       'Shared room in boat', 'Cave', 'Camper/RV',\n",
       "       'Shared room in bed and breakfast', 'Yurt', 'Casa particular',\n",
       "       'Shared room in farm stay', 'Private room in vacation home'],\n",
       "      dtype=object)"
      ]
     },
     "execution_count": 12,
     "metadata": {},
     "output_type": "execute_result"
    }
   ],
   "source": [
    "data_listing.property_type.unique()"
   ]
  },
  {
   "cell_type": "code",
   "execution_count": 13,
   "metadata": {},
   "outputs": [],
   "source": [
    "list_features = ['id', 'name', 'neighbourhood_cleansed', 'latitude', 'longitude', 'property_type', 'accommodates', 'price', 'number_of_reviews', 'rating']\n",
    "data_listing = data_listing[list_features]"
   ]
  },
  {
   "cell_type": "code",
   "execution_count": 14,
   "metadata": {},
   "outputs": [],
   "source": [
    "df = data_calendar.merge(data_listing, left_on='listing_id', right_on='id')"
   ]
  },
  {
   "cell_type": "code",
   "execution_count": 16,
   "metadata": {},
   "outputs": [
    {
     "data": {
      "text/html": [
       "<div>\n",
       "<style scoped>\n",
       "    .dataframe tbody tr th:only-of-type {\n",
       "        vertical-align: middle;\n",
       "    }\n",
       "\n",
       "    .dataframe tbody tr th {\n",
       "        vertical-align: top;\n",
       "    }\n",
       "\n",
       "    .dataframe thead th {\n",
       "        text-align: right;\n",
       "    }\n",
       "</style>\n",
       "<table border=\"1\" class=\"dataframe\">\n",
       "  <thead>\n",
       "    <tr style=\"text-align: right;\">\n",
       "      <th></th>\n",
       "      <th>listing_id</th>\n",
       "      <th>date</th>\n",
       "      <th>available</th>\n",
       "      <th>price_x</th>\n",
       "      <th>minimum_nights</th>\n",
       "      <th>maximum_nights</th>\n",
       "      <th>id</th>\n",
       "      <th>name</th>\n",
       "      <th>neighbourhood_cleansed</th>\n",
       "      <th>latitude</th>\n",
       "      <th>longitude</th>\n",
       "      <th>property_type</th>\n",
       "      <th>accommodates</th>\n",
       "      <th>price_y</th>\n",
       "      <th>number_of_reviews</th>\n",
       "      <th>rating</th>\n",
       "    </tr>\n",
       "  </thead>\n",
       "  <tbody>\n",
       "    <tr>\n",
       "      <th>0</th>\n",
       "      <td>2818</td>\n",
       "      <td>2023-03-09</td>\n",
       "      <td>False</td>\n",
       "      <td>69.0</td>\n",
       "      <td>3.0</td>\n",
       "      <td>1125.0</td>\n",
       "      <td>2818</td>\n",
       "      <td>Quiet Garden View Room &amp; Super Fast Wi-Fi</td>\n",
       "      <td>Oostelijk Havengebied - Indische Buurt</td>\n",
       "      <td>52.36435</td>\n",
       "      <td>4.94358</td>\n",
       "      <td>Private room in rental unit</td>\n",
       "      <td>2</td>\n",
       "      <td>69.0</td>\n",
       "      <td>322</td>\n",
       "      <td>4.8925</td>\n",
       "    </tr>\n",
       "    <tr>\n",
       "      <th>1</th>\n",
       "      <td>2818</td>\n",
       "      <td>2023-03-10</td>\n",
       "      <td>False</td>\n",
       "      <td>69.0</td>\n",
       "      <td>3.0</td>\n",
       "      <td>1125.0</td>\n",
       "      <td>2818</td>\n",
       "      <td>Quiet Garden View Room &amp; Super Fast Wi-Fi</td>\n",
       "      <td>Oostelijk Havengebied - Indische Buurt</td>\n",
       "      <td>52.36435</td>\n",
       "      <td>4.94358</td>\n",
       "      <td>Private room in rental unit</td>\n",
       "      <td>2</td>\n",
       "      <td>69.0</td>\n",
       "      <td>322</td>\n",
       "      <td>4.8925</td>\n",
       "    </tr>\n",
       "    <tr>\n",
       "      <th>2</th>\n",
       "      <td>2818</td>\n",
       "      <td>2023-03-11</td>\n",
       "      <td>False</td>\n",
       "      <td>69.0</td>\n",
       "      <td>3.0</td>\n",
       "      <td>1125.0</td>\n",
       "      <td>2818</td>\n",
       "      <td>Quiet Garden View Room &amp; Super Fast Wi-Fi</td>\n",
       "      <td>Oostelijk Havengebied - Indische Buurt</td>\n",
       "      <td>52.36435</td>\n",
       "      <td>4.94358</td>\n",
       "      <td>Private room in rental unit</td>\n",
       "      <td>2</td>\n",
       "      <td>69.0</td>\n",
       "      <td>322</td>\n",
       "      <td>4.8925</td>\n",
       "    </tr>\n",
       "    <tr>\n",
       "      <th>3</th>\n",
       "      <td>2818</td>\n",
       "      <td>2023-03-12</td>\n",
       "      <td>False</td>\n",
       "      <td>69.0</td>\n",
       "      <td>3.0</td>\n",
       "      <td>1125.0</td>\n",
       "      <td>2818</td>\n",
       "      <td>Quiet Garden View Room &amp; Super Fast Wi-Fi</td>\n",
       "      <td>Oostelijk Havengebied - Indische Buurt</td>\n",
       "      <td>52.36435</td>\n",
       "      <td>4.94358</td>\n",
       "      <td>Private room in rental unit</td>\n",
       "      <td>2</td>\n",
       "      <td>69.0</td>\n",
       "      <td>322</td>\n",
       "      <td>4.8925</td>\n",
       "    </tr>\n",
       "    <tr>\n",
       "      <th>4</th>\n",
       "      <td>2818</td>\n",
       "      <td>2023-03-13</td>\n",
       "      <td>True</td>\n",
       "      <td>69.0</td>\n",
       "      <td>3.0</td>\n",
       "      <td>1125.0</td>\n",
       "      <td>2818</td>\n",
       "      <td>Quiet Garden View Room &amp; Super Fast Wi-Fi</td>\n",
       "      <td>Oostelijk Havengebied - Indische Buurt</td>\n",
       "      <td>52.36435</td>\n",
       "      <td>4.94358</td>\n",
       "      <td>Private room in rental unit</td>\n",
       "      <td>2</td>\n",
       "      <td>69.0</td>\n",
       "      <td>322</td>\n",
       "      <td>4.8925</td>\n",
       "    </tr>\n",
       "    <tr>\n",
       "      <th>...</th>\n",
       "      <td>...</td>\n",
       "      <td>...</td>\n",
       "      <td>...</td>\n",
       "      <td>...</td>\n",
       "      <td>...</td>\n",
       "      <td>...</td>\n",
       "      <td>...</td>\n",
       "      <td>...</td>\n",
       "      <td>...</td>\n",
       "      <td>...</td>\n",
       "      <td>...</td>\n",
       "      <td>...</td>\n",
       "      <td>...</td>\n",
       "      <td>...</td>\n",
       "      <td>...</td>\n",
       "      <td>...</td>\n",
       "    </tr>\n",
       "    <tr>\n",
       "      <th>792427</th>\n",
       "      <td>308028</td>\n",
       "      <td>2023-06-26</td>\n",
       "      <td>False</td>\n",
       "      <td>100.0</td>\n",
       "      <td>3.0</td>\n",
       "      <td>10.0</td>\n",
       "      <td>308028</td>\n",
       "      <td>SunFlower, A Sunny B&amp;B</td>\n",
       "      <td>Centrum-Oost</td>\n",
       "      <td>52.35972</td>\n",
       "      <td>4.89750</td>\n",
       "      <td>Private room in rental unit</td>\n",
       "      <td>2</td>\n",
       "      <td>97.0</td>\n",
       "      <td>36</td>\n",
       "      <td>4.7750</td>\n",
       "    </tr>\n",
       "    <tr>\n",
       "      <th>792428</th>\n",
       "      <td>308028</td>\n",
       "      <td>2023-06-27</td>\n",
       "      <td>False</td>\n",
       "      <td>100.0</td>\n",
       "      <td>3.0</td>\n",
       "      <td>10.0</td>\n",
       "      <td>308028</td>\n",
       "      <td>SunFlower, A Sunny B&amp;B</td>\n",
       "      <td>Centrum-Oost</td>\n",
       "      <td>52.35972</td>\n",
       "      <td>4.89750</td>\n",
       "      <td>Private room in rental unit</td>\n",
       "      <td>2</td>\n",
       "      <td>97.0</td>\n",
       "      <td>36</td>\n",
       "      <td>4.7750</td>\n",
       "    </tr>\n",
       "    <tr>\n",
       "      <th>792429</th>\n",
       "      <td>308028</td>\n",
       "      <td>2023-06-28</td>\n",
       "      <td>False</td>\n",
       "      <td>100.0</td>\n",
       "      <td>3.0</td>\n",
       "      <td>10.0</td>\n",
       "      <td>308028</td>\n",
       "      <td>SunFlower, A Sunny B&amp;B</td>\n",
       "      <td>Centrum-Oost</td>\n",
       "      <td>52.35972</td>\n",
       "      <td>4.89750</td>\n",
       "      <td>Private room in rental unit</td>\n",
       "      <td>2</td>\n",
       "      <td>97.0</td>\n",
       "      <td>36</td>\n",
       "      <td>4.7750</td>\n",
       "    </tr>\n",
       "    <tr>\n",
       "      <th>792430</th>\n",
       "      <td>308028</td>\n",
       "      <td>2023-06-29</td>\n",
       "      <td>False</td>\n",
       "      <td>100.0</td>\n",
       "      <td>3.0</td>\n",
       "      <td>10.0</td>\n",
       "      <td>308028</td>\n",
       "      <td>SunFlower, A Sunny B&amp;B</td>\n",
       "      <td>Centrum-Oost</td>\n",
       "      <td>52.35972</td>\n",
       "      <td>4.89750</td>\n",
       "      <td>Private room in rental unit</td>\n",
       "      <td>2</td>\n",
       "      <td>97.0</td>\n",
       "      <td>36</td>\n",
       "      <td>4.7750</td>\n",
       "    </tr>\n",
       "    <tr>\n",
       "      <th>792431</th>\n",
       "      <td>308028</td>\n",
       "      <td>2023-06-30</td>\n",
       "      <td>False</td>\n",
       "      <td>100.0</td>\n",
       "      <td>3.0</td>\n",
       "      <td>10.0</td>\n",
       "      <td>308028</td>\n",
       "      <td>SunFlower, A Sunny B&amp;B</td>\n",
       "      <td>Centrum-Oost</td>\n",
       "      <td>52.35972</td>\n",
       "      <td>4.89750</td>\n",
       "      <td>Private room in rental unit</td>\n",
       "      <td>2</td>\n",
       "      <td>97.0</td>\n",
       "      <td>36</td>\n",
       "      <td>4.7750</td>\n",
       "    </tr>\n",
       "  </tbody>\n",
       "</table>\n",
       "<p>792432 rows × 16 columns</p>\n",
       "</div>"
      ],
      "text/plain": [
       "        listing_id       date  available  price_x  minimum_nights  \\\n",
       "0             2818 2023-03-09      False     69.0             3.0   \n",
       "1             2818 2023-03-10      False     69.0             3.0   \n",
       "2             2818 2023-03-11      False     69.0             3.0   \n",
       "3             2818 2023-03-12      False     69.0             3.0   \n",
       "4             2818 2023-03-13       True     69.0             3.0   \n",
       "...            ...        ...        ...      ...             ...   \n",
       "792427      308028 2023-06-26      False    100.0             3.0   \n",
       "792428      308028 2023-06-27      False    100.0             3.0   \n",
       "792429      308028 2023-06-28      False    100.0             3.0   \n",
       "792430      308028 2023-06-29      False    100.0             3.0   \n",
       "792431      308028 2023-06-30      False    100.0             3.0   \n",
       "\n",
       "        maximum_nights      id                                       name  \\\n",
       "0               1125.0    2818  Quiet Garden View Room & Super Fast Wi-Fi   \n",
       "1               1125.0    2818  Quiet Garden View Room & Super Fast Wi-Fi   \n",
       "2               1125.0    2818  Quiet Garden View Room & Super Fast Wi-Fi   \n",
       "3               1125.0    2818  Quiet Garden View Room & Super Fast Wi-Fi   \n",
       "4               1125.0    2818  Quiet Garden View Room & Super Fast Wi-Fi   \n",
       "...                ...     ...                                        ...   \n",
       "792427            10.0  308028                     SunFlower, A Sunny B&B   \n",
       "792428            10.0  308028                     SunFlower, A Sunny B&B   \n",
       "792429            10.0  308028                     SunFlower, A Sunny B&B   \n",
       "792430            10.0  308028                     SunFlower, A Sunny B&B   \n",
       "792431            10.0  308028                     SunFlower, A Sunny B&B   \n",
       "\n",
       "                        neighbourhood_cleansed  latitude  longitude  \\\n",
       "0       Oostelijk Havengebied - Indische Buurt  52.36435    4.94358   \n",
       "1       Oostelijk Havengebied - Indische Buurt  52.36435    4.94358   \n",
       "2       Oostelijk Havengebied - Indische Buurt  52.36435    4.94358   \n",
       "3       Oostelijk Havengebied - Indische Buurt  52.36435    4.94358   \n",
       "4       Oostelijk Havengebied - Indische Buurt  52.36435    4.94358   \n",
       "...                                        ...       ...        ...   \n",
       "792427                            Centrum-Oost  52.35972    4.89750   \n",
       "792428                            Centrum-Oost  52.35972    4.89750   \n",
       "792429                            Centrum-Oost  52.35972    4.89750   \n",
       "792430                            Centrum-Oost  52.35972    4.89750   \n",
       "792431                            Centrum-Oost  52.35972    4.89750   \n",
       "\n",
       "                      property_type  accommodates  price_y  number_of_reviews  \\\n",
       "0       Private room in rental unit             2     69.0                322   \n",
       "1       Private room in rental unit             2     69.0                322   \n",
       "2       Private room in rental unit             2     69.0                322   \n",
       "3       Private room in rental unit             2     69.0                322   \n",
       "4       Private room in rental unit             2     69.0                322   \n",
       "...                             ...           ...      ...                ...   \n",
       "792427  Private room in rental unit             2     97.0                 36   \n",
       "792428  Private room in rental unit             2     97.0                 36   \n",
       "792429  Private room in rental unit             2     97.0                 36   \n",
       "792430  Private room in rental unit             2     97.0                 36   \n",
       "792431  Private room in rental unit             2     97.0                 36   \n",
       "\n",
       "        rating  \n",
       "0       4.8925  \n",
       "1       4.8925  \n",
       "2       4.8925  \n",
       "3       4.8925  \n",
       "4       4.8925  \n",
       "...        ...  \n",
       "792427  4.7750  \n",
       "792428  4.7750  \n",
       "792429  4.7750  \n",
       "792430  4.7750  \n",
       "792431  4.7750  \n",
       "\n",
       "[792432 rows x 16 columns]"
      ]
     },
     "execution_count": 16,
     "metadata": {},
     "output_type": "execute_result"
    }
   ],
   "source": [
    "df"
   ]
  },
  {
   "attachments": {},
   "cell_type": "markdown",
   "metadata": {},
   "source": [
    "df[df['price_x']!=df['price_y']]"
   ]
  },
  {
   "cell_type": "code",
   "execution_count": 99,
   "metadata": {},
   "outputs": [
    {
     "data": {
      "application/vnd.plotly.v1+json": {
       "config": {
        "plotlyServerURL": "https://plot.ly"
       },
       "data": [
        {
         "alignmentgroup": "True",
         "hovertemplate": "id=%{x}<br>rating=%{y}<extra></extra>",
         "legendgroup": "",
         "marker": {
          "color": "#636efa",
          "pattern": {
           "shape": ""
          }
         },
         "name": "",
         "offsetgroup": "",
         "orientation": "v",
         "showlegend": false,
         "textposition": "auto",
         "type": "bar",
         "x": [
          "772290744355452028",
          "41339519",
          "44083101",
          "25735095",
          "41186307",
          "731592228347165093",
          "753415345732009247",
          "53229291",
          "13599479",
          "28059480",
          "4314620",
          "30123385",
          "50586333",
          "39837244",
          "621544295248183694"
         ],
         "xaxis": "x",
         "y": [
          5,
          5,
          5,
          5,
          5,
          5,
          5,
          5,
          5,
          5,
          5,
          5,
          5,
          5,
          5
         ],
         "yaxis": "y"
        }
       ],
       "layout": {
        "barmode": "relative",
        "legend": {
         "tracegroupgap": 0
        },
        "margin": {
         "t": 60
        },
        "template": {
         "data": {
          "bar": [
           {
            "error_x": {
             "color": "#2a3f5f"
            },
            "error_y": {
             "color": "#2a3f5f"
            },
            "marker": {
             "line": {
              "color": "#E5ECF6",
              "width": 0.5
             },
             "pattern": {
              "fillmode": "overlay",
              "size": 10,
              "solidity": 0.2
             }
            },
            "type": "bar"
           }
          ],
          "barpolar": [
           {
            "marker": {
             "line": {
              "color": "#E5ECF6",
              "width": 0.5
             },
             "pattern": {
              "fillmode": "overlay",
              "size": 10,
              "solidity": 0.2
             }
            },
            "type": "barpolar"
           }
          ],
          "carpet": [
           {
            "aaxis": {
             "endlinecolor": "#2a3f5f",
             "gridcolor": "white",
             "linecolor": "white",
             "minorgridcolor": "white",
             "startlinecolor": "#2a3f5f"
            },
            "baxis": {
             "endlinecolor": "#2a3f5f",
             "gridcolor": "white",
             "linecolor": "white",
             "minorgridcolor": "white",
             "startlinecolor": "#2a3f5f"
            },
            "type": "carpet"
           }
          ],
          "choropleth": [
           {
            "colorbar": {
             "outlinewidth": 0,
             "ticks": ""
            },
            "type": "choropleth"
           }
          ],
          "contour": [
           {
            "colorbar": {
             "outlinewidth": 0,
             "ticks": ""
            },
            "colorscale": [
             [
              0,
              "#0d0887"
             ],
             [
              0.1111111111111111,
              "#46039f"
             ],
             [
              0.2222222222222222,
              "#7201a8"
             ],
             [
              0.3333333333333333,
              "#9c179e"
             ],
             [
              0.4444444444444444,
              "#bd3786"
             ],
             [
              0.5555555555555556,
              "#d8576b"
             ],
             [
              0.6666666666666666,
              "#ed7953"
             ],
             [
              0.7777777777777778,
              "#fb9f3a"
             ],
             [
              0.8888888888888888,
              "#fdca26"
             ],
             [
              1,
              "#f0f921"
             ]
            ],
            "type": "contour"
           }
          ],
          "contourcarpet": [
           {
            "colorbar": {
             "outlinewidth": 0,
             "ticks": ""
            },
            "type": "contourcarpet"
           }
          ],
          "heatmap": [
           {
            "colorbar": {
             "outlinewidth": 0,
             "ticks": ""
            },
            "colorscale": [
             [
              0,
              "#0d0887"
             ],
             [
              0.1111111111111111,
              "#46039f"
             ],
             [
              0.2222222222222222,
              "#7201a8"
             ],
             [
              0.3333333333333333,
              "#9c179e"
             ],
             [
              0.4444444444444444,
              "#bd3786"
             ],
             [
              0.5555555555555556,
              "#d8576b"
             ],
             [
              0.6666666666666666,
              "#ed7953"
             ],
             [
              0.7777777777777778,
              "#fb9f3a"
             ],
             [
              0.8888888888888888,
              "#fdca26"
             ],
             [
              1,
              "#f0f921"
             ]
            ],
            "type": "heatmap"
           }
          ],
          "heatmapgl": [
           {
            "colorbar": {
             "outlinewidth": 0,
             "ticks": ""
            },
            "colorscale": [
             [
              0,
              "#0d0887"
             ],
             [
              0.1111111111111111,
              "#46039f"
             ],
             [
              0.2222222222222222,
              "#7201a8"
             ],
             [
              0.3333333333333333,
              "#9c179e"
             ],
             [
              0.4444444444444444,
              "#bd3786"
             ],
             [
              0.5555555555555556,
              "#d8576b"
             ],
             [
              0.6666666666666666,
              "#ed7953"
             ],
             [
              0.7777777777777778,
              "#fb9f3a"
             ],
             [
              0.8888888888888888,
              "#fdca26"
             ],
             [
              1,
              "#f0f921"
             ]
            ],
            "type": "heatmapgl"
           }
          ],
          "histogram": [
           {
            "marker": {
             "pattern": {
              "fillmode": "overlay",
              "size": 10,
              "solidity": 0.2
             }
            },
            "type": "histogram"
           }
          ],
          "histogram2d": [
           {
            "colorbar": {
             "outlinewidth": 0,
             "ticks": ""
            },
            "colorscale": [
             [
              0,
              "#0d0887"
             ],
             [
              0.1111111111111111,
              "#46039f"
             ],
             [
              0.2222222222222222,
              "#7201a8"
             ],
             [
              0.3333333333333333,
              "#9c179e"
             ],
             [
              0.4444444444444444,
              "#bd3786"
             ],
             [
              0.5555555555555556,
              "#d8576b"
             ],
             [
              0.6666666666666666,
              "#ed7953"
             ],
             [
              0.7777777777777778,
              "#fb9f3a"
             ],
             [
              0.8888888888888888,
              "#fdca26"
             ],
             [
              1,
              "#f0f921"
             ]
            ],
            "type": "histogram2d"
           }
          ],
          "histogram2dcontour": [
           {
            "colorbar": {
             "outlinewidth": 0,
             "ticks": ""
            },
            "colorscale": [
             [
              0,
              "#0d0887"
             ],
             [
              0.1111111111111111,
              "#46039f"
             ],
             [
              0.2222222222222222,
              "#7201a8"
             ],
             [
              0.3333333333333333,
              "#9c179e"
             ],
             [
              0.4444444444444444,
              "#bd3786"
             ],
             [
              0.5555555555555556,
              "#d8576b"
             ],
             [
              0.6666666666666666,
              "#ed7953"
             ],
             [
              0.7777777777777778,
              "#fb9f3a"
             ],
             [
              0.8888888888888888,
              "#fdca26"
             ],
             [
              1,
              "#f0f921"
             ]
            ],
            "type": "histogram2dcontour"
           }
          ],
          "mesh3d": [
           {
            "colorbar": {
             "outlinewidth": 0,
             "ticks": ""
            },
            "type": "mesh3d"
           }
          ],
          "parcoords": [
           {
            "line": {
             "colorbar": {
              "outlinewidth": 0,
              "ticks": ""
             }
            },
            "type": "parcoords"
           }
          ],
          "pie": [
           {
            "automargin": true,
            "type": "pie"
           }
          ],
          "scatter": [
           {
            "fillpattern": {
             "fillmode": "overlay",
             "size": 10,
             "solidity": 0.2
            },
            "type": "scatter"
           }
          ],
          "scatter3d": [
           {
            "line": {
             "colorbar": {
              "outlinewidth": 0,
              "ticks": ""
             }
            },
            "marker": {
             "colorbar": {
              "outlinewidth": 0,
              "ticks": ""
             }
            },
            "type": "scatter3d"
           }
          ],
          "scattercarpet": [
           {
            "marker": {
             "colorbar": {
              "outlinewidth": 0,
              "ticks": ""
             }
            },
            "type": "scattercarpet"
           }
          ],
          "scattergeo": [
           {
            "marker": {
             "colorbar": {
              "outlinewidth": 0,
              "ticks": ""
             }
            },
            "type": "scattergeo"
           }
          ],
          "scattergl": [
           {
            "marker": {
             "colorbar": {
              "outlinewidth": 0,
              "ticks": ""
             }
            },
            "type": "scattergl"
           }
          ],
          "scattermapbox": [
           {
            "marker": {
             "colorbar": {
              "outlinewidth": 0,
              "ticks": ""
             }
            },
            "type": "scattermapbox"
           }
          ],
          "scatterpolar": [
           {
            "marker": {
             "colorbar": {
              "outlinewidth": 0,
              "ticks": ""
             }
            },
            "type": "scatterpolar"
           }
          ],
          "scatterpolargl": [
           {
            "marker": {
             "colorbar": {
              "outlinewidth": 0,
              "ticks": ""
             }
            },
            "type": "scatterpolargl"
           }
          ],
          "scatterternary": [
           {
            "marker": {
             "colorbar": {
              "outlinewidth": 0,
              "ticks": ""
             }
            },
            "type": "scatterternary"
           }
          ],
          "surface": [
           {
            "colorbar": {
             "outlinewidth": 0,
             "ticks": ""
            },
            "colorscale": [
             [
              0,
              "#0d0887"
             ],
             [
              0.1111111111111111,
              "#46039f"
             ],
             [
              0.2222222222222222,
              "#7201a8"
             ],
             [
              0.3333333333333333,
              "#9c179e"
             ],
             [
              0.4444444444444444,
              "#bd3786"
             ],
             [
              0.5555555555555556,
              "#d8576b"
             ],
             [
              0.6666666666666666,
              "#ed7953"
             ],
             [
              0.7777777777777778,
              "#fb9f3a"
             ],
             [
              0.8888888888888888,
              "#fdca26"
             ],
             [
              1,
              "#f0f921"
             ]
            ],
            "type": "surface"
           }
          ],
          "table": [
           {
            "cells": {
             "fill": {
              "color": "#EBF0F8"
             },
             "line": {
              "color": "white"
             }
            },
            "header": {
             "fill": {
              "color": "#C8D4E3"
             },
             "line": {
              "color": "white"
             }
            },
            "type": "table"
           }
          ]
         },
         "layout": {
          "annotationdefaults": {
           "arrowcolor": "#2a3f5f",
           "arrowhead": 0,
           "arrowwidth": 1
          },
          "autotypenumbers": "strict",
          "coloraxis": {
           "colorbar": {
            "outlinewidth": 0,
            "ticks": ""
           }
          },
          "colorscale": {
           "diverging": [
            [
             0,
             "#8e0152"
            ],
            [
             0.1,
             "#c51b7d"
            ],
            [
             0.2,
             "#de77ae"
            ],
            [
             0.3,
             "#f1b6da"
            ],
            [
             0.4,
             "#fde0ef"
            ],
            [
             0.5,
             "#f7f7f7"
            ],
            [
             0.6,
             "#e6f5d0"
            ],
            [
             0.7,
             "#b8e186"
            ],
            [
             0.8,
             "#7fbc41"
            ],
            [
             0.9,
             "#4d9221"
            ],
            [
             1,
             "#276419"
            ]
           ],
           "sequential": [
            [
             0,
             "#0d0887"
            ],
            [
             0.1111111111111111,
             "#46039f"
            ],
            [
             0.2222222222222222,
             "#7201a8"
            ],
            [
             0.3333333333333333,
             "#9c179e"
            ],
            [
             0.4444444444444444,
             "#bd3786"
            ],
            [
             0.5555555555555556,
             "#d8576b"
            ],
            [
             0.6666666666666666,
             "#ed7953"
            ],
            [
             0.7777777777777778,
             "#fb9f3a"
            ],
            [
             0.8888888888888888,
             "#fdca26"
            ],
            [
             1,
             "#f0f921"
            ]
           ],
           "sequentialminus": [
            [
             0,
             "#0d0887"
            ],
            [
             0.1111111111111111,
             "#46039f"
            ],
            [
             0.2222222222222222,
             "#7201a8"
            ],
            [
             0.3333333333333333,
             "#9c179e"
            ],
            [
             0.4444444444444444,
             "#bd3786"
            ],
            [
             0.5555555555555556,
             "#d8576b"
            ],
            [
             0.6666666666666666,
             "#ed7953"
            ],
            [
             0.7777777777777778,
             "#fb9f3a"
            ],
            [
             0.8888888888888888,
             "#fdca26"
            ],
            [
             1,
             "#f0f921"
            ]
           ]
          },
          "colorway": [
           "#636efa",
           "#EF553B",
           "#00cc96",
           "#ab63fa",
           "#FFA15A",
           "#19d3f3",
           "#FF6692",
           "#B6E880",
           "#FF97FF",
           "#FECB52"
          ],
          "font": {
           "color": "#2a3f5f"
          },
          "geo": {
           "bgcolor": "white",
           "lakecolor": "white",
           "landcolor": "#E5ECF6",
           "showlakes": true,
           "showland": true,
           "subunitcolor": "white"
          },
          "hoverlabel": {
           "align": "left"
          },
          "hovermode": "closest",
          "mapbox": {
           "style": "light"
          },
          "paper_bgcolor": "white",
          "plot_bgcolor": "#E5ECF6",
          "polar": {
           "angularaxis": {
            "gridcolor": "white",
            "linecolor": "white",
            "ticks": ""
           },
           "bgcolor": "#E5ECF6",
           "radialaxis": {
            "gridcolor": "white",
            "linecolor": "white",
            "ticks": ""
           }
          },
          "scene": {
           "xaxis": {
            "backgroundcolor": "#E5ECF6",
            "gridcolor": "white",
            "gridwidth": 2,
            "linecolor": "white",
            "showbackground": true,
            "ticks": "",
            "zerolinecolor": "white"
           },
           "yaxis": {
            "backgroundcolor": "#E5ECF6",
            "gridcolor": "white",
            "gridwidth": 2,
            "linecolor": "white",
            "showbackground": true,
            "ticks": "",
            "zerolinecolor": "white"
           },
           "zaxis": {
            "backgroundcolor": "#E5ECF6",
            "gridcolor": "white",
            "gridwidth": 2,
            "linecolor": "white",
            "showbackground": true,
            "ticks": "",
            "zerolinecolor": "white"
           }
          },
          "shapedefaults": {
           "line": {
            "color": "#2a3f5f"
           }
          },
          "ternary": {
           "aaxis": {
            "gridcolor": "white",
            "linecolor": "white",
            "ticks": ""
           },
           "baxis": {
            "gridcolor": "white",
            "linecolor": "white",
            "ticks": ""
           },
           "bgcolor": "#E5ECF6",
           "caxis": {
            "gridcolor": "white",
            "linecolor": "white",
            "ticks": ""
           }
          },
          "title": {
           "x": 0.05
          },
          "xaxis": {
           "automargin": true,
           "gridcolor": "white",
           "linecolor": "white",
           "ticks": "",
           "title": {
            "standoff": 15
           },
           "zerolinecolor": "white",
           "zerolinewidth": 2
          },
          "yaxis": {
           "automargin": true,
           "gridcolor": "white",
           "linecolor": "white",
           "ticks": "",
           "title": {
            "standoff": 15
           },
           "zerolinecolor": "white",
           "zerolinewidth": 2
          }
         }
        },
        "title": {
         "text": "Rating"
        },
        "xaxis": {
         "anchor": "y",
         "domain": [
          0,
          1
         ],
         "title": {
          "text": "id"
         }
        },
        "yaxis": {
         "anchor": "x",
         "domain": [
          0,
          1
         ],
         "title": {
          "text": "rating"
         }
        }
       }
      }
     },
     "metadata": {},
     "output_type": "display_data"
    }
   ],
   "source": [
    "# Пример вывода по рейтингу (первые 15)\n",
    "data_listing = data_listing.sort_values(by=['rating', 'price'], ascending=[False, True])\n",
    "data_listing['id'] = list(map(str, data_listing.id))\n",
    "\n",
    "fig = px.bar(\n",
    "    data_frame=data_listing.iloc[:15],\n",
    "    x='id',\n",
    "    y='rating'\n",
    ")\n",
    "fig.update_layout(title='Rating')\n",
    "fig.show()"
   ]
  },
  {
   "cell_type": "code",
   "execution_count": 101,
   "metadata": {},
   "outputs": [
    {
     "data": {
      "application/vnd.plotly.v1+json": {
       "config": {
        "plotlyServerURL": "https://plot.ly"
       },
       "data": [
        {
         "alignmentgroup": "True",
         "hovertemplate": "id=%{x}<br>price=%{y}<extra></extra>",
         "legendgroup": "",
         "marker": {
          "color": "#636efa",
          "pattern": {
           "shape": ""
          }
         },
         "name": "",
         "offsetgroup": "",
         "orientation": "v",
         "showlegend": false,
         "textposition": "auto",
         "type": "bar",
         "x": [
          "808631604110765798",
          "34349950",
          "34349941",
          "34349938",
          "47434446",
          "28382281",
          "978852",
          "31945057",
          "14218726",
          "38632941",
          "45072261",
          "31945078",
          "772290744355452028",
          "13561575",
          "16685383"
         ],
         "xaxis": "x",
         "y": [
          10,
          18,
          18,
          18,
          25,
          30,
          30,
          34,
          35,
          35,
          36,
          38,
          39,
          39,
          39
         ],
         "yaxis": "y"
        }
       ],
       "layout": {
        "barmode": "relative",
        "legend": {
         "tracegroupgap": 0
        },
        "margin": {
         "t": 60
        },
        "template": {
         "data": {
          "bar": [
           {
            "error_x": {
             "color": "#2a3f5f"
            },
            "error_y": {
             "color": "#2a3f5f"
            },
            "marker": {
             "line": {
              "color": "#E5ECF6",
              "width": 0.5
             },
             "pattern": {
              "fillmode": "overlay",
              "size": 10,
              "solidity": 0.2
             }
            },
            "type": "bar"
           }
          ],
          "barpolar": [
           {
            "marker": {
             "line": {
              "color": "#E5ECF6",
              "width": 0.5
             },
             "pattern": {
              "fillmode": "overlay",
              "size": 10,
              "solidity": 0.2
             }
            },
            "type": "barpolar"
           }
          ],
          "carpet": [
           {
            "aaxis": {
             "endlinecolor": "#2a3f5f",
             "gridcolor": "white",
             "linecolor": "white",
             "minorgridcolor": "white",
             "startlinecolor": "#2a3f5f"
            },
            "baxis": {
             "endlinecolor": "#2a3f5f",
             "gridcolor": "white",
             "linecolor": "white",
             "minorgridcolor": "white",
             "startlinecolor": "#2a3f5f"
            },
            "type": "carpet"
           }
          ],
          "choropleth": [
           {
            "colorbar": {
             "outlinewidth": 0,
             "ticks": ""
            },
            "type": "choropleth"
           }
          ],
          "contour": [
           {
            "colorbar": {
             "outlinewidth": 0,
             "ticks": ""
            },
            "colorscale": [
             [
              0,
              "#0d0887"
             ],
             [
              0.1111111111111111,
              "#46039f"
             ],
             [
              0.2222222222222222,
              "#7201a8"
             ],
             [
              0.3333333333333333,
              "#9c179e"
             ],
             [
              0.4444444444444444,
              "#bd3786"
             ],
             [
              0.5555555555555556,
              "#d8576b"
             ],
             [
              0.6666666666666666,
              "#ed7953"
             ],
             [
              0.7777777777777778,
              "#fb9f3a"
             ],
             [
              0.8888888888888888,
              "#fdca26"
             ],
             [
              1,
              "#f0f921"
             ]
            ],
            "type": "contour"
           }
          ],
          "contourcarpet": [
           {
            "colorbar": {
             "outlinewidth": 0,
             "ticks": ""
            },
            "type": "contourcarpet"
           }
          ],
          "heatmap": [
           {
            "colorbar": {
             "outlinewidth": 0,
             "ticks": ""
            },
            "colorscale": [
             [
              0,
              "#0d0887"
             ],
             [
              0.1111111111111111,
              "#46039f"
             ],
             [
              0.2222222222222222,
              "#7201a8"
             ],
             [
              0.3333333333333333,
              "#9c179e"
             ],
             [
              0.4444444444444444,
              "#bd3786"
             ],
             [
              0.5555555555555556,
              "#d8576b"
             ],
             [
              0.6666666666666666,
              "#ed7953"
             ],
             [
              0.7777777777777778,
              "#fb9f3a"
             ],
             [
              0.8888888888888888,
              "#fdca26"
             ],
             [
              1,
              "#f0f921"
             ]
            ],
            "type": "heatmap"
           }
          ],
          "heatmapgl": [
           {
            "colorbar": {
             "outlinewidth": 0,
             "ticks": ""
            },
            "colorscale": [
             [
              0,
              "#0d0887"
             ],
             [
              0.1111111111111111,
              "#46039f"
             ],
             [
              0.2222222222222222,
              "#7201a8"
             ],
             [
              0.3333333333333333,
              "#9c179e"
             ],
             [
              0.4444444444444444,
              "#bd3786"
             ],
             [
              0.5555555555555556,
              "#d8576b"
             ],
             [
              0.6666666666666666,
              "#ed7953"
             ],
             [
              0.7777777777777778,
              "#fb9f3a"
             ],
             [
              0.8888888888888888,
              "#fdca26"
             ],
             [
              1,
              "#f0f921"
             ]
            ],
            "type": "heatmapgl"
           }
          ],
          "histogram": [
           {
            "marker": {
             "pattern": {
              "fillmode": "overlay",
              "size": 10,
              "solidity": 0.2
             }
            },
            "type": "histogram"
           }
          ],
          "histogram2d": [
           {
            "colorbar": {
             "outlinewidth": 0,
             "ticks": ""
            },
            "colorscale": [
             [
              0,
              "#0d0887"
             ],
             [
              0.1111111111111111,
              "#46039f"
             ],
             [
              0.2222222222222222,
              "#7201a8"
             ],
             [
              0.3333333333333333,
              "#9c179e"
             ],
             [
              0.4444444444444444,
              "#bd3786"
             ],
             [
              0.5555555555555556,
              "#d8576b"
             ],
             [
              0.6666666666666666,
              "#ed7953"
             ],
             [
              0.7777777777777778,
              "#fb9f3a"
             ],
             [
              0.8888888888888888,
              "#fdca26"
             ],
             [
              1,
              "#f0f921"
             ]
            ],
            "type": "histogram2d"
           }
          ],
          "histogram2dcontour": [
           {
            "colorbar": {
             "outlinewidth": 0,
             "ticks": ""
            },
            "colorscale": [
             [
              0,
              "#0d0887"
             ],
             [
              0.1111111111111111,
              "#46039f"
             ],
             [
              0.2222222222222222,
              "#7201a8"
             ],
             [
              0.3333333333333333,
              "#9c179e"
             ],
             [
              0.4444444444444444,
              "#bd3786"
             ],
             [
              0.5555555555555556,
              "#d8576b"
             ],
             [
              0.6666666666666666,
              "#ed7953"
             ],
             [
              0.7777777777777778,
              "#fb9f3a"
             ],
             [
              0.8888888888888888,
              "#fdca26"
             ],
             [
              1,
              "#f0f921"
             ]
            ],
            "type": "histogram2dcontour"
           }
          ],
          "mesh3d": [
           {
            "colorbar": {
             "outlinewidth": 0,
             "ticks": ""
            },
            "type": "mesh3d"
           }
          ],
          "parcoords": [
           {
            "line": {
             "colorbar": {
              "outlinewidth": 0,
              "ticks": ""
             }
            },
            "type": "parcoords"
           }
          ],
          "pie": [
           {
            "automargin": true,
            "type": "pie"
           }
          ],
          "scatter": [
           {
            "fillpattern": {
             "fillmode": "overlay",
             "size": 10,
             "solidity": 0.2
            },
            "type": "scatter"
           }
          ],
          "scatter3d": [
           {
            "line": {
             "colorbar": {
              "outlinewidth": 0,
              "ticks": ""
             }
            },
            "marker": {
             "colorbar": {
              "outlinewidth": 0,
              "ticks": ""
             }
            },
            "type": "scatter3d"
           }
          ],
          "scattercarpet": [
           {
            "marker": {
             "colorbar": {
              "outlinewidth": 0,
              "ticks": ""
             }
            },
            "type": "scattercarpet"
           }
          ],
          "scattergeo": [
           {
            "marker": {
             "colorbar": {
              "outlinewidth": 0,
              "ticks": ""
             }
            },
            "type": "scattergeo"
           }
          ],
          "scattergl": [
           {
            "marker": {
             "colorbar": {
              "outlinewidth": 0,
              "ticks": ""
             }
            },
            "type": "scattergl"
           }
          ],
          "scattermapbox": [
           {
            "marker": {
             "colorbar": {
              "outlinewidth": 0,
              "ticks": ""
             }
            },
            "type": "scattermapbox"
           }
          ],
          "scatterpolar": [
           {
            "marker": {
             "colorbar": {
              "outlinewidth": 0,
              "ticks": ""
             }
            },
            "type": "scatterpolar"
           }
          ],
          "scatterpolargl": [
           {
            "marker": {
             "colorbar": {
              "outlinewidth": 0,
              "ticks": ""
             }
            },
            "type": "scatterpolargl"
           }
          ],
          "scatterternary": [
           {
            "marker": {
             "colorbar": {
              "outlinewidth": 0,
              "ticks": ""
             }
            },
            "type": "scatterternary"
           }
          ],
          "surface": [
           {
            "colorbar": {
             "outlinewidth": 0,
             "ticks": ""
            },
            "colorscale": [
             [
              0,
              "#0d0887"
             ],
             [
              0.1111111111111111,
              "#46039f"
             ],
             [
              0.2222222222222222,
              "#7201a8"
             ],
             [
              0.3333333333333333,
              "#9c179e"
             ],
             [
              0.4444444444444444,
              "#bd3786"
             ],
             [
              0.5555555555555556,
              "#d8576b"
             ],
             [
              0.6666666666666666,
              "#ed7953"
             ],
             [
              0.7777777777777778,
              "#fb9f3a"
             ],
             [
              0.8888888888888888,
              "#fdca26"
             ],
             [
              1,
              "#f0f921"
             ]
            ],
            "type": "surface"
           }
          ],
          "table": [
           {
            "cells": {
             "fill": {
              "color": "#EBF0F8"
             },
             "line": {
              "color": "white"
             }
            },
            "header": {
             "fill": {
              "color": "#C8D4E3"
             },
             "line": {
              "color": "white"
             }
            },
            "type": "table"
           }
          ]
         },
         "layout": {
          "annotationdefaults": {
           "arrowcolor": "#2a3f5f",
           "arrowhead": 0,
           "arrowwidth": 1
          },
          "autotypenumbers": "strict",
          "coloraxis": {
           "colorbar": {
            "outlinewidth": 0,
            "ticks": ""
           }
          },
          "colorscale": {
           "diverging": [
            [
             0,
             "#8e0152"
            ],
            [
             0.1,
             "#c51b7d"
            ],
            [
             0.2,
             "#de77ae"
            ],
            [
             0.3,
             "#f1b6da"
            ],
            [
             0.4,
             "#fde0ef"
            ],
            [
             0.5,
             "#f7f7f7"
            ],
            [
             0.6,
             "#e6f5d0"
            ],
            [
             0.7,
             "#b8e186"
            ],
            [
             0.8,
             "#7fbc41"
            ],
            [
             0.9,
             "#4d9221"
            ],
            [
             1,
             "#276419"
            ]
           ],
           "sequential": [
            [
             0,
             "#0d0887"
            ],
            [
             0.1111111111111111,
             "#46039f"
            ],
            [
             0.2222222222222222,
             "#7201a8"
            ],
            [
             0.3333333333333333,
             "#9c179e"
            ],
            [
             0.4444444444444444,
             "#bd3786"
            ],
            [
             0.5555555555555556,
             "#d8576b"
            ],
            [
             0.6666666666666666,
             "#ed7953"
            ],
            [
             0.7777777777777778,
             "#fb9f3a"
            ],
            [
             0.8888888888888888,
             "#fdca26"
            ],
            [
             1,
             "#f0f921"
            ]
           ],
           "sequentialminus": [
            [
             0,
             "#0d0887"
            ],
            [
             0.1111111111111111,
             "#46039f"
            ],
            [
             0.2222222222222222,
             "#7201a8"
            ],
            [
             0.3333333333333333,
             "#9c179e"
            ],
            [
             0.4444444444444444,
             "#bd3786"
            ],
            [
             0.5555555555555556,
             "#d8576b"
            ],
            [
             0.6666666666666666,
             "#ed7953"
            ],
            [
             0.7777777777777778,
             "#fb9f3a"
            ],
            [
             0.8888888888888888,
             "#fdca26"
            ],
            [
             1,
             "#f0f921"
            ]
           ]
          },
          "colorway": [
           "#636efa",
           "#EF553B",
           "#00cc96",
           "#ab63fa",
           "#FFA15A",
           "#19d3f3",
           "#FF6692",
           "#B6E880",
           "#FF97FF",
           "#FECB52"
          ],
          "font": {
           "color": "#2a3f5f"
          },
          "geo": {
           "bgcolor": "white",
           "lakecolor": "white",
           "landcolor": "#E5ECF6",
           "showlakes": true,
           "showland": true,
           "subunitcolor": "white"
          },
          "hoverlabel": {
           "align": "left"
          },
          "hovermode": "closest",
          "mapbox": {
           "style": "light"
          },
          "paper_bgcolor": "white",
          "plot_bgcolor": "#E5ECF6",
          "polar": {
           "angularaxis": {
            "gridcolor": "white",
            "linecolor": "white",
            "ticks": ""
           },
           "bgcolor": "#E5ECF6",
           "radialaxis": {
            "gridcolor": "white",
            "linecolor": "white",
            "ticks": ""
           }
          },
          "scene": {
           "xaxis": {
            "backgroundcolor": "#E5ECF6",
            "gridcolor": "white",
            "gridwidth": 2,
            "linecolor": "white",
            "showbackground": true,
            "ticks": "",
            "zerolinecolor": "white"
           },
           "yaxis": {
            "backgroundcolor": "#E5ECF6",
            "gridcolor": "white",
            "gridwidth": 2,
            "linecolor": "white",
            "showbackground": true,
            "ticks": "",
            "zerolinecolor": "white"
           },
           "zaxis": {
            "backgroundcolor": "#E5ECF6",
            "gridcolor": "white",
            "gridwidth": 2,
            "linecolor": "white",
            "showbackground": true,
            "ticks": "",
            "zerolinecolor": "white"
           }
          },
          "shapedefaults": {
           "line": {
            "color": "#2a3f5f"
           }
          },
          "ternary": {
           "aaxis": {
            "gridcolor": "white",
            "linecolor": "white",
            "ticks": ""
           },
           "baxis": {
            "gridcolor": "white",
            "linecolor": "white",
            "ticks": ""
           },
           "bgcolor": "#E5ECF6",
           "caxis": {
            "gridcolor": "white",
            "linecolor": "white",
            "ticks": ""
           }
          },
          "title": {
           "x": 0.05
          },
          "xaxis": {
           "automargin": true,
           "gridcolor": "white",
           "linecolor": "white",
           "ticks": "",
           "title": {
            "standoff": 15
           },
           "zerolinecolor": "white",
           "zerolinewidth": 2
          },
          "yaxis": {
           "automargin": true,
           "gridcolor": "white",
           "linecolor": "white",
           "ticks": "",
           "title": {
            "standoff": 15
           },
           "zerolinecolor": "white",
           "zerolinewidth": 2
          }
         }
        },
        "title": {
         "text": "Price"
        },
        "xaxis": {
         "anchor": "y",
         "domain": [
          0,
          1
         ],
         "title": {
          "text": "id"
         }
        },
        "yaxis": {
         "anchor": "x",
         "domain": [
          0,
          1
         ],
         "title": {
          "text": "price"
         }
        }
       }
      }
     },
     "metadata": {},
     "output_type": "display_data"
    }
   ],
   "source": [
    "# Пример вывода по цене (первые 15)\n",
    "data_listing = data_listing.sort_values(by=['price', 'rating'], ascending=[True, False])\n",
    "data_listing['id'] = list(map(str, data_listing.id))\n",
    "data_listing = data_listing[data_listing.price > 0]\n",
    "\n",
    "fig = px.bar(\n",
    "    data_frame=data_listing.iloc[:15],\n",
    "    x='id',\n",
    "    y='price'\n",
    ")\n",
    "fig.update_layout(title='Price')\n",
    "fig.show()"
   ]
  },
  {
   "cell_type": "code",
   "execution_count": null,
   "metadata": {},
   "outputs": [],
   "source": []
  }
 ],
 "metadata": {
  "kernelspec": {
   "display_name": "Python 3",
   "language": "python",
   "name": "python3"
  },
  "language_info": {
   "codemirror_mode": {
    "name": "ipython",
    "version": 3
   },
   "file_extension": ".py",
   "mimetype": "text/x-python",
   "name": "python",
   "nbconvert_exporter": "python",
   "pygments_lexer": "ipython3",
   "version": "3.9.13"
  },
  "orig_nbformat": 4
 },
 "nbformat": 4,
 "nbformat_minor": 2
}
