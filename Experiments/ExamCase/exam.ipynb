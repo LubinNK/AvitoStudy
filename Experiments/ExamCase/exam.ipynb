{
 "cells": [
  {
   "attachments": {},
   "cell_type": "markdown",
   "metadata": {},
   "source": [
    "# Рост проникновения доставки в Авито\n",
    "\n",
    "В Авито сейчас есть два способа купить товар: связаться напрямую с продавцом или\n",
    "воспользоваться доставкой. Одной из важных задач является рост проникновения\n",
    "доставки. По нашим исследованиям это значительно повышает безопасность сделок и\n",
    "повышает доверие наших пользователей к Авито.\n",
    "\n",
    "Одним из способов повышения количества клиентов доставки является\n",
    "информирование пользователей через разные каналы коммуникации: рассылки,\n",
    "уведомления\n",
    "\n",
    "Вам предлагается проанализировать результаты теста с изменением критериев отбора\n",
    "аудитории пользователей для коммуникации: мы приняли решение о том, чтобы\n",
    "расширить базу пользователей, которую мы информируем о доставке. Насколько у нас\n",
    "эффективно это получилось?"
   ]
  },
  {
   "cell_type": "code",
   "execution_count": 16,
   "metadata": {},
   "outputs": [],
   "source": [
    "import pandas as pd\n",
    "import numpy as np\n",
    "%matplotlib inline\n",
    "import matplotlib.pyplot as plt\n",
    "from scipy.stats import norm, binom, sem\n",
    "from scipy.stats import binom_test, t, ttest_ind\n",
    "import warnings\n",
    "warnings.filterwarnings(\"ignore\")\n",
    "import seaborn as sns\n",
    "from tqdm import tqdm\n",
    "from statsmodels.stats.proportion import proportion_confint\n",
    "from statsmodels.stats.power import tt_ind_solve_power"
   ]
  },
  {
   "cell_type": "code",
   "execution_count": 2,
   "metadata": {},
   "outputs": [],
   "source": [
    "data_dtr = pd.read_csv(\"delivery_test_results.csv\")\n",
    "data_opm = pd.read_csv(\"orders_paid_mde.csv\")"
   ]
  },
  {
   "cell_type": "code",
   "execution_count": 4,
   "metadata": {},
   "outputs": [
    {
     "data": {
      "text/html": [
       "<div>\n",
       "<style scoped>\n",
       "    .dataframe tbody tr th:only-of-type {\n",
       "        vertical-align: middle;\n",
       "    }\n",
       "\n",
       "    .dataframe tbody tr th {\n",
       "        vertical-align: top;\n",
       "    }\n",
       "\n",
       "    .dataframe thead th {\n",
       "        text-align: right;\n",
       "    }\n",
       "</style>\n",
       "<table border=\"1\" class=\"dataframe\">\n",
       "  <thead>\n",
       "    <tr style=\"text-align: right;\">\n",
       "      <th></th>\n",
       "      <th>bucket</th>\n",
       "      <th>split_group</th>\n",
       "      <th>metric</th>\n",
       "      <th>metric_value</th>\n",
       "    </tr>\n",
       "  </thead>\n",
       "  <tbody>\n",
       "    <tr>\n",
       "      <th>0</th>\n",
       "      <td>0</td>\n",
       "      <td>control</td>\n",
       "      <td>contacts</td>\n",
       "      <td>714.0</td>\n",
       "    </tr>\n",
       "    <tr>\n",
       "      <th>1</th>\n",
       "      <td>0</td>\n",
       "      <td>control</td>\n",
       "      <td>orders_created</td>\n",
       "      <td>358.0</td>\n",
       "    </tr>\n",
       "    <tr>\n",
       "      <th>2</th>\n",
       "      <td>0</td>\n",
       "      <td>control</td>\n",
       "      <td>orders_paid</td>\n",
       "      <td>222.0</td>\n",
       "    </tr>\n",
       "    <tr>\n",
       "      <th>3</th>\n",
       "      <td>0</td>\n",
       "      <td>test</td>\n",
       "      <td>contacts</td>\n",
       "      <td>729.0</td>\n",
       "    </tr>\n",
       "    <tr>\n",
       "      <th>4</th>\n",
       "      <td>0</td>\n",
       "      <td>test</td>\n",
       "      <td>orders_created</td>\n",
       "      <td>376.0</td>\n",
       "    </tr>\n",
       "    <tr>\n",
       "      <th>5</th>\n",
       "      <td>0</td>\n",
       "      <td>test</td>\n",
       "      <td>orders_paid</td>\n",
       "      <td>235.0</td>\n",
       "    </tr>\n",
       "    <tr>\n",
       "      <th>6</th>\n",
       "      <td>1</td>\n",
       "      <td>control</td>\n",
       "      <td>contacts</td>\n",
       "      <td>776.0</td>\n",
       "    </tr>\n",
       "    <tr>\n",
       "      <th>7</th>\n",
       "      <td>1</td>\n",
       "      <td>control</td>\n",
       "      <td>orders_created</td>\n",
       "      <td>361.0</td>\n",
       "    </tr>\n",
       "    <tr>\n",
       "      <th>8</th>\n",
       "      <td>1</td>\n",
       "      <td>control</td>\n",
       "      <td>orders_paid</td>\n",
       "      <td>204.0</td>\n",
       "    </tr>\n",
       "    <tr>\n",
       "      <th>9</th>\n",
       "      <td>1</td>\n",
       "      <td>test</td>\n",
       "      <td>contacts</td>\n",
       "      <td>662.0</td>\n",
       "    </tr>\n",
       "    <tr>\n",
       "      <th>10</th>\n",
       "      <td>1</td>\n",
       "      <td>test</td>\n",
       "      <td>orders_created</td>\n",
       "      <td>316.0</td>\n",
       "    </tr>\n",
       "    <tr>\n",
       "      <th>11</th>\n",
       "      <td>1</td>\n",
       "      <td>test</td>\n",
       "      <td>orders_paid</td>\n",
       "      <td>191.0</td>\n",
       "    </tr>\n",
       "    <tr>\n",
       "      <th>12</th>\n",
       "      <td>2</td>\n",
       "      <td>control</td>\n",
       "      <td>contacts</td>\n",
       "      <td>737.0</td>\n",
       "    </tr>\n",
       "    <tr>\n",
       "      <th>13</th>\n",
       "      <td>2</td>\n",
       "      <td>control</td>\n",
       "      <td>orders_created</td>\n",
       "      <td>293.0</td>\n",
       "    </tr>\n",
       "    <tr>\n",
       "      <th>14</th>\n",
       "      <td>2</td>\n",
       "      <td>control</td>\n",
       "      <td>orders_paid</td>\n",
       "      <td>156.0</td>\n",
       "    </tr>\n",
       "    <tr>\n",
       "      <th>15</th>\n",
       "      <td>2</td>\n",
       "      <td>test</td>\n",
       "      <td>contacts</td>\n",
       "      <td>774.0</td>\n",
       "    </tr>\n",
       "    <tr>\n",
       "      <th>16</th>\n",
       "      <td>2</td>\n",
       "      <td>test</td>\n",
       "      <td>orders_created</td>\n",
       "      <td>413.0</td>\n",
       "    </tr>\n",
       "    <tr>\n",
       "      <th>17</th>\n",
       "      <td>2</td>\n",
       "      <td>test</td>\n",
       "      <td>orders_paid</td>\n",
       "      <td>259.0</td>\n",
       "    </tr>\n",
       "    <tr>\n",
       "      <th>18</th>\n",
       "      <td>3</td>\n",
       "      <td>control</td>\n",
       "      <td>contacts</td>\n",
       "      <td>762.0</td>\n",
       "    </tr>\n",
       "    <tr>\n",
       "      <th>19</th>\n",
       "      <td>3</td>\n",
       "      <td>control</td>\n",
       "      <td>orders_created</td>\n",
       "      <td>305.0</td>\n",
       "    </tr>\n",
       "  </tbody>\n",
       "</table>\n",
       "</div>"
      ],
      "text/plain": [
       "    bucket split_group          metric  metric_value\n",
       "0        0     control        contacts         714.0\n",
       "1        0     control  orders_created         358.0\n",
       "2        0     control     orders_paid         222.0\n",
       "3        0        test        contacts         729.0\n",
       "4        0        test  orders_created         376.0\n",
       "5        0        test     orders_paid         235.0\n",
       "6        1     control        contacts         776.0\n",
       "7        1     control  orders_created         361.0\n",
       "8        1     control     orders_paid         204.0\n",
       "9        1        test        contacts         662.0\n",
       "10       1        test  orders_created         316.0\n",
       "11       1        test     orders_paid         191.0\n",
       "12       2     control        contacts         737.0\n",
       "13       2     control  orders_created         293.0\n",
       "14       2     control     orders_paid         156.0\n",
       "15       2        test        contacts         774.0\n",
       "16       2        test  orders_created         413.0\n",
       "17       2        test     orders_paid         259.0\n",
       "18       3     control        contacts         762.0\n",
       "19       3     control  orders_created         305.0"
      ]
     },
     "execution_count": 4,
     "metadata": {},
     "output_type": "execute_result"
    }
   ],
   "source": [
    "data_dtr.head(20)"
   ]
  },
  {
   "cell_type": "code",
   "execution_count": 27,
   "metadata": {},
   "outputs": [
    {
     "data": {
      "text/html": [
       "<div>\n",
       "<style scoped>\n",
       "    .dataframe tbody tr th:only-of-type {\n",
       "        vertical-align: middle;\n",
       "    }\n",
       "\n",
       "    .dataframe tbody tr th {\n",
       "        vertical-align: top;\n",
       "    }\n",
       "\n",
       "    .dataframe thead th {\n",
       "        text-align: right;\n",
       "    }\n",
       "</style>\n",
       "<table border=\"1\" class=\"dataframe\">\n",
       "  <thead>\n",
       "    <tr style=\"text-align: right;\">\n",
       "      <th></th>\n",
       "      <th>bucket_id</th>\n",
       "      <th>orders_paid</th>\n",
       "    </tr>\n",
       "  </thead>\n",
       "  <tbody>\n",
       "    <tr>\n",
       "      <th>0</th>\n",
       "      <td>0</td>\n",
       "      <td>9717</td>\n",
       "    </tr>\n",
       "    <tr>\n",
       "      <th>1</th>\n",
       "      <td>1</td>\n",
       "      <td>9655</td>\n",
       "    </tr>\n",
       "    <tr>\n",
       "      <th>2</th>\n",
       "      <td>2</td>\n",
       "      <td>9490</td>\n",
       "    </tr>\n",
       "    <tr>\n",
       "      <th>3</th>\n",
       "      <td>3</td>\n",
       "      <td>9299</td>\n",
       "    </tr>\n",
       "    <tr>\n",
       "      <th>4</th>\n",
       "      <td>4</td>\n",
       "      <td>9564</td>\n",
       "    </tr>\n",
       "  </tbody>\n",
       "</table>\n",
       "</div>"
      ],
      "text/plain": [
       "   bucket_id  orders_paid\n",
       "0          0         9717\n",
       "1          1         9655\n",
       "2          2         9490\n",
       "3          3         9299\n",
       "4          4         9564"
      ]
     },
     "execution_count": 27,
     "metadata": {},
     "output_type": "execute_result"
    }
   ],
   "source": [
    "data_opm = data_opm.sort_values(by='bucket_id').reset_index()[['bucket_id', 'orders_paid']]\n",
    "data_opm.head()"
   ]
  },
  {
   "cell_type": "code",
   "execution_count": 26,
   "metadata": {},
   "outputs": [
    {
     "data": {
      "text/plain": [
       "((250, 2), (256,))"
      ]
     },
     "execution_count": 26,
     "metadata": {},
     "output_type": "execute_result"
    }
   ],
   "source": [
    "data_opm.shape, data_dtr.bucket.unique().shape"
   ]
  },
  {
   "cell_type": "code",
   "execution_count": 21,
   "metadata": {},
   "outputs": [],
   "source": [
    "mean = data_opm.orders_paid.mean()\n",
    "std = data_opm.orders_paid.std()\n",
    "\n",
    "alpha = 0.01 \n",
    "power = 0.8\n",
    "result_effect = 0.01\n",
    "effect_size = (mean * result_effect) / std"
   ]
  },
  {
   "cell_type": "code",
   "execution_count": 22,
   "metadata": {},
   "outputs": [],
   "source": [
    "sample_vol = tt_ind_solve_power(effect_size=effect_size, alpha=alpha, power=power, nobs1=None, ratio=1, alternative='larger')"
   ]
  },
  {
   "cell_type": "code",
   "execution_count": 23,
   "metadata": {},
   "outputs": [
    {
     "data": {
      "text/plain": [
       "81.9286348746947"
      ]
     },
     "execution_count": 23,
     "metadata": {},
     "output_type": "execute_result"
    }
   ],
   "source": [
    "sample_vol"
   ]
  },
  {
   "cell_type": "code",
   "execution_count": 33,
   "metadata": {},
   "outputs": [],
   "source": [
    "def choose_data(df, p=0.25):\n",
    "    df = df.iloc[np.random.randint(0, len(df), int(len(df)*p))]\n",
    "    return df\n",
    "\n",
    "def get_info(df, alpha, power = None, result_effect = None):\n",
    "    mean = df.orders_paid.mean()\n",
    "    std = df.orders_paid.std()\n",
    "    if result_effect:\n",
    "        effect_size = (mean * result_effect) / std\n",
    "        power = tt_ind_solve_power(effect_size=effect_size, alpha=alpha, power=None, nobs1=len(df), ratio=1, alternative='larger')\n",
    "        return power\n",
    "    if power:\n",
    "        effect_size = tt_ind_solve_power(effect_size=None, alpha=alpha, power=power, nobs1=len(df), ratio=1, alternative='larger')\n",
    "        result_effect = (effect_size * std) / mean\n",
    "        return result_effect"
   ]
  },
  {
   "cell_type": "code",
   "execution_count": 34,
   "metadata": {},
   "outputs": [
    {
     "name": "stdout",
     "output_type": "stream",
     "text": [
      "Vol is 15% || result effect: 0.014569845715299554\n",
      "Vol is 20% || result effect: 0.013978294143434102\n",
      "Vol is 25% || result effect: 0.01123502418748494\n",
      "Vol is 30% || result effect: 0.011320442879498531\n",
      "Vol is 35% || result effect: 0.008226314300701663\n",
      "Vol is 40% || result effect: 0.008853531639790874\n",
      "Vol is 45% || result effect: 0.008009365008991487\n",
      "Vol is 50% || result effect: 0.0077471007920912605\n",
      "Vol is 55% || result effect: 0.008382856893735604\n",
      "Vol is 60% || result effect: 0.007910728666138185\n",
      "Vol is 65% || result effect: 0.006710272086714129\n",
      "Vol is 70% || result effect: 0.00617979185467667\n",
      "Vol is 75% || result effect: 0.006008796806067992\n",
      "Vol is 80% || result effect: 0.006170123850627027\n",
      "Vol is 85% || result effect: 0.005899468507060252\n",
      "Vol is 90% || result effect: 0.00610938719156535\n",
      "Vol is 95% || result effect: 0.005997493017701448\n"
     ]
    }
   ],
   "source": [
    "steps = np.arange(0.15, 1.0, 0.05)\n",
    "for p in steps:\n",
    "    res_ef = get_info(choose_data(data_opm, p), power=0.8, alpha=0.01)\n",
    "    print(f\"Vol is {int(p*100)}% || result effect: {res_ef}\")"
   ]
  },
  {
   "cell_type": "code",
   "execution_count": 37,
   "metadata": {},
   "outputs": [
    {
     "name": "stdout",
     "output_type": "stream",
     "text": [
      "Vol is 15% || power: 0.409673753600492\n",
      "Vol is 20% || power: 0.6769090383758377\n",
      "Vol is 25% || power: 0.6285148656574591\n",
      "Vol is 30% || power: 0.7303157782265919\n",
      "Vol is 35% || power: 0.7113420654663527\n",
      "Vol is 40% || power: 0.7915139184311348\n",
      "Vol is 45% || power: 0.9281099407058437\n",
      "Vol is 50% || power: 0.9253652840126936\n",
      "Vol is 55% || power: 0.9444475971149652\n",
      "Vol is 60% || power: 0.9967520480070949\n",
      "Vol is 65% || power: 0.9839328292045418\n",
      "Vol is 70% || power: 0.9927600448822589\n",
      "Vol is 75% || power: 0.9945088478674375\n",
      "Vol is 80% || power: 0.9955318006213139\n",
      "Vol is 85% || power: 0.9976143928606759\n",
      "Vol is 90% || power: 0.9989513220550548\n",
      "Vol is 95% || power: 0.998921922383382\n"
     ]
    }
   ],
   "source": [
    "result_effect = 0.01\n",
    "steps = np.arange(0.15, 1.0, 0.05)\n",
    "for p in steps:\n",
    "    res_ef = get_info(choose_data(data_opm, p), result_effect=result_effect, alpha=0.01)\n",
    "    print(f\"Vol is {int(p*100)}% || power: {res_ef}\")"
   ]
  },
  {
   "attachments": {},
   "cell_type": "markdown",
   "metadata": {},
   "source": [
    "## Формализуем гипотезы"
   ]
  },
  {
   "attachments": {},
   "cell_type": "markdown",
   "metadata": {},
   "source": [
    "Будем смотреть за уже сформированными метриками, такими как:\n",
    "- Cуммарное количество запросов телефонов и сообщений в мессенджере (contacts); \n",
    "- Количество созданных заказов в \"Доставке\" (orders_created);\n",
    "- Количество оплаченных заказов в доставке (orders_paid).\n",
    "\n",
    "Но также предлагается посмотреть на ratio метрики:\n",
    "- orders_created к contacts, \n",
    "- orders_paid к orders_created,\n",
    "- orders_paid к contacts"
   ]
  },
  {
   "attachments": {},
   "cell_type": "markdown",
   "metadata": {},
   "source": [
    "Итак, гипотезы формально выглядят так:\n",
    "\n",
    "$H_0^{(1)}: \\mathbb{E}_{test}[contacts] = \\mathbb{E}_{control}[contacts]$\n",
    "\n",
    "$H_0^{(2)}: \\mathbb{E}_{test}[orders\\_created] = \\mathbb{E}_{control}[orders\\_created]$\n",
    "\n",
    "$H_0^{(3)}: \\mathbb{E}_{test}[orders\\_paid] = \\mathbb{E}_{control}[orders\\_paid]$\n",
    "\n",
    "Их проверяем с помощью ttest\n",
    "\n",
    "Альернативы двухсторонние\n",
    "\n",
    "И для ratio метрик гипотезы выглядят следующим образом:\n",
    "\n",
    "$H_0^{(1)}: \\mathbb{E}_{test}[orders\\_created/contacts] - \\mathbb{E}_{control}[orders\\_created/contacts] = 0$\n",
    "\n",
    "$H_0^{(1)}: \\mathbb{E}_{test}[orders\\_paid/contacts] - \\mathbb{E}_{control}[orders\\_paid/contacts] = 0$\n",
    "\n",
    "$H_0^{(1)}: \\mathbb{E}_{test}[orders\\_paid/orders\\_created] - \\mathbb{E}_{control}[orders\\_paid/orders\\_created] = 0$\n",
    "\n",
    "Их проверяем с бутсрапом, строя доверительный интервал"
   ]
  },
  {
   "cell_type": "code",
   "execution_count": 62,
   "metadata": {},
   "outputs": [],
   "source": [
    "df_contacts = data_dtr[data_dtr.metric == 'contacts']\n",
    "df_orders_created = data_dtr[data_dtr.metric == 'orders_created']\n",
    "df_orders_paid = data_dtr[data_dtr.metric == 'orders_paid']\n"
   ]
  },
  {
   "cell_type": "code",
   "execution_count": 45,
   "metadata": {},
   "outputs": [
    {
     "data": {
      "text/html": [
       "<div>\n",
       "<style scoped>\n",
       "    .dataframe tbody tr th:only-of-type {\n",
       "        vertical-align: middle;\n",
       "    }\n",
       "\n",
       "    .dataframe tbody tr th {\n",
       "        vertical-align: top;\n",
       "    }\n",
       "\n",
       "    .dataframe thead th {\n",
       "        text-align: right;\n",
       "    }\n",
       "</style>\n",
       "<table border=\"1\" class=\"dataframe\">\n",
       "  <thead>\n",
       "    <tr style=\"text-align: right;\">\n",
       "      <th></th>\n",
       "      <th></th>\n",
       "      <th>metric_value</th>\n",
       "    </tr>\n",
       "    <tr>\n",
       "      <th>split_group</th>\n",
       "      <th>metric</th>\n",
       "      <th></th>\n",
       "    </tr>\n",
       "  </thead>\n",
       "  <tbody>\n",
       "    <tr>\n",
       "      <th rowspan=\"3\" valign=\"top\">control</th>\n",
       "      <th>contacts</th>\n",
       "      <td>744.738281</td>\n",
       "    </tr>\n",
       "    <tr>\n",
       "      <th>orders_created</th>\n",
       "      <td>325.101562</td>\n",
       "    </tr>\n",
       "    <tr>\n",
       "      <th>orders_paid</th>\n",
       "      <td>205.566406</td>\n",
       "    </tr>\n",
       "    <tr>\n",
       "      <th rowspan=\"3\" valign=\"top\">test</th>\n",
       "      <th>contacts</th>\n",
       "      <td>726.140625</td>\n",
       "    </tr>\n",
       "    <tr>\n",
       "      <th>orders_created</th>\n",
       "      <td>340.527344</td>\n",
       "    </tr>\n",
       "    <tr>\n",
       "      <th>orders_paid</th>\n",
       "      <td>212.937500</td>\n",
       "    </tr>\n",
       "  </tbody>\n",
       "</table>\n",
       "</div>"
      ],
      "text/plain": [
       "                            metric_value\n",
       "split_group metric                      \n",
       "control     contacts          744.738281\n",
       "            orders_created    325.101562\n",
       "            orders_paid       205.566406\n",
       "test        contacts          726.140625\n",
       "            orders_created    340.527344\n",
       "            orders_paid       212.937500"
      ]
     },
     "execution_count": 45,
     "metadata": {},
     "output_type": "execute_result"
    }
   ],
   "source": [
    "data_dtr.pivot_table(\n",
    "    values=('metric_value'),\n",
    "    index=['split_group', 'metric']\n",
    ")"
   ]
  },
  {
   "cell_type": "code",
   "execution_count": 49,
   "metadata": {},
   "outputs": [
    {
     "name": "stdout",
     "output_type": "stream",
     "text": [
      "Contacts: Ttest_indResult(statistic=-5.4527375304803956, pvalue=7.74120674779068e-08)\n",
      "Orders Created: Ttest_indResult(statistic=4.554365562292695, pvalue=6.5797588502007575e-06)\n",
      "Orders Paid: Ttest_indResult(statistic=4.554365562292695, pvalue=6.5797588502007575e-06)\n"
     ]
    }
   ],
   "source": [
    "t_contacts = ttest_ind(df_contacts[df_contacts.split_group == 'test'].metric_value, df_contacts[df_contacts.split_group == 'control'].metric_value)\n",
    "t_orders_created = ttest_ind(df_orders_created[df_orders_created.split_group == 'test'].metric_value, df_orders_created[df_orders_created.split_group == 'control'].metric_value)\n",
    "t_orders_paid = ttest_ind(df_orders_paid[df_orders_paid.split_group == 'test'].metric_value, df_orders_paid[df_orders_paid.split_group == 'control'].metric_value)\n",
    "\n",
    "\n",
    "print(f'Contacts: {t_contacts}')\n",
    "print(f'Orders Created: {t_orders_created}')\n",
    "print(f'Orders Paid: {t_orders_created}')"
   ]
  },
  {
   "attachments": {},
   "cell_type": "markdown",
   "metadata": {},
   "source": [
    "Итак, получили:\n",
    "- Количество контактов в тесте статзначимо меньше, чем в контроле\n",
    "- Количество созданных заказов в тесте статзначимо больше, чем в контроле\n",
    "- Количество оплаченных в тесте статзначимо больше, чем в контроле"
   ]
  },
  {
   "cell_type": "code",
   "execution_count": 63,
   "metadata": {},
   "outputs": [],
   "source": [
    "df_contacts = df_contacts[['bucket', 'split_group', 'metric_value']]\n",
    "df_contacts.columns = ['bucket', 'split_group', 'contacts']\n",
    "df_orders_created = df_orders_created[['bucket', 'split_group', 'metric_value']]\n",
    "df_orders_created.columns = ['bucket', 'split_group', 'orders_created']\n",
    "df_orders_paid = df_orders_paid[['bucket', 'split_group', 'metric_value']]\n",
    "df_orders_paid.columns = ['bucket', 'split_group', 'orders_paid']"
   ]
  },
  {
   "cell_type": "code",
   "execution_count": 69,
   "metadata": {},
   "outputs": [],
   "source": [
    "data_dtr_control = df_contacts[df_contacts.split_group == 'control'].merge(df_orders_created[df_orders_created.split_group == 'control'], on='bucket').merge(df_orders_paid[df_orders_paid.split_group == 'control'], on='bucket')\n",
    "data_dtr_test = df_contacts[df_contacts.split_group == 'test'].merge(df_orders_created[df_orders_created.split_group == 'test'], on='bucket').merge(df_orders_paid[df_orders_paid.split_group == 'test'], on='bucket')"
   ]
  },
  {
   "attachments": {},
   "cell_type": "markdown",
   "metadata": {},
   "source": [
    "Посмотрим на ratio метрики"
   ]
  },
  {
   "cell_type": "code",
   "execution_count": 77,
   "metadata": {},
   "outputs": [],
   "source": [
    "def ratio_created_to_contacts(data):\n",
    "    return sum(data.orders_created/data.contacts)\n",
    "\n",
    "def ratio_paid_to_contacts(data):\n",
    "    return sum(data.orders_paid/data.contacts)\n",
    "\n",
    "def ratio_paid_to_created(data):\n",
    "    return sum(data.orders_paid/data.orders_created)\n",
    "\n",
    "def stat_intervals(stat, alpha = 0.05):\n",
    "    return np.percentile(stat, [100 * alpha / 2., 100 * (1 - alpha / 2.)])\n",
    "\n",
    "def get_bootstrap_samples(data, \n",
    "                          n_samples = 10000, \n",
    "                          custom_func = ratio_created_to_contacts):\n",
    "    return np.array([custom_func(data.iloc[np.random.randint(0, len(data), len(data))]) for _ in range(n_samples)])"
   ]
  },
  {
   "cell_type": "code",
   "execution_count": 78,
   "metadata": {},
   "outputs": [
    {
     "name": "stdout",
     "output_type": "stream",
     "text": [
      "For orders_created to contacts: [ 6.31390337 10.35796931]\n",
      "For orders_paid to contacts: [3.26385289 5.63517497]\n",
      "For orders_paid to orders_created: [-3.51270657 -0.36535736]\n"
     ]
    }
   ],
   "source": [
    "smp_c = get_bootstrap_samples(data_dtr_control)\n",
    "smp_t = get_bootstrap_samples(data_dtr_test)\n",
    "print(f'For orders_created to contacts: {stat_intervals(smp_t-smp_c)}')\n",
    "\n",
    "smp_c = get_bootstrap_samples(data_dtr_control, custom_func=ratio_paid_to_contacts)\n",
    "smp_t = get_bootstrap_samples(data_dtr_test, custom_func=ratio_paid_to_contacts)\n",
    "print(f'For orders_paid to contacts: {stat_intervals(smp_t-smp_c)}')\n",
    "\n",
    "smp_c = get_bootstrap_samples(data_dtr_control, custom_func=ratio_paid_to_created)\n",
    "smp_t = get_bootstrap_samples(data_dtr_test, custom_func=ratio_paid_to_created)\n",
    "print(f'For orders_paid to orders_created: {stat_intervals(smp_t-smp_c)}')"
   ]
  },
  {
   "attachments": {},
   "cell_type": "markdown",
   "metadata": {},
   "source": [
    "Итак, из анализа ratio метрик получили, что:\n",
    "- Конверсия из контакта в созданный в доставке заказ увеличилась;\n",
    "- Конверсия из контака в оплаченный в доставке заказ тоже увеличилась;\n",
    "- Конверсия из созданного заказа в доставке в оплаченный уменьшилась."
   ]
  },
  {
   "attachments": {},
   "cell_type": "markdown",
   "metadata": {},
   "source": [
    "Итого, выводы можно сделать следующие:\n",
    "- Количество контактов статзначимо упала и увеличилось количество созданных и оплаченных заказов в доставке\n",
    "- Отношение созданных и оплаченных заказов к количеству контактов выросло\n",
    "- Отношение числа оплаченных заказов в доставке к числу созданных заказов в доставке упало, что говорит о существовании какой-то дополнительной причины, почему пользователи добавили заказ в доставке, но не оплатили его\n",
    "\n",
    "В целом, то что мы хотели достичь - выполнено"
   ]
  }
 ],
 "metadata": {
  "kernelspec": {
   "display_name": "Python 3",
   "language": "python",
   "name": "python3"
  },
  "language_info": {
   "codemirror_mode": {
    "name": "ipython",
    "version": 3
   },
   "file_extension": ".py",
   "mimetype": "text/x-python",
   "name": "python",
   "nbconvert_exporter": "python",
   "pygments_lexer": "ipython3",
   "version": "3.9.13"
  },
  "orig_nbformat": 4
 },
 "nbformat": 4,
 "nbformat_minor": 2
}
