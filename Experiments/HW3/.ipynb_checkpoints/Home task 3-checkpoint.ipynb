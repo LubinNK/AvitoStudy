{
 "cells": [
  {
   "cell_type": "code",
   "execution_count": 1,
   "metadata": {},
   "outputs": [],
   "source": [
    "import pandas as pd\n",
    "import matplotlib.pyplot as plt\n",
    "import numpy as np\n",
    "import seaborn as sns\n",
    "import datetime\n",
    "import random\n",
    "from statsmodels.stats.power import tt_ind_solve_power\n",
    "%matplotlib inline\n",
    "\n",
    "def date_converter(x):\n",
    "    return datetime.datetime.strptime(x,'%Y-%m-%d')"
   ]
  },
  {
   "cell_type": "markdown",
   "metadata": {},
   "source": [
    "### Задание 3\n",
    "**Срок сдачи: 04 апреля 21:00**\n",
    "\n",
    "**Финальный срок сдачи с понижением балов до 50%: 09 апреля 21:00**\n",
    "\n",
    "В этом задание вы будете работать с выручкой - метрикой с достаточно высокой дисперсией и соответсвенно низкой чувствительностью к изменениям.\n",
    "\n",
    "Вам предстоит разработать подход по повышению чувствительности этой метрики.\n",
    "От успеха данной инициативы зависит то, как быстро мы сможем проверять продуктовые гипотезы."
   ]
  },
  {
   "cell_type": "markdown",
   "metadata": {},
   "source": [
    "#### Для планирования эксперимента изучите данные и метрики 2 балла:\n",
    "\n",
    "- Загрузите файл и изучите данные;\n",
    "- Изучите основные статистики метрики: среднее, стандартное отклонение;\n",
    "- Изучите то, как эти статистики изменяются внутри срезов: user_segment, region, category\n",
    "\n",
    "#### Предскажите минимально детектируемый эффект (MDE) 2 балла:\n",
    "\n",
    "- Для размеров тестовых групп 10,25,50% и длительностей 30, 60, 90 дней предскажите минимально детектируемый эффект;\n",
    "\n",
    "\n",
    "#### CUPED 6 баллов\n",
    "Разработайте подход по снижению дисперсии на основе методики CUPED:\n",
    "\n",
    "- Рассчитайте CUPED метрику на основе данных за периода в 30 дней перед предполагаемым периодом сбора основной выборки и опишите как изменился MDE для выборок 50/50%, собранных за 30 дней (2 бала). \n",
    "- Проверьте насколько данный подход подвержен сезональности. Как меняется MDE, если применять данный подход в разные периоды (2 бала). \n",
    "- Оптимизируйте подход варьируя количество дней до теста, которые вы будете для расчёта CUPED метрики. Какое максимальное снижение MDE вы смогли достичь (2 бала).\n",
    "\n",
    "\n",
    "\n",
    "#### * Стратификация 4 балла (задание для получения дополнительных баллов)\n",
    "Разработайте подход по снижению дисперсии на основе методики стратификации выборок:\n",
    "\n",
    "- Стратифицируйте выборки внутри срезов user_segment, region, category\n",
    "- Рассчитайте стратифицированные среднее,стандартное отклонение для этих выборок и MDE для теста 50/50% длительностью 30 дней.\n",
    "- В каких срезах достигается наибольшее снижение MDE?\n",
    "\n"
   ]
  },
  {
   "cell_type": "markdown",
   "metadata": {},
   "source": [
    "#### Описание данныx\n",
    "\n",
    "event_date - дата \n",
    "\n",
    "user_id - идентификатор пользователя\n",
    "\n",
    "user_segment - тип продукта\n",
    "\n",
    "region - регион\n",
    "\n",
    "category - категория авито\n",
    "\n",
    "revenue_amount - сумма покупок\n"
   ]
  },
  {
   "cell_type": "code",
   "execution_count": 2,
   "metadata": {},
   "outputs": [],
   "source": [
    "df = pd.read_csv('user_amount_var_reduction.csv')\n",
    "df['event_date']=df.event_date.apply(date_converter)"
   ]
  },
  {
   "cell_type": "code",
   "execution_count": 4,
   "metadata": {},
   "outputs": [
    {
     "data": {
      "text/html": [
       "<div>\n",
       "<style scoped>\n",
       "    .dataframe tbody tr th:only-of-type {\n",
       "        vertical-align: middle;\n",
       "    }\n",
       "\n",
       "    .dataframe tbody tr th {\n",
       "        vertical-align: top;\n",
       "    }\n",
       "\n",
       "    .dataframe thead th {\n",
       "        text-align: right;\n",
       "    }\n",
       "</style>\n",
       "<table border=\"1\" class=\"dataframe\">\n",
       "  <thead>\n",
       "    <tr style=\"text-align: right;\">\n",
       "      <th></th>\n",
       "      <th>event_date</th>\n",
       "      <th>user_id</th>\n",
       "      <th>user_segment</th>\n",
       "      <th>category</th>\n",
       "      <th>region</th>\n",
       "      <th>revenue_amount</th>\n",
       "    </tr>\n",
       "  </thead>\n",
       "  <tbody>\n",
       "    <tr>\n",
       "      <th>0</th>\n",
       "      <td>2019-06-18</td>\n",
       "      <td>4129257975403696</td>\n",
       "      <td>4.626945e+18</td>\n",
       "      <td>7.204754e+18</td>\n",
       "      <td>2.201389e+18</td>\n",
       "      <td>139.0</td>\n",
       "    </tr>\n",
       "    <tr>\n",
       "      <th>1</th>\n",
       "      <td>2019-06-18</td>\n",
       "      <td>7225254357470025</td>\n",
       "      <td>4.626945e+18</td>\n",
       "      <td>5.751401e+16</td>\n",
       "      <td>3.048518e+18</td>\n",
       "      <td>193.0</td>\n",
       "    </tr>\n",
       "    <tr>\n",
       "      <th>2</th>\n",
       "      <td>2019-06-18</td>\n",
       "      <td>8912846500600569</td>\n",
       "      <td>4.626945e+18</td>\n",
       "      <td>5.983324e+18</td>\n",
       "      <td>3.048518e+18</td>\n",
       "      <td>160.0</td>\n",
       "    </tr>\n",
       "    <tr>\n",
       "      <th>3</th>\n",
       "      <td>2019-06-18</td>\n",
       "      <td>20910801279823046</td>\n",
       "      <td>4.626945e+18</td>\n",
       "      <td>6.847326e+18</td>\n",
       "      <td>7.762196e+18</td>\n",
       "      <td>209.0</td>\n",
       "    </tr>\n",
       "    <tr>\n",
       "      <th>4</th>\n",
       "      <td>2019-06-18</td>\n",
       "      <td>34873300821657220</td>\n",
       "      <td>2.376074e+18</td>\n",
       "      <td>3.187770e+18</td>\n",
       "      <td>3.855811e+18</td>\n",
       "      <td>160.0</td>\n",
       "    </tr>\n",
       "  </tbody>\n",
       "</table>\n",
       "</div>"
      ],
      "text/plain": [
       "  event_date            user_id  user_segment      category        region   \n",
       "0 2019-06-18   4129257975403696  4.626945e+18  7.204754e+18  2.201389e+18  \\\n",
       "1 2019-06-18   7225254357470025  4.626945e+18  5.751401e+16  3.048518e+18   \n",
       "2 2019-06-18   8912846500600569  4.626945e+18  5.983324e+18  3.048518e+18   \n",
       "3 2019-06-18  20910801279823046  4.626945e+18  6.847326e+18  7.762196e+18   \n",
       "4 2019-06-18  34873300821657220  2.376074e+18  3.187770e+18  3.855811e+18   \n",
       "\n",
       "   revenue_amount  \n",
       "0           139.0  \n",
       "1           193.0  \n",
       "2           160.0  \n",
       "3           209.0  \n",
       "4           160.0  "
      ]
     },
     "execution_count": 4,
     "metadata": {},
     "output_type": "execute_result"
    }
   ],
   "source": [
    "df.head()"
   ]
  },
  {
   "cell_type": "code",
   "execution_count": 3,
   "metadata": {},
   "outputs": [
    {
     "data": {
      "text/html": [
       "<div>\n",
       "<style scoped>\n",
       "    .dataframe tbody tr th:only-of-type {\n",
       "        vertical-align: middle;\n",
       "    }\n",
       "\n",
       "    .dataframe tbody tr th {\n",
       "        vertical-align: top;\n",
       "    }\n",
       "\n",
       "    .dataframe thead th {\n",
       "        text-align: right;\n",
       "    }\n",
       "</style>\n",
       "<table border=\"1\" class=\"dataframe\">\n",
       "  <thead>\n",
       "    <tr style=\"text-align: right;\">\n",
       "      <th></th>\n",
       "      <th>event_date</th>\n",
       "      <th>user_id</th>\n",
       "      <th>user_segment</th>\n",
       "      <th>category</th>\n",
       "      <th>region</th>\n",
       "      <th>revenue_amount</th>\n",
       "    </tr>\n",
       "  </thead>\n",
       "  <tbody>\n",
       "    <tr>\n",
       "      <th>count</th>\n",
       "      <td>4096929</td>\n",
       "      <td>4.096929e+06</td>\n",
       "      <td>4.096928e+06</td>\n",
       "      <td>4.096928e+06</td>\n",
       "      <td>4.096928e+06</td>\n",
       "      <td>4.096928e+06</td>\n",
       "    </tr>\n",
       "    <tr>\n",
       "      <th>mean</th>\n",
       "      <td>2019-07-31 12:00:40.564626432</td>\n",
       "      <td>4.597366e+18</td>\n",
       "      <td>3.140363e+18</td>\n",
       "      <td>4.086952e+18</td>\n",
       "      <td>4.116913e+18</td>\n",
       "      <td>4.098162e+02</td>\n",
       "    </tr>\n",
       "    <tr>\n",
       "      <th>min</th>\n",
       "      <td>2019-06-18 00:00:00</td>\n",
       "      <td>7.022212e+11</td>\n",
       "      <td>8.534311e+17</td>\n",
       "      <td>5.751401e+16</td>\n",
       "      <td>6.847539e+16</td>\n",
       "      <td>4.000000e+00</td>\n",
       "    </tr>\n",
       "    <tr>\n",
       "      <th>25%</th>\n",
       "      <td>2019-07-09 00:00:00</td>\n",
       "      <td>2.283168e+18</td>\n",
       "      <td>2.376074e+18</td>\n",
       "      <td>1.472231e+18</td>\n",
       "      <td>1.481836e+18</td>\n",
       "      <td>9.000000e+01</td>\n",
       "    </tr>\n",
       "    <tr>\n",
       "      <th>50%</th>\n",
       "      <td>2019-07-30 00:00:00</td>\n",
       "      <td>4.602561e+18</td>\n",
       "      <td>2.376074e+18</td>\n",
       "      <td>4.394253e+18</td>\n",
       "      <td>3.855811e+18</td>\n",
       "      <td>1.760000e+02</td>\n",
       "    </tr>\n",
       "    <tr>\n",
       "      <th>75%</th>\n",
       "      <td>2019-08-23 00:00:00</td>\n",
       "      <td>6.896026e+18</td>\n",
       "      <td>4.626945e+18</td>\n",
       "      <td>6.742558e+18</td>\n",
       "      <td>5.780544e+18</td>\n",
       "      <td>4.200000e+02</td>\n",
       "    </tr>\n",
       "    <tr>\n",
       "      <th>max</th>\n",
       "      <td>2019-09-26 00:00:00</td>\n",
       "      <td>9.223368e+18</td>\n",
       "      <td>4.626945e+18</td>\n",
       "      <td>7.948270e+18</td>\n",
       "      <td>9.198009e+18</td>\n",
       "      <td>2.245870e+05</td>\n",
       "    </tr>\n",
       "    <tr>\n",
       "      <th>std</th>\n",
       "      <td>NaN</td>\n",
       "      <td>2.662496e+18</td>\n",
       "      <td>1.337426e+18</td>\n",
       "      <td>2.736763e+18</td>\n",
       "      <td>2.474388e+18</td>\n",
       "      <td>9.388359e+02</td>\n",
       "    </tr>\n",
       "  </tbody>\n",
       "</table>\n",
       "</div>"
      ],
      "text/plain": [
       "                          event_date       user_id  user_segment   \n",
       "count                        4096929  4.096929e+06  4.096928e+06  \\\n",
       "mean   2019-07-31 12:00:40.564626432  4.597366e+18  3.140363e+18   \n",
       "min              2019-06-18 00:00:00  7.022212e+11  8.534311e+17   \n",
       "25%              2019-07-09 00:00:00  2.283168e+18  2.376074e+18   \n",
       "50%              2019-07-30 00:00:00  4.602561e+18  2.376074e+18   \n",
       "75%              2019-08-23 00:00:00  6.896026e+18  4.626945e+18   \n",
       "max              2019-09-26 00:00:00  9.223368e+18  4.626945e+18   \n",
       "std                              NaN  2.662496e+18  1.337426e+18   \n",
       "\n",
       "           category        region  revenue_amount  \n",
       "count  4.096928e+06  4.096928e+06    4.096928e+06  \n",
       "mean   4.086952e+18  4.116913e+18    4.098162e+02  \n",
       "min    5.751401e+16  6.847539e+16    4.000000e+00  \n",
       "25%    1.472231e+18  1.481836e+18    9.000000e+01  \n",
       "50%    4.394253e+18  3.855811e+18    1.760000e+02  \n",
       "75%    6.742558e+18  5.780544e+18    4.200000e+02  \n",
       "max    7.948270e+18  9.198009e+18    2.245870e+05  \n",
       "std    2.736763e+18  2.474388e+18    9.388359e+02  "
      ]
     },
     "execution_count": 3,
     "metadata": {},
     "output_type": "execute_result"
    }
   ],
   "source": [
    "df.describe()"
   ]
  },
  {
   "cell_type": "code",
   "execution_count": 4,
   "metadata": {},
   "outputs": [
    {
     "name": "stdout",
     "output_type": "stream",
     "text": [
      "<class 'pandas.core.frame.DataFrame'>\n",
      "RangeIndex: 4096929 entries, 0 to 4096928\n",
      "Data columns (total 6 columns):\n",
      " #   Column          Dtype         \n",
      "---  ------          -----         \n",
      " 0   event_date      datetime64[ns]\n",
      " 1   user_id         int64         \n",
      " 2   user_segment    float64       \n",
      " 3   category        float64       \n",
      " 4   region          float64       \n",
      " 5   revenue_amount  float64       \n",
      "dtypes: datetime64[ns](1), float64(4), int64(1)\n",
      "memory usage: 187.5 MB\n"
     ]
    }
   ],
   "source": [
    "df.info()"
   ]
  },
  {
   "cell_type": "code",
   "execution_count": 5,
   "metadata": {},
   "outputs": [
    {
     "data": {
      "text/plain": [
       "(1, 1, 1)"
      ]
     },
     "execution_count": 5,
     "metadata": {},
     "output_type": "execute_result"
    }
   ],
   "source": [
    "df.user_segment.isna().sum(), df.region.isna().sum(), df.category.isna().sum()"
   ]
  },
  {
   "cell_type": "code",
   "execution_count": 6,
   "metadata": {},
   "outputs": [],
   "source": [
    "df = df.dropna()"
   ]
  },
  {
   "cell_type": "code",
   "execution_count": 7,
   "metadata": {},
   "outputs": [
    {
     "data": {
      "text/plain": [
       "(0, 0, 0)"
      ]
     },
     "execution_count": 7,
     "metadata": {},
     "output_type": "execute_result"
    }
   ],
   "source": [
    "df.user_segment.isna().sum(), df.region.isna().sum(), df.category.isna().sum()"
   ]
  },
  {
   "cell_type": "code",
   "execution_count": 8,
   "metadata": {},
   "outputs": [
    {
     "data": {
      "text/plain": [
       "3"
      ]
     },
     "execution_count": 8,
     "metadata": {},
     "output_type": "execute_result"
    }
   ],
   "source": [
    "len(df.user_segment.unique())"
   ]
  },
  {
   "cell_type": "code",
   "execution_count": 9,
   "metadata": {},
   "outputs": [
    {
     "data": {
      "text/plain": [
       "33"
      ]
     },
     "execution_count": 9,
     "metadata": {},
     "output_type": "execute_result"
    }
   ],
   "source": [
    "len(df.category.unique())"
   ]
  },
  {
   "cell_type": "code",
   "execution_count": 10,
   "metadata": {},
   "outputs": [
    {
     "data": {
      "text/plain": [
       "84"
      ]
     },
     "execution_count": 10,
     "metadata": {},
     "output_type": "execute_result"
    }
   ],
   "source": [
    "len(df.region.unique())"
   ]
  },
  {
   "cell_type": "code",
   "execution_count": 11,
   "metadata": {},
   "outputs": [
    {
     "data": {
      "text/plain": [
       "1198787"
      ]
     },
     "execution_count": 11,
     "metadata": {},
     "output_type": "execute_result"
    }
   ],
   "source": [
    "len(df.user_id.unique())"
   ]
  },
  {
   "cell_type": "markdown",
   "metadata": {},
   "source": [
    "Рассматриваются в выборке:\n",
    "- 1198787 пользователей; \n",
    "- 3 типа продуктов;\n",
    "- 33 категории Авито;\n",
    "- 84 регионов."
   ]
  },
  {
   "cell_type": "markdown",
   "metadata": {},
   "source": [
    "Сгруппируем по пользователям суммарную прибыль."
   ]
  },
  {
   "cell_type": "code",
   "execution_count": 12,
   "metadata": {},
   "outputs": [
    {
     "data": {
      "text/html": [
       "<div>\n",
       "<style scoped>\n",
       "    .dataframe tbody tr th:only-of-type {\n",
       "        vertical-align: middle;\n",
       "    }\n",
       "\n",
       "    .dataframe tbody tr th {\n",
       "        vertical-align: top;\n",
       "    }\n",
       "\n",
       "    .dataframe thead th {\n",
       "        text-align: right;\n",
       "    }\n",
       "</style>\n",
       "<table border=\"1\" class=\"dataframe\">\n",
       "  <thead>\n",
       "    <tr style=\"text-align: right;\">\n",
       "      <th></th>\n",
       "      <th>user_id</th>\n",
       "      <th>revenue_amount</th>\n",
       "    </tr>\n",
       "  </thead>\n",
       "  <tbody>\n",
       "    <tr>\n",
       "      <th>0</th>\n",
       "      <td>702221222224</td>\n",
       "      <td>356.0</td>\n",
       "    </tr>\n",
       "    <tr>\n",
       "      <th>1</th>\n",
       "      <td>1336907904656</td>\n",
       "      <td>1321.0</td>\n",
       "    </tr>\n",
       "    <tr>\n",
       "      <th>2</th>\n",
       "      <td>1912219714366</td>\n",
       "      <td>210.0</td>\n",
       "    </tr>\n",
       "    <tr>\n",
       "      <th>3</th>\n",
       "      <td>7562887359106</td>\n",
       "      <td>105.0</td>\n",
       "    </tr>\n",
       "    <tr>\n",
       "      <th>4</th>\n",
       "      <td>23708868092799</td>\n",
       "      <td>329.0</td>\n",
       "    </tr>\n",
       "  </tbody>\n",
       "</table>\n",
       "</div>"
      ],
      "text/plain": [
       "          user_id  revenue_amount\n",
       "0    702221222224           356.0\n",
       "1   1336907904656          1321.0\n",
       "2   1912219714366           210.0\n",
       "3   7562887359106           105.0\n",
       "4  23708868092799           329.0"
      ]
     },
     "execution_count": 12,
     "metadata": {},
     "output_type": "execute_result"
    }
   ],
   "source": [
    "df_revenue_by_user = df.groupby(['user_id'])[['revenue_amount']].sum().reset_index()\n",
    "df_revenue_by_user.head()"
   ]
  },
  {
   "cell_type": "markdown",
   "metadata": {},
   "source": [
    "Посмотрим на ARPU и на ее std "
   ]
  },
  {
   "cell_type": "code",
   "execution_count": 13,
   "metadata": {},
   "outputs": [
    {
     "name": "stdout",
     "output_type": "stream",
     "text": [
      "ARPU: 1400.572, std: 11795.365\n"
     ]
    }
   ],
   "source": [
    "arpu = df_revenue_by_user.revenue_amount.mean()\n",
    "print(f\"ARPU: {round(arpu, 3)}, std: {round(df_revenue_by_user.revenue_amount.std(), 3)}\")"
   ]
  },
  {
   "cell_type": "markdown",
   "metadata": {},
   "source": [
    "Посмотрим на это в разрезе регионов."
   ]
  },
  {
   "cell_type": "code",
   "execution_count": 14,
   "metadata": {},
   "outputs": [
    {
     "data": {
      "text/html": [
       "<div>\n",
       "<style scoped>\n",
       "    .dataframe tbody tr th:only-of-type {\n",
       "        vertical-align: middle;\n",
       "    }\n",
       "\n",
       "    .dataframe tbody tr th {\n",
       "        vertical-align: top;\n",
       "    }\n",
       "\n",
       "    .dataframe thead th {\n",
       "        text-align: right;\n",
       "    }\n",
       "</style>\n",
       "<table border=\"1\" class=\"dataframe\">\n",
       "  <thead>\n",
       "    <tr style=\"text-align: right;\">\n",
       "      <th></th>\n",
       "      <th>user_id</th>\n",
       "      <th>region</th>\n",
       "      <th>revenue_amount</th>\n",
       "    </tr>\n",
       "  </thead>\n",
       "  <tbody>\n",
       "    <tr>\n",
       "      <th>0</th>\n",
       "      <td>702221222224</td>\n",
       "      <td>2.201389e+18</td>\n",
       "      <td>356.0</td>\n",
       "    </tr>\n",
       "    <tr>\n",
       "      <th>1</th>\n",
       "      <td>1336907904656</td>\n",
       "      <td>7.487694e+18</td>\n",
       "      <td>1321.0</td>\n",
       "    </tr>\n",
       "    <tr>\n",
       "      <th>2</th>\n",
       "      <td>1912219714366</td>\n",
       "      <td>1.465493e+18</td>\n",
       "      <td>210.0</td>\n",
       "    </tr>\n",
       "    <tr>\n",
       "      <th>3</th>\n",
       "      <td>7562887359106</td>\n",
       "      <td>4.626263e+18</td>\n",
       "      <td>105.0</td>\n",
       "    </tr>\n",
       "    <tr>\n",
       "      <th>4</th>\n",
       "      <td>23708868092799</td>\n",
       "      <td>6.904192e+17</td>\n",
       "      <td>329.0</td>\n",
       "    </tr>\n",
       "  </tbody>\n",
       "</table>\n",
       "</div>"
      ],
      "text/plain": [
       "          user_id        region  revenue_amount\n",
       "0    702221222224  2.201389e+18           356.0\n",
       "1   1336907904656  7.487694e+18          1321.0\n",
       "2   1912219714366  1.465493e+18           210.0\n",
       "3   7562887359106  4.626263e+18           105.0\n",
       "4  23708868092799  6.904192e+17           329.0"
      ]
     },
     "execution_count": 14,
     "metadata": {},
     "output_type": "execute_result"
    }
   ],
   "source": [
    "df_revenue_by_user_region = df.groupby(['user_id', 'region'])[['revenue_amount']].sum().reset_index()\n",
    "df_revenue_by_user_region.head()"
   ]
  },
  {
   "cell_type": "code",
   "execution_count": 15,
   "metadata": {},
   "outputs": [
    {
     "data": {
      "text/plain": [
       "(1270114, 3)"
      ]
     },
     "execution_count": 15,
     "metadata": {},
     "output_type": "execute_result"
    }
   ],
   "source": [
    "df_revenue_by_user_region.shape"
   ]
  },
  {
   "cell_type": "markdown",
   "metadata": {},
   "source": [
    "Заметим, что некоторые юзеры межрегиональные\n",
    "\n",
    "Посмотрим на средние прибыли с пользователей в разрезе регионов"
   ]
  },
  {
   "cell_type": "code",
   "execution_count": 16,
   "metadata": {},
   "outputs": [
    {
     "data": {
      "text/html": [
       "<div>\n",
       "<style scoped>\n",
       "    .dataframe tbody tr th:only-of-type {\n",
       "        vertical-align: middle;\n",
       "    }\n",
       "\n",
       "    .dataframe tbody tr th {\n",
       "        vertical-align: top;\n",
       "    }\n",
       "\n",
       "    .dataframe thead th {\n",
       "        text-align: right;\n",
       "    }\n",
       "</style>\n",
       "<table border=\"1\" class=\"dataframe\">\n",
       "  <thead>\n",
       "    <tr style=\"text-align: right;\">\n",
       "      <th></th>\n",
       "      <th>region</th>\n",
       "      <th>revenue_amount</th>\n",
       "    </tr>\n",
       "  </thead>\n",
       "  <tbody>\n",
       "    <tr>\n",
       "      <th>0</th>\n",
       "      <td>6.847539e+16</td>\n",
       "      <td>983.721197</td>\n",
       "    </tr>\n",
       "    <tr>\n",
       "      <th>1</th>\n",
       "      <td>1.813879e+17</td>\n",
       "      <td>1052.821789</td>\n",
       "    </tr>\n",
       "    <tr>\n",
       "      <th>2</th>\n",
       "      <td>3.081947e+17</td>\n",
       "      <td>752.258936</td>\n",
       "    </tr>\n",
       "    <tr>\n",
       "      <th>3</th>\n",
       "      <td>3.856675e+17</td>\n",
       "      <td>987.283828</td>\n",
       "    </tr>\n",
       "    <tr>\n",
       "      <th>4</th>\n",
       "      <td>4.053648e+17</td>\n",
       "      <td>403.003831</td>\n",
       "    </tr>\n",
       "    <tr>\n",
       "      <th>...</th>\n",
       "      <td>...</td>\n",
       "      <td>...</td>\n",
       "    </tr>\n",
       "    <tr>\n",
       "      <th>79</th>\n",
       "      <td>9.030439e+18</td>\n",
       "      <td>852.720453</td>\n",
       "    </tr>\n",
       "    <tr>\n",
       "      <th>80</th>\n",
       "      <td>9.032476e+18</td>\n",
       "      <td>1175.045174</td>\n",
       "    </tr>\n",
       "    <tr>\n",
       "      <th>81</th>\n",
       "      <td>9.159753e+18</td>\n",
       "      <td>1035.034399</td>\n",
       "    </tr>\n",
       "    <tr>\n",
       "      <th>82</th>\n",
       "      <td>9.173615e+18</td>\n",
       "      <td>401.866569</td>\n",
       "    </tr>\n",
       "    <tr>\n",
       "      <th>83</th>\n",
       "      <td>9.198009e+18</td>\n",
       "      <td>1259.584804</td>\n",
       "    </tr>\n",
       "  </tbody>\n",
       "</table>\n",
       "<p>84 rows × 2 columns</p>\n",
       "</div>"
      ],
      "text/plain": [
       "          region  revenue_amount\n",
       "0   6.847539e+16      983.721197\n",
       "1   1.813879e+17     1052.821789\n",
       "2   3.081947e+17      752.258936\n",
       "3   3.856675e+17      987.283828\n",
       "4   4.053648e+17      403.003831\n",
       "..           ...             ...\n",
       "79  9.030439e+18      852.720453\n",
       "80  9.032476e+18     1175.045174\n",
       "81  9.159753e+18     1035.034399\n",
       "82  9.173615e+18      401.866569\n",
       "83  9.198009e+18     1259.584804\n",
       "\n",
       "[84 rows x 2 columns]"
      ]
     },
     "execution_count": 16,
     "metadata": {},
     "output_type": "execute_result"
    }
   ],
   "source": [
    "arpu_region = df_revenue_by_user_region[['region', 'revenue_amount']].groupby(['region']).mean().reset_index()\n",
    "arpu_region"
   ]
  },
  {
   "cell_type": "code",
   "execution_count": 17,
   "metadata": {},
   "outputs": [
    {
     "data": {
      "text/plain": [
       "<Axes: >"
      ]
     },
     "execution_count": 17,
     "metadata": {},
     "output_type": "execute_result"
    },
    {
     "data": {
      "image/png": "[encoded data removed]",
      "text/plain": [
       "<Figure size 640x480 with 1 Axes>"
      ]
     },
     "metadata": {},
     "output_type": "display_data"
    }
   ],
   "source": [
    "arpu_region.revenue_amount.hist(bins=20)"
   ]
  },
  {
   "cell_type": "markdown",
   "metadata": {},
   "source": [
    "Сделаем то же самое для сегментов и категорий"
   ]
  },
  {
   "cell_type": "code",
   "execution_count": 18,
   "metadata": {},
   "outputs": [
    {
     "data": {
      "text/html": [
       "<div>\n",
       "<style scoped>\n",
       "    .dataframe tbody tr th:only-of-type {\n",
       "        vertical-align: middle;\n",
       "    }\n",
       "\n",
       "    .dataframe tbody tr th {\n",
       "        vertical-align: top;\n",
       "    }\n",
       "\n",
       "    .dataframe thead th {\n",
       "        text-align: right;\n",
       "    }\n",
       "</style>\n",
       "<table border=\"1\" class=\"dataframe\">\n",
       "  <thead>\n",
       "    <tr style=\"text-align: right;\">\n",
       "      <th></th>\n",
       "      <th>user_id</th>\n",
       "      <th>user_segment</th>\n",
       "      <th>revenue_amount</th>\n",
       "    </tr>\n",
       "  </thead>\n",
       "  <tbody>\n",
       "    <tr>\n",
       "      <th>0</th>\n",
       "      <td>702221222224</td>\n",
       "      <td>4.626945e+18</td>\n",
       "      <td>356.0</td>\n",
       "    </tr>\n",
       "    <tr>\n",
       "      <th>1</th>\n",
       "      <td>1336907904656</td>\n",
       "      <td>4.626945e+18</td>\n",
       "      <td>1321.0</td>\n",
       "    </tr>\n",
       "    <tr>\n",
       "      <th>2</th>\n",
       "      <td>1912219714366</td>\n",
       "      <td>4.626945e+18</td>\n",
       "      <td>210.0</td>\n",
       "    </tr>\n",
       "    <tr>\n",
       "      <th>3</th>\n",
       "      <td>7562887359106</td>\n",
       "      <td>4.626945e+18</td>\n",
       "      <td>105.0</td>\n",
       "    </tr>\n",
       "    <tr>\n",
       "      <th>4</th>\n",
       "      <td>23708868092799</td>\n",
       "      <td>2.376074e+18</td>\n",
       "      <td>295.0</td>\n",
       "    </tr>\n",
       "  </tbody>\n",
       "</table>\n",
       "</div>"
      ],
      "text/plain": [
       "          user_id  user_segment  revenue_amount\n",
       "0    702221222224  4.626945e+18           356.0\n",
       "1   1336907904656  4.626945e+18          1321.0\n",
       "2   1912219714366  4.626945e+18           210.0\n",
       "3   7562887359106  4.626945e+18           105.0\n",
       "4  23708868092799  2.376074e+18           295.0"
      ]
     },
     "execution_count": 18,
     "metadata": {},
     "output_type": "execute_result"
    }
   ],
   "source": [
    "df_revenue_by_user_usersegment = df.groupby(['user_id', 'user_segment'])[['revenue_amount']].sum().reset_index()\n",
    "df_revenue_by_user_usersegment.head()"
   ]
  },
  {
   "cell_type": "code",
   "execution_count": 19,
   "metadata": {},
   "outputs": [
    {
     "data": {
      "text/html": [
       "<div>\n",
       "<style scoped>\n",
       "    .dataframe tbody tr th:only-of-type {\n",
       "        vertical-align: middle;\n",
       "    }\n",
       "\n",
       "    .dataframe tbody tr th {\n",
       "        vertical-align: top;\n",
       "    }\n",
       "\n",
       "    .dataframe thead th {\n",
       "        text-align: right;\n",
       "    }\n",
       "</style>\n",
       "<table border=\"1\" class=\"dataframe\">\n",
       "  <thead>\n",
       "    <tr style=\"text-align: right;\">\n",
       "      <th></th>\n",
       "      <th>user_segment</th>\n",
       "      <th>revenue_amount</th>\n",
       "    </tr>\n",
       "  </thead>\n",
       "  <tbody>\n",
       "    <tr>\n",
       "      <th>0</th>\n",
       "      <td>8.534311e+17</td>\n",
       "      <td>27128.815722</td>\n",
       "    </tr>\n",
       "    <tr>\n",
       "      <th>1</th>\n",
       "      <td>2.376074e+18</td>\n",
       "      <td>1822.809261</td>\n",
       "    </tr>\n",
       "    <tr>\n",
       "      <th>2</th>\n",
       "      <td>4.626945e+18</td>\n",
       "      <td>441.983197</td>\n",
       "    </tr>\n",
       "  </tbody>\n",
       "</table>\n",
       "</div>"
      ],
      "text/plain": [
       "   user_segment  revenue_amount\n",
       "0  8.534311e+17    27128.815722\n",
       "1  2.376074e+18     1822.809261\n",
       "2  4.626945e+18      441.983197"
      ]
     },
     "execution_count": 19,
     "metadata": {},
     "output_type": "execute_result"
    }
   ],
   "source": [
    "arpu_usersegment = df_revenue_by_user_usersegment[['user_segment', 'revenue_amount']].groupby(['user_segment']).mean().reset_index()\n",
    "arpu_usersegment"
   ]
  },
  {
   "cell_type": "markdown",
   "metadata": {},
   "source": [
    "Пользователи тратят в опредленный тип продукта значительно больше.\n",
    "\n",
    "Посмотрим на разрез категорий"
   ]
  },
  {
   "cell_type": "code",
   "execution_count": 20,
   "metadata": {},
   "outputs": [
    {
     "data": {
      "text/html": [
       "<div>\n",
       "<style scoped>\n",
       "    .dataframe tbody tr th:only-of-type {\n",
       "        vertical-align: middle;\n",
       "    }\n",
       "\n",
       "    .dataframe tbody tr th {\n",
       "        vertical-align: top;\n",
       "    }\n",
       "\n",
       "    .dataframe thead th {\n",
       "        text-align: right;\n",
       "    }\n",
       "</style>\n",
       "<table border=\"1\" class=\"dataframe\">\n",
       "  <thead>\n",
       "    <tr style=\"text-align: right;\">\n",
       "      <th></th>\n",
       "      <th>user_id</th>\n",
       "      <th>category</th>\n",
       "      <th>revenue_amount</th>\n",
       "    </tr>\n",
       "  </thead>\n",
       "  <tbody>\n",
       "    <tr>\n",
       "      <th>0</th>\n",
       "      <td>702221222224</td>\n",
       "      <td>6.742558e+18</td>\n",
       "      <td>356.0</td>\n",
       "    </tr>\n",
       "    <tr>\n",
       "      <th>1</th>\n",
       "      <td>1336907904656</td>\n",
       "      <td>1.793067e+18</td>\n",
       "      <td>1321.0</td>\n",
       "    </tr>\n",
       "    <tr>\n",
       "      <th>2</th>\n",
       "      <td>1912219714366</td>\n",
       "      <td>3.429514e+18</td>\n",
       "      <td>210.0</td>\n",
       "    </tr>\n",
       "    <tr>\n",
       "      <th>3</th>\n",
       "      <td>7562887359106</td>\n",
       "      <td>7.247165e+18</td>\n",
       "      <td>105.0</td>\n",
       "    </tr>\n",
       "    <tr>\n",
       "      <th>4</th>\n",
       "      <td>23708868092799</td>\n",
       "      <td>1.744901e+17</td>\n",
       "      <td>34.0</td>\n",
       "    </tr>\n",
       "  </tbody>\n",
       "</table>\n",
       "</div>"
      ],
      "text/plain": [
       "          user_id      category  revenue_amount\n",
       "0    702221222224  6.742558e+18           356.0\n",
       "1   1336907904656  1.793067e+18          1321.0\n",
       "2   1912219714366  3.429514e+18           210.0\n",
       "3   7562887359106  7.247165e+18           105.0\n",
       "4  23708868092799  1.744901e+17            34.0"
      ]
     },
     "execution_count": 20,
     "metadata": {},
     "output_type": "execute_result"
    }
   ],
   "source": [
    "df_revenue_by_user_category = df.groupby(['user_id', 'category'])[['revenue_amount']].sum().reset_index()\n",
    "df_revenue_by_user_category.head()"
   ]
  },
  {
   "cell_type": "code",
   "execution_count": 21,
   "metadata": {},
   "outputs": [
    {
     "data": {
      "text/plain": [
       "<Axes: >"
      ]
     },
     "execution_count": 21,
     "metadata": {},
     "output_type": "execute_result"
    },
    {
     "data": {
      "image/png": "[encoded data removed]",
      "text/plain": [
       "<Figure size 640x480 with 1 Axes>"
      ]
     },
     "metadata": {},
     "output_type": "display_data"
    }
   ],
   "source": [
    "arpu_category = df_revenue_by_user_category[['category', 'revenue_amount']].groupby(['category']).mean().reset_index()\n",
    "arpu_category.revenue_amount.hist(bins=20)"
   ]
  },
  {
   "cell_type": "markdown",
   "metadata": {},
   "source": [
    "Видно, что в одной из категорий тратят намного больше"
   ]
  },
  {
   "cell_type": "markdown",
   "metadata": {},
   "source": [
    "### Предскажем минимально детектируемый эффект\n",
    "\n",
    "Посчитаем MDE, если мы считаем прибыль за день"
   ]
  },
  {
   "cell_type": "code",
   "execution_count": 22,
   "metadata": {},
   "outputs": [],
   "source": [
    "df_rev_pday = df.groupby(['event_date'])['revenue_amount'].sum().reset_index()"
   ]
  },
  {
   "cell_type": "code",
   "execution_count": 23,
   "metadata": {},
   "outputs": [
    {
     "data": {
      "text/plain": [
       "(16623638.653465347, 6966947.105464788)"
      ]
     },
     "execution_count": 23,
     "metadata": {},
     "output_type": "execute_result"
    }
   ],
   "source": [
    "df_rev_pday.revenue_amount.mean(), df_rev_pday.revenue_amount.std()"
   ]
  },
  {
   "cell_type": "code",
   "execution_count": 24,
   "metadata": {},
   "outputs": [],
   "source": [
    "days = [30, 60, 90]\n",
    "pp = [0.10, 0.25, 0.50]\n",
    "power = 0.8\n",
    "alpha = 0.01"
   ]
  },
  {
   "cell_type": "code",
   "execution_count": 25,
   "metadata": {},
   "outputs": [],
   "source": [
    "def choose_data(df, p=0.25):\n",
    "    df = df.iloc[np.random.randint(0, len(df), int(len(df)*p))]\n",
    "    x = df.groupby(['event_date'])['revenue_amount'].sum()\n",
    "    return x"
   ]
  },
  {
   "cell_type": "code",
   "execution_count": 26,
   "metadata": {},
   "outputs": [
    {
     "name": "stdout",
     "output_type": "stream",
     "text": [
      "******************** 30 дней ********************\n",
      "10.0% выборки: MDE = 0.3772274272120976\n",
      "25.0% выборки: MDE = 0.38098588552337054\n",
      "50.0% выборки: MDE = 0.3799165556022929\n",
      "******************** 60 дней ********************\n",
      "10.0% выборки: MDE = 0.26739262150764287\n",
      "25.0% выборки: MDE = 0.2656294369299111\n",
      "50.0% выборки: MDE = 0.2644882309182071\n",
      "******************** 90 дней ********************\n",
      "10.0% выборки: MDE = 0.21461139484344188\n",
      "25.0% выборки: MDE = 0.21667633350494914\n",
      "50.0% выборки: MDE = 0.21605808236039634\n"
     ]
    }
   ],
   "source": [
    "for d in days:\n",
    "    print('*'*20, f\"{d} дней\", '*'*20)\n",
    "    for p in pp: \n",
    "        df_rev_pday = choose_data(df, p)\n",
    "        mean_rev_pday = df_rev_pday.mean()\n",
    "        std_rev_pday = df_rev_pday.std()\n",
    "\n",
    "        effect_size = tt_ind_solve_power(effect_size=None, alpha=alpha, power=power, nobs1=d, ratio=1, alternative='two-sided')\n",
    "        print(f\"{p*100}% выборки: MDE = {effect_size * std_rev_pday / mean_rev_pday}\")"
   ]
  },
  {
   "cell_type": "markdown",
   "metadata": {},
   "source": [
    "Получили MDE для разных параметров"
   ]
  },
  {
   "cell_type": "markdown",
   "metadata": {},
   "source": [
    "#### CUPED 6 баллов\n",
    "Разработайте подход по снижению дисперсии на основе методики CUPED:\n",
    "\n",
    "- Рассчитайте CUPED метрику на основе данных за периода в 30 дней перед предполагаемым периодом сбора основной выборки и опишите как изменился MDE для выборок 50/50%, собранных за 30 дней (2 бала). \n",
    "- Проверьте насколько данный подход подвержен сезональности. Как меняется MDE, если применять данный подход в разные периоды (2 бала). \n",
    "- Оптимизируйте подход варьируя количество дней до теста, которые вы будете для расчёта CUPED метрики. Какое максимальное снижение MDE вы смогли достичь (2 бала)."
   ]
  },
  {
   "cell_type": "code",
   "execution_count": 29,
   "metadata": {},
   "outputs": [
    {
     "data": {
      "text/plain": [
       "(Timestamp('2019-06-18 00:00:00'), Timestamp('2019-09-26 00:00:00'))"
      ]
     },
     "execution_count": 29,
     "metadata": {},
     "output_type": "execute_result"
    }
   ],
   "source": [
    "df.event_date.min(), df.event_date.max()"
   ]
  },
  {
   "cell_type": "code",
   "execution_count": 72,
   "metadata": {},
   "outputs": [],
   "source": [
    "def get_cuped(df, start_date, delta=30, p=0.5):\n",
    "    \"\"\"\n",
    "        df: стартовый датасет из файлика\n",
    "        start_date: дата начала сбора основной выборки\n",
    "        delta_before: количество дней перед началом сбора основной выборки\n",
    "        delta_after: количество дней после начала сбора основной выборки\n",
    "    \"\"\"\n",
    "    df_before = df[(df.event_date >= start_date - datetime.timedelta(days=delta)) & (df.event_date < start_date)]\n",
    "    df_after = df[(df.event_date >= start_date) & (df.event_date < start_date + datetime.timedelta(days=delta))]\n",
    "    \n",
    "    df_before = df_before.iloc[np.random.randint(0, len(df_before), int(len(df_before)*p))]\n",
    "    df_after = df_after.iloc[np.random.randint(0, len(df_after), int(len(df_after)*p))]\n",
    "     \n",
    "    df_before_rev_pday = df_before.groupby(['event_date'])['revenue_amount'].sum()\n",
    "    df_after_rev_pday = df_after.groupby(['event_date'])['revenue_amount'].sum()\n",
    "    \n",
    "    teta = np.cov(df_before_rev_pday,df_after_rev_pday, ddof=1)[1,0]/np.var(df_before_rev_pday, ddof=1)\n",
    "    corr = np.corrcoef(df_before_rev_pday,df_after_rev_pday)[1,0] \n",
    "    \n",
    "    df_cuped_rev_pday = df_after_rev_pday.to_numpy() - teta * (df_before_rev_pday.to_numpy() - df_before_rev_pday.mean())\n",
    "    \n",
    "    return df_cuped_rev_pday\n",
    "\n",
    "\n",
    "def get_mde(df, alpha=0.01, power=0.8, days=30):\n",
    "    mean_rev_pday = df.mean()\n",
    "    std_rev_pday = df.std()\n",
    "\n",
    "    effect_size = tt_ind_solve_power(effect_size=None, alpha=alpha, power=power, nobs1=days, ratio=1, alternative='two-sided')\n",
    "    result_effect = effect_size * std_rev_pday / mean_rev_pday\n",
    "    return result_effect"
   ]
  },
  {
   "cell_type": "code",
   "execution_count": 73,
   "metadata": {},
   "outputs": [
    {
     "data": {
      "text/plain": [
       "0.2132695695974729"
      ]
     },
     "execution_count": 73,
     "metadata": {},
     "output_type": "execute_result"
    }
   ],
   "source": [
    "cuped = get_cuped(df, start_date=datetime.datetime(2019,8,1))\n",
    "get_mde(cuped)"
   ]
  },
  {
   "cell_type": "markdown",
   "metadata": {},
   "source": [
    "А было на 30 дней порядка 0.38 для 50% выборки, заметно улучшилось\n",
    "\n",
    "Проверим насколько подвержено сезональности, поварьируем начало сбора основной выборки"
   ]
  },
  {
   "cell_type": "code",
   "execution_count": 81,
   "metadata": {},
   "outputs": [],
   "source": [
    "def get_compare_mde(df, delta=30, p=0.5):\n",
    "    dates = []\n",
    "    for date in df['event_date'].unique():\n",
    "        if date - df['event_date'].min() > datetime.timedelta(days=delta) and df['event_date'].max() - date > datetime.timedelta(days=delta):\n",
    "                dates.append(date)\n",
    "    min_mde = 50\n",
    "    params = {}\n",
    "    \n",
    "    for start_date in dates:\n",
    "        effect = get_mde(get_cuped(df, start_date, delta, p))\n",
    "        print(f\"Дата начала: {start_date}, Дней до: {delta}\")\n",
    "        print(f\"\\t MDE = {effect}\")\n",
    "        \n",
    "        if effect < min_mde:\n",
    "            min_mde = effect\n",
    "            params['start_date'] = start_date\n",
    "            params['delta'] = delta\n",
    "    print('-'*70)\n",
    "    print(f\"МИнимальный MDE: {min_mde}, при параметрах: {params}\")\n",
    "    print('-'*70)\n"
   ]
  },
  {
   "cell_type": "code",
   "execution_count": 82,
   "metadata": {},
   "outputs": [
    {
     "name": "stdout",
     "output_type": "stream",
     "text": [
      "Дата начала: 2019-07-19 00:00:00, Дней до: 30\n",
      "\t MDE = 0.23369097899562985\n",
      "Дата начала: 2019-07-20 00:00:00, Дней до: 30\n",
      "\t MDE = 0.23975962041819351\n",
      "Дата начала: 2019-07-21 00:00:00, Дней до: 30\n",
      "\t MDE = 0.2325922651653956\n",
      "Дата начала: 2019-07-22 00:00:00, Дней до: 30\n",
      "\t MDE = 0.2195375788331644\n",
      "Дата начала: 2019-07-23 00:00:00, Дней до: 30\n",
      "\t MDE = 0.21782555506219653\n",
      "Дата начала: 2019-07-24 00:00:00, Дней до: 30\n",
      "\t MDE = 0.21879277121660695\n",
      "Дата начала: 2019-07-25 00:00:00, Дней до: 30\n",
      "\t MDE = 0.21474360987150073\n",
      "Дата начала: 2019-07-26 00:00:00, Дней до: 30\n",
      "\t MDE = 0.2192097151980096\n",
      "Дата начала: 2019-07-27 00:00:00, Дней до: 30\n",
      "\t MDE = 0.22765918507605765\n",
      "Дата начала: 2019-07-28 00:00:00, Дней до: 30\n",
      "\t MDE = 0.22629737840405212\n",
      "Дата начала: 2019-07-29 00:00:00, Дней до: 30\n",
      "\t MDE = 0.21065824685256915\n",
      "Дата начала: 2019-07-30 00:00:00, Дней до: 30\n",
      "\t MDE = 0.21570263040240842\n",
      "Дата начала: 2019-07-31 00:00:00, Дней до: 30\n",
      "\t MDE = 0.2135403530244689\n",
      "Дата начала: 2019-08-01 00:00:00, Дней до: 30\n",
      "\t MDE = 0.20668711324049374\n",
      "Дата начала: 2019-08-02 00:00:00, Дней до: 30\n",
      "\t MDE = 0.2172007692367813\n",
      "Дата начала: 2019-08-03 00:00:00, Дней до: 30\n",
      "\t MDE = 0.2288927127036564\n",
      "Дата начала: 2019-08-04 00:00:00, Дней до: 30\n",
      "\t MDE = 0.2210713132931913\n",
      "Дата начала: 2019-08-05 00:00:00, Дней до: 30\n",
      "\t MDE = 0.2046006039526193\n",
      "Дата начала: 2019-08-06 00:00:00, Дней до: 30\n",
      "\t MDE = 0.20675980754212175\n",
      "Дата начала: 2019-08-07 00:00:00, Дней до: 30\n",
      "\t MDE = 0.2102293631730807\n",
      "Дата начала: 2019-08-08 00:00:00, Дней до: 30\n",
      "\t MDE = 0.20964594900948216\n",
      "Дата начала: 2019-08-09 00:00:00, Дней до: 30\n",
      "\t MDE = 0.22568935236791052\n",
      "Дата начала: 2019-08-10 00:00:00, Дней до: 30\n",
      "\t MDE = 0.24383536768462705\n",
      "Дата начала: 2019-08-11 00:00:00, Дней до: 30\n",
      "\t MDE = 0.23789642041397363\n",
      "Дата начала: 2019-08-12 00:00:00, Дней до: 30\n",
      "\t MDE = 0.22666297830790116\n",
      "Дата начала: 2019-08-13 00:00:00, Дней до: 30\n",
      "\t MDE = 0.23461755562046394\n",
      "Дата начала: 2019-08-14 00:00:00, Дней до: 30\n",
      "\t MDE = 0.24256493040499644\n",
      "Дата начала: 2019-08-15 00:00:00, Дней до: 30\n",
      "\t MDE = 0.24305629993567981\n",
      "Дата начала: 2019-08-16 00:00:00, Дней до: 30\n",
      "\t MDE = 0.2587583649485998\n",
      "Дата начала: 2019-08-17 00:00:00, Дней до: 30\n",
      "\t MDE = 0.2825046189400724\n",
      "Дата начала: 2019-08-18 00:00:00, Дней до: 30\n",
      "\t MDE = 0.27902110340577135\n",
      "Дата начала: 2019-08-19 00:00:00, Дней до: 30\n",
      "\t MDE = 0.30572185478740005\n",
      "Дата начала: 2019-08-20 00:00:00, Дней до: 30\n",
      "\t MDE = 0.3363751602069944\n",
      "Дата начала: 2019-08-21 00:00:00, Дней до: 30\n",
      "\t MDE = 0.36396696879427165\n",
      "Дата начала: 2019-08-22 00:00:00, Дней до: 30\n",
      "\t MDE = 0.39520344210280245\n",
      "Дата начала: 2019-08-23 00:00:00, Дней до: 30\n",
      "\t MDE = 0.4334291914677251\n",
      "Дата начала: 2019-08-24 00:00:00, Дней до: 30\n",
      "\t MDE = 0.4686431016995669\n",
      "Дата начала: 2019-08-25 00:00:00, Дней до: 30\n",
      "\t MDE = 0.5140068032686027\n",
      "Дата начала: 2019-08-26 00:00:00, Дней до: 30\n",
      "\t MDE = 0.5527089108573516\n",
      "----------------------------------------------------------------------\n",
      "МИнимальный MDE: 0.2046006039526193, при параметрах: {'start_date': Timestamp('2019-08-05 00:00:00'), 'delta': 30}\n",
      "----------------------------------------------------------------------\n"
     ]
    }
   ],
   "source": [
    "get_compare_mde(df)"
   ]
  },
  {
   "cell_type": "markdown",
   "metadata": {},
   "source": [
    "Поварьируем теперь еще количество дней до теста "
   ]
  },
  {
   "cell_type": "code",
   "execution_count": 83,
   "metadata": {},
   "outputs": [
    {
     "name": "stdout",
     "output_type": "stream",
     "text": [
      "Дата начала: 2019-06-29 00:00:00, Дней до: 10\n",
      "\t MDE = 0.23721851688658258\n",
      "Дата начала: 2019-06-30 00:00:00, Дней до: 10\n",
      "\t MDE = 0.21662521133996027\n",
      "Дата начала: 2019-07-01 00:00:00, Дней до: 10\n",
      "\t MDE = 0.17500819506606996\n",
      "Дата начала: 2019-07-02 00:00:00, Дней до: 10\n",
      "\t MDE = 0.16820893872473164\n",
      "Дата начала: 2019-07-03 00:00:00, Дней до: 10\n",
      "\t MDE = 0.18001688321443599\n",
      "Дата начала: 2019-07-04 00:00:00, Дней до: 10\n",
      "\t MDE = 0.20453761563169562\n",
      "Дата начала: 2019-07-05 00:00:00, Дней до: 10\n",
      "\t MDE = 0.23298921730075212\n",
      "Дата начала: 2019-07-06 00:00:00, Дней до: 10\n",
      "\t MDE = 0.24570215150193875\n",
      "Дата начала: 2019-07-07 00:00:00, Дней до: 10\n",
      "\t MDE = 0.228852617672316\n",
      "Дата начала: 2019-07-08 00:00:00, Дней до: 10\n",
      "\t MDE = 0.19140515666531321\n",
      "Дата начала: 2019-07-09 00:00:00, Дней до: 10\n",
      "\t MDE = 0.18250567030427475\n",
      "Дата начала: 2019-07-10 00:00:00, Дней до: 10\n",
      "\t MDE = 0.17704810915036087\n",
      "Дата начала: 2019-07-11 00:00:00, Дней до: 10\n",
      "\t MDE = 0.21840629486910595\n",
      "Дата начала: 2019-07-12 00:00:00, Дней до: 10\n",
      "\t MDE = 0.2313044501370903\n",
      "Дата начала: 2019-07-13 00:00:00, Дней до: 10\n",
      "\t MDE = 0.2596728546412101\n",
      "Дата начала: 2019-07-14 00:00:00, Дней до: 10\n",
      "\t MDE = 0.22946575030721447\n",
      "Дата начала: 2019-07-15 00:00:00, Дней до: 10\n",
      "\t MDE = 0.19298704622621007\n",
      "Дата начала: 2019-07-16 00:00:00, Дней до: 10\n",
      "\t MDE = 0.18974622229240712\n",
      "Дата начала: 2019-07-17 00:00:00, Дней до: 10\n",
      "\t MDE = 0.18223371553951834\n",
      "Дата начала: 2019-07-18 00:00:00, Дней до: 10\n",
      "\t MDE = 0.22428235473046243\n",
      "Дата начала: 2019-07-19 00:00:00, Дней до: 10\n",
      "\t MDE = 0.2499079025314738\n",
      "Дата начала: 2019-07-20 00:00:00, Дней до: 10\n",
      "\t MDE = 0.27180974027257915\n",
      "Дата начала: 2019-07-21 00:00:00, Дней до: 10\n",
      "\t MDE = 0.2397661868958776\n",
      "Дата начала: 2019-07-22 00:00:00, Дней до: 10\n",
      "\t MDE = 0.20471793107430744\n",
      "Дата начала: 2019-07-23 00:00:00, Дней до: 10\n",
      "\t MDE = 0.18545171537259825\n",
      "Дата начала: 2019-07-24 00:00:00, Дней до: 10\n",
      "\t MDE = 0.19728281760048688\n",
      "Дата начала: 2019-07-25 00:00:00, Дней до: 10\n",
      "\t MDE = 0.22412751331137232\n",
      "Дата начала: 2019-07-26 00:00:00, Дней до: 10\n",
      "\t MDE = 0.24902343714405398\n",
      "Дата начала: 2019-07-27 00:00:00, Дней до: 10\n",
      "\t MDE = 0.26200874835921384\n",
      "Дата начала: 2019-07-28 00:00:00, Дней до: 10\n",
      "\t MDE = 0.23857302420262033\n",
      "Дата начала: 2019-07-29 00:00:00, Дней до: 10\n",
      "\t MDE = 0.20918889416044686\n",
      "Дата начала: 2019-07-30 00:00:00, Дней до: 10\n",
      "\t MDE = 0.18048196806015757\n",
      "Дата начала: 2019-07-31 00:00:00, Дней до: 10\n",
      "\t MDE = 0.18869469259951413\n",
      "Дата начала: 2019-08-01 00:00:00, Дней до: 10\n",
      "\t MDE = 0.21758748404248057\n",
      "Дата начала: 2019-08-02 00:00:00, Дней до: 10\n",
      "\t MDE = 0.24496084147634797\n",
      "Дата начала: 2019-08-03 00:00:00, Дней до: 10\n",
      "\t MDE = 0.2603287484495713\n",
      "Дата начала: 2019-08-04 00:00:00, Дней до: 10\n",
      "\t MDE = 0.23592622789612033\n",
      "Дата начала: 2019-08-05 00:00:00, Дней до: 10\n",
      "\t MDE = 0.2035454375456233\n",
      "Дата начала: 2019-08-06 00:00:00, Дней до: 10\n",
      "\t MDE = 0.18115368239684523\n",
      "Дата начала: 2019-08-07 00:00:00, Дней до: 10\n",
      "\t MDE = 0.1774009153301562\n",
      "Дата начала: 2019-08-08 00:00:00, Дней до: 10\n",
      "\t MDE = 0.21233468068785885\n",
      "Дата начала: 2019-08-09 00:00:00, Дней до: 10\n",
      "\t MDE = 0.250239044779744\n",
      "Дата начала: 2019-08-10 00:00:00, Дней до: 10\n",
      "\t MDE = 0.2508683181053126\n",
      "Дата начала: 2019-08-11 00:00:00, Дней до: 10\n",
      "\t MDE = 0.22551178389082255\n",
      "Дата начала: 2019-08-12 00:00:00, Дней до: 10\n",
      "\t MDE = 0.18735760574750546\n",
      "Дата начала: 2019-08-13 00:00:00, Дней до: 10\n",
      "\t MDE = 0.1791612969756955\n",
      "Дата начала: 2019-08-14 00:00:00, Дней до: 10\n",
      "\t MDE = 0.18202343982303518\n",
      "Дата начала: 2019-08-15 00:00:00, Дней до: 10\n",
      "\t MDE = 0.20773362725392738\n",
      "Дата начала: 2019-08-16 00:00:00, Дней до: 10\n",
      "\t MDE = 0.23977851675898063\n",
      "Дата начала: 2019-08-17 00:00:00, Дней до: 10\n",
      "\t MDE = 0.24921394221785614\n",
      "Дата начала: 2019-08-18 00:00:00, Дней до: 10\n",
      "\t MDE = 0.22196004834605249\n",
      "Дата начала: 2019-08-19 00:00:00, Дней до: 10\n",
      "\t MDE = 0.18780028431768714\n",
      "Дата начала: 2019-08-20 00:00:00, Дней до: 10\n",
      "\t MDE = 0.1803396921077657\n",
      "Дата начала: 2019-08-21 00:00:00, Дней до: 10\n",
      "\t MDE = 0.18351623771817732\n",
      "Дата начала: 2019-08-22 00:00:00, Дней до: 10\n",
      "\t MDE = 0.22059856478397946\n",
      "Дата начала: 2019-08-23 00:00:00, Дней до: 10\n",
      "\t MDE = 0.23930744252906413\n",
      "Дата начала: 2019-08-24 00:00:00, Дней до: 10\n",
      "\t MDE = 0.23959744047799034\n",
      "Дата начала: 2019-08-25 00:00:00, Дней до: 10\n",
      "\t MDE = 0.2189791119057405\n",
      "Дата начала: 2019-08-26 00:00:00, Дней до: 10\n",
      "\t MDE = 0.19078376669013142\n",
      "Дата начала: 2019-08-27 00:00:00, Дней до: 10\n",
      "\t MDE = 0.17681215129678335\n",
      "Дата начала: 2019-08-28 00:00:00, Дней до: 10\n",
      "\t MDE = 0.16998176824071257\n",
      "Дата начала: 2019-08-29 00:00:00, Дней до: 10\n",
      "\t MDE = 0.21351198453202921\n",
      "Дата начала: 2019-08-30 00:00:00, Дней до: 10\n",
      "\t MDE = 0.25138116962816764\n",
      "Дата начала: 2019-08-31 00:00:00, Дней до: 10\n",
      "\t MDE = 0.23658964664068033\n",
      "Дата начала: 2019-09-01 00:00:00, Дней до: 10\n",
      "\t MDE = 0.2393302381343345\n",
      "Дата начала: 2019-09-02 00:00:00, Дней до: 10\n",
      "\t MDE = 0.24906258152631727\n",
      "Дата начала: 2019-09-03 00:00:00, Дней до: 10\n",
      "\t MDE = 0.23383757859592394\n",
      "Дата начала: 2019-09-04 00:00:00, Дней до: 10\n",
      "\t MDE = 0.23401233694726245\n",
      "Дата начала: 2019-09-05 00:00:00, Дней до: 10\n",
      "\t MDE = 0.24492242263633018\n",
      "Дата начала: 2019-09-06 00:00:00, Дней до: 10\n",
      "\t MDE = 0.2633033967785804\n",
      "Дата начала: 2019-09-07 00:00:00, Дней до: 10\n",
      "\t MDE = 0.243703195255452\n",
      "Дата начала: 2019-09-08 00:00:00, Дней до: 10\n",
      "\t MDE = 0.3063541552143617\n",
      "Дата начала: 2019-09-09 00:00:00, Дней до: 10\n",
      "\t MDE = 0.35371461888993266\n",
      "Дата начала: 2019-09-10 00:00:00, Дней до: 10\n",
      "\t MDE = 0.43707868290329893\n",
      "Дата начала: 2019-09-11 00:00:00, Дней до: 10\n",
      "\t MDE = 0.4588356639779065\n",
      "Дата начала: 2019-09-12 00:00:00, Дней до: 10\n",
      "\t MDE = 0.4699923497598511\n",
      "Дата начала: 2019-09-13 00:00:00, Дней до: 10\n",
      "\t MDE = 0.5838693453484435\n",
      "Дата начала: 2019-09-14 00:00:00, Дней до: 10\n",
      "\t MDE = 0.7135772727456344\n",
      "Дата начала: 2019-09-15 00:00:00, Дней до: 10\n",
      "\t MDE = 0.8539721815594483\n",
      "----------------------------------------------------------------------\n",
      "МИнимальный MDE: 0.16820893872473164, при параметрах: {'start_date': Timestamp('2019-07-02 00:00:00'), 'delta': 10}\n",
      "----------------------------------------------------------------------\n",
      "Дата начала: 2019-07-09 00:00:00, Дней до: 20\n",
      "\t MDE = 0.23646282573795563\n",
      "Дата начала: 2019-07-10 00:00:00, Дней до: 20\n",
      "\t MDE = 0.23865123629893678\n",
      "Дата начала: 2019-07-11 00:00:00, Дней до: 20\n",
      "\t MDE = 0.2402436761899285\n",
      "Дата начала: 2019-07-12 00:00:00, Дней до: 20\n",
      "\t MDE = 0.23760831470080906\n",
      "Дата начала: 2019-07-13 00:00:00, Дней до: 20\n",
      "\t MDE = 0.23292497740220777\n",
      "Дата начала: 2019-07-14 00:00:00, Дней до: 20\n",
      "\t MDE = 0.2265462322746802\n",
      "Дата начала: 2019-07-15 00:00:00, Дней до: 20\n",
      "\t MDE = 0.21039827163819277\n",
      "Дата начала: 2019-07-16 00:00:00, Дней до: 20\n",
      "\t MDE = 0.2405178412865622\n",
      "Дата начала: 2019-07-17 00:00:00, Дней до: 20\n",
      "\t MDE = 0.23535424915754993\n",
      "Дата начала: 2019-07-18 00:00:00, Дней до: 20\n",
      "\t MDE = 0.24020451483683708\n",
      "Дата начала: 2019-07-19 00:00:00, Дней до: 20\n",
      "\t MDE = 0.23991467342620712\n",
      "Дата начала: 2019-07-20 00:00:00, Дней до: 20\n",
      "\t MDE = 0.23501780527628713\n",
      "Дата начала: 2019-07-21 00:00:00, Дней до: 20\n",
      "\t MDE = 0.23454626770426829\n",
      "Дата начала: 2019-07-22 00:00:00, Дней до: 20\n",
      "\t MDE = 0.21749503179342902\n",
      "Дата начала: 2019-07-23 00:00:00, Дней до: 20\n",
      "\t MDE = 0.24121724197239855\n",
      "Дата начала: 2019-07-24 00:00:00, Дней до: 20\n",
      "\t MDE = 0.2445064411262778\n",
      "Дата начала: 2019-07-25 00:00:00, Дней до: 20\n",
      "\t MDE = 0.2437821958883007\n",
      "Дата начала: 2019-07-26 00:00:00, Дней до: 20\n",
      "\t MDE = 0.23698737330682856\n",
      "Дата начала: 2019-07-27 00:00:00, Дней до: 20\n",
      "\t MDE = 0.23999175131497288\n",
      "Дата начала: 2019-07-28 00:00:00, Дней до: 20\n",
      "\t MDE = 0.22808170800711924\n",
      "Дата начала: 2019-07-29 00:00:00, Дней до: 20\n",
      "\t MDE = 0.21496920584426138\n",
      "Дата начала: 2019-07-30 00:00:00, Дней до: 20\n",
      "\t MDE = 0.2278337638356547\n",
      "Дата начала: 2019-07-31 00:00:00, Дней до: 20\n",
      "\t MDE = 0.23106638719220088\n",
      "Дата начала: 2019-08-01 00:00:00, Дней до: 20\n",
      "\t MDE = 0.22777635069519864\n",
      "Дата начала: 2019-08-02 00:00:00, Дней до: 20\n",
      "\t MDE = 0.23102345639347982\n",
      "Дата начала: 2019-08-03 00:00:00, Дней до: 20\n",
      "\t MDE = 0.23114477410530507\n",
      "Дата начала: 2019-08-04 00:00:00, Дней до: 20\n",
      "\t MDE = 0.21906426447779337\n",
      "Дата начала: 2019-08-05 00:00:00, Дней до: 20\n",
      "\t MDE = 0.20985611105853336\n",
      "Дата начала: 2019-08-06 00:00:00, Дней до: 20\n",
      "\t MDE = 0.22070307095109376\n",
      "Дата начала: 2019-08-07 00:00:00, Дней до: 20\n",
      "\t MDE = 0.22927840110223108\n"
     ]
    },
    {
     "name": "stdout",
     "output_type": "stream",
     "text": [
      "Дата начала: 2019-08-08 00:00:00, Дней до: 20\n",
      "\t MDE = 0.22691207607575772\n",
      "Дата начала: 2019-08-09 00:00:00, Дней до: 20\n",
      "\t MDE = 0.2353004429685049\n",
      "Дата начала: 2019-08-10 00:00:00, Дней до: 20\n",
      "\t MDE = 0.23216702391608698\n",
      "Дата начала: 2019-08-11 00:00:00, Дней до: 20\n",
      "\t MDE = 0.22033890605591033\n",
      "Дата начала: 2019-08-12 00:00:00, Дней до: 20\n",
      "\t MDE = 0.20091974536961807\n",
      "Дата начала: 2019-08-13 00:00:00, Дней до: 20\n",
      "\t MDE = 0.22378006261698194\n",
      "Дата начала: 2019-08-14 00:00:00, Дней до: 20\n",
      "\t MDE = 0.23293259718398152\n",
      "Дата начала: 2019-08-15 00:00:00, Дней до: 20\n",
      "\t MDE = 0.22786071811499012\n",
      "Дата начала: 2019-08-16 00:00:00, Дней до: 20\n",
      "\t MDE = 0.22955231664927606\n",
      "Дата начала: 2019-08-17 00:00:00, Дней до: 20\n",
      "\t MDE = 0.22479553582782277\n",
      "Дата начала: 2019-08-18 00:00:00, Дней до: 20\n",
      "\t MDE = 0.2182324723702528\n",
      "Дата начала: 2019-08-19 00:00:00, Дней до: 20\n",
      "\t MDE = 0.21340415994632825\n",
      "Дата начала: 2019-08-20 00:00:00, Дней до: 20\n",
      "\t MDE = 0.24366399424621407\n",
      "Дата начала: 2019-08-21 00:00:00, Дней до: 20\n",
      "\t MDE = 0.2420129412827644\n",
      "Дата начала: 2019-08-22 00:00:00, Дней до: 20\n",
      "\t MDE = 0.24663628511423627\n",
      "Дата начала: 2019-08-23 00:00:00, Дней до: 20\n",
      "\t MDE = 0.25362875667355406\n",
      "Дата начала: 2019-08-24 00:00:00, Дней до: 20\n",
      "\t MDE = 0.2592363589819218\n",
      "Дата начала: 2019-08-25 00:00:00, Дней до: 20\n",
      "\t MDE = 0.2612460315564795\n",
      "Дата начала: 2019-08-26 00:00:00, Дней до: 20\n",
      "\t MDE = 0.26934729470060964\n",
      "Дата начала: 2019-08-27 00:00:00, Дней до: 20\n",
      "\t MDE = 0.29574775353766286\n",
      "Дата начала: 2019-08-28 00:00:00, Дней до: 20\n",
      "\t MDE = 0.28710038055801\n",
      "Дата начала: 2019-08-29 00:00:00, Дней до: 20\n",
      "\t MDE = 0.32036782307067807\n",
      "Дата начала: 2019-08-30 00:00:00, Дней до: 20\n",
      "\t MDE = 0.35691385305057094\n",
      "Дата начала: 2019-08-31 00:00:00, Дней до: 20\n",
      "\t MDE = 0.40947564286840105\n",
      "Дата начала: 2019-09-01 00:00:00, Дней до: 20\n",
      "\t MDE = 0.44848834971736967\n",
      "Дата начала: 2019-09-02 00:00:00, Дней до: 20\n",
      "\t MDE = 0.48396978171669797\n",
      "Дата начала: 2019-09-03 00:00:00, Дней до: 20\n",
      "\t MDE = 0.5417676390476704\n",
      "Дата начала: 2019-09-04 00:00:00, Дней до: 20\n",
      "\t MDE = 0.5966346967651497\n",
      "Дата начала: 2019-09-05 00:00:00, Дней до: 20\n",
      "\t MDE = 0.6394866347574771\n",
      "----------------------------------------------------------------------\n",
      "МИнимальный MDE: 0.20091974536961807, при параметрах: {'start_date': Timestamp('2019-08-12 00:00:00'), 'delta': 20}\n",
      "----------------------------------------------------------------------\n",
      "Дата начала: 2019-07-19 00:00:00, Дней до: 30\n",
      "\t MDE = 0.22837406313545325\n",
      "Дата начала: 2019-07-20 00:00:00, Дней до: 30\n",
      "\t MDE = 0.24254112122805876\n",
      "Дата начала: 2019-07-21 00:00:00, Дней до: 30\n",
      "\t MDE = 0.23161822972505722\n",
      "Дата начала: 2019-07-22 00:00:00, Дней до: 30\n",
      "\t MDE = 0.22085134476482476\n",
      "Дата начала: 2019-07-23 00:00:00, Дней до: 30\n",
      "\t MDE = 0.21607296670877404\n",
      "Дата начала: 2019-07-24 00:00:00, Дней до: 30\n",
      "\t MDE = 0.22294746671995827\n",
      "Дата начала: 2019-07-25 00:00:00, Дней до: 30\n",
      "\t MDE = 0.21418359368741044\n",
      "Дата начала: 2019-07-26 00:00:00, Дней до: 30\n",
      "\t MDE = 0.21547200010875206\n",
      "Дата начала: 2019-07-27 00:00:00, Дней до: 30\n",
      "\t MDE = 0.2256782422063705\n",
      "Дата начала: 2019-07-28 00:00:00, Дней до: 30\n",
      "\t MDE = 0.22107386588125116\n",
      "Дата начала: 2019-07-29 00:00:00, Дней до: 30\n",
      "\t MDE = 0.20913682897573646\n",
      "Дата начала: 2019-07-30 00:00:00, Дней до: 30\n",
      "\t MDE = 0.21236877829836615\n",
      "Дата начала: 2019-07-31 00:00:00, Дней до: 30\n",
      "\t MDE = 0.2149009878236691\n",
      "Дата начала: 2019-08-01 00:00:00, Дней до: 30\n",
      "\t MDE = 0.2106455148796812\n",
      "Дата начала: 2019-08-02 00:00:00, Дней до: 30\n",
      "\t MDE = 0.21207625857520007\n",
      "Дата начала: 2019-08-03 00:00:00, Дней до: 30\n",
      "\t MDE = 0.23119549765943978\n",
      "Дата начала: 2019-08-04 00:00:00, Дней до: 30\n",
      "\t MDE = 0.22412549827221528\n",
      "Дата начала: 2019-08-05 00:00:00, Дней до: 30\n",
      "\t MDE = 0.2122380355955086\n",
      "Дата начала: 2019-08-06 00:00:00, Дней до: 30\n",
      "\t MDE = 0.20628894385321145\n",
      "Дата начала: 2019-08-07 00:00:00, Дней до: 30\n",
      "\t MDE = 0.20750572471752157\n",
      "Дата начала: 2019-08-08 00:00:00, Дней до: 30\n",
      "\t MDE = 0.2084596844144017\n",
      "Дата начала: 2019-08-09 00:00:00, Дней до: 30\n",
      "\t MDE = 0.2225886489135026\n",
      "Дата начала: 2019-08-10 00:00:00, Дней до: 30\n",
      "\t MDE = 0.2455780997967006\n",
      "Дата начала: 2019-08-11 00:00:00, Дней до: 30\n",
      "\t MDE = 0.239254416236506\n",
      "Дата начала: 2019-08-12 00:00:00, Дней до: 30\n",
      "\t MDE = 0.2310891395078198\n",
      "Дата начала: 2019-08-13 00:00:00, Дней до: 30\n",
      "\t MDE = 0.23412971573478622\n",
      "Дата начала: 2019-08-14 00:00:00, Дней до: 30\n",
      "\t MDE = 0.24263226154018214\n",
      "Дата начала: 2019-08-15 00:00:00, Дней до: 30\n",
      "\t MDE = 0.24425246612894147\n",
      "Дата начала: 2019-08-16 00:00:00, Дней до: 30\n",
      "\t MDE = 0.2619482974508114\n",
      "Дата начала: 2019-08-17 00:00:00, Дней до: 30\n",
      "\t MDE = 0.28196980600902405\n",
      "Дата начала: 2019-08-18 00:00:00, Дней до: 30\n",
      "\t MDE = 0.2816753247008374\n",
      "Дата начала: 2019-08-19 00:00:00, Дней до: 30\n",
      "\t MDE = 0.3095361493570641\n",
      "Дата начала: 2019-08-20 00:00:00, Дней до: 30\n",
      "\t MDE = 0.3362642574871832\n",
      "Дата начала: 2019-08-21 00:00:00, Дней до: 30\n",
      "\t MDE = 0.3673084778909459\n",
      "Дата начала: 2019-08-22 00:00:00, Дней до: 30\n",
      "\t MDE = 0.4006385424693474\n",
      "Дата начала: 2019-08-23 00:00:00, Дней до: 30\n",
      "\t MDE = 0.4296175413987823\n",
      "Дата начала: 2019-08-24 00:00:00, Дней до: 30\n",
      "\t MDE = 0.4659318642668062\n",
      "Дата начала: 2019-08-25 00:00:00, Дней до: 30\n",
      "\t MDE = 0.5179368420557704\n",
      "Дата начала: 2019-08-26 00:00:00, Дней до: 30\n",
      "\t MDE = 0.5574451144045799\n",
      "----------------------------------------------------------------------\n",
      "МИнимальный MDE: 0.20628894385321145, при параметрах: {'start_date': Timestamp('2019-08-06 00:00:00'), 'delta': 30}\n",
      "----------------------------------------------------------------------\n",
      "Дата начала: 2019-07-24 00:00:00, Дней до: 35\n",
      "\t MDE = 0.05355591693135037\n",
      "Дата начала: 2019-07-25 00:00:00, Дней до: 35\n",
      "\t MDE = 0.052895474370548395\n",
      "Дата начала: 2019-07-26 00:00:00, Дней до: 35\n",
      "\t MDE = 0.04364019471703125\n",
      "Дата начала: 2019-07-27 00:00:00, Дней до: 35\n",
      "\t MDE = 0.03945177375952067\n",
      "Дата начала: 2019-07-28 00:00:00, Дней до: 35\n",
      "\t MDE = 0.03599804711451658\n",
      "Дата начала: 2019-07-29 00:00:00, Дней до: 35\n",
      "\t MDE = 0.04692416027507047\n",
      "Дата начала: 2019-07-30 00:00:00, Дней до: 35\n",
      "\t MDE = 0.037304373024956324\n",
      "Дата начала: 2019-07-31 00:00:00, Дней до: 35\n",
      "\t MDE = 0.040679533845313226\n",
      "Дата начала: 2019-08-01 00:00:00, Дней до: 35\n",
      "\t MDE = 0.037395510851042084\n",
      "Дата начала: 2019-08-02 00:00:00, Дней до: 35\n",
      "\t MDE = 0.03460307462716665\n",
      "Дата начала: 2019-08-03 00:00:00, Дней до: 35\n",
      "\t MDE = 0.04283633203262918\n",
      "Дата начала: 2019-08-04 00:00:00, Дней до: 35\n",
      "\t MDE = 0.04282420202175677\n",
      "Дата начала: 2019-08-05 00:00:00, Дней до: 35\n",
      "\t MDE = 0.03659049220132625\n",
      "Дата начала: 2019-08-06 00:00:00, Дней до: 35\n",
      "\t MDE = 0.050650137131631856\n",
      "Дата начала: 2019-08-07 00:00:00, Дней до: 35\n",
      "\t MDE = 0.05627739521496169\n",
      "Дата начала: 2019-08-08 00:00:00, Дней до: 35\n",
      "\t MDE = 0.08121954049517138\n",
      "Дата начала: 2019-08-09 00:00:00, Дней до: 35\n",
      "\t MDE = 0.08780770904814285\n",
      "Дата начала: 2019-08-10 00:00:00, Дней до: 35\n",
      "\t MDE = 0.0933682648684715\n",
      "Дата начала: 2019-08-11 00:00:00, Дней до: 35\n",
      "\t MDE = 0.0976244874370544\n",
      "Дата начала: 2019-08-12 00:00:00, Дней до: 35\n",
      "\t MDE = 0.10074103024780792\n",
      "Дата начала: 2019-08-13 00:00:00, Дней до: 35\n",
      "\t MDE = 0.11671979332802013\n",
      "Дата начала: 2019-08-14 00:00:00, Дней до: 35\n",
      "\t MDE = 0.1662841062483603\n",
      "Дата начала: 2019-08-15 00:00:00, Дней до: 35\n",
      "\t MDE = 0.22246944387840129\n",
      "Дата начала: 2019-08-16 00:00:00, Дней до: 35\n",
      "\t MDE = 0.26327778181471884\n",
      "Дата начала: 2019-08-17 00:00:00, Дней до: 35\n",
      "\t MDE = 0.29413950078981266\n",
      "Дата начала: 2019-08-18 00:00:00, Дней до: 35\n",
      "\t MDE = 0.3114446577850522\n",
      "Дата начала: 2019-08-19 00:00:00, Дней до: 35\n",
      "\t MDE = 0.3163475203536408\n",
      "Дата начала: 2019-08-20 00:00:00, Дней до: 35\n",
      "\t MDE = 0.39111029110676165\n",
      "Дата начала: 2019-08-21 00:00:00, Дней до: 35\n",
      "\t MDE = 0.43934730553324974\n",
      "----------------------------------------------------------------------\n",
      "МИнимальный MDE: 0.03460307462716665, при параметрах: {'start_date': Timestamp('2019-08-02 00:00:00'), 'delta': 35}\n",
      "----------------------------------------------------------------------\n",
      "Дата начала: 2019-07-29 00:00:00, Дней до: 40\n",
      "\t MDE = 0.21620223549230172\n",
      "Дата начала: 2019-07-30 00:00:00, Дней до: 40\n",
      "\t MDE = 0.21752448795447102\n",
      "Дата начала: 2019-07-31 00:00:00, Дней до: 40\n",
      "\t MDE = 0.22961177123059004\n",
      "Дата начала: 2019-08-01 00:00:00, Дней до: 40\n",
      "\t MDE = 0.22606251589896234\n"
     ]
    },
    {
     "name": "stdout",
     "output_type": "stream",
     "text": [
      "Дата начала: 2019-08-02 00:00:00, Дней до: 40\n",
      "\t MDE = 0.22889799031860875\n",
      "Дата начала: 2019-08-03 00:00:00, Дней до: 40\n",
      "\t MDE = 0.235438383015475\n",
      "Дата начала: 2019-08-04 00:00:00, Дней до: 40\n",
      "\t MDE = 0.23920579898079775\n",
      "Дата начала: 2019-08-05 00:00:00, Дней до: 40\n",
      "\t MDE = 0.24332960479570534\n",
      "Дата начала: 2019-08-06 00:00:00, Дней до: 40\n",
      "\t MDE = 0.24690561968763605\n",
      "Дата начала: 2019-08-07 00:00:00, Дней до: 40\n",
      "\t MDE = 0.25971920529500436\n",
      "Дата начала: 2019-08-08 00:00:00, Дней до: 40\n",
      "\t MDE = 0.26092013616254395\n",
      "Дата начала: 2019-08-09 00:00:00, Дней до: 40\n",
      "\t MDE = 0.28711314633404383\n",
      "Дата начала: 2019-08-10 00:00:00, Дней до: 40\n",
      "\t MDE = 0.3210758558574757\n",
      "Дата начала: 2019-08-11 00:00:00, Дней до: 40\n",
      "\t MDE = 0.34357744890216657\n",
      "Дата начала: 2019-08-12 00:00:00, Дней до: 40\n",
      "\t MDE = 0.37029149188491084\n",
      "Дата начала: 2019-08-13 00:00:00, Дней до: 40\n",
      "\t MDE = 0.39409317582855374\n",
      "Дата начала: 2019-08-14 00:00:00, Дней до: 40\n",
      "\t MDE = 0.4243361048333661\n",
      "Дата начала: 2019-08-15 00:00:00, Дней до: 40\n",
      "\t MDE = 0.45461535430514655\n",
      "Дата начала: 2019-08-16 00:00:00, Дней до: 40\n",
      "\t MDE = 0.4879771219755265\n",
      "----------------------------------------------------------------------\n",
      "МИнимальный MDE: 0.21620223549230172, при параметрах: {'start_date': Timestamp('2019-07-29 00:00:00'), 'delta': 40}\n",
      "----------------------------------------------------------------------\n",
      "Дата начала: 2019-08-03 00:00:00, Дней до: 45\n",
      "\t MDE = 0.2614663009988238\n",
      "Дата начала: 2019-08-04 00:00:00, Дней до: 45\n",
      "\t MDE = 0.27936016082328397\n",
      "Дата начала: 2019-08-05 00:00:00, Дней до: 45\n",
      "\t MDE = 0.30780261538385906\n",
      "Дата начала: 2019-08-06 00:00:00, Дней до: 45\n",
      "\t MDE = 0.3239202661198562\n",
      "Дата начала: 2019-08-07 00:00:00, Дней до: 45\n",
      "\t MDE = 0.35102980079112994\n",
      "Дата начала: 2019-08-08 00:00:00, Дней до: 45\n",
      "\t MDE = 0.37781224623426674\n",
      "Дата начала: 2019-08-09 00:00:00, Дней до: 45\n",
      "\t MDE = 0.40796816315327256\n",
      "Дата начала: 2019-08-10 00:00:00, Дней до: 45\n",
      "\t MDE = 0.4384358049136344\n",
      "Дата начала: 2019-08-11 00:00:00, Дней до: 45\n",
      "\t MDE = 0.4669554568423264\n",
      "----------------------------------------------------------------------\n",
      "МИнимальный MDE: 0.2614663009988238, при параметрах: {'start_date': Timestamp('2019-08-03 00:00:00'), 'delta': 45}\n",
      "----------------------------------------------------------------------\n",
      "----------------------------------------------------------------------\n",
      "МИнимальный MDE: 50, при параметрах: {}\n",
      "----------------------------------------------------------------------\n"
     ]
    }
   ],
   "source": [
    "list_delta = [10, 20, 30, 35, 40, 45, 50]\n",
    "\n",
    "for delta in list_delta:\n",
    "    get_compare_mde(df, delta=delta)"
   ]
  },
  {
   "cell_type": "markdown",
   "metadata": {},
   "source": [
    "Аномально минимальный MDE (=0.0346) при параметрах 'start_date': Timestamp('2019-08-02 00:00:00'), 'delta': 35.\n",
    "\n",
    "Про сезональность могу сказать, что чем позже мы применяем метод, тем больше MDE, либо это как-то связано с месячной сезональностью, либо с сезоном, но в августе идет рост MDE"
   ]
  },
  {
   "cell_type": "code",
   "execution_count": null,
   "metadata": {},
   "outputs": [],
   "source": []
  }
 ],
 "metadata": {
  "kernelspec": {
   "display_name": "Python 3 (ipykernel)",
   "language": "python",
   "name": "python3"
  },
  "language_info": {
   "codemirror_mode": {
    "name": "ipython",
    "version": 3
   },
   "file_extension": ".py",
   "mimetype": "text/x-python",
   "name": "python",
   "nbconvert_exporter": "python",
   "pygments_lexer": "ipython3",
   "version": "3.10.6"
  }
 },
 "nbformat": 4,
 "nbformat_minor": 4
}
