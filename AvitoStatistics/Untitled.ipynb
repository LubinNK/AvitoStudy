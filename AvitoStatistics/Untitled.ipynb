{
 "cells": [
  {
   "cell_type": "code",
   "execution_count": 3,
   "id": "a1c78198",
   "metadata": {},
   "outputs": [],
   "source": [
    "mu_0 = 3.5\n",
    "mu = (12 *5 + 8 * 6)/20"
   ]
  },
  {
   "cell_type": "code",
   "execution_count": 4,
   "id": "8c2604e0",
   "metadata": {},
   "outputs": [
    {
     "data": {
      "text/plain": [
       "5.4"
      ]
     },
     "execution_count": 4,
     "metadata": {},
     "output_type": "execute_result"
    }
   ],
   "source": [
    "mu"
   ]
  },
  {
   "cell_type": "code",
   "execution_count": 12,
   "id": "2fd3aa07",
   "metadata": {},
   "outputs": [],
   "source": [
    "import numpy as np\n",
    "std = 35/12"
   ]
  },
  {
   "cell_type": "code",
   "execution_count": 13,
   "id": "da2c7c50",
   "metadata": {},
   "outputs": [
    {
     "data": {
      "text/plain": [
       "2.9166666666666665"
      ]
     },
     "execution_count": 13,
     "metadata": {},
     "output_type": "execute_result"
    }
   ],
   "source": [
    "std"
   ]
  },
  {
   "cell_type": "code",
   "execution_count": 14,
   "id": "c275632d",
   "metadata": {},
   "outputs": [],
   "source": [
    "z_stat = (20)**0.5 * (mu - mu_0) / std"
   ]
  },
  {
   "cell_type": "code",
   "execution_count": 15,
   "id": "c1efd177",
   "metadata": {},
   "outputs": [
    {
     "data": {
      "text/plain": [
       "2.913277136399727"
      ]
     },
     "execution_count": 15,
     "metadata": {},
     "output_type": "execute_result"
    }
   ],
   "source": [
    "z_stat"
   ]
  },
  {
   "cell_type": "code",
   "execution_count": 16,
   "id": "d158e752",
   "metadata": {},
   "outputs": [],
   "source": [
    "from scipy.stats import norm"
   ]
  },
  {
   "cell_type": "code",
   "execution_count": 17,
   "id": "809d1154",
   "metadata": {},
   "outputs": [
    {
     "data": {
      "text/plain": [
       "0.0017882851531801913"
      ]
     },
     "execution_count": 17,
     "metadata": {},
     "output_type": "execute_result"
    }
   ],
   "source": [
    "1 - norm().cdf(z_stat)"
   ]
  },
  {
   "cell_type": "code",
   "execution_count": 18,
   "id": "874cc353",
   "metadata": {},
   "outputs": [
    {
     "data": {
      "text/plain": [
       "1.6448536269514722"
      ]
     },
     "execution_count": 18,
     "metadata": {},
     "output_type": "execute_result"
    }
   ],
   "source": [
    "norm().ppf(0.95)"
   ]
  },
  {
   "cell_type": "code",
   "execution_count": 22,
   "id": "292a63c0",
   "metadata": {},
   "outputs": [],
   "source": [
    "import scipy.stats as sps"
   ]
  },
  {
   "cell_type": "code",
   "execution_count": 27,
   "id": "52c7a7e1",
   "metadata": {},
   "outputs": [],
   "source": [
    "p0 = 0.5 \n",
    "alpha=0.05\n",
    "power=0.8\n",
    "N = 6\n",
    "\n",
    "def get_reject_value(p0, size, alpha):\n",
    "    right_bound = (sps.binom(p=p0, n=size).ppf(1 - alpha) + 1)\n",
    "    return right_bound\n",
    "\n",
    "def find_min_number_of_days(MDE, p0, alpha, power):\n",
    "    N = 6\n",
    "    #Для каждого числа days в цикле:\n",
    "    for days in range(1, 10):\n",
    "        # Находим область для отвержения\n",
    "        reject_value = get_reject_value(p0, N, alpha)\n",
    "        for p in np.arange(0, 1.001, 0.001):\n",
    "            # Проверяем мощность\n",
    "            if sps.binom(p=p, n=N).cdf(reject_value - 1) <= 1 - power:\n",
    "                # Проверяем MDE\n",
    "                if p - p0 <= MDE:\n",
    "                    return days"
   ]
  },
  {
   "cell_type": "code",
   "execution_count": 28,
   "id": "44026e29",
   "metadata": {},
   "outputs": [],
   "source": [
    "days = find_min_number_of_days(MDE=0.1, p0=0.5, alpha=0.05, power=0.8)"
   ]
  },
  {
   "cell_type": "code",
   "execution_count": 29,
   "id": "49708cb5",
   "metadata": {},
   "outputs": [
    {
     "name": "stdout",
     "output_type": "stream",
     "text": [
      "None\n"
     ]
    }
   ],
   "source": [
    "print(days)"
   ]
  },
  {
   "cell_type": "code",
   "execution_count": null,
   "id": "26fff74b",
   "metadata": {},
   "outputs": [],
   "source": [
    "def get_reject_value(p0, size, alpha):\n",
    "    right_bound = (sps.binom(p=p0, n=size).ppf(1 - alpha) + 1)\n",
    "    return right_bound\n",
    "\n",
    "N = days * people_per_day\n",
    "reject_value = get_reject_value(p0, N, alpha)\n",
    "\n",
    "for p in np.arange(0.7, 0.9, 0.001):\n",
    "    if sps.binom(p=p, n=N).cdf(reject_value - 1) <= 1 - power:\n",
    "        print(f\"p={round(p * 100, 1)}%, MDE={round((p - p0) * 100, 1)}%\")\n",
    "        break"
   ]
  },
  {
   "cell_type": "code",
   "execution_count": 1,
   "id": "d84440fc",
   "metadata": {},
   "outputs": [],
   "source": [
    "import numpy as np"
   ]
  },
  {
   "cell_type": "code",
   "execution_count": null,
   "id": "7e079e60",
   "metadata": {},
   "outputs": [],
   "source": [
    "300/(30)"
   ]
  }
 ],
 "metadata": {
  "kernelspec": {
   "display_name": "Python 3 (ipykernel)",
   "language": "python",
   "name": "python3"
  },
  "language_info": {
   "codemirror_mode": {
    "name": "ipython",
    "version": 3
   },
   "file_extension": ".py",
   "mimetype": "text/x-python",
   "name": "python",
   "nbconvert_exporter": "python",
   "pygments_lexer": "ipython3",
   "version": "3.10.6"
  }
 },
 "nbformat": 4,
 "nbformat_minor": 5
}
