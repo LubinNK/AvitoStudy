{
 "cells": [
  {
   "cell_type": "markdown",
   "metadata": {},
   "source": [
    "# Академия Аналитиков Авито"
   ]
  },
  {
   "cell_type": "markdown",
   "metadata": {},
   "source": [
    "# Эконометрика"
   ]
  },
  {
   "cell_type": "markdown",
   "metadata": {},
   "source": [
    "# Домашняя работа №2"
   ]
  },
  {
   "cell_type": "markdown",
   "metadata": {},
   "source": [
    "## №1 (20 баллов)"
   ]
  },
  {
   "cell_type": "markdown",
   "metadata": {},
   "source": [
    "- Допустим, у нас есть подобная регрессия (допустим, что мы центрировали переменные):\n",
    "$\n",
    "y = \\beta_1 \\cdot X_1 + \\beta_2 \\cdot X_2 + u\n",
    "$\n",
    "- Однако, наш $X_2$ абсолютно линейно зависит от $X_1$:\n",
    "$\n",
    "X_2 = \\mu \\cdot X_1\n",
    "$\n",
    "\n",
    "- Выразите через $X_1$:  \n",
    "    - $\n",
    "\\sum{X_2^2} = \\mu^2 * \\sum{X_1^2}\n",
    "$\n",
    "    - $\n",
    "\\sum{X_2 \\cdot y} = \\sum\\mu*X_1*(\\beta_1X_1+\\beta_2 \\mu X_1 + u) = \\mu \\sum(\\beta_1 X_1^2 + \\beta_2 \\mu X_1^2 + X_1u) = \\mu(\\beta_1+ \\mu \\beta_2)\\sum X_1^2 + \\mu u \\sum X_1\n",
    "$\n",
    "    - $\n",
    "\\sum{X_1 \\cdot X_2} = \\mu \\sum X_1^2\n",
    "$\n",
    "\n",
    "- А теперь выразите $\\beta_2$, зная формулу для нее в случае регрессии с двумя переменными, через $X_1$\n",
    "$$\n",
    "\\beta_2 = \\frac{\\sum{X_1 \\cdot y} \\cdot \\sum{X_2^2} - \\sum{X_2 \\cdot y} \\cdot \\sum{X_1 \\cdot X_2}}{\\sum{X_1^2} \\cdot \\sum{X_2^2} - (\\sum{X_1 \\cdot X_2})^2} = \\frac{((\\beta_1 + \\mu \\beta_2)\\sum X_1^2 + u\\sum X_1)(\\mu^2 \\sum X_1^2) - (\\mu(\\beta_1 + \\mu \\beta_2)\\sum X_1^2 + \\mu u \\sum X_1)(\\mu \\sum X_1^2)}{\\mu^2 \\sum X_1^2 \\cdot \\sum X_1^2 - \\mu^2 \\sum X_1^2 \\cdot \\sum X_1^2} = \\frac{(\\sum X_1^2)^2(\\mu^2(\\beta_1 + \\mu \\beta_2) - \\mu^2(\\beta_1 + \\mu \\beta_2)) + \\sum X_1 \\sum X_1^2 \\cdot (\\mu^2u - \\mu^2u)}{\\mu^2 \\sum X_1^2 \\cdot \\sum X_1^2 - \\mu^2 \\sum X_1^2 \\cdot \\sum X_1^2}\n",
    "$$\n",
    "\n",
    "- Что вы можете сказать? Что произошло с коэффициентом?\n",
    "\n",
    "Возникла неопределенность $\\frac{0}{0}$"
   ]
  },
  {
   "cell_type": "markdown",
   "metadata": {},
   "source": [
    "### №2 (20 баллов)"
   ]
  },
  {
   "cell_type": "markdown",
   "metadata": {},
   "source": [
    "- Давайте разберем такой замечательный пример из статьи [Stambaugh (1999)](https://repository.upenn.edu/fnce_papers/367/)\n",
    "- Суть достаточно простая. Когда мы пытаемся предсказать доходности ценных бумаг (например, акций) с помощью регрессоров, которые весьма постоянны во времени (например, дивидендная доходность, которая редко меняется, т.к. компании редко сильно меняют свою дивидендную политику, чтобы не отпугнуть инвесторов), то мы получаем смещение наших оценок коэффициентов для регрессии доходности\n",
    "- У нас есть:\n",
    "$$\n",
    "r_t = \\alpha + x_{t-1} \\cdot \\beta + \\varepsilon_t \\\\ \n",
    "x_t = \\theta + x_{t-1} \\cdot \\gamma + u_t \\\\ \n",
    "\\varepsilon_t = \\phi \\cdot u_t + w_t\n",
    "$$\n",
    "Где, $w_t$ независим от $u_t$ и $x_t$, $\\gamma \\in (0, 1)$\n",
    "- Нам с вами надо посмотреть, что будет с $\\hat{\\beta}$\n",
    "- Для этого надо сначала посчитать:\n",
    "    - $\n",
    "\\hat{\\gamma} = \\frac{cov(x_{t-1}, y)}{var(x_{t-1})} = \\frac{cov(x_{t-1}, \\theta + x_{t-1} \\cdot \\gamma + u_t)}{var(x_{t-1})} = \\frac{var(x_{t-1}) \\cdot \\gamma + cov(x_{t-1}, u_t)}{var(x_{t-1})} = \\gamma + \\frac{cov(x_{t-1}, u_t)}{var(x_{t-1})}\n",
    "$  \n",
    "    - $\n",
    "\\hat{\\gamma} - \\gamma = \\frac{cov(x_{t-1}, u_t)}{var(x_{t-1})}\n",
    "$  \n",
    "    - $\n",
    "\\hat{\\beta} = \\frac{cov(x_{t-1}, \\alpha + x_{t-1} \\cdot \\beta + \\varepsilon_t)}{var(x_{t-1})} = \\frac{cov(x_{t-1}, \\alpha + x_{t-1} \\cdot \\beta + \\phi \\cdot u_t + w_t)}{var(x_{t-1})} = \\frac{\\beta \\cdot var(x_{t-1}) + \\phi \\cdot cov(x_{t-1}, u_t)}{var(x_{t-1})} = \\beta + \\phi \\cdot (\\hat{\\gamma} - \\gamma)\n",
    "$\n",
    "    - $\n",
    "\\hat{\\beta} - \\beta = \\phi \\cdot (\\hat{\\gamma} - \\gamma)\n",
    "$  \n",
    "- Какой вывод можно сделать? Какие предпосылки вы использовали?"
   ]
  },
  {
   "cell_type": "markdown",
   "metadata": {},
   "source": [
    "## №3 (60 баллов)"
   ]
  },
  {
   "cell_type": "markdown",
   "metadata": {},
   "source": [
    "- Давайте вернемся к уже известному датасету с машинами"
   ]
  },
  {
   "cell_type": "code",
   "execution_count": 1,
   "metadata": {
    "ExecuteTime": {
     "end_time": "2022-09-13T17:05:20.317057Z",
     "start_time": "2022-09-13T17:05:18.406051Z"
    }
   },
   "outputs": [],
   "source": [
    "import pandas as pd\n",
    "import matplotlib.pyplot as plt"
   ]
  },
  {
   "cell_type": "code",
   "execution_count": 18,
   "metadata": {},
   "outputs": [],
   "source": [
    "import numpy as np"
   ]
  },
  {
   "cell_type": "markdown",
   "metadata": {},
   "source": [
    "- У нас есть следующий датасет\n",
    "- Нам хочется понять от чего зависит цена на машину\n",
    "- Сам датасет составлен из стоимости автомобилей и их характеристик в 1978 г.\n",
    "    - \"make\" - марка и модель автомобиля\n",
    "    - \"price\" - цена\n",
    "    - \"mpg\" - пробег\n",
    "    - \"rep78\" - кол-во записей о ремонте к 1978 г.\n",
    "    - \"headroom\" - габаритная высота\n",
    "    - \"trunk\" - размер багажника\n",
    "    - \"weight\" - вес\n",
    "    - \"length\" - длина\n",
    "    - \"turn\" - радиус разворота\n",
    "    - \"displacement\" - объем двигателя\n",
    "    - \"gear_ratio\" - передаточное число\n",
    "    - \"foreing\" - происхождение автомобиля"
   ]
  },
  {
   "cell_type": "code",
   "execution_count": 2,
   "metadata": {
    "ExecuteTime": {
     "end_time": "2022-09-13T17:05:20.365067Z",
     "start_time": "2022-09-13T17:05:20.322058Z"
    }
   },
   "outputs": [],
   "source": [
    "df = pd.read_csv('HW_002_001.csv')"
   ]
  },
  {
   "cell_type": "code",
   "execution_count": 3,
   "metadata": {
    "ExecuteTime": {
     "end_time": "2022-09-13T17:05:20.439064Z",
     "start_time": "2022-09-13T17:05:20.372061Z"
    }
   },
   "outputs": [
    {
     "data": {
      "text/html": [
       "<div>\n",
       "<style scoped>\n",
       "    .dataframe tbody tr th:only-of-type {\n",
       "        vertical-align: middle;\n",
       "    }\n",
       "\n",
       "    .dataframe tbody tr th {\n",
       "        vertical-align: top;\n",
       "    }\n",
       "\n",
       "    .dataframe thead th {\n",
       "        text-align: right;\n",
       "    }\n",
       "</style>\n",
       "<table border=\"1\" class=\"dataframe\">\n",
       "  <thead>\n",
       "    <tr style=\"text-align: right;\">\n",
       "      <th></th>\n",
       "      <th>make</th>\n",
       "      <th>price</th>\n",
       "      <th>mpg</th>\n",
       "      <th>rep78</th>\n",
       "      <th>headroom</th>\n",
       "      <th>trunk</th>\n",
       "      <th>weight</th>\n",
       "      <th>length</th>\n",
       "      <th>turn</th>\n",
       "      <th>displacement</th>\n",
       "      <th>gear_ratio</th>\n",
       "      <th>foreign</th>\n",
       "    </tr>\n",
       "  </thead>\n",
       "  <tbody>\n",
       "    <tr>\n",
       "      <th>0</th>\n",
       "      <td>AMC Concord</td>\n",
       "      <td>4099</td>\n",
       "      <td>22</td>\n",
       "      <td>3.0</td>\n",
       "      <td>2.5</td>\n",
       "      <td>11</td>\n",
       "      <td>2930</td>\n",
       "      <td>186</td>\n",
       "      <td>40</td>\n",
       "      <td>121</td>\n",
       "      <td>3.58</td>\n",
       "      <td>Domestic</td>\n",
       "    </tr>\n",
       "    <tr>\n",
       "      <th>1</th>\n",
       "      <td>AMC Pacer</td>\n",
       "      <td>4749</td>\n",
       "      <td>17</td>\n",
       "      <td>3.0</td>\n",
       "      <td>3.0</td>\n",
       "      <td>11</td>\n",
       "      <td>3350</td>\n",
       "      <td>173</td>\n",
       "      <td>40</td>\n",
       "      <td>258</td>\n",
       "      <td>2.53</td>\n",
       "      <td>Domestic</td>\n",
       "    </tr>\n",
       "    <tr>\n",
       "      <th>2</th>\n",
       "      <td>AMC Spirit</td>\n",
       "      <td>3799</td>\n",
       "      <td>22</td>\n",
       "      <td>NaN</td>\n",
       "      <td>3.0</td>\n",
       "      <td>12</td>\n",
       "      <td>2640</td>\n",
       "      <td>168</td>\n",
       "      <td>35</td>\n",
       "      <td>121</td>\n",
       "      <td>3.08</td>\n",
       "      <td>Domestic</td>\n",
       "    </tr>\n",
       "    <tr>\n",
       "      <th>3</th>\n",
       "      <td>Buick Century</td>\n",
       "      <td>4816</td>\n",
       "      <td>20</td>\n",
       "      <td>3.0</td>\n",
       "      <td>4.5</td>\n",
       "      <td>16</td>\n",
       "      <td>3250</td>\n",
       "      <td>196</td>\n",
       "      <td>40</td>\n",
       "      <td>196</td>\n",
       "      <td>2.93</td>\n",
       "      <td>Domestic</td>\n",
       "    </tr>\n",
       "    <tr>\n",
       "      <th>4</th>\n",
       "      <td>Buick Electra</td>\n",
       "      <td>7827</td>\n",
       "      <td>15</td>\n",
       "      <td>4.0</td>\n",
       "      <td>4.0</td>\n",
       "      <td>20</td>\n",
       "      <td>4080</td>\n",
       "      <td>222</td>\n",
       "      <td>43</td>\n",
       "      <td>350</td>\n",
       "      <td>2.41</td>\n",
       "      <td>Domestic</td>\n",
       "    </tr>\n",
       "  </tbody>\n",
       "</table>\n",
       "</div>"
      ],
      "text/plain": [
       "            make  price  mpg  rep78  headroom  trunk  weight  length  turn  \\\n",
       "0    AMC Concord   4099   22    3.0       2.5     11    2930     186    40   \n",
       "1      AMC Pacer   4749   17    3.0       3.0     11    3350     173    40   \n",
       "2     AMC Spirit   3799   22    NaN       3.0     12    2640     168    35   \n",
       "3  Buick Century   4816   20    3.0       4.5     16    3250     196    40   \n",
       "4  Buick Electra   7827   15    4.0       4.0     20    4080     222    43   \n",
       "\n",
       "   displacement  gear_ratio   foreign  \n",
       "0           121        3.58  Domestic  \n",
       "1           258        2.53  Domestic  \n",
       "2           121        3.08  Domestic  \n",
       "3           196        2.93  Domestic  \n",
       "4           350        2.41  Domestic  "
      ]
     },
     "execution_count": 3,
     "metadata": {},
     "output_type": "execute_result"
    }
   ],
   "source": [
    "df.head(5)"
   ]
  },
  {
   "cell_type": "markdown",
   "metadata": {},
   "source": [
    "- Вы уже пытались построить всякие разные модификации линейной регресии\n",
    "- Давайте же попробуем сделать опять все то же самое (можете взять ту модель, которую успели сделать на занятии)"
   ]
  },
  {
   "cell_type": "code",
   "execution_count": 4,
   "metadata": {},
   "outputs": [
    {
     "data": {
      "text/html": [
       "<div>\n",
       "<style scoped>\n",
       "    .dataframe tbody tr th:only-of-type {\n",
       "        vertical-align: middle;\n",
       "    }\n",
       "\n",
       "    .dataframe tbody tr th {\n",
       "        vertical-align: top;\n",
       "    }\n",
       "\n",
       "    .dataframe thead th {\n",
       "        text-align: right;\n",
       "    }\n",
       "</style>\n",
       "<table border=\"1\" class=\"dataframe\">\n",
       "  <thead>\n",
       "    <tr style=\"text-align: right;\">\n",
       "      <th></th>\n",
       "      <th>price</th>\n",
       "      <th>mpg</th>\n",
       "      <th>rep78</th>\n",
       "      <th>headroom</th>\n",
       "      <th>trunk</th>\n",
       "      <th>weight</th>\n",
       "      <th>length</th>\n",
       "      <th>turn</th>\n",
       "      <th>displacement</th>\n",
       "      <th>gear_ratio</th>\n",
       "    </tr>\n",
       "  </thead>\n",
       "  <tbody>\n",
       "    <tr>\n",
       "      <th>count</th>\n",
       "      <td>74.000000</td>\n",
       "      <td>74.000000</td>\n",
       "      <td>69.000000</td>\n",
       "      <td>74.000000</td>\n",
       "      <td>74.000000</td>\n",
       "      <td>74.000000</td>\n",
       "      <td>74.000000</td>\n",
       "      <td>74.000000</td>\n",
       "      <td>74.000000</td>\n",
       "      <td>74.000000</td>\n",
       "    </tr>\n",
       "    <tr>\n",
       "      <th>mean</th>\n",
       "      <td>6165.256757</td>\n",
       "      <td>21.297297</td>\n",
       "      <td>3.405797</td>\n",
       "      <td>2.993243</td>\n",
       "      <td>13.756757</td>\n",
       "      <td>3019.459459</td>\n",
       "      <td>187.932432</td>\n",
       "      <td>39.648649</td>\n",
       "      <td>197.297297</td>\n",
       "      <td>3.014865</td>\n",
       "    </tr>\n",
       "    <tr>\n",
       "      <th>std</th>\n",
       "      <td>2949.495885</td>\n",
       "      <td>5.785503</td>\n",
       "      <td>0.989932</td>\n",
       "      <td>0.845995</td>\n",
       "      <td>4.277404</td>\n",
       "      <td>777.193567</td>\n",
       "      <td>22.266340</td>\n",
       "      <td>4.399354</td>\n",
       "      <td>91.837219</td>\n",
       "      <td>0.456287</td>\n",
       "    </tr>\n",
       "    <tr>\n",
       "      <th>min</th>\n",
       "      <td>3291.000000</td>\n",
       "      <td>12.000000</td>\n",
       "      <td>1.000000</td>\n",
       "      <td>1.500000</td>\n",
       "      <td>5.000000</td>\n",
       "      <td>1760.000000</td>\n",
       "      <td>142.000000</td>\n",
       "      <td>31.000000</td>\n",
       "      <td>79.000000</td>\n",
       "      <td>2.190000</td>\n",
       "    </tr>\n",
       "    <tr>\n",
       "      <th>25%</th>\n",
       "      <td>4220.250000</td>\n",
       "      <td>18.000000</td>\n",
       "      <td>3.000000</td>\n",
       "      <td>2.500000</td>\n",
       "      <td>10.250000</td>\n",
       "      <td>2250.000000</td>\n",
       "      <td>170.000000</td>\n",
       "      <td>36.000000</td>\n",
       "      <td>119.000000</td>\n",
       "      <td>2.730000</td>\n",
       "    </tr>\n",
       "    <tr>\n",
       "      <th>50%</th>\n",
       "      <td>5006.500000</td>\n",
       "      <td>20.000000</td>\n",
       "      <td>3.000000</td>\n",
       "      <td>3.000000</td>\n",
       "      <td>14.000000</td>\n",
       "      <td>3190.000000</td>\n",
       "      <td>192.500000</td>\n",
       "      <td>40.000000</td>\n",
       "      <td>196.000000</td>\n",
       "      <td>2.955000</td>\n",
       "    </tr>\n",
       "    <tr>\n",
       "      <th>75%</th>\n",
       "      <td>6332.250000</td>\n",
       "      <td>24.750000</td>\n",
       "      <td>4.000000</td>\n",
       "      <td>3.500000</td>\n",
       "      <td>16.750000</td>\n",
       "      <td>3600.000000</td>\n",
       "      <td>203.750000</td>\n",
       "      <td>43.000000</td>\n",
       "      <td>245.250000</td>\n",
       "      <td>3.352500</td>\n",
       "    </tr>\n",
       "    <tr>\n",
       "      <th>max</th>\n",
       "      <td>15906.000000</td>\n",
       "      <td>41.000000</td>\n",
       "      <td>5.000000</td>\n",
       "      <td>5.000000</td>\n",
       "      <td>23.000000</td>\n",
       "      <td>4840.000000</td>\n",
       "      <td>233.000000</td>\n",
       "      <td>51.000000</td>\n",
       "      <td>425.000000</td>\n",
       "      <td>3.890000</td>\n",
       "    </tr>\n",
       "  </tbody>\n",
       "</table>\n",
       "</div>"
      ],
      "text/plain": [
       "              price        mpg      rep78   headroom      trunk       weight  \\\n",
       "count     74.000000  74.000000  69.000000  74.000000  74.000000    74.000000   \n",
       "mean    6165.256757  21.297297   3.405797   2.993243  13.756757  3019.459459   \n",
       "std     2949.495885   5.785503   0.989932   0.845995   4.277404   777.193567   \n",
       "min     3291.000000  12.000000   1.000000   1.500000   5.000000  1760.000000   \n",
       "25%     4220.250000  18.000000   3.000000   2.500000  10.250000  2250.000000   \n",
       "50%     5006.500000  20.000000   3.000000   3.000000  14.000000  3190.000000   \n",
       "75%     6332.250000  24.750000   4.000000   3.500000  16.750000  3600.000000   \n",
       "max    15906.000000  41.000000   5.000000   5.000000  23.000000  4840.000000   \n",
       "\n",
       "           length       turn  displacement  gear_ratio  \n",
       "count   74.000000  74.000000     74.000000   74.000000  \n",
       "mean   187.932432  39.648649    197.297297    3.014865  \n",
       "std     22.266340   4.399354     91.837219    0.456287  \n",
       "min    142.000000  31.000000     79.000000    2.190000  \n",
       "25%    170.000000  36.000000    119.000000    2.730000  \n",
       "50%    192.500000  40.000000    196.000000    2.955000  \n",
       "75%    203.750000  43.000000    245.250000    3.352500  \n",
       "max    233.000000  51.000000    425.000000    3.890000  "
      ]
     },
     "execution_count": 4,
     "metadata": {},
     "output_type": "execute_result"
    }
   ],
   "source": [
    "df.describe()"
   ]
  },
  {
   "cell_type": "code",
   "execution_count": 5,
   "metadata": {},
   "outputs": [
    {
     "data": {
      "text/plain": [
       "array([[<Axes: title={'center': 'price'}>,\n",
       "        <Axes: title={'center': 'mpg'}>,\n",
       "        <Axes: title={'center': 'rep78'}>],\n",
       "       [<Axes: title={'center': 'headroom'}>,\n",
       "        <Axes: title={'center': 'trunk'}>,\n",
       "        <Axes: title={'center': 'weight'}>],\n",
       "       [<Axes: title={'center': 'length'}>,\n",
       "        <Axes: title={'center': 'turn'}>,\n",
       "        <Axes: title={'center': 'displacement'}>],\n",
       "       [<Axes: title={'center': 'gear_ratio'}>, <Axes: >, <Axes: >]],\n",
       "      dtype=object)"
      ]
     },
     "execution_count": 5,
     "metadata": {},
     "output_type": "execute_result"
    },
    {
     "data": {
      "image/png": "[encoded data removed]",
      "text/plain": [
       "<Figure size 720x360 with 12 Axes>"
      ]
     },
     "metadata": {
      "needs_background": "light"
     },
     "output_type": "display_data"
    }
   ],
   "source": [
    "df.hist(figsize = (10, 5))"
   ]
  },
  {
   "cell_type": "code",
   "execution_count": 7,
   "metadata": {},
   "outputs": [
    {
     "data": {
      "image/png": "[encoded data removed]",
      "text/plain": [
       "<Figure size 432x288 with 1 Axes>"
      ]
     },
     "metadata": {
      "needs_background": "light"
     },
     "output_type": "display_data"
    },
    {
     "data": {
      "image/png": "[encoded data removed]",
      "text/plain": [
       "<Figure size 432x288 with 1 Axes>"
      ]
     },
     "metadata": {
      "needs_background": "light"
     },
     "output_type": "display_data"
    },
    {
     "data": {
      "image/png": "[encoded data removed]",
      "text/plain": [
       "<Figure size 432x288 with 1 Axes>"
      ]
     },
     "metadata": {
      "needs_background": "light"
     },
     "output_type": "display_data"
    },
    {
     "data": {
      "image/png": "[encoded data removed]",
      "text/plain": [
       "<Figure size 432x288 with 1 Axes>"
      ]
     },
     "metadata": {
      "needs_background": "light"
     },
     "output_type": "display_data"
    },
    {
     "data": {
      "image/png": "[encoded data removed]",
      "text/plain": [
       "<Figure size 432x288 with 1 Axes>"
      ]
     },
     "metadata": {
      "needs_background": "light"
     },
     "output_type": "display_data"
    },
    {
     "data": {
      "image/png": "[encoded data removed]",
      "text/plain": [
       "<Figure size 432x288 with 1 Axes>"
      ]
     },
     "metadata": {
      "needs_background": "light"
     },
     "output_type": "display_data"
    },
    {
     "data": {
      "image/png": "[encoded data removed]",
      "text/plain": [
       "<Figure size 432x288 with 1 Axes>"
      ]
     },
     "metadata": {
      "needs_background": "light"
     },
     "output_type": "display_data"
    },
    {
     "data": {
      "image/png": "[encoded data removed]",
      "text/plain": [
       "<Figure size 432x288 with 1 Axes>"
      ]
     },
     "metadata": {
      "needs_background": "light"
     },
     "output_type": "display_data"
    },
    {
     "data": {
      "image/png": "[encoded data removed]",
      "text/plain": [
       "<Figure size 432x288 with 1 Axes>"
      ]
     },
     "metadata": {
      "needs_background": "light"
     },
     "output_type": "display_data"
    },
    {
     "data": {
      "image/png": "[encoded data removed]",
      "text/plain": [
       "<Figure size 432x288 with 1 Axes>"
      ]
     },
     "metadata": {
      "needs_background": "light"
     },
     "output_type": "display_data"
    },
    {
     "data": {
      "image/png": "[encoded data removed]",
      "text/plain": [
       "<Figure size 432x288 with 1 Axes>"
      ]
     },
     "metadata": {
      "needs_background": "light"
     },
     "output_type": "display_data"
    }
   ],
   "source": [
    "for i in df.columns:\n",
    "    if i != 'price':\n",
    "        df.plot.scatter(x = i, y = 'price')"
   ]
  },
  {
   "cell_type": "markdown",
   "metadata": {},
   "source": [
    "Интересно посмотреть на среднюю цену модели"
   ]
  },
  {
   "cell_type": "code",
   "execution_count": 28,
   "metadata": {},
   "outputs": [],
   "source": [
    "make_df = df[['make', 'price']].groupby(['make']).mean().sort_values(by=['price']).reset_index()\n",
    "make_df['num_make'] = np.arange(len(make_df['make']))\n",
    "make_df = make_df[['make', 'num_make']]"
   ]
  },
  {
   "cell_type": "code",
   "execution_count": 31,
   "metadata": {},
   "outputs": [],
   "source": [
    "df = df.join(make_df.set_index('make'), on='make')"
   ]
  },
  {
   "cell_type": "code",
   "execution_count": 33,
   "metadata": {},
   "outputs": [
    {
     "data": {
      "text/html": [
       "<div>\n",
       "<style scoped>\n",
       "    .dataframe tbody tr th:only-of-type {\n",
       "        vertical-align: middle;\n",
       "    }\n",
       "\n",
       "    .dataframe tbody tr th {\n",
       "        vertical-align: top;\n",
       "    }\n",
       "\n",
       "    .dataframe thead th {\n",
       "        text-align: right;\n",
       "    }\n",
       "</style>\n",
       "<table border=\"1\" class=\"dataframe\">\n",
       "  <thead>\n",
       "    <tr style=\"text-align: right;\">\n",
       "      <th></th>\n",
       "      <th>make</th>\n",
       "      <th>price</th>\n",
       "      <th>mpg</th>\n",
       "      <th>rep78</th>\n",
       "      <th>headroom</th>\n",
       "      <th>trunk</th>\n",
       "      <th>weight</th>\n",
       "      <th>length</th>\n",
       "      <th>turn</th>\n",
       "      <th>displacement</th>\n",
       "      <th>gear_ratio</th>\n",
       "      <th>foreign</th>\n",
       "      <th>num_make</th>\n",
       "    </tr>\n",
       "  </thead>\n",
       "  <tbody>\n",
       "    <tr>\n",
       "      <th>0</th>\n",
       "      <td>AMC Concord</td>\n",
       "      <td>4099</td>\n",
       "      <td>22</td>\n",
       "      <td>3.0</td>\n",
       "      <td>2.5</td>\n",
       "      <td>11</td>\n",
       "      <td>2930</td>\n",
       "      <td>186</td>\n",
       "      <td>40</td>\n",
       "      <td>121</td>\n",
       "      <td>3.58</td>\n",
       "      <td>Domestic</td>\n",
       "      <td>14</td>\n",
       "    </tr>\n",
       "    <tr>\n",
       "      <th>1</th>\n",
       "      <td>AMC Pacer</td>\n",
       "      <td>4749</td>\n",
       "      <td>17</td>\n",
       "      <td>3.0</td>\n",
       "      <td>3.0</td>\n",
       "      <td>11</td>\n",
       "      <td>3350</td>\n",
       "      <td>173</td>\n",
       "      <td>40</td>\n",
       "      <td>258</td>\n",
       "      <td>2.53</td>\n",
       "      <td>Domestic</td>\n",
       "      <td>33</td>\n",
       "    </tr>\n",
       "    <tr>\n",
       "      <th>2</th>\n",
       "      <td>AMC Spirit</td>\n",
       "      <td>3799</td>\n",
       "      <td>22</td>\n",
       "      <td>NaN</td>\n",
       "      <td>3.0</td>\n",
       "      <td>12</td>\n",
       "      <td>2640</td>\n",
       "      <td>168</td>\n",
       "      <td>35</td>\n",
       "      <td>121</td>\n",
       "      <td>3.08</td>\n",
       "      <td>Domestic</td>\n",
       "      <td>5</td>\n",
       "    </tr>\n",
       "    <tr>\n",
       "      <th>3</th>\n",
       "      <td>Buick Century</td>\n",
       "      <td>4816</td>\n",
       "      <td>20</td>\n",
       "      <td>3.0</td>\n",
       "      <td>4.5</td>\n",
       "      <td>16</td>\n",
       "      <td>3250</td>\n",
       "      <td>196</td>\n",
       "      <td>40</td>\n",
       "      <td>196</td>\n",
       "      <td>2.93</td>\n",
       "      <td>Domestic</td>\n",
       "      <td>34</td>\n",
       "    </tr>\n",
       "    <tr>\n",
       "      <th>4</th>\n",
       "      <td>Buick Electra</td>\n",
       "      <td>7827</td>\n",
       "      <td>15</td>\n",
       "      <td>4.0</td>\n",
       "      <td>4.0</td>\n",
       "      <td>20</td>\n",
       "      <td>4080</td>\n",
       "      <td>222</td>\n",
       "      <td>43</td>\n",
       "      <td>350</td>\n",
       "      <td>2.41</td>\n",
       "      <td>Domestic</td>\n",
       "      <td>59</td>\n",
       "    </tr>\n",
       "  </tbody>\n",
       "</table>\n",
       "</div>"
      ],
      "text/plain": [
       "            make  price  mpg  rep78  headroom  trunk  weight  length  turn  \\\n",
       "0    AMC Concord   4099   22    3.0       2.5     11    2930     186    40   \n",
       "1      AMC Pacer   4749   17    3.0       3.0     11    3350     173    40   \n",
       "2     AMC Spirit   3799   22    NaN       3.0     12    2640     168    35   \n",
       "3  Buick Century   4816   20    3.0       4.5     16    3250     196    40   \n",
       "4  Buick Electra   7827   15    4.0       4.0     20    4080     222    43   \n",
       "\n",
       "   displacement  gear_ratio   foreign  num_make  \n",
       "0           121        3.58  Domestic        14  \n",
       "1           258        2.53  Domestic        33  \n",
       "2           121        3.08  Domestic         5  \n",
       "3           196        2.93  Domestic        34  \n",
       "4           350        2.41  Domestic        59  "
      ]
     },
     "execution_count": 33,
     "metadata": {},
     "output_type": "execute_result"
    }
   ],
   "source": [
    "df.head()"
   ]
  },
  {
   "cell_type": "code",
   "execution_count": 34,
   "metadata": {},
   "outputs": [
    {
     "data": {
      "text/plain": [
       "<Axes: xlabel='num_make', ylabel='price'>"
      ]
     },
     "execution_count": 34,
     "metadata": {},
     "output_type": "execute_result"
    },
    {
     "data": {
      "image/png": "[encoded data removed]",
      "text/plain": [
       "<Figure size 432x288 with 1 Axes>"
      ]
     },
     "metadata": {
      "needs_background": "light"
     },
     "output_type": "display_data"
    }
   ],
   "source": [
    "df.plot.scatter(x = 'num_make', y = 'price')"
   ]
  },
  {
   "cell_type": "markdown",
   "metadata": {},
   "source": [
    "Интересное замечание, что зависимость линейная на двух участках. "
   ]
  },
  {
   "cell_type": "markdown",
   "metadata": {},
   "source": [
    "Далее хотелось бы посмотреть на график цены, когда не было ремонта (на графике зависимости цены от ремонта это не указалось, так как значение \"не было ремонта\" это Nan), заменим nan в этом столбце."
   ]
  },
  {
   "cell_type": "code",
   "execution_count": 36,
   "metadata": {},
   "outputs": [],
   "source": [
    "df['rep78'] = df['rep78'].fillna(0)"
   ]
  },
  {
   "cell_type": "code",
   "execution_count": 38,
   "metadata": {},
   "outputs": [
    {
     "data": {
      "text/plain": [
       "<Axes: xlabel='rep78', ylabel='price'>"
      ]
     },
     "execution_count": 38,
     "metadata": {},
     "output_type": "execute_result"
    },
    {
     "data": {
      "image/png": "[encoded data removed]",
      "text/plain": [
       "<Figure size 432x288 with 1 Axes>"
      ]
     },
     "metadata": {
      "needs_background": "light"
     },
     "output_type": "display_data"
    }
   ],
   "source": [
    "df.plot.scatter(x = 'rep78', y = 'price')"
   ]
  },
  {
   "cell_type": "markdown",
   "metadata": {},
   "source": [
    "В первоначальную модель я бы не включал количество ремонта, какая-то странная зависимость."
   ]
  },
  {
   "cell_type": "markdown",
   "metadata": {},
   "source": [
    "Исследуя графики, я заметил, что на графике с пробегом неплохо вырисовывается линейная зависимость, как раз логичная - чем больше пробегЮ тем меньше цена. Столбец 'mpg' включу в первоначальную модель."
   ]
  },
  {
   "cell_type": "markdown",
   "metadata": {},
   "source": [
    "Также интересные столбцы 'length', 'weight' и 'displacement', которые показывают вполне логичную линейную связь."
   ]
  },
  {
   "cell_type": "markdown",
   "metadata": {},
   "source": [
    "Итак, построим модель"
   ]
  },
  {
   "cell_type": "code",
   "execution_count": 40,
   "metadata": {},
   "outputs": [],
   "source": [
    "import statsmodels.api as sm\n",
    "import seaborn as sns"
   ]
  },
  {
   "cell_type": "code",
   "execution_count": 87,
   "metadata": {},
   "outputs": [],
   "source": [
    "data1 = df[['mpg', 'weight', 'num_make', 'displacement']]"
   ]
  },
  {
   "cell_type": "code",
   "execution_count": 80,
   "metadata": {},
   "outputs": [
    {
     "data": {
      "text/plain": [
       "<Axes: >"
      ]
     },
     "execution_count": 80,
     "metadata": {},
     "output_type": "execute_result"
    },
    {
     "data": {
      "image/png": "[encoded data removed]",
      "text/plain": [
       "<Figure size 432x288 with 2 Axes>"
      ]
     },
     "metadata": {
      "needs_background": "light"
     },
     "output_type": "display_data"
    }
   ],
   "source": [
    "sns.heatmap(data1.corr())"
   ]
  },
  {
   "cell_type": "markdown",
   "metadata": {},
   "source": [
    "Заметим, что вес и объем двигателя довольно сильно коррелируют. Запомним это."
   ]
  },
  {
   "cell_type": "code",
   "execution_count": 81,
   "metadata": {},
   "outputs": [
    {
     "name": "stderr",
     "output_type": "stream",
     "text": [
      "C:\\Users\\lubin\\AppData\\Local\\Temp\\ipykernel_13860\\93811314.py:1: SettingWithCopyWarning: \n",
      "A value is trying to be set on a copy of a slice from a DataFrame.\n",
      "Try using .loc[row_indexer,col_indexer] = value instead\n",
      "\n",
      "See the caveats in the documentation: https://pandas.pydata.org/pandas-docs/stable/user_guide/indexing.html#returning-a-view-versus-a-copy\n",
      "  data1['const'] = 1\n"
     ]
    },
    {
     "data": {
      "text/html": [
       "<table class=\"simpletable\">\n",
       "<caption>OLS Regression Results</caption>\n",
       "<tr>\n",
       "  <th>Dep. Variable:</th>          <td>price</td>      <th>  R-squared:         </th> <td>   0.741</td>\n",
       "</tr>\n",
       "<tr>\n",
       "  <th>Model:</th>                   <td>OLS</td>       <th>  Adj. R-squared:    </th> <td>   0.726</td>\n",
       "</tr>\n",
       "<tr>\n",
       "  <th>Method:</th>             <td>Least Squares</td>  <th>  F-statistic:       </th> <td>   49.39</td>\n",
       "</tr>\n",
       "<tr>\n",
       "  <th>Date:</th>             <td>Mon, 20 Mar 2023</td> <th>  Prob (F-statistic):</th> <td>1.49e-19</td>\n",
       "</tr>\n",
       "<tr>\n",
       "  <th>Time:</th>                 <td>12:20:48</td>     <th>  Log-Likelihood:    </th> <td> -645.71</td>\n",
       "</tr>\n",
       "<tr>\n",
       "  <th>No. Observations:</th>      <td>    74</td>      <th>  AIC:               </th> <td>   1301.</td>\n",
       "</tr>\n",
       "<tr>\n",
       "  <th>Df Residuals:</th>          <td>    69</td>      <th>  BIC:               </th> <td>   1313.</td>\n",
       "</tr>\n",
       "<tr>\n",
       "  <th>Df Model:</th>              <td>     4</td>      <th>                     </th>     <td> </td>   \n",
       "</tr>\n",
       "<tr>\n",
       "  <th>Covariance Type:</th>      <td>nonrobust</td>    <th>                     </th>     <td> </td>   \n",
       "</tr>\n",
       "</table>\n",
       "<table class=\"simpletable\">\n",
       "<tr>\n",
       "        <td></td>          <th>coef</th>     <th>std err</th>      <th>t</th>      <th>P>|t|</th>  <th>[0.025</th>    <th>0.975]</th>  \n",
       "</tr>\n",
       "<tr>\n",
       "  <th>mpg</th>          <td>   44.5867</td> <td>   53.725</td> <td>    0.830</td> <td> 0.409</td> <td>  -62.591</td> <td>  151.765</td>\n",
       "</tr>\n",
       "<tr>\n",
       "  <th>weight</th>       <td>    0.3735</td> <td>    0.635</td> <td>    0.589</td> <td> 0.558</td> <td>   -0.893</td> <td>    1.640</td>\n",
       "</tr>\n",
       "<tr>\n",
       "  <th>num_make</th>     <td>  107.3584</td> <td>    9.838</td> <td>   10.912</td> <td> 0.000</td> <td>   87.732</td> <td>  126.985</td>\n",
       "</tr>\n",
       "<tr>\n",
       "  <th>displacement</th> <td>    4.3114</td> <td>    4.420</td> <td>    0.975</td> <td> 0.333</td> <td>   -4.507</td> <td>   13.129</td>\n",
       "</tr>\n",
       "<tr>\n",
       "  <th>const</th>        <td> -681.4159</td> <td> 2324.307</td> <td>   -0.293</td> <td> 0.770</td> <td>-5318.282</td> <td> 3955.450</td>\n",
       "</tr>\n",
       "</table>\n",
       "<table class=\"simpletable\">\n",
       "<tr>\n",
       "  <th>Omnibus:</th>       <td>10.781</td> <th>  Durbin-Watson:     </th> <td>   1.232</td>\n",
       "</tr>\n",
       "<tr>\n",
       "  <th>Prob(Omnibus):</th> <td> 0.005</td> <th>  Jarque-Bera (JB):  </th> <td>  10.842</td>\n",
       "</tr>\n",
       "<tr>\n",
       "  <th>Skew:</th>          <td> 0.887</td> <th>  Prob(JB):          </th> <td> 0.00442</td>\n",
       "</tr>\n",
       "<tr>\n",
       "  <th>Kurtosis:</th>      <td> 3.610</td> <th>  Cond. No.          </th> <td>4.05e+04</td>\n",
       "</tr>\n",
       "</table><br/><br/>Notes:<br/>[1] Standard Errors assume that the covariance matrix of the errors is correctly specified.<br/>[2] The condition number is large, 4.05e+04. This might indicate that there are<br/>strong multicollinearity or other numerical problems."
      ],
      "text/plain": [
       "<class 'statsmodels.iolib.summary.Summary'>\n",
       "\"\"\"\n",
       "                            OLS Regression Results                            \n",
       "==============================================================================\n",
       "Dep. Variable:                  price   R-squared:                       0.741\n",
       "Model:                            OLS   Adj. R-squared:                  0.726\n",
       "Method:                 Least Squares   F-statistic:                     49.39\n",
       "Date:                Mon, 20 Mar 2023   Prob (F-statistic):           1.49e-19\n",
       "Time:                        12:20:48   Log-Likelihood:                -645.71\n",
       "No. Observations:                  74   AIC:                             1301.\n",
       "Df Residuals:                      69   BIC:                             1313.\n",
       "Df Model:                           4                                         \n",
       "Covariance Type:            nonrobust                                         \n",
       "================================================================================\n",
       "                   coef    std err          t      P>|t|      [0.025      0.975]\n",
       "--------------------------------------------------------------------------------\n",
       "mpg             44.5867     53.725      0.830      0.409     -62.591     151.765\n",
       "weight           0.3735      0.635      0.589      0.558      -0.893       1.640\n",
       "num_make       107.3584      9.838     10.912      0.000      87.732     126.985\n",
       "displacement     4.3114      4.420      0.975      0.333      -4.507      13.129\n",
       "const         -681.4159   2324.307     -0.293      0.770   -5318.282    3955.450\n",
       "==============================================================================\n",
       "Omnibus:                       10.781   Durbin-Watson:                   1.232\n",
       "Prob(Omnibus):                  0.005   Jarque-Bera (JB):               10.842\n",
       "Skew:                           0.887   Prob(JB):                      0.00442\n",
       "Kurtosis:                       3.610   Cond. No.                     4.05e+04\n",
       "==============================================================================\n",
       "\n",
       "Notes:\n",
       "[1] Standard Errors assume that the covariance matrix of the errors is correctly specified.\n",
       "[2] The condition number is large, 4.05e+04. This might indicate that there are\n",
       "strong multicollinearity or other numerical problems.\n",
       "\"\"\""
      ]
     },
     "execution_count": 81,
     "metadata": {},
     "output_type": "execute_result"
    }
   ],
   "source": [
    "data1['const'] = 1\n",
    "results = sm.OLS(endog=df['price'], exog=data1).fit()\n",
    "results.summary()"
   ]
  },
  {
   "cell_type": "markdown",
   "metadata": {},
   "source": [
    "- Расскажите немного, почему вы выбрали именно эти переменные\n",
    "- Какие зависимости вы ожидали увидеть? Можете подкрепить свои гипотезы графиками\n",
    "- Как зависимости в итоге увидели? Как вы считаете почему?"
   ]
  },
  {
   "cell_type": "markdown",
   "metadata": {},
   "source": [
    "На первые 2 вопроса я ответил выше. \n",
    "\n",
    "Увидел странную зависимость от пробега, совсем не ожидаемую, так как чем больше пробег - тем меньше должна быть цена. И от веса автомобиля как будто ничего не зависит. Также Cond. No. очень большое, постраемся это исправить."
   ]
  },
  {
   "cell_type": "markdown",
   "metadata": {},
   "source": [
    "- Теперь же давайте посмотрим на данную модель немного скептически\n",
    "- Вы прошли предпосылки теоремы Г.М. и знаете о том, как тестировать на наличие нарушений этих предпосылок, как исправлять их, если возможно, и какие последствия они могут нести\n",
    "- Собственно, давайте их и проверим"
   ]
  },
  {
   "cell_type": "code",
   "execution_count": 82,
   "metadata": {},
   "outputs": [],
   "source": [
    "from statsmodels.stats.outliers_influence import variance_inflation_factor as vif"
   ]
  },
  {
   "cell_type": "markdown",
   "metadata": {},
   "source": [
    "Посмотрим на vif"
   ]
  },
  {
   "cell_type": "code",
   "execution_count": 94,
   "metadata": {},
   "outputs": [],
   "source": [
    "data1 = df[['mpg', 'weight', 'num_make', 'displacement']]"
   ]
  },
  {
   "cell_type": "code",
   "execution_count": 95,
   "metadata": {},
   "outputs": [
    {
     "data": {
      "text/plain": [
       "[6.621331821286773, 50.812076339718544, 5.302635178625533, 26.36480670207517]"
      ]
     },
     "execution_count": 95,
     "metadata": {},
     "output_type": "execute_result"
    }
   ],
   "source": [
    "[vif(data1.values, i) for i in range(data1.shape[1])]"
   ]
  },
  {
   "cell_type": "markdown",
   "metadata": {},
   "source": [
    "Видно, что вес и объем двигателя имеют большее значение VIF.\n",
    "\n",
    "Я предлагаю не убирать одно из них, а взять отношение объема двигателя к весу авто."
   ]
  },
  {
   "cell_type": "code",
   "execution_count": 98,
   "metadata": {},
   "outputs": [],
   "source": [
    "df['dis_w'] = df['displacement'] / df['weight']"
   ]
  },
  {
   "cell_type": "code",
   "execution_count": 99,
   "metadata": {},
   "outputs": [
    {
     "name": "stderr",
     "output_type": "stream",
     "text": [
      "C:\\Users\\lubin\\AppData\\Local\\Temp\\ipykernel_13860\\284311734.py:2: SettingWithCopyWarning: \n",
      "A value is trying to be set on a copy of a slice from a DataFrame.\n",
      "Try using .loc[row_indexer,col_indexer] = value instead\n",
      "\n",
      "See the caveats in the documentation: https://pandas.pydata.org/pandas-docs/stable/user_guide/indexing.html#returning-a-view-versus-a-copy\n",
      "  data1['const'] = 1\n"
     ]
    }
   ],
   "source": [
    "data1 = df[['mpg', 'num_make', 'dis_w']]\n",
    "data1['const'] = 1 "
   ]
  },
  {
   "cell_type": "code",
   "execution_count": 102,
   "metadata": {},
   "outputs": [
    {
     "data": {
      "text/plain": [
       "[['mpg', 1.5867082534260972],\n",
       " ['num_make', 1.3136953772947144],\n",
       " ['dis_w', 1.2568267167185412],\n",
       " ['const', 66.71858701351503]]"
      ]
     },
     "execution_count": 102,
     "metadata": {},
     "output_type": "execute_result"
    }
   ],
   "source": [
    "[[data1.columns[i], vif(data1.values, i)] for i in range(data1.shape[1])]"
   ]
  },
  {
   "cell_type": "code",
   "execution_count": 103,
   "metadata": {},
   "outputs": [
    {
     "data": {
      "text/plain": [
       "<Axes: xlabel='dis_w', ylabel='price'>"
      ]
     },
     "execution_count": 103,
     "metadata": {},
     "output_type": "execute_result"
    },
    {
     "data": {
      "image/png": "[encoded data removed]",
      "text/plain": [
       "<Figure size 432x288 with 1 Axes>"
      ]
     },
     "metadata": {
      "needs_background": "light"
     },
     "output_type": "display_data"
    }
   ],
   "source": [
    "df.plot.scatter(x = 'dis_w', y = 'price')"
   ]
  },
  {
   "cell_type": "markdown",
   "metadata": {},
   "source": [
    "Построим модель"
   ]
  },
  {
   "cell_type": "code",
   "execution_count": 105,
   "metadata": {},
   "outputs": [
    {
     "data": {
      "text/html": [
       "<table class=\"simpletable\">\n",
       "<caption>OLS Regression Results</caption>\n",
       "<tr>\n",
       "  <th>Dep. Variable:</th>          <td>price</td>      <th>  R-squared:         </th> <td>   0.727</td>\n",
       "</tr>\n",
       "<tr>\n",
       "  <th>Model:</th>                   <td>OLS</td>       <th>  Adj. R-squared:    </th> <td>   0.715</td>\n",
       "</tr>\n",
       "<tr>\n",
       "  <th>Method:</th>             <td>Least Squares</td>  <th>  F-statistic:       </th> <td>   62.02</td>\n",
       "</tr>\n",
       "<tr>\n",
       "  <th>Date:</th>             <td>Mon, 20 Mar 2023</td> <th>  Prob (F-statistic):</th> <td>1.12e-19</td>\n",
       "</tr>\n",
       "<tr>\n",
       "  <th>Time:</th>                 <td>12:50:33</td>     <th>  Log-Likelihood:    </th> <td> -647.73</td>\n",
       "</tr>\n",
       "<tr>\n",
       "  <th>No. Observations:</th>      <td>    74</td>      <th>  AIC:               </th> <td>   1303.</td>\n",
       "</tr>\n",
       "<tr>\n",
       "  <th>Df Residuals:</th>          <td>    70</td>      <th>  BIC:               </th> <td>   1313.</td>\n",
       "</tr>\n",
       "<tr>\n",
       "  <th>Df Model:</th>              <td>     3</td>      <th>                     </th>     <td> </td>   \n",
       "</tr>\n",
       "<tr>\n",
       "  <th>Covariance Type:</th>      <td>nonrobust</td>    <th>                     </th>     <td> </td>   \n",
       "</tr>\n",
       "</table>\n",
       "<table class=\"simpletable\">\n",
       "<tr>\n",
       "      <td></td>        <th>coef</th>     <th>std err</th>      <th>t</th>      <th>P>|t|</th>  <th>[0.025</th>    <th>0.975]</th>  \n",
       "</tr>\n",
       "<tr>\n",
       "  <th>mpg</th>      <td>  -16.7162</td> <td>   40.131</td> <td>   -0.417</td> <td> 0.678</td> <td>  -96.755</td> <td>   63.323</td>\n",
       "</tr>\n",
       "<tr>\n",
       "  <th>num_make</th> <td>  111.6149</td> <td>    9.823</td> <td>   11.362</td> <td> 0.000</td> <td>   92.023</td> <td>  131.207</td>\n",
       "</tr>\n",
       "<tr>\n",
       "  <th>dis_w</th>    <td> 1.422e+04</td> <td> 1.16e+04</td> <td>    1.227</td> <td> 0.224</td> <td>-8891.715</td> <td> 3.73e+04</td>\n",
       "</tr>\n",
       "<tr>\n",
       "  <th>const</th>    <td> 1554.3615</td> <td> 1495.346</td> <td>    1.039</td> <td> 0.302</td> <td>-1428.012</td> <td> 4536.735</td>\n",
       "</tr>\n",
       "</table>\n",
       "<table class=\"simpletable\">\n",
       "<tr>\n",
       "  <th>Omnibus:</th>       <td>14.106</td> <th>  Durbin-Watson:     </th> <td>   1.247</td>\n",
       "</tr>\n",
       "<tr>\n",
       "  <th>Prob(Omnibus):</th> <td> 0.001</td> <th>  Jarque-Bera (JB):  </th> <td>  15.433</td>\n",
       "</tr>\n",
       "<tr>\n",
       "  <th>Skew:</th>          <td> 0.998</td> <th>  Prob(JB):          </th> <td>0.000445</td>\n",
       "</tr>\n",
       "<tr>\n",
       "  <th>Kurtosis:</th>      <td> 4.012</td> <th>  Cond. No.          </th> <td>2.92e+03</td>\n",
       "</tr>\n",
       "</table><br/><br/>Notes:<br/>[1] Standard Errors assume that the covariance matrix of the errors is correctly specified.<br/>[2] The condition number is large, 2.92e+03. This might indicate that there are<br/>strong multicollinearity or other numerical problems."
      ],
      "text/plain": [
       "<class 'statsmodels.iolib.summary.Summary'>\n",
       "\"\"\"\n",
       "                            OLS Regression Results                            \n",
       "==============================================================================\n",
       "Dep. Variable:                  price   R-squared:                       0.727\n",
       "Model:                            OLS   Adj. R-squared:                  0.715\n",
       "Method:                 Least Squares   F-statistic:                     62.02\n",
       "Date:                Mon, 20 Mar 2023   Prob (F-statistic):           1.12e-19\n",
       "Time:                        12:50:33   Log-Likelihood:                -647.73\n",
       "No. Observations:                  74   AIC:                             1303.\n",
       "Df Residuals:                      70   BIC:                             1313.\n",
       "Df Model:                           3                                         \n",
       "Covariance Type:            nonrobust                                         \n",
       "==============================================================================\n",
       "                 coef    std err          t      P>|t|      [0.025      0.975]\n",
       "------------------------------------------------------------------------------\n",
       "mpg          -16.7162     40.131     -0.417      0.678     -96.755      63.323\n",
       "num_make     111.6149      9.823     11.362      0.000      92.023     131.207\n",
       "dis_w       1.422e+04   1.16e+04      1.227      0.224   -8891.715    3.73e+04\n",
       "const       1554.3615   1495.346      1.039      0.302   -1428.012    4536.735\n",
       "==============================================================================\n",
       "Omnibus:                       14.106   Durbin-Watson:                   1.247\n",
       "Prob(Omnibus):                  0.001   Jarque-Bera (JB):               15.433\n",
       "Skew:                           0.998   Prob(JB):                     0.000445\n",
       "Kurtosis:                       4.012   Cond. No.                     2.92e+03\n",
       "==============================================================================\n",
       "\n",
       "Notes:\n",
       "[1] Standard Errors assume that the covariance matrix of the errors is correctly specified.\n",
       "[2] The condition number is large, 2.92e+03. This might indicate that there are\n",
       "strong multicollinearity or other numerical problems.\n",
       "\"\"\""
      ]
     },
     "execution_count": 105,
     "metadata": {},
     "output_type": "execute_result"
    }
   ],
   "source": [
    "results = sm.OLS(endog=df['price'], exog=data1).fit()\n",
    "results.summary()"
   ]
  },
  {
   "cell_type": "markdown",
   "metadata": {},
   "source": [
    "Мультиколлинеарность не разрешена, судя по Cond. No."
   ]
  },
  {
   "cell_type": "markdown",
   "metadata": {},
   "source": [
    "Далее, судя по графикам, я бы проверил на гетероскедастичность. Использовать буду тест Уайта."
   ]
  },
  {
   "cell_type": "code",
   "execution_count": 107,
   "metadata": {},
   "outputs": [],
   "source": [
    "import statsmodels.formula.api as smf"
   ]
  },
  {
   "cell_type": "code",
   "execution_count": 125,
   "metadata": {},
   "outputs": [
    {
     "data": {
      "text/plain": [
       "Index(['price', 'num_make', 'dis_w', 'length'], dtype='object')"
      ]
     },
     "execution_count": 125,
     "metadata": {},
     "output_type": "execute_result"
    }
   ],
   "source": [
    "data1 = df[['price', 'num_make', 'dis_w', 'length']]\n",
    "data1.columns"
   ]
  },
  {
   "cell_type": "code",
   "execution_count": 126,
   "metadata": {},
   "outputs": [],
   "source": [
    "model_white = smf.ols('price ~ num_make + dis_w + length', data=data1).fit()"
   ]
  },
  {
   "cell_type": "code",
   "execution_count": 127,
   "metadata": {},
   "outputs": [
    {
     "data": {
      "text/plain": [
       "(41.38897366758969,\n",
       " 4.248978692763074e-06,\n",
       " 9.025217039323053,\n",
       " 1.1774729690252015e-08)"
      ]
     },
     "execution_count": 127,
     "metadata": {},
     "output_type": "execute_result"
    }
   ],
   "source": [
    "sm.stats.diagnostic.het_white(model_white.resid, sm.add_constant(data1[['num_make', 'dis_w', 'length']]))"
   ]
  },
  {
   "cell_type": "code",
   "execution_count": 128,
   "metadata": {},
   "outputs": [
    {
     "data": {
      "text/plain": [
       "<Axes: xlabel='dis_w', ylabel='price'>"
      ]
     },
     "execution_count": 128,
     "metadata": {},
     "output_type": "execute_result"
    },
    {
     "data": {
      "image/png": "[encoded data removed]",
      "text/plain": [
       "<Figure size 432x288 with 1 Axes>"
      ]
     },
     "metadata": {
      "needs_background": "light"
     },
     "output_type": "display_data"
    }
   ],
   "source": [
    "data1.plot.scatter(x = 'dis_w', y = 'price')"
   ]
  },
  {
   "cell_type": "markdown",
   "metadata": {},
   "source": [
    "Видим, что действительно гетероскедастичность есть"
   ]
  },
  {
   "cell_type": "code",
   "execution_count": 129,
   "metadata": {},
   "outputs": [
    {
     "name": "stderr",
     "output_type": "stream",
     "text": [
      "C:\\Users\\lubin\\AppData\\Local\\Temp\\ipykernel_13860\\1589515566.py:1: SettingWithCopyWarning: \n",
      "A value is trying to be set on a copy of a slice from a DataFrame.\n",
      "Try using .loc[row_indexer,col_indexer] = value instead\n",
      "\n",
      "See the caveats in the documentation: https://pandas.pydata.org/pandas-docs/stable/user_guide/indexing.html#returning-a-view-versus-a-copy\n",
      "  data1['price'] = np.log(data1['price'].to_numpy())\n"
     ]
    }
   ],
   "source": [
    "data1['price'] = np.log(data1['price'].to_numpy())"
   ]
  },
  {
   "cell_type": "code",
   "execution_count": 134,
   "metadata": {},
   "outputs": [],
   "source": [
    "model_white = smf.ols('price ~ num_make + dis_w', data=data1).fit()"
   ]
  },
  {
   "cell_type": "code",
   "execution_count": 135,
   "metadata": {},
   "outputs": [
    {
     "data": {
      "text/plain": [
       "(39.4659758479733,\n",
       " 1.9133831313384652e-07,\n",
       " 15.542274169080207,\n",
       " 3.550300001073943e-10)"
      ]
     },
     "execution_count": 135,
     "metadata": {},
     "output_type": "execute_result"
    }
   ],
   "source": [
    "sm.stats.diagnostic.het_white(model_white.resid, sm.add_constant(data1[['num_make', 'dis_w']]))"
   ]
  },
  {
   "cell_type": "code",
   "execution_count": 136,
   "metadata": {},
   "outputs": [
    {
     "data": {
      "text/html": [
       "<table class=\"simpletable\">\n",
       "<caption>OLS Regression Results</caption>\n",
       "<tr>\n",
       "  <th>Dep. Variable:</th>          <td>price</td>      <th>  R-squared:         </th> <td>   0.863</td>\n",
       "</tr>\n",
       "<tr>\n",
       "  <th>Model:</th>                   <td>OLS</td>       <th>  Adj. R-squared:    </th> <td>   0.859</td>\n",
       "</tr>\n",
       "<tr>\n",
       "  <th>Method:</th>             <td>Least Squares</td>  <th>  F-statistic:       </th> <td>   224.2</td>\n",
       "</tr>\n",
       "<tr>\n",
       "  <th>Date:</th>             <td>Mon, 20 Mar 2023</td> <th>  Prob (F-statistic):</th> <td>2.09e-31</td>\n",
       "</tr>\n",
       "<tr>\n",
       "  <th>Time:</th>                 <td>13:28:40</td>     <th>  Log-Likelihood:    </th> <td>  38.410</td>\n",
       "</tr>\n",
       "<tr>\n",
       "  <th>No. Observations:</th>      <td>    74</td>      <th>  AIC:               </th> <td>  -70.82</td>\n",
       "</tr>\n",
       "<tr>\n",
       "  <th>Df Residuals:</th>          <td>    71</td>      <th>  BIC:               </th> <td>  -63.91</td>\n",
       "</tr>\n",
       "<tr>\n",
       "  <th>Df Model:</th>              <td>     2</td>      <th>                     </th>     <td> </td>   \n",
       "</tr>\n",
       "<tr>\n",
       "  <th>Covariance Type:</th>      <td>nonrobust</td>    <th>                     </th>     <td> </td>   \n",
       "</tr>\n",
       "</table>\n",
       "<table class=\"simpletable\">\n",
       "<tr>\n",
       "      <td></td>         <th>coef</th>     <th>std err</th>      <th>t</th>      <th>P>|t|</th>  <th>[0.025</th>    <th>0.975]</th>  \n",
       "</tr>\n",
       "<tr>\n",
       "  <th>Intercept</th> <td>    7.9511</td> <td>    0.065</td> <td>  121.581</td> <td> 0.000</td> <td>    7.821</td> <td>    8.082</td>\n",
       "</tr>\n",
       "<tr>\n",
       "  <th>num_make</th>  <td>    0.0167</td> <td>    0.001</td> <td>   20.478</td> <td> 0.000</td> <td>    0.015</td> <td>    0.018</td>\n",
       "</tr>\n",
       "<tr>\n",
       "  <th>dis_w</th>     <td>    1.2720</td> <td>    0.984</td> <td>    1.293</td> <td> 0.200</td> <td>   -0.690</td> <td>    3.234</td>\n",
       "</tr>\n",
       "</table>\n",
       "<table class=\"simpletable\">\n",
       "<tr>\n",
       "  <th>Omnibus:</th>       <td> 5.183</td> <th>  Durbin-Watson:     </th> <td>   1.342</td>\n",
       "</tr>\n",
       "<tr>\n",
       "  <th>Prob(Omnibus):</th> <td> 0.075</td> <th>  Jarque-Bera (JB):  </th> <td>   5.153</td>\n",
       "</tr>\n",
       "<tr>\n",
       "  <th>Skew:</th>          <td> 0.608</td> <th>  Prob(JB):          </th> <td>  0.0760</td>\n",
       "</tr>\n",
       "<tr>\n",
       "  <th>Kurtosis:</th>      <td> 2.564</td> <th>  Cond. No.          </th> <td>2.44e+03</td>\n",
       "</tr>\n",
       "</table><br/><br/>Notes:<br/>[1] Standard Errors assume that the covariance matrix of the errors is correctly specified.<br/>[2] The condition number is large, 2.44e+03. This might indicate that there are<br/>strong multicollinearity or other numerical problems."
      ],
      "text/plain": [
       "<class 'statsmodels.iolib.summary.Summary'>\n",
       "\"\"\"\n",
       "                            OLS Regression Results                            \n",
       "==============================================================================\n",
       "Dep. Variable:                  price   R-squared:                       0.863\n",
       "Model:                            OLS   Adj. R-squared:                  0.859\n",
       "Method:                 Least Squares   F-statistic:                     224.2\n",
       "Date:                Mon, 20 Mar 2023   Prob (F-statistic):           2.09e-31\n",
       "Time:                        13:28:40   Log-Likelihood:                 38.410\n",
       "No. Observations:                  74   AIC:                            -70.82\n",
       "Df Residuals:                      71   BIC:                            -63.91\n",
       "Df Model:                           2                                         \n",
       "Covariance Type:            nonrobust                                         \n",
       "==============================================================================\n",
       "                 coef    std err          t      P>|t|      [0.025      0.975]\n",
       "------------------------------------------------------------------------------\n",
       "Intercept      7.9511      0.065    121.581      0.000       7.821       8.082\n",
       "num_make       0.0167      0.001     20.478      0.000       0.015       0.018\n",
       "dis_w          1.2720      0.984      1.293      0.200      -0.690       3.234\n",
       "==============================================================================\n",
       "Omnibus:                        5.183   Durbin-Watson:                   1.342\n",
       "Prob(Omnibus):                  0.075   Jarque-Bera (JB):                5.153\n",
       "Skew:                           0.608   Prob(JB):                       0.0760\n",
       "Kurtosis:                       2.564   Cond. No.                     2.44e+03\n",
       "==============================================================================\n",
       "\n",
       "Notes:\n",
       "[1] Standard Errors assume that the covariance matrix of the errors is correctly specified.\n",
       "[2] The condition number is large, 2.44e+03. This might indicate that there are\n",
       "strong multicollinearity or other numerical problems.\n",
       "\"\"\""
      ]
     },
     "execution_count": 136,
     "metadata": {},
     "output_type": "execute_result"
    }
   ],
   "source": [
    "model_white.summary()"
   ]
  },
  {
   "cell_type": "markdown",
   "metadata": {},
   "source": [
    "- Перед тем как бездумно проверять на все подряд, предположите, какие именно предпосылки могут быть нарушение\n",
    "- Обоснуйте свои предпосылки. Почему вы так считаете? \n",
    "- Какие еще графики можно построить, чтобы сделать диагностику модели?\n",
    "- Можно ли как-то \"починить\" модель, если было обнаружено нарушение предпосылки теоремы Г.М.? \n",
    "- Все ли нарушения предпосылок вы проверили? "
   ]
  },
  {
   "cell_type": "markdown",
   "metadata": {},
   "source": [
    "Почему я проверял мультиколлиненарность и гетероскедастичность я объяснил выше. \n",
    "Эндогенность я бы здесь не проверял, так как данные о машинах - это не какие-то измерения, это точно заверенные числа по бумажкам,\n",
    "так что я решил проверить на мультиколлиненарность и на гетероскедастичность. Меня смущает конечный Cond. No., но скорее всего \n",
    "это из-за масштаба в данных. Сверхбольших коэффициентов получено не было. F-static говорит, что регрессия значима в целом.\n",
    "\n",
    "Я старался все модификации в данных показывать на графиках, поэтому я не знаю какие еще можно графики поанализировать. \n",
    "Возомжно я совершил ошибку, пронумеровав модели авто по возрастанию цены, но к сожалению другого способа учесть модели авто я \n",
    "не придумал.\n",
    "\n",
    "Если обнаружено нарушение предпосылки теоремы Г.М., конечно, я думаю можно как-то починить модель модификацией данных. Но нужно \n",
    "учитывать откуда эти данные пришли, как они измерены и т.д. "
   ]
  },
  {
   "cell_type": "markdown",
   "metadata": {},
   "source": [
    "- Улучшилась ли ваша моделька?\n",
    "- Как вы считаете, всегда надо \"добивать\" нарушения предпосылок теорему Г.М.? \n",
    "- Что бы вы предпочли, логичную с точки зрения здравого смысла и бизнес сенса модель, но с какими-то нарушениями теоремы Г.М. или же модель, в которой нет нарушений, но при этом совершенно непонятно, почему те или иные переменные в ней оказались? А возможен ли вообще второй случай по вашему мнению?"
   ]
  },
  {
   "cell_type": "markdown",
   "metadata": {},
   "source": [
    "Работая над мультиколлинеарностью и гетероскедастичностью удалось улучшить модель. Я думаю, еще бы лучше можно было бы получить \n",
    "статистические значения, если дополнительно стандартизовать данные.\n",
    "\n",
    "Я думаю, всегда надо прежде всего анализировать и предполагать, что от чего должно зависеть и отбирать первоначальные признаки опираясь на свой бизнес сенс и здравый смысл, а потом \"докручивать\" модель не сильно отклоняясь от первоначальных признаков. Когда мы получаем модель нарушений, но совершенно непонятно как там оказались те или иные признаки, мы не можем эту модель интерпретировать и делать какие-то реальные выводы."
   ]
  },
  {
   "cell_type": "code",
   "execution_count": null,
   "metadata": {},
   "outputs": [],
   "source": []
  }
 ],
 "metadata": {
  "kernelspec": {
   "display_name": "Python 3 (ipykernel)",
   "language": "python",
   "name": "python3"
  },
  "language_info": {
   "codemirror_mode": {
    "name": "ipython",
    "version": 3
   },
   "file_extension": ".py",
   "mimetype": "text/x-python",
   "name": "python",
   "nbconvert_exporter": "python",
   "pygments_lexer": "ipython3",
   "version": "3.10.6"
  },
  "toc": {
   "base_numbering": 1,
   "nav_menu": {},
   "number_sections": true,
   "sideBar": true,
   "skip_h1_title": true,
   "title_cell": "Table of Contents",
   "title_sidebar": "Contents",
   "toc_cell": false,
   "toc_position": {},
   "toc_section_display": true,
   "toc_window_display": false
  },
  "varInspector": {
   "cols": {
    "lenName": 16,
    "lenType": 16,
    "lenVar": 40
   },
   "kernels_config": {
    "python": {
     "delete_cmd_postfix": "",
     "delete_cmd_prefix": "del ",
     "library": "var_list.py",
     "varRefreshCmd": "print(var_dic_list())"
    },
    "r": {
     "delete_cmd_postfix": ") ",
     "delete_cmd_prefix": "rm(",
     "library": "var_list.r",
     "varRefreshCmd": "cat(var_dic_list()) "
    }
   },
   "types_to_exclude": [
    "module",
    "function",
    "builtin_function_or_method",
    "instance",
    "_Feature"
   ],
   "window_display": false
  }
 },
 "nbformat": 4,
 "nbformat_minor": 4
}
