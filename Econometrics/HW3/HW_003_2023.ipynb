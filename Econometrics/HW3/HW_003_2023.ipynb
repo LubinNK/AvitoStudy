{
 "cells": [
  {
   "cell_type": "markdown",
   "metadata": {},
   "source": [
    "# Академия Аналитиков Авито"
   ]
  },
  {
   "cell_type": "markdown",
   "metadata": {},
   "source": [
    "# Эконометрика"
   ]
  },
  {
   "cell_type": "markdown",
   "metadata": {},
   "source": [
    "# Домашняя работа №3"
   ]
  },
  {
   "cell_type": "markdown",
   "metadata": {},
   "source": [
    "## №1 (40 баллов)"
   ]
  },
  {
   "cell_type": "code",
   "execution_count": 1,
   "metadata": {
    "ExecuteTime": {
     "end_time": "2021-03-24T16:10:59.574137Z",
     "start_time": "2021-03-24T16:10:58.965139Z"
    }
   },
   "outputs": [],
   "source": [
    "import pandas as pd"
   ]
  },
  {
   "cell_type": "code",
   "execution_count": 2,
   "metadata": {
    "ExecuteTime": {
     "end_time": "2021-03-24T16:10:59.628138Z",
     "start_time": "2021-03-24T16:10:59.596141Z"
    },
    "scrolled": true
   },
   "outputs": [],
   "source": [
    "df = pd.read_csv('HW_003_001.txt')"
   ]
  },
  {
   "cell_type": "code",
   "execution_count": 3,
   "metadata": {
    "ExecuteTime": {
     "end_time": "2021-03-24T16:11:00.511513Z",
     "start_time": "2021-03-24T16:11:00.461518Z"
    }
   },
   "outputs": [
    {
     "data": {
      "text/html": [
       "<div>\n",
       "<style scoped>\n",
       "    .dataframe tbody tr th:only-of-type {\n",
       "        vertical-align: middle;\n",
       "    }\n",
       "\n",
       "    .dataframe tbody tr th {\n",
       "        vertical-align: top;\n",
       "    }\n",
       "\n",
       "    .dataframe thead th {\n",
       "        text-align: right;\n",
       "    }\n",
       "</style>\n",
       "<table border=\"1\" class=\"dataframe\">\n",
       "  <thead>\n",
       "    <tr style=\"text-align: right;\">\n",
       "      <th></th>\n",
       "      <th>State</th>\n",
       "      <th>Account length</th>\n",
       "      <th>Area code</th>\n",
       "      <th>International plan</th>\n",
       "      <th>Voice mail plan</th>\n",
       "      <th>Number vmail messages</th>\n",
       "      <th>Total day minutes</th>\n",
       "      <th>Total day calls</th>\n",
       "      <th>Total day charge</th>\n",
       "      <th>Total eve minutes</th>\n",
       "      <th>Total eve calls</th>\n",
       "      <th>Total eve charge</th>\n",
       "      <th>Total night minutes</th>\n",
       "      <th>Total night calls</th>\n",
       "      <th>Total night charge</th>\n",
       "      <th>Total intl minutes</th>\n",
       "      <th>Total intl calls</th>\n",
       "      <th>Total intl charge</th>\n",
       "      <th>Customer service calls</th>\n",
       "      <th>Churn</th>\n",
       "    </tr>\n",
       "  </thead>\n",
       "  <tbody>\n",
       "    <tr>\n",
       "      <th>0</th>\n",
       "      <td>KS</td>\n",
       "      <td>128</td>\n",
       "      <td>415</td>\n",
       "      <td>No</td>\n",
       "      <td>Yes</td>\n",
       "      <td>25</td>\n",
       "      <td>265.1</td>\n",
       "      <td>110</td>\n",
       "      <td>45.07</td>\n",
       "      <td>197.4</td>\n",
       "      <td>99</td>\n",
       "      <td>16.78</td>\n",
       "      <td>244.7</td>\n",
       "      <td>91</td>\n",
       "      <td>11.01</td>\n",
       "      <td>10.0</td>\n",
       "      <td>3</td>\n",
       "      <td>2.70</td>\n",
       "      <td>1</td>\n",
       "      <td>False</td>\n",
       "    </tr>\n",
       "    <tr>\n",
       "      <th>1</th>\n",
       "      <td>OH</td>\n",
       "      <td>107</td>\n",
       "      <td>415</td>\n",
       "      <td>No</td>\n",
       "      <td>Yes</td>\n",
       "      <td>26</td>\n",
       "      <td>161.6</td>\n",
       "      <td>123</td>\n",
       "      <td>27.47</td>\n",
       "      <td>195.5</td>\n",
       "      <td>103</td>\n",
       "      <td>16.62</td>\n",
       "      <td>254.4</td>\n",
       "      <td>103</td>\n",
       "      <td>11.45</td>\n",
       "      <td>13.7</td>\n",
       "      <td>3</td>\n",
       "      <td>3.70</td>\n",
       "      <td>1</td>\n",
       "      <td>False</td>\n",
       "    </tr>\n",
       "    <tr>\n",
       "      <th>2</th>\n",
       "      <td>NJ</td>\n",
       "      <td>137</td>\n",
       "      <td>415</td>\n",
       "      <td>No</td>\n",
       "      <td>No</td>\n",
       "      <td>0</td>\n",
       "      <td>243.4</td>\n",
       "      <td>114</td>\n",
       "      <td>41.38</td>\n",
       "      <td>121.2</td>\n",
       "      <td>110</td>\n",
       "      <td>10.30</td>\n",
       "      <td>162.6</td>\n",
       "      <td>104</td>\n",
       "      <td>7.32</td>\n",
       "      <td>12.2</td>\n",
       "      <td>5</td>\n",
       "      <td>3.29</td>\n",
       "      <td>0</td>\n",
       "      <td>False</td>\n",
       "    </tr>\n",
       "    <tr>\n",
       "      <th>3</th>\n",
       "      <td>OH</td>\n",
       "      <td>84</td>\n",
       "      <td>408</td>\n",
       "      <td>Yes</td>\n",
       "      <td>No</td>\n",
       "      <td>0</td>\n",
       "      <td>299.4</td>\n",
       "      <td>71</td>\n",
       "      <td>50.90</td>\n",
       "      <td>61.9</td>\n",
       "      <td>88</td>\n",
       "      <td>5.26</td>\n",
       "      <td>196.9</td>\n",
       "      <td>89</td>\n",
       "      <td>8.86</td>\n",
       "      <td>6.6</td>\n",
       "      <td>7</td>\n",
       "      <td>1.78</td>\n",
       "      <td>2</td>\n",
       "      <td>False</td>\n",
       "    </tr>\n",
       "    <tr>\n",
       "      <th>4</th>\n",
       "      <td>OK</td>\n",
       "      <td>75</td>\n",
       "      <td>415</td>\n",
       "      <td>Yes</td>\n",
       "      <td>No</td>\n",
       "      <td>0</td>\n",
       "      <td>166.7</td>\n",
       "      <td>113</td>\n",
       "      <td>28.34</td>\n",
       "      <td>148.3</td>\n",
       "      <td>122</td>\n",
       "      <td>12.61</td>\n",
       "      <td>186.9</td>\n",
       "      <td>121</td>\n",
       "      <td>8.41</td>\n",
       "      <td>10.1</td>\n",
       "      <td>3</td>\n",
       "      <td>2.73</td>\n",
       "      <td>3</td>\n",
       "      <td>False</td>\n",
       "    </tr>\n",
       "  </tbody>\n",
       "</table>\n",
       "</div>"
      ],
      "text/plain": [
       "  State  Account length  Area code International plan Voice mail plan  \\\n",
       "0    KS             128        415                 No             Yes   \n",
       "1    OH             107        415                 No             Yes   \n",
       "2    NJ             137        415                 No              No   \n",
       "3    OH              84        408                Yes              No   \n",
       "4    OK              75        415                Yes              No   \n",
       "\n",
       "   Number vmail messages  Total day minutes  Total day calls  \\\n",
       "0                     25              265.1              110   \n",
       "1                     26              161.6              123   \n",
       "2                      0              243.4              114   \n",
       "3                      0              299.4               71   \n",
       "4                      0              166.7              113   \n",
       "\n",
       "   Total day charge  Total eve minutes  Total eve calls  Total eve charge  \\\n",
       "0             45.07              197.4               99             16.78   \n",
       "1             27.47              195.5              103             16.62   \n",
       "2             41.38              121.2              110             10.30   \n",
       "3             50.90               61.9               88              5.26   \n",
       "4             28.34              148.3              122             12.61   \n",
       "\n",
       "   Total night minutes  Total night calls  Total night charge  \\\n",
       "0                244.7                 91               11.01   \n",
       "1                254.4                103               11.45   \n",
       "2                162.6                104                7.32   \n",
       "3                196.9                 89                8.86   \n",
       "4                186.9                121                8.41   \n",
       "\n",
       "   Total intl minutes  Total intl calls  Total intl charge  \\\n",
       "0                10.0                 3               2.70   \n",
       "1                13.7                 3               3.70   \n",
       "2                12.2                 5               3.29   \n",
       "3                 6.6                 7               1.78   \n",
       "4                10.1                 3               2.73   \n",
       "\n",
       "   Customer service calls  Churn  \n",
       "0                       1  False  \n",
       "1                       1  False  \n",
       "2                       0  False  \n",
       "3                       2  False  \n",
       "4                       3  False  "
      ]
     },
     "execution_count": 3,
     "metadata": {},
     "output_type": "execute_result"
    }
   ],
   "source": [
    "df.head()"
   ]
  },
  {
   "cell_type": "code",
   "execution_count": 4,
   "metadata": {
    "ExecuteTime": {
     "end_time": "2021-03-24T16:11:04.406094Z",
     "start_time": "2021-03-24T16:11:04.384084Z"
    }
   },
   "outputs": [
    {
     "name": "stdout",
     "output_type": "stream",
     "text": [
      "<class 'pandas.core.frame.DataFrame'>\n",
      "RangeIndex: 3333 entries, 0 to 3332\n",
      "Data columns (total 20 columns):\n",
      " #   Column                  Non-Null Count  Dtype  \n",
      "---  ------                  --------------  -----  \n",
      " 0   State                   3333 non-null   object \n",
      " 1   Account length          3333 non-null   int64  \n",
      " 2   Area code               3333 non-null   int64  \n",
      " 3   International plan      3333 non-null   object \n",
      " 4   Voice mail plan         3333 non-null   object \n",
      " 5   Number vmail messages   3333 non-null   int64  \n",
      " 6   Total day minutes       3333 non-null   float64\n",
      " 7   Total day calls         3333 non-null   int64  \n",
      " 8   Total day charge        3333 non-null   float64\n",
      " 9   Total eve minutes       3333 non-null   float64\n",
      " 10  Total eve calls         3333 non-null   int64  \n",
      " 11  Total eve charge        3333 non-null   float64\n",
      " 12  Total night minutes     3333 non-null   float64\n",
      " 13  Total night calls       3333 non-null   int64  \n",
      " 14  Total night charge      3333 non-null   float64\n",
      " 15  Total intl minutes      3333 non-null   float64\n",
      " 16  Total intl calls        3333 non-null   int64  \n",
      " 17  Total intl charge       3333 non-null   float64\n",
      " 18  Customer service calls  3333 non-null   int64  \n",
      " 19  Churn                   3333 non-null   bool   \n",
      "dtypes: bool(1), float64(8), int64(8), object(3)\n",
      "memory usage: 498.1+ KB\n"
     ]
    }
   ],
   "source": [
    "df.info()"
   ]
  },
  {
   "cell_type": "code",
   "execution_count": 5,
   "metadata": {
    "ExecuteTime": {
     "end_time": "2021-03-24T16:11:06.781970Z",
     "start_time": "2021-03-24T16:11:06.765964Z"
    }
   },
   "outputs": [],
   "source": [
    "df['International plan'] = df['International plan'].map({'Yes': 1, 'No': 0})\n",
    "df['Voice mail plan'] = df['Voice mail plan'].map({'Yes': 1, 'No': 0})\n",
    "\n",
    "y = df['Churn'].astype('int').values\n",
    "X = df.drop('Churn', axis=1).values"
   ]
  },
  {
   "cell_type": "markdown",
   "metadata": {},
   "source": [
    "- Ваше задание\n",
    "    - Провести EDA анализ признаков, которые есть\n",
    "    - Подумать над feature engineering, сформировать гипотезы\n",
    "    - Зафиттить логистическую модель и пробит модель\n",
    "    - Посмотреть на их метрики качества: псевдо $R^2$, confusion matrix, precision, recall, F1-score, ROC AUC\n",
    "    - Какую модель вы бы выбрали?\n",
    "    - Посмотреть на профиль среднего \"клиента\" (наблюдения). Какие переменные надо изменить, чтобы верояность ухода клиента снизилась?\n",
    "    - Перейдем к предсказаниям:\n",
    "        - У вас не всегда будут функции типа `LogisticRegressionCV`, поэтому почитайте про [`GridSearchCV`](https://scikit-learn.org/stable/modules/generated/sklearn.model_selection.GridSearchCV.html)\n",
    "        - Подумайте, какие еще признаки можно добавить в вашу модель. На этом этапе не бойтесь кол-ва признаков, чем больше, тем лучше. *{Дополнительно: почитайте про [`RFECV`](https://scikit-learn.org/stable/auto_examples/feature_selection/plot_rfe_with_cross_validation.html#sphx-glr-auto-examples-feature-selection-plot-rfe-with-cross-validation-py), попробуйте его применить}*\n",
    "        - При наличии достаточного кол-ва наблюдений, хорошей стратегией является использование только части данных для расчета модели. Используя [`train_test_split`](https://scikit-learn.org/stable/modules/generated/sklearn.model_selection.train_test_split.html) выделите наблюдения для обучения.\n",
    "        - Создайте стратифицированные фолды на обучающей выборке\n",
    "        - На практике нам приходится выбирать между различными метриками качества. В этой задаче будем использовать ROC AUC\n",
    "        - Используя `GridSearchCV` и [LogisticRegression](https://scikit-learn.org/stable/modules/generated/sklearn.linear_model.LogisticRegression.html?highlight=logisticregression#sklearn.linear_model.LogisticRegression) подберите оптимальный гиперпараметр для l1, l2 регуляризаций. Помните, что вы хотите, чтобы оптимальный гиперпараметр был выбран согласно метрике ROC AUC. Почитайте, как это сделать в GridSearchCV\n",
    "        - Нарисуйте графики, как меняется ваш score в зависимости от значения гиперпараметра"
   ]
  },
  {
   "cell_type": "code",
   "execution_count": 6,
   "metadata": {},
   "outputs": [
    {
     "data": {
      "text/html": [
       "<div>\n",
       "<style scoped>\n",
       "    .dataframe tbody tr th:only-of-type {\n",
       "        vertical-align: middle;\n",
       "    }\n",
       "\n",
       "    .dataframe tbody tr th {\n",
       "        vertical-align: top;\n",
       "    }\n",
       "\n",
       "    .dataframe thead th {\n",
       "        text-align: right;\n",
       "    }\n",
       "</style>\n",
       "<table border=\"1\" class=\"dataframe\">\n",
       "  <thead>\n",
       "    <tr style=\"text-align: right;\">\n",
       "      <th></th>\n",
       "      <th>Account length</th>\n",
       "      <th>Area code</th>\n",
       "      <th>International plan</th>\n",
       "      <th>Voice mail plan</th>\n",
       "      <th>Number vmail messages</th>\n",
       "      <th>Total day minutes</th>\n",
       "      <th>Total day calls</th>\n",
       "      <th>Total day charge</th>\n",
       "      <th>Total eve minutes</th>\n",
       "      <th>Total eve calls</th>\n",
       "      <th>Total eve charge</th>\n",
       "      <th>Total night minutes</th>\n",
       "      <th>Total night calls</th>\n",
       "      <th>Total night charge</th>\n",
       "      <th>Total intl minutes</th>\n",
       "      <th>Total intl calls</th>\n",
       "      <th>Total intl charge</th>\n",
       "      <th>Customer service calls</th>\n",
       "    </tr>\n",
       "  </thead>\n",
       "  <tbody>\n",
       "    <tr>\n",
       "      <th>count</th>\n",
       "      <td>3333.000000</td>\n",
       "      <td>3333.000000</td>\n",
       "      <td>3333.000000</td>\n",
       "      <td>3333.000000</td>\n",
       "      <td>3333.000000</td>\n",
       "      <td>3333.000000</td>\n",
       "      <td>3333.000000</td>\n",
       "      <td>3333.000000</td>\n",
       "      <td>3333.000000</td>\n",
       "      <td>3333.000000</td>\n",
       "      <td>3333.000000</td>\n",
       "      <td>3333.000000</td>\n",
       "      <td>3333.000000</td>\n",
       "      <td>3333.000000</td>\n",
       "      <td>3333.000000</td>\n",
       "      <td>3333.000000</td>\n",
       "      <td>3333.000000</td>\n",
       "      <td>3333.000000</td>\n",
       "    </tr>\n",
       "    <tr>\n",
       "      <th>mean</th>\n",
       "      <td>101.064806</td>\n",
       "      <td>437.182418</td>\n",
       "      <td>0.096910</td>\n",
       "      <td>0.276628</td>\n",
       "      <td>8.099010</td>\n",
       "      <td>179.775098</td>\n",
       "      <td>100.435644</td>\n",
       "      <td>30.562307</td>\n",
       "      <td>200.980348</td>\n",
       "      <td>100.114311</td>\n",
       "      <td>17.083540</td>\n",
       "      <td>200.872037</td>\n",
       "      <td>100.107711</td>\n",
       "      <td>9.039325</td>\n",
       "      <td>10.237294</td>\n",
       "      <td>4.479448</td>\n",
       "      <td>2.764581</td>\n",
       "      <td>1.562856</td>\n",
       "    </tr>\n",
       "    <tr>\n",
       "      <th>std</th>\n",
       "      <td>39.822106</td>\n",
       "      <td>42.371290</td>\n",
       "      <td>0.295879</td>\n",
       "      <td>0.447398</td>\n",
       "      <td>13.688365</td>\n",
       "      <td>54.467389</td>\n",
       "      <td>20.069084</td>\n",
       "      <td>9.259435</td>\n",
       "      <td>50.713844</td>\n",
       "      <td>19.922625</td>\n",
       "      <td>4.310668</td>\n",
       "      <td>50.573847</td>\n",
       "      <td>19.568609</td>\n",
       "      <td>2.275873</td>\n",
       "      <td>2.791840</td>\n",
       "      <td>2.461214</td>\n",
       "      <td>0.753773</td>\n",
       "      <td>1.315491</td>\n",
       "    </tr>\n",
       "    <tr>\n",
       "      <th>min</th>\n",
       "      <td>1.000000</td>\n",
       "      <td>408.000000</td>\n",
       "      <td>0.000000</td>\n",
       "      <td>0.000000</td>\n",
       "      <td>0.000000</td>\n",
       "      <td>0.000000</td>\n",
       "      <td>0.000000</td>\n",
       "      <td>0.000000</td>\n",
       "      <td>0.000000</td>\n",
       "      <td>0.000000</td>\n",
       "      <td>0.000000</td>\n",
       "      <td>23.200000</td>\n",
       "      <td>33.000000</td>\n",
       "      <td>1.040000</td>\n",
       "      <td>0.000000</td>\n",
       "      <td>0.000000</td>\n",
       "      <td>0.000000</td>\n",
       "      <td>0.000000</td>\n",
       "    </tr>\n",
       "    <tr>\n",
       "      <th>25%</th>\n",
       "      <td>74.000000</td>\n",
       "      <td>408.000000</td>\n",
       "      <td>0.000000</td>\n",
       "      <td>0.000000</td>\n",
       "      <td>0.000000</td>\n",
       "      <td>143.700000</td>\n",
       "      <td>87.000000</td>\n",
       "      <td>24.430000</td>\n",
       "      <td>166.600000</td>\n",
       "      <td>87.000000</td>\n",
       "      <td>14.160000</td>\n",
       "      <td>167.000000</td>\n",
       "      <td>87.000000</td>\n",
       "      <td>7.520000</td>\n",
       "      <td>8.500000</td>\n",
       "      <td>3.000000</td>\n",
       "      <td>2.300000</td>\n",
       "      <td>1.000000</td>\n",
       "    </tr>\n",
       "    <tr>\n",
       "      <th>50%</th>\n",
       "      <td>101.000000</td>\n",
       "      <td>415.000000</td>\n",
       "      <td>0.000000</td>\n",
       "      <td>0.000000</td>\n",
       "      <td>0.000000</td>\n",
       "      <td>179.400000</td>\n",
       "      <td>101.000000</td>\n",
       "      <td>30.500000</td>\n",
       "      <td>201.400000</td>\n",
       "      <td>100.000000</td>\n",
       "      <td>17.120000</td>\n",
       "      <td>201.200000</td>\n",
       "      <td>100.000000</td>\n",
       "      <td>9.050000</td>\n",
       "      <td>10.300000</td>\n",
       "      <td>4.000000</td>\n",
       "      <td>2.780000</td>\n",
       "      <td>1.000000</td>\n",
       "    </tr>\n",
       "    <tr>\n",
       "      <th>75%</th>\n",
       "      <td>127.000000</td>\n",
       "      <td>510.000000</td>\n",
       "      <td>0.000000</td>\n",
       "      <td>1.000000</td>\n",
       "      <td>20.000000</td>\n",
       "      <td>216.400000</td>\n",
       "      <td>114.000000</td>\n",
       "      <td>36.790000</td>\n",
       "      <td>235.300000</td>\n",
       "      <td>114.000000</td>\n",
       "      <td>20.000000</td>\n",
       "      <td>235.300000</td>\n",
       "      <td>113.000000</td>\n",
       "      <td>10.590000</td>\n",
       "      <td>12.100000</td>\n",
       "      <td>6.000000</td>\n",
       "      <td>3.270000</td>\n",
       "      <td>2.000000</td>\n",
       "    </tr>\n",
       "    <tr>\n",
       "      <th>max</th>\n",
       "      <td>243.000000</td>\n",
       "      <td>510.000000</td>\n",
       "      <td>1.000000</td>\n",
       "      <td>1.000000</td>\n",
       "      <td>51.000000</td>\n",
       "      <td>350.800000</td>\n",
       "      <td>165.000000</td>\n",
       "      <td>59.640000</td>\n",
       "      <td>363.700000</td>\n",
       "      <td>170.000000</td>\n",
       "      <td>30.910000</td>\n",
       "      <td>395.000000</td>\n",
       "      <td>175.000000</td>\n",
       "      <td>17.770000</td>\n",
       "      <td>20.000000</td>\n",
       "      <td>20.000000</td>\n",
       "      <td>5.400000</td>\n",
       "      <td>9.000000</td>\n",
       "    </tr>\n",
       "  </tbody>\n",
       "</table>\n",
       "</div>"
      ],
      "text/plain": [
       "       Account length    Area code  International plan  Voice mail plan  \\\n",
       "count     3333.000000  3333.000000         3333.000000      3333.000000   \n",
       "mean       101.064806   437.182418            0.096910         0.276628   \n",
       "std         39.822106    42.371290            0.295879         0.447398   \n",
       "min          1.000000   408.000000            0.000000         0.000000   \n",
       "25%         74.000000   408.000000            0.000000         0.000000   \n",
       "50%        101.000000   415.000000            0.000000         0.000000   \n",
       "75%        127.000000   510.000000            0.000000         1.000000   \n",
       "max        243.000000   510.000000            1.000000         1.000000   \n",
       "\n",
       "       Number vmail messages  Total day minutes  Total day calls  \\\n",
       "count            3333.000000        3333.000000      3333.000000   \n",
       "mean                8.099010         179.775098       100.435644   \n",
       "std                13.688365          54.467389        20.069084   \n",
       "min                 0.000000           0.000000         0.000000   \n",
       "25%                 0.000000         143.700000        87.000000   \n",
       "50%                 0.000000         179.400000       101.000000   \n",
       "75%                20.000000         216.400000       114.000000   \n",
       "max                51.000000         350.800000       165.000000   \n",
       "\n",
       "       Total day charge  Total eve minutes  Total eve calls  Total eve charge  \\\n",
       "count       3333.000000        3333.000000      3333.000000       3333.000000   \n",
       "mean          30.562307         200.980348       100.114311         17.083540   \n",
       "std            9.259435          50.713844        19.922625          4.310668   \n",
       "min            0.000000           0.000000         0.000000          0.000000   \n",
       "25%           24.430000         166.600000        87.000000         14.160000   \n",
       "50%           30.500000         201.400000       100.000000         17.120000   \n",
       "75%           36.790000         235.300000       114.000000         20.000000   \n",
       "max           59.640000         363.700000       170.000000         30.910000   \n",
       "\n",
       "       Total night minutes  Total night calls  Total night charge  \\\n",
       "count          3333.000000        3333.000000         3333.000000   \n",
       "mean            200.872037         100.107711            9.039325   \n",
       "std              50.573847          19.568609            2.275873   \n",
       "min              23.200000          33.000000            1.040000   \n",
       "25%             167.000000          87.000000            7.520000   \n",
       "50%             201.200000         100.000000            9.050000   \n",
       "75%             235.300000         113.000000           10.590000   \n",
       "max             395.000000         175.000000           17.770000   \n",
       "\n",
       "       Total intl minutes  Total intl calls  Total intl charge  \\\n",
       "count         3333.000000       3333.000000        3333.000000   \n",
       "mean            10.237294          4.479448           2.764581   \n",
       "std              2.791840          2.461214           0.753773   \n",
       "min              0.000000          0.000000           0.000000   \n",
       "25%              8.500000          3.000000           2.300000   \n",
       "50%             10.300000          4.000000           2.780000   \n",
       "75%             12.100000          6.000000           3.270000   \n",
       "max             20.000000         20.000000           5.400000   \n",
       "\n",
       "       Customer service calls  \n",
       "count             3333.000000  \n",
       "mean                 1.562856  \n",
       "std                  1.315491  \n",
       "min                  0.000000  \n",
       "25%                  1.000000  \n",
       "50%                  1.000000  \n",
       "75%                  2.000000  \n",
       "max                  9.000000  "
      ]
     },
     "execution_count": 6,
     "metadata": {},
     "output_type": "execute_result"
    }
   ],
   "source": [
    "df.describe()"
   ]
  },
  {
   "cell_type": "code",
   "execution_count": 7,
   "metadata": {},
   "outputs": [
    {
     "data": {
      "text/plain": [
       "array([[<Axes: title={'center': 'Account length'}>,\n",
       "        <Axes: title={'center': 'Area code'}>,\n",
       "        <Axes: title={'center': 'International plan'}>,\n",
       "        <Axes: title={'center': 'Voice mail plan'}>],\n",
       "       [<Axes: title={'center': 'Number vmail messages'}>,\n",
       "        <Axes: title={'center': 'Total day minutes'}>,\n",
       "        <Axes: title={'center': 'Total day calls'}>,\n",
       "        <Axes: title={'center': 'Total day charge'}>],\n",
       "       [<Axes: title={'center': 'Total eve minutes'}>,\n",
       "        <Axes: title={'center': 'Total eve calls'}>,\n",
       "        <Axes: title={'center': 'Total eve charge'}>,\n",
       "        <Axes: title={'center': 'Total night minutes'}>],\n",
       "       [<Axes: title={'center': 'Total night calls'}>,\n",
       "        <Axes: title={'center': 'Total night charge'}>,\n",
       "        <Axes: title={'center': 'Total intl minutes'}>,\n",
       "        <Axes: title={'center': 'Total intl calls'}>],\n",
       "       [<Axes: title={'center': 'Total intl charge'}>,\n",
       "        <Axes: title={'center': 'Customer service calls'}>, <Axes: >,\n",
       "        <Axes: >]], dtype=object)"
      ]
     },
     "execution_count": 7,
     "metadata": {},
     "output_type": "execute_result"
    },
    {
     "data": {
      "image/png": "[encoded data removed]",
      "text/plain": [
       "<Figure size 720x360 with 20 Axes>"
      ]
     },
     "metadata": {
      "needs_background": "light"
     },
     "output_type": "display_data"
    }
   ],
   "source": [
    "df.hist(figsize = (10, 5))"
   ]
  },
  {
   "cell_type": "code",
   "execution_count": 8,
   "metadata": {
    "scrolled": false
   },
   "outputs": [
    {
     "data": {
      "image/png": "[encoded data removed]",
      "text/plain": [
       "<Figure size 432x288 with 1 Axes>"
      ]
     },
     "metadata": {
      "needs_background": "light"
     },
     "output_type": "display_data"
    },
    {
     "data": {
      "image/png": "[encoded data removed]",
      "text/plain": [
       "<Figure size 432x288 with 1 Axes>"
      ]
     },
     "metadata": {
      "needs_background": "light"
     },
     "output_type": "display_data"
    },
    {
     "data": {
      "image/png": "[encoded data removed]",
      "text/plain": [
       "<Figure size 432x288 with 1 Axes>"
      ]
     },
     "metadata": {
      "needs_background": "light"
     },
     "output_type": "display_data"
    },
    {
     "data": {
      "image/png": "[encoded data removed]",
      "text/plain": [
       "<Figure size 432x288 with 1 Axes>"
      ]
     },
     "metadata": {
      "needs_background": "light"
     },
     "output_type": "display_data"
    },
    {
     "data": {
      "image/png": "[encoded data removed]",
      "text/plain": [
       "<Figure size 432x288 with 1 Axes>"
      ]
     },
     "metadata": {
      "needs_background": "light"
     },
     "output_type": "display_data"
    },
    {
     "data": {
      "image/png": "[encoded data removed]",
      "text/plain": [
       "<Figure size 432x288 with 1 Axes>"
      ]
     },
     "metadata": {
      "needs_background": "light"
     },
     "output_type": "display_data"
    },
    {
     "data": {
      "image/png": "[encoded data removed]",
      "text/plain": [
       "<Figure size 432x288 with 1 Axes>"
      ]
     },
     "metadata": {
      "needs_background": "light"
     },
     "output_type": "display_data"
    },
    {
     "data": {
      "image/png": "[encoded data removed]",
      "text/plain": [
       "<Figure size 432x288 with 1 Axes>"
      ]
     },
     "metadata": {
      "needs_background": "light"
     },
     "output_type": "display_data"
    },
    {
     "data": {
      "image/png": "[encoded data removed]",
      "text/plain": [
       "<Figure size 432x288 with 1 Axes>"
      ]
     },
     "metadata": {
      "needs_background": "light"
     },
     "output_type": "display_data"
    },
    {
     "data": {
      "image/png": "[encoded data removed]",
      "text/plain": [
       "<Figure size 432x288 with 1 Axes>"
      ]
     },
     "metadata": {
      "needs_background": "light"
     },
     "output_type": "display_data"
    },
    {
     "data": {
      "image/png": "[encoded data removed]",
      "text/plain": [
       "<Figure size 432x288 with 1 Axes>"
      ]
     },
     "metadata": {
      "needs_background": "light"
     },
     "output_type": "display_data"
    },
    {
     "data": {
      "image/png": "[encoded data removed]",
      "text/plain": [
       "<Figure size 432x288 with 1 Axes>"
      ]
     },
     "metadata": {
      "needs_background": "light"
     },
     "output_type": "display_data"
    },
    {
     "data": {
      "image/png": "[encoded data removed]",
      "text/plain": [
       "<Figure size 432x288 with 1 Axes>"
      ]
     },
     "metadata": {
      "needs_background": "light"
     },
     "output_type": "display_data"
    },
    {
     "data": {
      "image/png": "[encoded data removed]",
      "text/plain": [
       "<Figure size 432x288 with 1 Axes>"
      ]
     },
     "metadata": {
      "needs_background": "light"
     },
     "output_type": "display_data"
    },
    {
     "data": {
      "image/png": "[encoded data removed]",
      "text/plain": [
       "<Figure size 432x288 with 1 Axes>"
      ]
     },
     "metadata": {
      "needs_background": "light"
     },
     "output_type": "display_data"
    },
    {
     "data": {
      "image/png": "[encoded data removed]",
      "text/plain": [
       "<Figure size 432x288 with 1 Axes>"
      ]
     },
     "metadata": {
      "needs_background": "light"
     },
     "output_type": "display_data"
    },
    {
     "data": {
      "image/png": "[encoded data removed]",
      "text/plain": [
       "<Figure size 432x288 with 1 Axes>"
      ]
     },
     "metadata": {
      "needs_background": "light"
     },
     "output_type": "display_data"
    },
    {
     "data": {
      "image/png": "[encoded data removed]",
      "text/plain": [
       "<Figure size 432x288 with 1 Axes>"
      ]
     },
     "metadata": {
      "needs_background": "light"
     },
     "output_type": "display_data"
    },
    {
     "data": {
      "image/png": "[encoded data removed]",
      "text/plain": [
       "<Figure size 432x288 with 1 Axes>"
      ]
     },
     "metadata": {
      "needs_background": "light"
     },
     "output_type": "display_data"
    }
   ],
   "source": [
    "df = pd.read_csv('HW_003_001.txt')\n",
    "df['International plan'] = df['International plan'].map({'Yes': 1, 'No': 0})\n",
    "df['Voice mail plan'] = df['Voice mail plan'].map({'Yes': 1, 'No': 0})\n",
    "df['Churn'] = df['Churn'].astype('int').values\n",
    "df['State'] = pd.Categorical(df['State'])\n",
    "df['State'] = df['State'].cat.codes \n",
    "for i in df.columns:\n",
    "    if i != 'Churn':\n",
    "        df.plot.scatter(x = i, y = 'Churn')"
   ]
  },
  {
   "cell_type": "code",
   "execution_count": 9,
   "metadata": {},
   "outputs": [],
   "source": [
    "import statsmodels.api as sm\n",
    "import seaborn as sns"
   ]
  },
  {
   "cell_type": "code",
   "execution_count": 10,
   "metadata": {},
   "outputs": [
    {
     "data": {
      "text/plain": [
       "<Axes: >"
      ]
     },
     "execution_count": 10,
     "metadata": {},
     "output_type": "execute_result"
    },
    {
     "data": {
      "image/png": "[encoded data removed]",
      "text/plain": [
       "<Figure size 432x288 with 2 Axes>"
      ]
     },
     "metadata": {
      "needs_background": "light"
     },
     "output_type": "display_data"
    }
   ],
   "source": [
    "sns.heatmap(df.corr())"
   ]
  },
  {
   "cell_type": "markdown",
   "metadata": {},
   "source": [
    "Видно, что Total <...> charge и total <...> minutes сильно коррелируют друг с другом. Возьмем `['International plan', 'Total day charge', 'Total eve charge', 'Total intl charge', 'Customer service calls']` в качестве начального пула признаков, посмотрим что будет "
   ]
  },
  {
   "cell_type": "code",
   "execution_count": 11,
   "metadata": {},
   "outputs": [],
   "source": [
    "list1 = ['International plan', \n",
    "         'Total day charge', \n",
    "         'Total eve charge', \n",
    "         'Total intl charge', \n",
    "         'Customer service calls', \n",
    "         ]"
   ]
  },
  {
   "cell_type": "code",
   "execution_count": 12,
   "metadata": {},
   "outputs": [],
   "source": [
    "y = df['Churn']\n",
    "X = df[list1]"
   ]
  },
  {
   "cell_type": "code",
   "execution_count": 13,
   "metadata": {},
   "outputs": [
    {
     "name": "stdout",
     "output_type": "stream",
     "text": [
      "Optimization terminated successfully.\n",
      "         Current function value: 0.335800\n",
      "         Iterations 7\n"
     ]
    },
    {
     "data": {
      "text/html": [
       "<table class=\"simpletable\">\n",
       "<caption>Logit Regression Results</caption>\n",
       "<tr>\n",
       "  <th>Dep. Variable:</th>         <td>Churn</td>      <th>  No. Observations:  </th>   <td>  3333</td>  \n",
       "</tr>\n",
       "<tr>\n",
       "  <th>Model:</th>                 <td>Logit</td>      <th>  Df Residuals:      </th>   <td>  3327</td>  \n",
       "</tr>\n",
       "<tr>\n",
       "  <th>Method:</th>                 <td>MLE</td>       <th>  Df Model:          </th>   <td>     5</td>  \n",
       "</tr>\n",
       "<tr>\n",
       "  <th>Date:</th>            <td>Thu, 30 Mar 2023</td> <th>  Pseudo R-squ.:     </th>   <td>0.1885</td>  \n",
       "</tr>\n",
       "<tr>\n",
       "  <th>Time:</th>                <td>18:23:23</td>     <th>  Log-Likelihood:    </th>  <td> -1119.2</td> \n",
       "</tr>\n",
       "<tr>\n",
       "  <th>converged:</th>             <td>True</td>       <th>  LL-Null:           </th>  <td> -1379.1</td> \n",
       "</tr>\n",
       "<tr>\n",
       "  <th>Covariance Type:</th>     <td>nonrobust</td>    <th>  LLR p-value:       </th> <td>4.144e-110</td>\n",
       "</tr>\n",
       "</table>\n",
       "<table class=\"simpletable\">\n",
       "<tr>\n",
       "             <td></td>               <th>coef</th>     <th>std err</th>      <th>z</th>      <th>P>|z|</th>  <th>[0.025</th>    <th>0.975]</th>  \n",
       "</tr>\n",
       "<tr>\n",
       "  <th>const</th>                  <td>   -7.5621</td> <td>    0.429</td> <td>  -17.615</td> <td> 0.000</td> <td>   -8.403</td> <td>   -6.721</td>\n",
       "</tr>\n",
       "<tr>\n",
       "  <th>International plan</th>     <td>    1.9348</td> <td>    0.141</td> <td>   13.726</td> <td> 0.000</td> <td>    1.659</td> <td>    2.211</td>\n",
       "</tr>\n",
       "<tr>\n",
       "  <th>Total day charge</th>       <td>    0.0740</td> <td>    0.006</td> <td>   11.821</td> <td> 0.000</td> <td>    0.062</td> <td>    0.086</td>\n",
       "</tr>\n",
       "<tr>\n",
       "  <th>Total eve charge</th>       <td>    0.0765</td> <td>    0.013</td> <td>    5.825</td> <td> 0.000</td> <td>    0.051</td> <td>    0.102</td>\n",
       "</tr>\n",
       "<tr>\n",
       "  <th>Total intl charge</th>      <td>    0.2958</td> <td>    0.075</td> <td>    3.966</td> <td> 0.000</td> <td>    0.150</td> <td>    0.442</td>\n",
       "</tr>\n",
       "<tr>\n",
       "  <th>Customer service calls</th> <td>    0.4989</td> <td>    0.038</td> <td>   12.976</td> <td> 0.000</td> <td>    0.424</td> <td>    0.574</td>\n",
       "</tr>\n",
       "</table>"
      ],
      "text/plain": [
       "<class 'statsmodels.iolib.summary.Summary'>\n",
       "\"\"\"\n",
       "                           Logit Regression Results                           \n",
       "==============================================================================\n",
       "Dep. Variable:                  Churn   No. Observations:                 3333\n",
       "Model:                          Logit   Df Residuals:                     3327\n",
       "Method:                           MLE   Df Model:                            5\n",
       "Date:                Thu, 30 Mar 2023   Pseudo R-squ.:                  0.1885\n",
       "Time:                        18:23:23   Log-Likelihood:                -1119.2\n",
       "converged:                       True   LL-Null:                       -1379.1\n",
       "Covariance Type:            nonrobust   LLR p-value:                4.144e-110\n",
       "==========================================================================================\n",
       "                             coef    std err          z      P>|z|      [0.025      0.975]\n",
       "------------------------------------------------------------------------------------------\n",
       "const                     -7.5621      0.429    -17.615      0.000      -8.403      -6.721\n",
       "International plan         1.9348      0.141     13.726      0.000       1.659       2.211\n",
       "Total day charge           0.0740      0.006     11.821      0.000       0.062       0.086\n",
       "Total eve charge           0.0765      0.013      5.825      0.000       0.051       0.102\n",
       "Total intl charge          0.2958      0.075      3.966      0.000       0.150       0.442\n",
       "Customer service calls     0.4989      0.038     12.976      0.000       0.424       0.574\n",
       "==========================================================================================\n",
       "\"\"\""
      ]
     },
     "execution_count": 13,
     "metadata": {},
     "output_type": "execute_result"
    }
   ],
   "source": [
    "logit_mod = sm.Logit(endog=y, exog=sm.add_constant(X)).fit()\n",
    "logit_mod.summary()"
   ]
  },
  {
   "cell_type": "code",
   "execution_count": 14,
   "metadata": {},
   "outputs": [
    {
     "name": "stdout",
     "output_type": "stream",
     "text": [
      "Optimization terminated successfully.\n",
      "         Current function value: 0.334574\n",
      "         Iterations 6\n"
     ]
    },
    {
     "data": {
      "text/html": [
       "<table class=\"simpletable\">\n",
       "<caption>Probit Regression Results</caption>\n",
       "<tr>\n",
       "  <th>Dep. Variable:</th>         <td>Churn</td>      <th>  No. Observations:  </th>   <td>  3333</td>  \n",
       "</tr>\n",
       "<tr>\n",
       "  <th>Model:</th>                <td>Probit</td>      <th>  Df Residuals:      </th>   <td>  3327</td>  \n",
       "</tr>\n",
       "<tr>\n",
       "  <th>Method:</th>                 <td>MLE</td>       <th>  Df Model:          </th>   <td>     5</td>  \n",
       "</tr>\n",
       "<tr>\n",
       "  <th>Date:</th>            <td>Thu, 30 Mar 2023</td> <th>  Pseudo R-squ.:     </th>   <td>0.1914</td>  \n",
       "</tr>\n",
       "<tr>\n",
       "  <th>Time:</th>                <td>18:23:26</td>     <th>  Log-Likelihood:    </th>  <td> -1115.1</td> \n",
       "</tr>\n",
       "<tr>\n",
       "  <th>converged:</th>             <td>True</td>       <th>  LL-Null:           </th>  <td> -1379.1</td> \n",
       "</tr>\n",
       "<tr>\n",
       "  <th>Covariance Type:</th>     <td>nonrobust</td>    <th>  LLR p-value:       </th> <td>7.112e-112</td>\n",
       "</tr>\n",
       "</table>\n",
       "<table class=\"simpletable\">\n",
       "<tr>\n",
       "             <td></td>               <th>coef</th>     <th>std err</th>      <th>z</th>      <th>P>|z|</th>  <th>[0.025</th>    <th>0.975]</th>  \n",
       "</tr>\n",
       "<tr>\n",
       "  <th>const</th>                  <td>   -4.1401</td> <td>    0.221</td> <td>  -18.727</td> <td> 0.000</td> <td>   -4.573</td> <td>   -3.707</td>\n",
       "</tr>\n",
       "<tr>\n",
       "  <th>International plan</th>     <td>    1.1241</td> <td>    0.081</td> <td>   13.911</td> <td> 0.000</td> <td>    0.966</td> <td>    1.283</td>\n",
       "</tr>\n",
       "<tr>\n",
       "  <th>Total day charge</th>       <td>    0.0396</td> <td>    0.003</td> <td>   12.232</td> <td> 0.000</td> <td>    0.033</td> <td>    0.046</td>\n",
       "</tr>\n",
       "<tr>\n",
       "  <th>Total eve charge</th>       <td>    0.0407</td> <td>    0.007</td> <td>    5.750</td> <td> 0.000</td> <td>    0.027</td> <td>    0.055</td>\n",
       "</tr>\n",
       "<tr>\n",
       "  <th>Total intl charge</th>      <td>    0.1491</td> <td>    0.041</td> <td>    3.673</td> <td> 0.000</td> <td>    0.070</td> <td>    0.229</td>\n",
       "</tr>\n",
       "<tr>\n",
       "  <th>Customer service calls</th> <td>    0.2842</td> <td>    0.021</td> <td>   13.732</td> <td> 0.000</td> <td>    0.244</td> <td>    0.325</td>\n",
       "</tr>\n",
       "</table>"
      ],
      "text/plain": [
       "<class 'statsmodels.iolib.summary.Summary'>\n",
       "\"\"\"\n",
       "                          Probit Regression Results                           \n",
       "==============================================================================\n",
       "Dep. Variable:                  Churn   No. Observations:                 3333\n",
       "Model:                         Probit   Df Residuals:                     3327\n",
       "Method:                           MLE   Df Model:                            5\n",
       "Date:                Thu, 30 Mar 2023   Pseudo R-squ.:                  0.1914\n",
       "Time:                        18:23:26   Log-Likelihood:                -1115.1\n",
       "converged:                       True   LL-Null:                       -1379.1\n",
       "Covariance Type:            nonrobust   LLR p-value:                7.112e-112\n",
       "==========================================================================================\n",
       "                             coef    std err          z      P>|z|      [0.025      0.975]\n",
       "------------------------------------------------------------------------------------------\n",
       "const                     -4.1401      0.221    -18.727      0.000      -4.573      -3.707\n",
       "International plan         1.1241      0.081     13.911      0.000       0.966       1.283\n",
       "Total day charge           0.0396      0.003     12.232      0.000       0.033       0.046\n",
       "Total eve charge           0.0407      0.007      5.750      0.000       0.027       0.055\n",
       "Total intl charge          0.1491      0.041      3.673      0.000       0.070       0.229\n",
       "Customer service calls     0.2842      0.021     13.732      0.000       0.244       0.325\n",
       "==========================================================================================\n",
       "\"\"\""
      ]
     },
     "execution_count": 14,
     "metadata": {},
     "output_type": "execute_result"
    }
   ],
   "source": [
    "probit_mod = sm.Probit(endog=y, exog=sm.add_constant(X)).fit()\n",
    "probit_mod.summary()"
   ]
  },
  {
   "cell_type": "markdown",
   "metadata": {},
   "source": [
    "Все признаки получились значимыми, но Pseudo R-squered какой-то неудовлетворительный, постараемся его повысить "
   ]
  },
  {
   "cell_type": "markdown",
   "metadata": {},
   "source": [
    "Давайте предполагать, что какой-то еще признак нужен и если он покажет значимость, то мы его будем оставлять.\n",
    "\n",
    "Я удалил те, которые не прошли проверку значимости, чтобы не загрмождать ноутбук."
   ]
  },
  {
   "cell_type": "code",
   "execution_count": 15,
   "metadata": {},
   "outputs": [
    {
     "name": "stdout",
     "output_type": "stream",
     "text": [
      "Optimization terminated successfully.\n",
      "         Current function value: 0.333547\n",
      "         Iterations 7\n"
     ]
    },
    {
     "data": {
      "text/html": [
       "<table class=\"simpletable\">\n",
       "<caption>Logit Regression Results</caption>\n",
       "<tr>\n",
       "  <th>Dep. Variable:</th>         <td>Churn</td>      <th>  No. Observations:  </th>   <td>  3333</td>  \n",
       "</tr>\n",
       "<tr>\n",
       "  <th>Model:</th>                 <td>Logit</td>      <th>  Df Residuals:      </th>   <td>  3326</td>  \n",
       "</tr>\n",
       "<tr>\n",
       "  <th>Method:</th>                 <td>MLE</td>       <th>  Df Model:          </th>   <td>     6</td>  \n",
       "</tr>\n",
       "<tr>\n",
       "  <th>Date:</th>            <td>Thu, 30 Mar 2023</td> <th>  Pseudo R-squ.:     </th>   <td>0.1939</td>  \n",
       "</tr>\n",
       "<tr>\n",
       "  <th>Time:</th>                <td>18:23:30</td>     <th>  Log-Likelihood:    </th>  <td> -1111.7</td> \n",
       "</tr>\n",
       "<tr>\n",
       "  <th>converged:</th>             <td>True</td>       <th>  LL-Null:           </th>  <td> -1379.1</td> \n",
       "</tr>\n",
       "<tr>\n",
       "  <th>Covariance Type:</th>     <td>nonrobust</td>    <th>  LLR p-value:       </th> <td>2.579e-112</td>\n",
       "</tr>\n",
       "</table>\n",
       "<table class=\"simpletable\">\n",
       "<tr>\n",
       "             <td></td>               <th>coef</th>     <th>std err</th>      <th>z</th>      <th>P>|z|</th>  <th>[0.025</th>    <th>0.975]</th>  \n",
       "</tr>\n",
       "<tr>\n",
       "  <th>const</th>                  <td>   -7.2539</td> <td>    0.436</td> <td>  -16.655</td> <td> 0.000</td> <td>   -8.108</td> <td>   -6.400</td>\n",
       "</tr>\n",
       "<tr>\n",
       "  <th>International plan</th>     <td>    1.9584</td> <td>    0.142</td> <td>   13.815</td> <td> 0.000</td> <td>    1.681</td> <td>    2.236</td>\n",
       "</tr>\n",
       "<tr>\n",
       "  <th>Total day charge</th>       <td>    0.0748</td> <td>    0.006</td> <td>   11.895</td> <td> 0.000</td> <td>    0.062</td> <td>    0.087</td>\n",
       "</tr>\n",
       "<tr>\n",
       "  <th>Total eve charge</th>       <td>    0.0773</td> <td>    0.013</td> <td>    5.874</td> <td> 0.000</td> <td>    0.052</td> <td>    0.103</td>\n",
       "</tr>\n",
       "<tr>\n",
       "  <th>Total intl charge</th>      <td>    0.3105</td> <td>    0.075</td> <td>    4.158</td> <td> 0.000</td> <td>    0.164</td> <td>    0.457</td>\n",
       "</tr>\n",
       "<tr>\n",
       "  <th>Customer service calls</th> <td>    0.5003</td> <td>    0.039</td> <td>   12.983</td> <td> 0.000</td> <td>    0.425</td> <td>    0.576</td>\n",
       "</tr>\n",
       "<tr>\n",
       "  <th>Total intl calls</th>       <td>   -0.0919</td> <td>    0.024</td> <td>   -3.755</td> <td> 0.000</td> <td>   -0.140</td> <td>   -0.044</td>\n",
       "</tr>\n",
       "</table>"
      ],
      "text/plain": [
       "<class 'statsmodels.iolib.summary.Summary'>\n",
       "\"\"\"\n",
       "                           Logit Regression Results                           \n",
       "==============================================================================\n",
       "Dep. Variable:                  Churn   No. Observations:                 3333\n",
       "Model:                          Logit   Df Residuals:                     3326\n",
       "Method:                           MLE   Df Model:                            6\n",
       "Date:                Thu, 30 Mar 2023   Pseudo R-squ.:                  0.1939\n",
       "Time:                        18:23:30   Log-Likelihood:                -1111.7\n",
       "converged:                       True   LL-Null:                       -1379.1\n",
       "Covariance Type:            nonrobust   LLR p-value:                2.579e-112\n",
       "==========================================================================================\n",
       "                             coef    std err          z      P>|z|      [0.025      0.975]\n",
       "------------------------------------------------------------------------------------------\n",
       "const                     -7.2539      0.436    -16.655      0.000      -8.108      -6.400\n",
       "International plan         1.9584      0.142     13.815      0.000       1.681       2.236\n",
       "Total day charge           0.0748      0.006     11.895      0.000       0.062       0.087\n",
       "Total eve charge           0.0773      0.013      5.874      0.000       0.052       0.103\n",
       "Total intl charge          0.3105      0.075      4.158      0.000       0.164       0.457\n",
       "Customer service calls     0.5003      0.039     12.983      0.000       0.425       0.576\n",
       "Total intl calls          -0.0919      0.024     -3.755      0.000      -0.140      -0.044\n",
       "==========================================================================================\n",
       "\"\"\""
      ]
     },
     "execution_count": 15,
     "metadata": {},
     "output_type": "execute_result"
    }
   ],
   "source": [
    "list1 = ['International plan', \n",
    "         'Total day charge', \n",
    "         'Total eve charge', \n",
    "         'Total intl charge', \n",
    "         'Customer service calls', \n",
    "         'Total intl calls',\n",
    "         ]\n",
    "y = df['Churn']\n",
    "X = df[list1]\n",
    "logit_mod = sm.Logit(endog=y, exog=sm.add_constant(X)).fit()\n",
    "logit_mod.summary()"
   ]
  },
  {
   "cell_type": "code",
   "execution_count": 16,
   "metadata": {},
   "outputs": [
    {
     "name": "stdout",
     "output_type": "stream",
     "text": [
      "Optimization terminated successfully.\n",
      "         Current function value: 0.332002\n",
      "         Iterations 7\n"
     ]
    },
    {
     "data": {
      "text/html": [
       "<table class=\"simpletable\">\n",
       "<caption>Logit Regression Results</caption>\n",
       "<tr>\n",
       "  <th>Dep. Variable:</th>         <td>Churn</td>      <th>  No. Observations:  </th>   <td>  3333</td>  \n",
       "</tr>\n",
       "<tr>\n",
       "  <th>Model:</th>                 <td>Logit</td>      <th>  Df Residuals:      </th>   <td>  3325</td>  \n",
       "</tr>\n",
       "<tr>\n",
       "  <th>Method:</th>                 <td>MLE</td>       <th>  Df Model:          </th>   <td>     7</td>  \n",
       "</tr>\n",
       "<tr>\n",
       "  <th>Date:</th>            <td>Thu, 30 Mar 2023</td> <th>  Pseudo R-squ.:     </th>   <td>0.1976</td>  \n",
       "</tr>\n",
       "<tr>\n",
       "  <th>Time:</th>                <td>18:23:31</td>     <th>  Log-Likelihood:    </th>  <td> -1106.6</td> \n",
       "</tr>\n",
       "<tr>\n",
       "  <th>converged:</th>             <td>True</td>       <th>  LL-Null:           </th>  <td> -1379.1</td> \n",
       "</tr>\n",
       "<tr>\n",
       "  <th>Covariance Type:</th>     <td>nonrobust</td>    <th>  LLR p-value:       </th> <td>1.549e-113</td>\n",
       "</tr>\n",
       "</table>\n",
       "<table class=\"simpletable\">\n",
       "<tr>\n",
       "             <td></td>               <th>coef</th>     <th>std err</th>      <th>z</th>      <th>P>|z|</th>  <th>[0.025</th>    <th>0.975]</th>  \n",
       "</tr>\n",
       "<tr>\n",
       "  <th>const</th>                  <td>   -8.0379</td> <td>    0.506</td> <td>  -15.870</td> <td> 0.000</td> <td>   -9.031</td> <td>   -7.045</td>\n",
       "</tr>\n",
       "<tr>\n",
       "  <th>International plan</th>     <td>    1.9877</td> <td>    0.143</td> <td>   13.936</td> <td> 0.000</td> <td>    1.708</td> <td>    2.267</td>\n",
       "</tr>\n",
       "<tr>\n",
       "  <th>Total day charge</th>       <td>    0.0753</td> <td>    0.006</td> <td>   11.940</td> <td> 0.000</td> <td>    0.063</td> <td>    0.088</td>\n",
       "</tr>\n",
       "<tr>\n",
       "  <th>Total eve charge</th>       <td>    0.0792</td> <td>    0.013</td> <td>    5.988</td> <td> 0.000</td> <td>    0.053</td> <td>    0.105</td>\n",
       "</tr>\n",
       "<tr>\n",
       "  <th>Total intl charge</th>      <td>    0.3141</td> <td>    0.075</td> <td>    4.199</td> <td> 0.000</td> <td>    0.167</td> <td>    0.461</td>\n",
       "</tr>\n",
       "<tr>\n",
       "  <th>Customer service calls</th> <td>    0.5061</td> <td>    0.039</td> <td>   13.072</td> <td> 0.000</td> <td>    0.430</td> <td>    0.582</td>\n",
       "</tr>\n",
       "<tr>\n",
       "  <th>Total intl calls</th>       <td>   -0.0924</td> <td>    0.025</td> <td>   -3.761</td> <td> 0.000</td> <td>   -0.141</td> <td>   -0.044</td>\n",
       "</tr>\n",
       "<tr>\n",
       "  <th>Total night minutes</th>    <td>    0.0035</td> <td>    0.001</td> <td>    3.201</td> <td> 0.001</td> <td>    0.001</td> <td>    0.006</td>\n",
       "</tr>\n",
       "</table>"
      ],
      "text/plain": [
       "<class 'statsmodels.iolib.summary.Summary'>\n",
       "\"\"\"\n",
       "                           Logit Regression Results                           \n",
       "==============================================================================\n",
       "Dep. Variable:                  Churn   No. Observations:                 3333\n",
       "Model:                          Logit   Df Residuals:                     3325\n",
       "Method:                           MLE   Df Model:                            7\n",
       "Date:                Thu, 30 Mar 2023   Pseudo R-squ.:                  0.1976\n",
       "Time:                        18:23:31   Log-Likelihood:                -1106.6\n",
       "converged:                       True   LL-Null:                       -1379.1\n",
       "Covariance Type:            nonrobust   LLR p-value:                1.549e-113\n",
       "==========================================================================================\n",
       "                             coef    std err          z      P>|z|      [0.025      0.975]\n",
       "------------------------------------------------------------------------------------------\n",
       "const                     -8.0379      0.506    -15.870      0.000      -9.031      -7.045\n",
       "International plan         1.9877      0.143     13.936      0.000       1.708       2.267\n",
       "Total day charge           0.0753      0.006     11.940      0.000       0.063       0.088\n",
       "Total eve charge           0.0792      0.013      5.988      0.000       0.053       0.105\n",
       "Total intl charge          0.3141      0.075      4.199      0.000       0.167       0.461\n",
       "Customer service calls     0.5061      0.039     13.072      0.000       0.430       0.582\n",
       "Total intl calls          -0.0924      0.025     -3.761      0.000      -0.141      -0.044\n",
       "Total night minutes        0.0035      0.001      3.201      0.001       0.001       0.006\n",
       "==========================================================================================\n",
       "\"\"\""
      ]
     },
     "execution_count": 16,
     "metadata": {},
     "output_type": "execute_result"
    }
   ],
   "source": [
    "list1 = ['International plan', \n",
    "         'Total day charge', \n",
    "         'Total eve charge', \n",
    "         'Total intl charge', \n",
    "         'Customer service calls', \n",
    "         'Total intl calls',\n",
    "         'Total night minutes',\n",
    "         ]\n",
    "y = df['Churn']\n",
    "X = df[list1]\n",
    "logit_mod = sm.Logit(endog=y, exog=sm.add_constant(X)).fit()\n",
    "logit_mod.summary()"
   ]
  },
  {
   "cell_type": "code",
   "execution_count": 17,
   "metadata": {},
   "outputs": [
    {
     "name": "stdout",
     "output_type": "stream",
     "text": [
      "Optimization terminated successfully.\n",
      "         Current function value: 0.324861\n",
      "         Iterations 7\n"
     ]
    },
    {
     "data": {
      "text/html": [
       "<table class=\"simpletable\">\n",
       "<caption>Logit Regression Results</caption>\n",
       "<tr>\n",
       "  <th>Dep. Variable:</th>         <td>Churn</td>      <th>  No. Observations:  </th>   <td>  3333</td>  \n",
       "</tr>\n",
       "<tr>\n",
       "  <th>Model:</th>                 <td>Logit</td>      <th>  Df Residuals:      </th>   <td>  3324</td>  \n",
       "</tr>\n",
       "<tr>\n",
       "  <th>Method:</th>                 <td>MLE</td>       <th>  Df Model:          </th>   <td>     8</td>  \n",
       "</tr>\n",
       "<tr>\n",
       "  <th>Date:</th>            <td>Thu, 30 Mar 2023</td> <th>  Pseudo R-squ.:     </th>   <td>0.2149</td>  \n",
       "</tr>\n",
       "<tr>\n",
       "  <th>Time:</th>                <td>18:23:32</td>     <th>  Log-Likelihood:    </th>  <td> -1082.8</td> \n",
       "</tr>\n",
       "<tr>\n",
       "  <th>converged:</th>             <td>True</td>       <th>  LL-Null:           </th>  <td> -1379.1</td> \n",
       "</tr>\n",
       "<tr>\n",
       "  <th>Covariance Type:</th>     <td>nonrobust</td>    <th>  LLR p-value:       </th> <td>8.381e-123</td>\n",
       "</tr>\n",
       "</table>\n",
       "<table class=\"simpletable\">\n",
       "<tr>\n",
       "             <td></td>               <th>coef</th>     <th>std err</th>      <th>z</th>      <th>P>|z|</th>  <th>[0.025</th>    <th>0.975]</th>  \n",
       "</tr>\n",
       "<tr>\n",
       "  <th>const</th>                  <td>   -8.0489</td> <td>    0.514</td> <td>  -15.649</td> <td> 0.000</td> <td>   -9.057</td> <td>   -7.041</td>\n",
       "</tr>\n",
       "<tr>\n",
       "  <th>International plan</th>     <td>    2.0419</td> <td>    0.145</td> <td>   14.066</td> <td> 0.000</td> <td>    1.757</td> <td>    2.326</td>\n",
       "</tr>\n",
       "<tr>\n",
       "  <th>Total day charge</th>       <td>    0.0765</td> <td>    0.006</td> <td>   12.018</td> <td> 0.000</td> <td>    0.064</td> <td>    0.089</td>\n",
       "</tr>\n",
       "<tr>\n",
       "  <th>Total eve charge</th>       <td>    0.0843</td> <td>    0.013</td> <td>    6.283</td> <td> 0.000</td> <td>    0.058</td> <td>    0.111</td>\n",
       "</tr>\n",
       "<tr>\n",
       "  <th>Total intl charge</th>      <td>    0.3240</td> <td>    0.075</td> <td>    4.299</td> <td> 0.000</td> <td>    0.176</td> <td>    0.472</td>\n",
       "</tr>\n",
       "<tr>\n",
       "  <th>Customer service calls</th> <td>    0.5126</td> <td>    0.039</td> <td>   13.109</td> <td> 0.000</td> <td>    0.436</td> <td>    0.589</td>\n",
       "</tr>\n",
       "<tr>\n",
       "  <th>Total intl calls</th>       <td>   -0.0914</td> <td>    0.025</td> <td>   -3.664</td> <td> 0.000</td> <td>   -0.140</td> <td>   -0.043</td>\n",
       "</tr>\n",
       "<tr>\n",
       "  <th>Total night minutes</th>    <td>    0.0037</td> <td>    0.001</td> <td>    3.309</td> <td> 0.001</td> <td>    0.001</td> <td>    0.006</td>\n",
       "</tr>\n",
       "<tr>\n",
       "  <th>Voice mail plan</th>        <td>   -0.9382</td> <td>    0.145</td> <td>   -6.479</td> <td> 0.000</td> <td>   -1.222</td> <td>   -0.654</td>\n",
       "</tr>\n",
       "</table>"
      ],
      "text/plain": [
       "<class 'statsmodels.iolib.summary.Summary'>\n",
       "\"\"\"\n",
       "                           Logit Regression Results                           \n",
       "==============================================================================\n",
       "Dep. Variable:                  Churn   No. Observations:                 3333\n",
       "Model:                          Logit   Df Residuals:                     3324\n",
       "Method:                           MLE   Df Model:                            8\n",
       "Date:                Thu, 30 Mar 2023   Pseudo R-squ.:                  0.2149\n",
       "Time:                        18:23:32   Log-Likelihood:                -1082.8\n",
       "converged:                       True   LL-Null:                       -1379.1\n",
       "Covariance Type:            nonrobust   LLR p-value:                8.381e-123\n",
       "==========================================================================================\n",
       "                             coef    std err          z      P>|z|      [0.025      0.975]\n",
       "------------------------------------------------------------------------------------------\n",
       "const                     -8.0489      0.514    -15.649      0.000      -9.057      -7.041\n",
       "International plan         2.0419      0.145     14.066      0.000       1.757       2.326\n",
       "Total day charge           0.0765      0.006     12.018      0.000       0.064       0.089\n",
       "Total eve charge           0.0843      0.013      6.283      0.000       0.058       0.111\n",
       "Total intl charge          0.3240      0.075      4.299      0.000       0.176       0.472\n",
       "Customer service calls     0.5126      0.039     13.109      0.000       0.436       0.589\n",
       "Total intl calls          -0.0914      0.025     -3.664      0.000      -0.140      -0.043\n",
       "Total night minutes        0.0037      0.001      3.309      0.001       0.001       0.006\n",
       "Voice mail plan           -0.9382      0.145     -6.479      0.000      -1.222      -0.654\n",
       "==========================================================================================\n",
       "\"\"\""
      ]
     },
     "execution_count": 17,
     "metadata": {},
     "output_type": "execute_result"
    }
   ],
   "source": [
    "list1 = ['International plan', \n",
    "         'Total day charge', \n",
    "         'Total eve charge', \n",
    "         'Total intl charge', \n",
    "         'Customer service calls', \n",
    "         'Total intl calls',\n",
    "         'Total night minutes',\n",
    "         'Voice mail plan',\n",
    "         ]\n",
    "y = df['Churn']\n",
    "X = df[list1]\n",
    "logit_mod = sm.Logit(endog=y, exog=sm.add_constant(X)).fit()\n",
    "logit_mod.summary()"
   ]
  },
  {
   "cell_type": "code",
   "execution_count": 18,
   "metadata": {},
   "outputs": [
    {
     "name": "stdout",
     "output_type": "stream",
     "text": [
      "Optimization terminated successfully.\n",
      "         Current function value: 0.324833\n",
      "         Iterations 7\n"
     ]
    },
    {
     "data": {
      "text/html": [
       "<table class=\"simpletable\">\n",
       "<caption>Probit Regression Results</caption>\n",
       "<tr>\n",
       "  <th>Dep. Variable:</th>         <td>Churn</td>      <th>  No. Observations:  </th>   <td>  3333</td>  \n",
       "</tr>\n",
       "<tr>\n",
       "  <th>Model:</th>                <td>Probit</td>      <th>  Df Residuals:      </th>   <td>  3324</td>  \n",
       "</tr>\n",
       "<tr>\n",
       "  <th>Method:</th>                 <td>MLE</td>       <th>  Df Model:          </th>   <td>     8</td>  \n",
       "</tr>\n",
       "<tr>\n",
       "  <th>Date:</th>            <td>Thu, 30 Mar 2023</td> <th>  Pseudo R-squ.:     </th>   <td>0.2150</td>  \n",
       "</tr>\n",
       "<tr>\n",
       "  <th>Time:</th>                <td>18:23:33</td>     <th>  Log-Likelihood:    </th>  <td> -1082.7</td> \n",
       "</tr>\n",
       "<tr>\n",
       "  <th>converged:</th>             <td>True</td>       <th>  LL-Null:           </th>  <td> -1379.1</td> \n",
       "</tr>\n",
       "<tr>\n",
       "  <th>Covariance Type:</th>     <td>nonrobust</td>    <th>  LLR p-value:       </th> <td>7.639e-123</td>\n",
       "</tr>\n",
       "</table>\n",
       "<table class=\"simpletable\">\n",
       "<tr>\n",
       "             <td></td>               <th>coef</th>     <th>std err</th>      <th>z</th>      <th>P>|z|</th>  <th>[0.025</th>    <th>0.975]</th>  \n",
       "</tr>\n",
       "<tr>\n",
       "  <th>const</th>                  <td>   -4.3286</td> <td>    0.265</td> <td>  -16.328</td> <td> 0.000</td> <td>   -4.848</td> <td>   -3.809</td>\n",
       "</tr>\n",
       "<tr>\n",
       "  <th>International plan</th>     <td>    1.1737</td> <td>    0.082</td> <td>   14.275</td> <td> 0.000</td> <td>    1.013</td> <td>    1.335</td>\n",
       "</tr>\n",
       "<tr>\n",
       "  <th>Total day charge</th>       <td>    0.0401</td> <td>    0.003</td> <td>   12.146</td> <td> 0.000</td> <td>    0.034</td> <td>    0.047</td>\n",
       "</tr>\n",
       "<tr>\n",
       "  <th>Total eve charge</th>       <td>    0.0429</td> <td>    0.007</td> <td>    5.955</td> <td> 0.000</td> <td>    0.029</td> <td>    0.057</td>\n",
       "</tr>\n",
       "<tr>\n",
       "  <th>Total intl charge</th>      <td>    0.1629</td> <td>    0.041</td> <td>    3.973</td> <td> 0.000</td> <td>    0.083</td> <td>    0.243</td>\n",
       "</tr>\n",
       "<tr>\n",
       "  <th>Customer service calls</th> <td>    0.2910</td> <td>    0.021</td> <td>   13.837</td> <td> 0.000</td> <td>    0.250</td> <td>    0.332</td>\n",
       "</tr>\n",
       "<tr>\n",
       "  <th>Total intl calls</th>       <td>   -0.0432</td> <td>    0.013</td> <td>   -3.360</td> <td> 0.001</td> <td>   -0.068</td> <td>   -0.018</td>\n",
       "</tr>\n",
       "<tr>\n",
       "  <th>Total night minutes</th>    <td>    0.0018</td> <td>    0.001</td> <td>    3.026</td> <td> 0.002</td> <td>    0.001</td> <td>    0.003</td>\n",
       "</tr>\n",
       "<tr>\n",
       "  <th>Voice mail plan</th>        <td>   -0.4727</td> <td>    0.075</td> <td>   -6.313</td> <td> 0.000</td> <td>   -0.619</td> <td>   -0.326</td>\n",
       "</tr>\n",
       "</table>"
      ],
      "text/plain": [
       "<class 'statsmodels.iolib.summary.Summary'>\n",
       "\"\"\"\n",
       "                          Probit Regression Results                           \n",
       "==============================================================================\n",
       "Dep. Variable:                  Churn   No. Observations:                 3333\n",
       "Model:                         Probit   Df Residuals:                     3324\n",
       "Method:                           MLE   Df Model:                            8\n",
       "Date:                Thu, 30 Mar 2023   Pseudo R-squ.:                  0.2150\n",
       "Time:                        18:23:33   Log-Likelihood:                -1082.7\n",
       "converged:                       True   LL-Null:                       -1379.1\n",
       "Covariance Type:            nonrobust   LLR p-value:                7.639e-123\n",
       "==========================================================================================\n",
       "                             coef    std err          z      P>|z|      [0.025      0.975]\n",
       "------------------------------------------------------------------------------------------\n",
       "const                     -4.3286      0.265    -16.328      0.000      -4.848      -3.809\n",
       "International plan         1.1737      0.082     14.275      0.000       1.013       1.335\n",
       "Total day charge           0.0401      0.003     12.146      0.000       0.034       0.047\n",
       "Total eve charge           0.0429      0.007      5.955      0.000       0.029       0.057\n",
       "Total intl charge          0.1629      0.041      3.973      0.000       0.083       0.243\n",
       "Customer service calls     0.2910      0.021     13.837      0.000       0.250       0.332\n",
       "Total intl calls          -0.0432      0.013     -3.360      0.001      -0.068      -0.018\n",
       "Total night minutes        0.0018      0.001      3.026      0.002       0.001       0.003\n",
       "Voice mail plan           -0.4727      0.075     -6.313      0.000      -0.619      -0.326\n",
       "==========================================================================================\n",
       "\"\"\""
      ]
     },
     "execution_count": 18,
     "metadata": {},
     "output_type": "execute_result"
    }
   ],
   "source": [
    "probit_mod = sm.Probit(endog=y, exog=sm.add_constant(X)).fit()\n",
    "probit_mod.summary()"
   ]
  },
  {
   "cell_type": "markdown",
   "metadata": {},
   "source": [
    "Остальные не приводят к увеличению Pseudo R-squ, либо абсолютно не значимы.\n",
    "\n",
    "Нам удалось повысить Pseudo R-squ\n",
    "\n",
    "Посмотрим на другие метрики."
   ]
  },
  {
   "cell_type": "code",
   "execution_count": 19,
   "metadata": {},
   "outputs": [],
   "source": [
    "from sklearn.metrics import confusion_matrix\n",
    "import numpy as np"
   ]
  },
  {
   "cell_type": "code",
   "execution_count": 20,
   "metadata": {},
   "outputs": [],
   "source": [
    "y_pred_logit = np.where(logit_mod.predict(sm.add_constant(X)) > 0.5, 1, 0)\n",
    "y_pred_probit = np.where(probit_mod.predict(sm.add_constant(X)) > 0.5, 1, 0)"
   ]
  },
  {
   "cell_type": "code",
   "execution_count": 21,
   "metadata": {},
   "outputs": [
    {
     "data": {
      "text/plain": [
       "array([[2773,   77],\n",
       "       [ 379,  104]], dtype=int64)"
      ]
     },
     "execution_count": 21,
     "metadata": {},
     "output_type": "execute_result"
    }
   ],
   "source": [
    "confusion_matrix(y_true=y, y_pred=y_pred_logit)"
   ]
  },
  {
   "cell_type": "code",
   "execution_count": 22,
   "metadata": {},
   "outputs": [],
   "source": [
    "TP_logit = np.sum((y_pred_logit == 1) & (y == 1))\n",
    "TN_logit = np.sum((y_pred_logit == 0) & (y == 0))\n",
    "FP_logit = np.sum((y_pred_logit == 1) & (y == 0))\n",
    "FN_logit = np.sum((y_pred_logit == 0) & (y == 1))\n",
    "\n",
    "TP_probit = np.sum((y_pred_probit == 1) & (y == 1))\n",
    "TN_probit = np.sum((y_pred_probit == 0) & (y == 0))\n",
    "FP_probit = np.sum((y_pred_probit == 1) & (y == 0))\n",
    "FN_probit = np.sum((y_pred_probit == 0) & (y == 1))"
   ]
  },
  {
   "cell_type": "markdown",
   "metadata": {},
   "source": [
    "Посчитаем precision и recall моделей"
   ]
  },
  {
   "cell_type": "code",
   "execution_count": 23,
   "metadata": {},
   "outputs": [],
   "source": [
    "precision_logit = TP_logit / (TP_logit + FP_logit)\n",
    "recall_logit = TP_logit / (TP_logit + FN_logit)\n",
    "\n",
    "precision_probit = TP_probit / (TP_probit + FP_probit)\n",
    "recall_probit = TP_probit / (TP_probit + FN_probit)"
   ]
  },
  {
   "cell_type": "code",
   "execution_count": 24,
   "metadata": {},
   "outputs": [],
   "source": [
    "from sklearn.metrics import roc_curve, auc, f1_score\n",
    "import matplotlib.pyplot as plt"
   ]
  },
  {
   "cell_type": "code",
   "execution_count": 25,
   "metadata": {},
   "outputs": [],
   "source": [
    "f1_logit = f1_score(y_true=y, y_pred=y_pred_logit)\n",
    "f1_probit = f1_score(y_true=y, y_pred=y_pred_probit)"
   ]
  },
  {
   "cell_type": "markdown",
   "metadata": {},
   "source": [
    "Покажем сводку результатов для обеих моделей"
   ]
  },
  {
   "cell_type": "code",
   "execution_count": 26,
   "metadata": {},
   "outputs": [
    {
     "name": "stdout",
     "output_type": "stream",
     "text": [
      "---------------------------------------------------------------------------\n",
      "LOGIT MODEL\n",
      "---------------------------------------------------------------------------\n",
      "TP = 104, FP = 77\n",
      "FN = 379, TN = 2773 \n",
      "\n",
      "Precision = 0.574585635359116, Recall = 0.2153209109730849\n",
      "F1_score = 0.3132530120481928 \n",
      "\n",
      "---------------------------------------------------------------------------\n",
      "PROBIT MODEL\n",
      "---------------------------------------------------------------------------\n",
      "TP = 95, FP = 70\n",
      "FN = 388, TN = 2780 \n",
      "\n",
      "Precision = 0.5757575757575758, Recall = 0.19668737060041408\n",
      "F1_score = 0.2932098765432099 \n",
      "\n"
     ]
    },
    {
     "data": {
      "image/png": "[encoded data removed]",
      "text/plain": [
       "<Figure size 432x288 with 1 Axes>"
      ]
     },
     "metadata": {
      "needs_background": "light"
     },
     "output_type": "display_data"
    }
   ],
   "source": [
    "print('-'*75)\n",
    "print('LOGIT MODEL')\n",
    "print('-'*75)\n",
    "print(f'TP = {TP_logit}, FP = {FP_logit}')\n",
    "print(f'FN = {FN_logit}, TN = {TN_logit}', '\\n')\n",
    "print(f'Precision = {precision_logit}, Recall = {recall_logit}')\n",
    "print(f'F1_score = {f1_logit}', '\\n')\n",
    "print('-'*75)\n",
    "print('PROBIT MODEL')\n",
    "print('-'*75)\n",
    "print(f'TP = {TP_probit}, FP = {FP_probit}')\n",
    "print(f'FN = {FN_probit}, TN = {TN_probit}', '\\n')\n",
    "print(f'Precision = {precision_probit}, Recall = {recall_probit}')\n",
    "print(f'F1_score = {f1_probit}', '\\n')\n",
    "\n",
    "fpr_logit, tpr_logit, threshold = roc_curve(y, y_pred_logit)\n",
    "roc_auc_logit = auc(fpr_logit, tpr_logit)\n",
    "fpr_probit, tpr_probit, threshold = roc_curve(y, y_pred_probit)\n",
    "roc_auc_probit = auc(fpr_probit, tpr_probit)\n",
    "plt.title('ROC')\n",
    "plt.plot(fpr_logit, tpr_logit, 'b', label = 'AUC_logit = %0.3f' % roc_auc_logit)\n",
    "plt.plot(fpr_probit, tpr_probit, 'g', label = 'AUC_probit = %0.3f' % roc_auc_probit)\n",
    "plt.legend(loc = 'lower right')\n",
    "plt.plot([0, 1], [0, 1], 'r--')\n",
    "plt.xlim([0, 1])\n",
    "plt.ylim([0, 1])\n",
    "plt.ylabel('TPR')\n",
    "plt.xlabel('FPR')\n",
    "plt.show()"
   ]
  },
  {
   "cell_type": "markdown",
   "metadata": {},
   "source": [
    "Logit имеет больший precision, f1-score, а также большую площадь под ROC кривой. Следовательно, logit модель в данном случае показывает себя лучше, чем probit модель. Но вообще, модели очень плохо показали себя на roc-auc, может быть выборка несбалансированная. (Далее мы проверим это предположение на кросс-валидации)"
   ]
  },
  {
   "cell_type": "code",
   "execution_count": 27,
   "metadata": {},
   "outputs": [
    {
     "data": {
      "text/html": [
       "<table class=\"simpletable\">\n",
       "<caption>Logit Marginal Effects</caption>\n",
       "<tr>\n",
       "  <th>Dep. Variable:</th> <td>Churn</td>\n",
       "</tr>\n",
       "<tr>\n",
       "  <th>Method:</th>        <td>dydx</td> \n",
       "</tr>\n",
       "<tr>\n",
       "  <th>At:</th>            <td>mean</td> \n",
       "</tr>\n",
       "</table>\n",
       "<table class=\"simpletable\">\n",
       "<tr>\n",
       "             <th></th>               <th>dy/dx</th>    <th>std err</th>      <th>z</th>      <th>P>|z|</th>  <th>[0.025</th>    <th>0.975]</th>  \n",
       "</tr>\n",
       "<tr>\n",
       "  <th>International plan</th>     <td>    0.1679</td> <td>    0.013</td> <td>   13.112</td> <td> 0.000</td> <td>    0.143</td> <td>    0.193</td>\n",
       "</tr>\n",
       "<tr>\n",
       "  <th>Total day charge</th>       <td>    0.0063</td> <td>    0.001</td> <td>   12.489</td> <td> 0.000</td> <td>    0.005</td> <td>    0.007</td>\n",
       "</tr>\n",
       "<tr>\n",
       "  <th>Total eve charge</th>       <td>    0.0069</td> <td>    0.001</td> <td>    6.385</td> <td> 0.000</td> <td>    0.005</td> <td>    0.009</td>\n",
       "</tr>\n",
       "<tr>\n",
       "  <th>Total intl charge</th>      <td>    0.0266</td> <td>    0.006</td> <td>    4.325</td> <td> 0.000</td> <td>    0.015</td> <td>    0.039</td>\n",
       "</tr>\n",
       "<tr>\n",
       "  <th>Customer service calls</th> <td>    0.0422</td> <td>    0.003</td> <td>   13.160</td> <td> 0.000</td> <td>    0.036</td> <td>    0.048</td>\n",
       "</tr>\n",
       "<tr>\n",
       "  <th>Total intl calls</th>       <td>   -0.0075</td> <td>    0.002</td> <td>   -3.692</td> <td> 0.000</td> <td>   -0.012</td> <td>   -0.004</td>\n",
       "</tr>\n",
       "<tr>\n",
       "  <th>Total night minutes</th>    <td>    0.0003</td> <td> 9.06e-05</td> <td>    3.327</td> <td> 0.001</td> <td>    0.000</td> <td>    0.000</td>\n",
       "</tr>\n",
       "<tr>\n",
       "  <th>Voice mail plan</th>        <td>   -0.0772</td> <td>    0.012</td> <td>   -6.661</td> <td> 0.000</td> <td>   -0.100</td> <td>   -0.054</td>\n",
       "</tr>\n",
       "</table>"
      ],
      "text/plain": [
       "<class 'statsmodels.iolib.summary.Summary'>\n",
       "\"\"\"\n",
       "        Logit Marginal Effects       \n",
       "=====================================\n",
       "Dep. Variable:                  Churn\n",
       "Method:                          dydx\n",
       "At:                              mean\n",
       "==========================================================================================\n",
       "                            dy/dx    std err          z      P>|z|      [0.025      0.975]\n",
       "------------------------------------------------------------------------------------------\n",
       "International plan         0.1679      0.013     13.112      0.000       0.143       0.193\n",
       "Total day charge           0.0063      0.001     12.489      0.000       0.005       0.007\n",
       "Total eve charge           0.0069      0.001      6.385      0.000       0.005       0.009\n",
       "Total intl charge          0.0266      0.006      4.325      0.000       0.015       0.039\n",
       "Customer service calls     0.0422      0.003     13.160      0.000       0.036       0.048\n",
       "Total intl calls          -0.0075      0.002     -3.692      0.000      -0.012      -0.004\n",
       "Total night minutes        0.0003   9.06e-05      3.327      0.001       0.000       0.000\n",
       "Voice mail plan           -0.0772      0.012     -6.661      0.000      -0.100      -0.054\n",
       "==========================================================================================\n",
       "\"\"\""
      ]
     },
     "execution_count": 27,
     "metadata": {},
     "output_type": "execute_result"
    }
   ],
   "source": [
    "logit_mod.get_margeff(at = 'mean').summary()"
   ]
  },
  {
   "cell_type": "markdown",
   "metadata": {},
   "source": [
    "Самый значительный вклад в отток дает International plan - нужно его как-то изменять, а вот voice mail plan как раз судя по оценкам дает вклад в уменьшение оттока."
   ]
  },
  {
   "cell_type": "markdown",
   "metadata": {},
   "source": [
    "Переходим к предсказаниям. Попробуем RFECV"
   ]
  },
  {
   "cell_type": "code",
   "execution_count": 28,
   "metadata": {},
   "outputs": [],
   "source": [
    "from sklearn.feature_selection import RFECV\n",
    "from sklearn.model_selection import StratifiedKFold\n",
    "from sklearn.linear_model import LogisticRegression\n",
    "import warnings"
   ]
  },
  {
   "cell_type": "code",
   "execution_count": 29,
   "metadata": {},
   "outputs": [],
   "source": [
    "X_exp = df.drop('Churn', axis=1)"
   ]
  },
  {
   "cell_type": "code",
   "execution_count": 30,
   "metadata": {},
   "outputs": [
    {
     "name": "stdout",
     "output_type": "stream",
     "text": [
      "Optimal number of features: 8\n"
     ]
    }
   ],
   "source": [
    "warnings.filterwarnings('ignore')\n",
    "\n",
    "clf = LogisticRegression()\n",
    "cv = StratifiedKFold(5)\n",
    "\n",
    "rfecv = RFECV(\n",
    "    estimator=clf,\n",
    "    step=1,\n",
    "    cv=cv,\n",
    "    scoring=\"accuracy\",\n",
    "    min_features_to_select=1,\n",
    "    n_jobs=2,\n",
    ")\n",
    "rfecv.fit(X_exp, y)\n",
    "\n",
    "print(f\"Optimal number of features: {rfecv.n_features_}\")"
   ]
  },
  {
   "cell_type": "markdown",
   "metadata": {},
   "source": [
    "Я подобрал как раз 8 фичей.\n",
    "\n",
    "Разобьем выборку на train и test"
   ]
  },
  {
   "cell_type": "code",
   "execution_count": 31,
   "metadata": {},
   "outputs": [],
   "source": [
    "from sklearn.model_selection import train_test_split"
   ]
  },
  {
   "cell_type": "code",
   "execution_count": 32,
   "metadata": {},
   "outputs": [],
   "source": [
    "X_train, X_test, y_train, y_test = train_test_split(X, y, test_size=0.33, random_state=42)"
   ]
  },
  {
   "cell_type": "markdown",
   "metadata": {},
   "source": [
    "Применим GridSearchCV."
   ]
  },
  {
   "cell_type": "code",
   "execution_count": 43,
   "metadata": {},
   "outputs": [],
   "source": [
    "from sklearn.model_selection import GridSearchCV"
   ]
  },
  {
   "cell_type": "code",
   "execution_count": 56,
   "metadata": {},
   "outputs": [],
   "source": [
    "gscv = GridSearchCV(\n",
    "    estimator=clf,\n",
    "    scoring='roc_auc',\n",
    "    param_grid={'penalty': ('l1', 'l2'), 'solver': ('liblinear', 'lbfgs')},\n",
    "    cv=cv,\n",
    "    n_jobs=2\n",
    ") "
   ]
  },
  {
   "cell_type": "code",
   "execution_count": 57,
   "metadata": {},
   "outputs": [
    {
     "data": {
      "text/plain": [
       "GridSearchCV(cv=StratifiedKFold(n_splits=5, random_state=None, shuffle=False),\n",
       "             estimator=LogisticRegression(), n_jobs=2,\n",
       "             param_grid={'penalty': ('l1', 'l2'),\n",
       "                         'solver': ('liblinear', 'lbfgs')},\n",
       "             scoring='roc_auc')"
      ]
     },
     "execution_count": 57,
     "metadata": {},
     "output_type": "execute_result"
    }
   ],
   "source": [
    "gscv.fit(X_train, y_train)"
   ]
  },
  {
   "cell_type": "code",
   "execution_count": 58,
   "metadata": {},
   "outputs": [
    {
     "data": {
      "text/plain": [
       "{'mean_fit_time': array([0.01060286, 0.00079994, 0.00420089, 0.02720599]),\n",
       " 'std_fit_time': array([0.0010205 , 0.00039997, 0.00040021, 0.00132701]),\n",
       " 'mean_score_time': array([0.00140061, 0.        , 0.00120039, 0.00140038]),\n",
       " 'std_score_time': array([0.00049064, 0.        , 0.00039997, 0.00048996]),\n",
       " 'param_penalty': masked_array(data=['l1', 'l1', 'l2', 'l2'],\n",
       "              mask=[False, False, False, False],\n",
       "        fill_value='?',\n",
       "             dtype=object),\n",
       " 'param_solver': masked_array(data=['liblinear', 'lbfgs', 'liblinear', 'lbfgs'],\n",
       "              mask=[False, False, False, False],\n",
       "        fill_value='?',\n",
       "             dtype=object),\n",
       " 'params': [{'penalty': 'l1', 'solver': 'liblinear'},\n",
       "  {'penalty': 'l1', 'solver': 'lbfgs'},\n",
       "  {'penalty': 'l2', 'solver': 'liblinear'},\n",
       "  {'penalty': 'l2', 'solver': 'lbfgs'}],\n",
       " 'split0_test_score': array([0.80789368,        nan, 0.79975836, 0.7929118 ]),\n",
       " 'split1_test_score': array([0.84454289,        nan, 0.83721305, 0.82803061]),\n",
       " 'split2_test_score': array([0.75908176,        nan, 0.75722916, 0.70612163]),\n",
       " 'split3_test_score': array([0.80350131,        nan, 0.79707952, 0.79482984]),\n",
       " 'split4_test_score': array([0.8203534 ,        nan, 0.82493455, 0.7917212 ]),\n",
       " 'mean_test_score': array([0.80707461,        nan, 0.80324293, 0.78272302]),\n",
       " 'std_test_score': array([0.02791756,        nan, 0.02753867, 0.04062488]),\n",
       " 'rank_test_score': array([1, 4, 2, 3])}"
      ]
     },
     "execution_count": 58,
     "metadata": {},
     "output_type": "execute_result"
    }
   ],
   "source": [
    "gscv.cv_results_"
   ]
  },
  {
   "cell_type": "code",
   "execution_count": 59,
   "metadata": {},
   "outputs": [],
   "source": [
    "x = np.arange(5)\n",
    "l1 = [gscv.cv_results_[f'split{i}_test_score'][0] for i in x]\n",
    "l2 = [gscv.cv_results_[f'split{i}_test_score'][2] for i in x]"
   ]
  },
  {
   "cell_type": "code",
   "execution_count": 60,
   "metadata": {},
   "outputs": [
    {
     "data": {
      "image/png": "[encoded data removed]",
      "text/plain": [
       "<Figure size 432x288 with 1 Axes>"
      ]
     },
     "metadata": {
      "needs_background": "light"
     },
     "output_type": "display_data"
    }
   ],
   "source": [
    "plt.title('roc_auc in cross_val')\n",
    "plt.plot(x, l1, label='l1')\n",
    "plt.plot(x, l2, label='l2')\n",
    "plt.xlabel('№ Fold')\n",
    "plt.ylabel('roc_auc')\n",
    "plt.legend(loc='best')\n",
    "plt.show()"
   ]
  },
  {
   "cell_type": "markdown",
   "metadata": {},
   "source": [
    "Ну видно конечно, что l1 показывает себя получше.\n",
    "\n",
    "Мы вверху предполагали, что у нас выборка несбалансированная и страдает recall. Давайте сравним на кросс-валидации."
   ]
  },
  {
   "cell_type": "code",
   "execution_count": 62,
   "metadata": {},
   "outputs": [],
   "source": [
    "gscv = GridSearchCV(\n",
    "    estimator=clf,\n",
    "    scoring='recall',\n",
    "    param_grid={'penalty': ('l1', 'l2'), 'solver': ('liblinear', 'lbfgs'), 'class_weight': ('balanced', None)},\n",
    "    cv=cv,\n",
    "    n_jobs=2\n",
    ") "
   ]
  },
  {
   "cell_type": "code",
   "execution_count": 63,
   "metadata": {},
   "outputs": [
    {
     "data": {
      "text/plain": [
       "GridSearchCV(cv=StratifiedKFold(n_splits=5, random_state=None, shuffle=False),\n",
       "             estimator=LogisticRegression(), n_jobs=2,\n",
       "             param_grid={'class_weight': ('balanced', None),\n",
       "                         'penalty': ('l1', 'l2'),\n",
       "                         'solver': ('liblinear', 'lbfgs')},\n",
       "             scoring='recall')"
      ]
     },
     "execution_count": 63,
     "metadata": {},
     "output_type": "execute_result"
    }
   ],
   "source": [
    "gscv.fit(X_train, y_train)"
   ]
  },
  {
   "cell_type": "code",
   "execution_count": 64,
   "metadata": {},
   "outputs": [
    {
     "data": {
      "text/plain": [
       "{'mean_fit_time': array([0.01480336, 0.00040007, 0.00420113, 0.02760639, 0.00900168,\n",
       "        0.00020003, 0.00460072, 0.02740617]),\n",
       " 'std_fit_time': array([0.00074774, 0.00048998, 0.00039985, 0.0008002 , 0.00063249,\n",
       "        0.00040007, 0.00049004, 0.00101999]),\n",
       " 'mean_score_time': array([0.00160012, 0.        , 0.00100007, 0.0018002 , 0.00120058,\n",
       "        0.        , 0.00140085, 0.0012002 ]),\n",
       " 'std_score_time': array([4.89667804e-04, 0.00000000e+00, 2.43140197e-07, 4.00972551e-04,\n",
       "        4.00233336e-04, 0.00000000e+00, 4.89571118e-04, 4.00066461e-04]),\n",
       " 'param_class_weight': masked_array(data=['balanced', 'balanced', 'balanced', 'balanced', None,\n",
       "                    None, None, None],\n",
       "              mask=[False, False, False, False, False, False, False, False],\n",
       "        fill_value='?',\n",
       "             dtype=object),\n",
       " 'param_penalty': masked_array(data=['l1', 'l1', 'l2', 'l2', 'l1', 'l1', 'l2', 'l2'],\n",
       "              mask=[False, False, False, False, False, False, False, False],\n",
       "        fill_value='?',\n",
       "             dtype=object),\n",
       " 'param_solver': masked_array(data=['liblinear', 'lbfgs', 'liblinear', 'lbfgs',\n",
       "                    'liblinear', 'lbfgs', 'liblinear', 'lbfgs'],\n",
       "              mask=[False, False, False, False, False, False, False, False],\n",
       "        fill_value='?',\n",
       "             dtype=object),\n",
       " 'params': [{'class_weight': 'balanced',\n",
       "   'penalty': 'l1',\n",
       "   'solver': 'liblinear'},\n",
       "  {'class_weight': 'balanced', 'penalty': 'l1', 'solver': 'lbfgs'},\n",
       "  {'class_weight': 'balanced', 'penalty': 'l2', 'solver': 'liblinear'},\n",
       "  {'class_weight': 'balanced', 'penalty': 'l2', 'solver': 'lbfgs'},\n",
       "  {'class_weight': None, 'penalty': 'l1', 'solver': 'liblinear'},\n",
       "  {'class_weight': None, 'penalty': 'l1', 'solver': 'lbfgs'},\n",
       "  {'class_weight': None, 'penalty': 'l2', 'solver': 'liblinear'},\n",
       "  {'class_weight': None, 'penalty': 'l2', 'solver': 'lbfgs'}],\n",
       " 'split0_test_score': array([0.73846154,        nan, 0.72307692, 0.69230769, 0.18461538,\n",
       "               nan, 0.18461538, 0.2       ]),\n",
       " 'split1_test_score': array([0.76923077,        nan, 0.75384615, 0.76923077, 0.23076923,\n",
       "               nan, 0.21538462, 0.23076923]),\n",
       " 'split2_test_score': array([0.58461538,        nan, 0.6       , 0.58461538, 0.16923077,\n",
       "               nan, 0.13846154, 0.12307692]),\n",
       " 'split3_test_score': array([0.75    ,      nan, 0.71875 , 0.75    , 0.109375,      nan,\n",
       "        0.109375, 0.15625 ]),\n",
       " 'split4_test_score': array([0.734375,      nan, 0.734375, 0.6875  , 0.21875 ,      nan,\n",
       "        0.21875 , 0.25    ]),\n",
       " 'mean_test_score': array([0.71533654,        nan, 0.70600962, 0.69673077, 0.18254808,\n",
       "               nan, 0.17331731, 0.19201923]),\n",
       " 'std_test_score': array([0.06647013,        nan, 0.05437753, 0.06444919, 0.04282939,\n",
       "               nan, 0.04304643, 0.04681774]),\n",
       " 'rank_test_score': array([1, 7, 2, 3, 5, 8, 6, 4])}"
      ]
     },
     "execution_count": 64,
     "metadata": {},
     "output_type": "execute_result"
    }
   ],
   "source": [
    "gscv.cv_results_"
   ]
  },
  {
   "cell_type": "markdown",
   "metadata": {},
   "source": [
    "recall при балансировке намного выше, наша гипотеза действительно подтвердилась!"
   ]
  },
  {
   "cell_type": "code",
   "execution_count": null,
   "metadata": {},
   "outputs": [],
   "source": []
  },
  {
   "cell_type": "code",
   "execution_count": null,
   "metadata": {},
   "outputs": [],
   "source": []
  },
  {
   "cell_type": "code",
   "execution_count": null,
   "metadata": {},
   "outputs": [],
   "source": []
  },
  {
   "cell_type": "code",
   "execution_count": null,
   "metadata": {},
   "outputs": [],
   "source": []
  },
  {
   "cell_type": "code",
   "execution_count": null,
   "metadata": {},
   "outputs": [],
   "source": []
  },
  {
   "cell_type": "markdown",
   "metadata": {},
   "source": [
    "# №3 (60 баллов)"
   ]
  },
  {
   "cell_type": "markdown",
   "metadata": {},
   "source": [
    "- Ладно, пришла пора для чего более сложного\n",
    "- В этой задаче вы сами все решаете. Более того, у вас будут даже чужие ноутбуки\n",
    "- Если вы проведете такой же анализ, что и выше, то балл за это задание будет равен 10/40\n",
    "- Чтобы получить максимальный балл за это задание, то вам нужно будет провести полноценное исследование"
   ]
  },
  {
   "cell_type": "markdown",
   "metadata": {},
   "source": [
    "- Итак, представьте себе следующую ситуацию\n",
    "- Вы участвуете в создании продукта/модели по предсказанию инсульта \n",
    "- Вы - главный аналитик, который отвечает за создание модели и презентацию ее результатов\n",
    "- Проблема в том, что вы единственный аналитик в команде. Все остальные члены команды **не имеют математического бэкграунда, они не знают никаких моделей, они никогда не занимались программированием**. Они все медики.\n",
    "- Вы знаете, что для тестривания модели на первом этапе подойдет [этот](https://www.kaggle.com/fedesoriano/stroke-prediction-dataset) замечательный датасет. Там есть примеры различного анализа и моделей\n",
    "- Но вы не можете просто взять примеры оттуда:\n",
    "    - Во-первых, ваша модель должна быть логистической или пробит \n",
    "    - Во-вторых, посмотрите на то, как меняется вероятность инсульта в зависимости от характеристик пациента\n",
    "    - В-третьих, подумайте над тем, как можно поменять/улучшить эту модель, чтобы обеспечить **наилучшее предсказание**. Подумайте, какую метрику вы будете использовать для этой задачи. Обоснуйте выбор метрики.\n",
    "- Еще важный момент. Вы отправите, получившееся исследование команде, поэтому оно не должно быть большим (время на прочтение и понимание того, что происходит, не должно занимать более 10-15 минут). Помните, что у команды есть и другие задачи, поэтому позаботьтесь, чтобы исследование было:\n",
    "    - Структурированным. Можете использовать [классический](https://blogs.lse.ac.uk/impactofsocialsciences/2018/05/21/writing-a-page-turner-how-to-tell-a-story-in-your-scientific-paper/) подход к научному исследованию и добавить то, как делают [консультанты](https://strategyu.co/mckinsey-structured-problem-solving-secrets/)\n",
    "    - Отвечало на поставленную задачу\n",
    "    - Было самодостаточным (в одном jupyter файле, проще говоря)\n",
    "    - Воспроизводимым (увижу, что явно не прописываете `seed`, если/где надо, поставлю 0 за это задание)\n",
    "    - Было не стыдно показать другим людям (если графики будут без подписей осей и названия, как минимум, поставлю 0)"
   ]
  },
  {
   "cell_type": "code",
   "execution_count": 93,
   "metadata": {},
   "outputs": [],
   "source": [
    "df = pd.read_csv('healthcare-dataset-stroke-data.csv')"
   ]
  },
  {
   "cell_type": "code",
   "execution_count": 94,
   "metadata": {},
   "outputs": [
    {
     "data": {
      "text/html": [
       "<div>\n",
       "<style scoped>\n",
       "    .dataframe tbody tr th:only-of-type {\n",
       "        vertical-align: middle;\n",
       "    }\n",
       "\n",
       "    .dataframe tbody tr th {\n",
       "        vertical-align: top;\n",
       "    }\n",
       "\n",
       "    .dataframe thead th {\n",
       "        text-align: right;\n",
       "    }\n",
       "</style>\n",
       "<table border=\"1\" class=\"dataframe\">\n",
       "  <thead>\n",
       "    <tr style=\"text-align: right;\">\n",
       "      <th></th>\n",
       "      <th>id</th>\n",
       "      <th>gender</th>\n",
       "      <th>age</th>\n",
       "      <th>hypertension</th>\n",
       "      <th>heart_disease</th>\n",
       "      <th>ever_married</th>\n",
       "      <th>work_type</th>\n",
       "      <th>Residence_type</th>\n",
       "      <th>avg_glucose_level</th>\n",
       "      <th>bmi</th>\n",
       "      <th>smoking_status</th>\n",
       "      <th>stroke</th>\n",
       "    </tr>\n",
       "  </thead>\n",
       "  <tbody>\n",
       "    <tr>\n",
       "      <th>0</th>\n",
       "      <td>9046</td>\n",
       "      <td>Male</td>\n",
       "      <td>67.0</td>\n",
       "      <td>0</td>\n",
       "      <td>1</td>\n",
       "      <td>Yes</td>\n",
       "      <td>Private</td>\n",
       "      <td>Urban</td>\n",
       "      <td>228.69</td>\n",
       "      <td>36.6</td>\n",
       "      <td>formerly smoked</td>\n",
       "      <td>1</td>\n",
       "    </tr>\n",
       "    <tr>\n",
       "      <th>1</th>\n",
       "      <td>51676</td>\n",
       "      <td>Female</td>\n",
       "      <td>61.0</td>\n",
       "      <td>0</td>\n",
       "      <td>0</td>\n",
       "      <td>Yes</td>\n",
       "      <td>Self-employed</td>\n",
       "      <td>Rural</td>\n",
       "      <td>202.21</td>\n",
       "      <td>NaN</td>\n",
       "      <td>never smoked</td>\n",
       "      <td>1</td>\n",
       "    </tr>\n",
       "    <tr>\n",
       "      <th>2</th>\n",
       "      <td>31112</td>\n",
       "      <td>Male</td>\n",
       "      <td>80.0</td>\n",
       "      <td>0</td>\n",
       "      <td>1</td>\n",
       "      <td>Yes</td>\n",
       "      <td>Private</td>\n",
       "      <td>Rural</td>\n",
       "      <td>105.92</td>\n",
       "      <td>32.5</td>\n",
       "      <td>never smoked</td>\n",
       "      <td>1</td>\n",
       "    </tr>\n",
       "    <tr>\n",
       "      <th>3</th>\n",
       "      <td>60182</td>\n",
       "      <td>Female</td>\n",
       "      <td>49.0</td>\n",
       "      <td>0</td>\n",
       "      <td>0</td>\n",
       "      <td>Yes</td>\n",
       "      <td>Private</td>\n",
       "      <td>Urban</td>\n",
       "      <td>171.23</td>\n",
       "      <td>34.4</td>\n",
       "      <td>smokes</td>\n",
       "      <td>1</td>\n",
       "    </tr>\n",
       "    <tr>\n",
       "      <th>4</th>\n",
       "      <td>1665</td>\n",
       "      <td>Female</td>\n",
       "      <td>79.0</td>\n",
       "      <td>1</td>\n",
       "      <td>0</td>\n",
       "      <td>Yes</td>\n",
       "      <td>Self-employed</td>\n",
       "      <td>Rural</td>\n",
       "      <td>174.12</td>\n",
       "      <td>24.0</td>\n",
       "      <td>never smoked</td>\n",
       "      <td>1</td>\n",
       "    </tr>\n",
       "  </tbody>\n",
       "</table>\n",
       "</div>"
      ],
      "text/plain": [
       "      id  gender   age  hypertension  heart_disease ever_married  \\\n",
       "0   9046    Male  67.0             0              1          Yes   \n",
       "1  51676  Female  61.0             0              0          Yes   \n",
       "2  31112    Male  80.0             0              1          Yes   \n",
       "3  60182  Female  49.0             0              0          Yes   \n",
       "4   1665  Female  79.0             1              0          Yes   \n",
       "\n",
       "       work_type Residence_type  avg_glucose_level   bmi   smoking_status  \\\n",
       "0        Private          Urban             228.69  36.6  formerly smoked   \n",
       "1  Self-employed          Rural             202.21   NaN     never smoked   \n",
       "2        Private          Rural             105.92  32.5     never smoked   \n",
       "3        Private          Urban             171.23  34.4           smokes   \n",
       "4  Self-employed          Rural             174.12  24.0     never smoked   \n",
       "\n",
       "   stroke  \n",
       "0       1  \n",
       "1       1  \n",
       "2       1  \n",
       "3       1  \n",
       "4       1  "
      ]
     },
     "execution_count": 94,
     "metadata": {},
     "output_type": "execute_result"
    }
   ],
   "source": [
    "df.head()"
   ]
  },
  {
   "cell_type": "code",
   "execution_count": 95,
   "metadata": {},
   "outputs": [
    {
     "data": {
      "text/html": [
       "<div>\n",
       "<style scoped>\n",
       "    .dataframe tbody tr th:only-of-type {\n",
       "        vertical-align: middle;\n",
       "    }\n",
       "\n",
       "    .dataframe tbody tr th {\n",
       "        vertical-align: top;\n",
       "    }\n",
       "\n",
       "    .dataframe thead th {\n",
       "        text-align: right;\n",
       "    }\n",
       "</style>\n",
       "<table border=\"1\" class=\"dataframe\">\n",
       "  <thead>\n",
       "    <tr style=\"text-align: right;\">\n",
       "      <th></th>\n",
       "      <th>id</th>\n",
       "      <th>age</th>\n",
       "      <th>hypertension</th>\n",
       "      <th>heart_disease</th>\n",
       "      <th>avg_glucose_level</th>\n",
       "      <th>bmi</th>\n",
       "      <th>stroke</th>\n",
       "    </tr>\n",
       "  </thead>\n",
       "  <tbody>\n",
       "    <tr>\n",
       "      <th>count</th>\n",
       "      <td>5110.000000</td>\n",
       "      <td>5110.000000</td>\n",
       "      <td>5110.000000</td>\n",
       "      <td>5110.000000</td>\n",
       "      <td>5110.000000</td>\n",
       "      <td>4909.000000</td>\n",
       "      <td>5110.000000</td>\n",
       "    </tr>\n",
       "    <tr>\n",
       "      <th>mean</th>\n",
       "      <td>36517.829354</td>\n",
       "      <td>43.226614</td>\n",
       "      <td>0.097456</td>\n",
       "      <td>0.054012</td>\n",
       "      <td>106.147677</td>\n",
       "      <td>28.893237</td>\n",
       "      <td>0.048728</td>\n",
       "    </tr>\n",
       "    <tr>\n",
       "      <th>std</th>\n",
       "      <td>21161.721625</td>\n",
       "      <td>22.612647</td>\n",
       "      <td>0.296607</td>\n",
       "      <td>0.226063</td>\n",
       "      <td>45.283560</td>\n",
       "      <td>7.854067</td>\n",
       "      <td>0.215320</td>\n",
       "    </tr>\n",
       "    <tr>\n",
       "      <th>min</th>\n",
       "      <td>67.000000</td>\n",
       "      <td>0.080000</td>\n",
       "      <td>0.000000</td>\n",
       "      <td>0.000000</td>\n",
       "      <td>55.120000</td>\n",
       "      <td>10.300000</td>\n",
       "      <td>0.000000</td>\n",
       "    </tr>\n",
       "    <tr>\n",
       "      <th>25%</th>\n",
       "      <td>17741.250000</td>\n",
       "      <td>25.000000</td>\n",
       "      <td>0.000000</td>\n",
       "      <td>0.000000</td>\n",
       "      <td>77.245000</td>\n",
       "      <td>23.500000</td>\n",
       "      <td>0.000000</td>\n",
       "    </tr>\n",
       "    <tr>\n",
       "      <th>50%</th>\n",
       "      <td>36932.000000</td>\n",
       "      <td>45.000000</td>\n",
       "      <td>0.000000</td>\n",
       "      <td>0.000000</td>\n",
       "      <td>91.885000</td>\n",
       "      <td>28.100000</td>\n",
       "      <td>0.000000</td>\n",
       "    </tr>\n",
       "    <tr>\n",
       "      <th>75%</th>\n",
       "      <td>54682.000000</td>\n",
       "      <td>61.000000</td>\n",
       "      <td>0.000000</td>\n",
       "      <td>0.000000</td>\n",
       "      <td>114.090000</td>\n",
       "      <td>33.100000</td>\n",
       "      <td>0.000000</td>\n",
       "    </tr>\n",
       "    <tr>\n",
       "      <th>max</th>\n",
       "      <td>72940.000000</td>\n",
       "      <td>82.000000</td>\n",
       "      <td>1.000000</td>\n",
       "      <td>1.000000</td>\n",
       "      <td>271.740000</td>\n",
       "      <td>97.600000</td>\n",
       "      <td>1.000000</td>\n",
       "    </tr>\n",
       "  </tbody>\n",
       "</table>\n",
       "</div>"
      ],
      "text/plain": [
       "                 id          age  hypertension  heart_disease  \\\n",
       "count   5110.000000  5110.000000   5110.000000    5110.000000   \n",
       "mean   36517.829354    43.226614      0.097456       0.054012   \n",
       "std    21161.721625    22.612647      0.296607       0.226063   \n",
       "min       67.000000     0.080000      0.000000       0.000000   \n",
       "25%    17741.250000    25.000000      0.000000       0.000000   \n",
       "50%    36932.000000    45.000000      0.000000       0.000000   \n",
       "75%    54682.000000    61.000000      0.000000       0.000000   \n",
       "max    72940.000000    82.000000      1.000000       1.000000   \n",
       "\n",
       "       avg_glucose_level          bmi       stroke  \n",
       "count        5110.000000  4909.000000  5110.000000  \n",
       "mean          106.147677    28.893237     0.048728  \n",
       "std            45.283560     7.854067     0.215320  \n",
       "min            55.120000    10.300000     0.000000  \n",
       "25%            77.245000    23.500000     0.000000  \n",
       "50%            91.885000    28.100000     0.000000  \n",
       "75%           114.090000    33.100000     0.000000  \n",
       "max           271.740000    97.600000     1.000000  "
      ]
     },
     "execution_count": 95,
     "metadata": {},
     "output_type": "execute_result"
    }
   ],
   "source": [
    "df.describe()"
   ]
  },
  {
   "cell_type": "code",
   "execution_count": 96,
   "metadata": {},
   "outputs": [
    {
     "name": "stdout",
     "output_type": "stream",
     "text": [
      "gender : {'Other', 'Male', 'Female'}\n",
      "ever_married : {'Yes', 'No'}\n",
      "work_type : {'Never_worked', 'children', 'Private', 'Self-employed', 'Govt_job'}\n",
      "Residence_type : {'Urban', 'Rural'}\n",
      "smoking_status : {'never smoked', 'Unknown', 'smokes', 'formerly smoked'}\n"
     ]
    }
   ],
   "source": [
    "cols_cat = []\n",
    "for col in df.columns:\n",
    "    if df[col].dtype == 'O':\n",
    "        cols_cat.append(col)\n",
    "        print(f'{col} : {set(df[col].values)}')    "
   ]
  },
  {
   "cell_type": "code",
   "execution_count": 97,
   "metadata": {},
   "outputs": [
    {
     "name": "stdout",
     "output_type": "stream",
     "text": [
      "<class 'pandas.core.frame.DataFrame'>\n",
      "RangeIndex: 5110 entries, 0 to 5109\n",
      "Data columns (total 12 columns):\n",
      " #   Column             Non-Null Count  Dtype  \n",
      "---  ------             --------------  -----  \n",
      " 0   id                 5110 non-null   int64  \n",
      " 1   gender             5110 non-null   object \n",
      " 2   age                5110 non-null   float64\n",
      " 3   hypertension       5110 non-null   int64  \n",
      " 4   heart_disease      5110 non-null   int64  \n",
      " 5   ever_married       5110 non-null   object \n",
      " 6   work_type          5110 non-null   object \n",
      " 7   Residence_type     5110 non-null   object \n",
      " 8   avg_glucose_level  5110 non-null   float64\n",
      " 9   bmi                4909 non-null   float64\n",
      " 10  smoking_status     5110 non-null   object \n",
      " 11  stroke             5110 non-null   int64  \n",
      "dtypes: float64(3), int64(4), object(5)\n",
      "memory usage: 479.2+ KB\n"
     ]
    }
   ],
   "source": [
    "df.info()"
   ]
  },
  {
   "cell_type": "markdown",
   "metadata": {},
   "source": [
    "Закодируем категориальные признаки"
   ]
  },
  {
   "cell_type": "code",
   "execution_count": 98,
   "metadata": {},
   "outputs": [],
   "source": [
    "from sklearn.preprocessing import LabelEncoder\n",
    "labelencoder = LabelEncoder()\n",
    "for col in cols_cat:\n",
    "    df[col] = labelencoder.fit_transform(df[col])"
   ]
  },
  {
   "cell_type": "code",
   "execution_count": 99,
   "metadata": {},
   "outputs": [
    {
     "data": {
      "text/plain": [
       "array([[<Axes: title={'center': 'id'}>,\n",
       "        <Axes: title={'center': 'gender'}>,\n",
       "        <Axes: title={'center': 'age'}>],\n",
       "       [<Axes: title={'center': 'hypertension'}>,\n",
       "        <Axes: title={'center': 'heart_disease'}>,\n",
       "        <Axes: title={'center': 'ever_married'}>],\n",
       "       [<Axes: title={'center': 'work_type'}>,\n",
       "        <Axes: title={'center': 'Residence_type'}>,\n",
       "        <Axes: title={'center': 'avg_glucose_level'}>],\n",
       "       [<Axes: title={'center': 'bmi'}>,\n",
       "        <Axes: title={'center': 'smoking_status'}>,\n",
       "        <Axes: title={'center': 'stroke'}>]], dtype=object)"
      ]
     },
     "execution_count": 99,
     "metadata": {},
     "output_type": "execute_result"
    },
    {
     "data": {
      "image/png": "[encoded data removed]",
      "text/plain": [
       "<Figure size 720x360 with 12 Axes>"
      ]
     },
     "metadata": {
      "needs_background": "light"
     },
     "output_type": "display_data"
    }
   ],
   "source": [
    "df.hist(figsize = (10,5))"
   ]
  },
  {
   "cell_type": "markdown",
   "metadata": {},
   "source": [
    "Судя по гистограмме gender одного гендера категорически мало, проверим"
   ]
  },
  {
   "cell_type": "code",
   "execution_count": 82,
   "metadata": {},
   "outputs": [
    {
     "name": "stdout",
     "output_type": "stream",
     "text": [
      "1: 2115\n",
      "0: 2994\n",
      "2: 1\n"
     ]
    }
   ],
   "source": [
    "for gender in df['gender'].unique():\n",
    "    print(f'{gender}: {sum(df[\"gender\"].values == gender)}')"
   ]
  },
  {
   "cell_type": "code",
   "execution_count": 151,
   "metadata": {},
   "outputs": [
    {
     "name": "stdout",
     "output_type": "stream",
     "text": [
      "Male: 2115\n",
      "Female: 2994\n",
      "Other: 1\n"
     ]
    }
   ],
   "source": [
    "df = pd.read_csv('healthcare-dataset-stroke-data.csv')\n",
    "\n",
    "for gender in df['gender'].unique():\n",
    "    print(f'{gender}: {sum(df[\"gender\"].values == gender)}')"
   ]
  },
  {
   "cell_type": "markdown",
   "metadata": {},
   "source": [
    "Действительно, трансгендер нам в выборке не особо нужен - это можно счесть за выброс, поэтому мы его просто дропнем.\n",
    "\n",
    "Также можно увидеть, что у фичи bmi есть пропуски, мы их пока что тоже дропнем, потом если score будет не удовлетворительный, заменим значение на среднее (но я думаю - это не лучший способ, так как признак bmi не сбалансирован)\n",
    "\n",
    "Также конечно, мы уберем id - он нам ни к чему"
   ]
  },
  {
   "cell_type": "code",
   "execution_count": 152,
   "metadata": {},
   "outputs": [],
   "source": [
    "df = df.drop('id', axis=1)\n",
    "df = df.dropna()\n",
    "df = df[df['gender'] != 'Other']"
   ]
  },
  {
   "cell_type": "code",
   "execution_count": 153,
   "metadata": {},
   "outputs": [
    {
     "name": "stdout",
     "output_type": "stream",
     "text": [
      "<class 'pandas.core.frame.DataFrame'>\n",
      "Int64Index: 4908 entries, 0 to 5109\n",
      "Data columns (total 11 columns):\n",
      " #   Column             Non-Null Count  Dtype  \n",
      "---  ------             --------------  -----  \n",
      " 0   gender             4908 non-null   object \n",
      " 1   age                4908 non-null   float64\n",
      " 2   hypertension       4908 non-null   int64  \n",
      " 3   heart_disease      4908 non-null   int64  \n",
      " 4   ever_married       4908 non-null   object \n",
      " 5   work_type          4908 non-null   object \n",
      " 6   Residence_type     4908 non-null   object \n",
      " 7   avg_glucose_level  4908 non-null   float64\n",
      " 8   bmi                4908 non-null   float64\n",
      " 9   smoking_status     4908 non-null   object \n",
      " 10  stroke             4908 non-null   int64  \n",
      "dtypes: float64(3), int64(3), object(5)\n",
      "memory usage: 460.1+ KB\n"
     ]
    }
   ],
   "source": [
    "df.info()"
   ]
  },
  {
   "cell_type": "markdown",
   "metadata": {},
   "source": [
    "Разделим категориальные колонки и численные"
   ]
  },
  {
   "cell_type": "code",
   "execution_count": 154,
   "metadata": {},
   "outputs": [],
   "source": [
    "num_cols = ['age','avg_glucose_level','bmi']\n",
    "obj_cols = list(set(df.columns.tolist()) - set(num_cols))"
   ]
  },
  {
   "cell_type": "code",
   "execution_count": 155,
   "metadata": {},
   "outputs": [
    {
     "data": {
      "text/plain": [
       "['smoking_status',\n",
       " 'hypertension',\n",
       " 'gender',\n",
       " 'ever_married',\n",
       " 'work_type',\n",
       " 'heart_disease',\n",
       " 'Residence_type',\n",
       " 'stroke']"
      ]
     },
     "execution_count": 155,
     "metadata": {},
     "output_type": "execute_result"
    }
   ],
   "source": [
    "obj_cols"
   ]
  },
  {
   "cell_type": "code",
   "execution_count": 156,
   "metadata": {},
   "outputs": [],
   "source": [
    "from sklearn.preprocessing import MinMaxScaler"
   ]
  },
  {
   "cell_type": "markdown",
   "metadata": {},
   "source": [
    "Возраст переведем в инты, мы будем его модифицировать MinMaxScaler. "
   ]
  },
  {
   "cell_type": "code",
   "execution_count": 157,
   "metadata": {},
   "outputs": [],
   "source": [
    "df['age'] = (df['age'] + 1).astype(int)"
   ]
  },
  {
   "cell_type": "code",
   "execution_count": 158,
   "metadata": {},
   "outputs": [],
   "source": [
    "scaler = MinMaxScaler()\n",
    "df[num_cols[:-1]] = scaler.fit_transform(df[num_cols[:-1]])"
   ]
  },
  {
   "cell_type": "code",
   "execution_count": 161,
   "metadata": {},
   "outputs": [],
   "source": [
    "for col in obj_cols:\n",
    "    df[col] = labelencoder.fit_transform(df[col])"
   ]
  },
  {
   "cell_type": "markdown",
   "metadata": {},
   "source": [
    "Наплодим признаков с помощью one hot encoding"
   ]
  },
  {
   "cell_type": "code",
   "execution_count": 162,
   "metadata": {},
   "outputs": [],
   "source": [
    "for col in obj_cols:\n",
    "    df[col] = df[col].astype(str)\n",
    "    \n",
    "train = df.drop('stroke',axis = 1)\n",
    "\n",
    "train = pd.get_dummies(train)\n",
    "\n",
    "train['stroke'] = df['stroke'].astype(int)\n",
    "\n",
    "df = train.copy()"
   ]
  },
  {
   "cell_type": "code",
   "execution_count": 163,
   "metadata": {},
   "outputs": [
    {
     "name": "stdout",
     "output_type": "stream",
     "text": [
      "<class 'pandas.core.frame.DataFrame'>\n",
      "Int64Index: 4908 entries, 0 to 5109\n",
      "Data columns (total 23 columns):\n",
      " #   Column             Non-Null Count  Dtype  \n",
      "---  ------             --------------  -----  \n",
      " 0   age                4908 non-null   float64\n",
      " 1   avg_glucose_level  4908 non-null   float64\n",
      " 2   bmi                4908 non-null   float64\n",
      " 3   gender_0           4908 non-null   uint8  \n",
      " 4   gender_1           4908 non-null   uint8  \n",
      " 5   hypertension_0     4908 non-null   uint8  \n",
      " 6   hypertension_1     4908 non-null   uint8  \n",
      " 7   heart_disease_0    4908 non-null   uint8  \n",
      " 8   heart_disease_1    4908 non-null   uint8  \n",
      " 9   ever_married_0     4908 non-null   uint8  \n",
      " 10  ever_married_1     4908 non-null   uint8  \n",
      " 11  work_type_0        4908 non-null   uint8  \n",
      " 12  work_type_1        4908 non-null   uint8  \n",
      " 13  work_type_2        4908 non-null   uint8  \n",
      " 14  work_type_3        4908 non-null   uint8  \n",
      " 15  work_type_4        4908 non-null   uint8  \n",
      " 16  Residence_type_0   4908 non-null   uint8  \n",
      " 17  Residence_type_1   4908 non-null   uint8  \n",
      " 18  smoking_status_0   4908 non-null   uint8  \n",
      " 19  smoking_status_1   4908 non-null   uint8  \n",
      " 20  smoking_status_2   4908 non-null   uint8  \n",
      " 21  smoking_status_3   4908 non-null   uint8  \n",
      " 22  stroke             4908 non-null   int32  \n",
      "dtypes: float64(3), int32(1), uint8(19)\n",
      "memory usage: 263.6 KB\n"
     ]
    }
   ],
   "source": [
    "df.info()"
   ]
  },
  {
   "cell_type": "markdown",
   "metadata": {},
   "source": [
    "Разбиваем на train и test"
   ]
  },
  {
   "cell_type": "code",
   "execution_count": 170,
   "metadata": {},
   "outputs": [],
   "source": [
    "x_train, x_test, y_train, y_test = train_test_split(df.drop('stroke',axis = 1), df['stroke'], test_size = 0.2, stratify=df['stroke'])"
   ]
  },
  {
   "cell_type": "markdown",
   "metadata": {},
   "source": [
    "Переходим к модели логистической регрессии\n",
    "\n",
    "Пока просто посмотрим, потом кросс-валидацию прогоним"
   ]
  },
  {
   "cell_type": "code",
   "execution_count": 192,
   "metadata": {},
   "outputs": [
    {
     "data": {
      "text/plain": [
       "LogisticRegression(random_state=42)"
      ]
     },
     "execution_count": 192,
     "metadata": {},
     "output_type": "execute_result"
    }
   ],
   "source": [
    "logist = LogisticRegression(random_state=42)\n",
    "logist.fit(x_train, y_train)"
   ]
  },
  {
   "cell_type": "code",
   "execution_count": 193,
   "metadata": {},
   "outputs": [],
   "source": [
    "probs = logist.predict_proba(x_test)"
   ]
  },
  {
   "cell_type": "code",
   "execution_count": 194,
   "metadata": {},
   "outputs": [],
   "source": [
    "fpr, tpr, thr = roc_curve(y_test, probs[:, 1])\n",
    "roc_auc = round(auc(fpr, tpr), 2)"
   ]
  },
  {
   "cell_type": "code",
   "execution_count": 195,
   "metadata": {},
   "outputs": [
    {
     "data": {
      "text/plain": [
       "Text(0.5, 1.0, 'ROC')"
      ]
     },
     "execution_count": 195,
     "metadata": {},
     "output_type": "execute_result"
    },
    {
     "data": {
      "image/png": "[encoded data removed]",
      "text/plain": [
       "<Figure size 432x288 with 1 Axes>"
      ]
     },
     "metadata": {
      "needs_background": "light"
     },
     "output_type": "display_data"
    }
   ],
   "source": [
    "plt.plot(fpr,tpr,label = f'auc : {roc_auc}')\n",
    "plt.plot([0,1],[0,1], 'r--')\n",
    "plt.legend()\n",
    "plt.xlabel('False Positive Rate')\n",
    "plt.ylabel('True Positive Rate')\n",
    "plt.title('ROC')"
   ]
  },
  {
   "cell_type": "markdown",
   "metadata": {},
   "source": [
    "Мы все же хотим смотреть за recall, чтобы в больших случаях выявлять инсульт. \n",
    "\n",
    "Заведем кросс-валидацию"
   ]
  },
  {
   "cell_type": "code",
   "execution_count": 196,
   "metadata": {},
   "outputs": [],
   "source": [
    "gscv = GridSearchCV(\n",
    "    estimator=clf,\n",
    "    scoring='recall',\n",
    "    param_grid={'penalty': ('l1', 'l2', None, 'elacticnet'),\n",
    "                'solver': ('liblinear', 'lbfgs', 'newton-cg', 'newton-cholesky', 'sag', 'saga'), \n",
    "                'class_weight': ('balanced', None)},\n",
    "    cv=cv,\n",
    "    n_jobs=2\n",
    ") "
   ]
  },
  {
   "cell_type": "code",
   "execution_count": 197,
   "metadata": {},
   "outputs": [
    {
     "data": {
      "text/plain": [
       "GridSearchCV(cv=StratifiedKFold(n_splits=5, random_state=None, shuffle=False),\n",
       "             estimator=LogisticRegression(), n_jobs=2,\n",
       "             param_grid={'class_weight': ('balanced', None),\n",
       "                         'penalty': ('l1', 'l2', None, 'elacticnet'),\n",
       "                         'solver': ('liblinear', 'lbfgs', 'newton-cg',\n",
       "                                    'newton-cholesky', 'sag', 'saga')},\n",
       "             scoring='recall')"
      ]
     },
     "execution_count": 197,
     "metadata": {},
     "output_type": "execute_result"
    }
   ],
   "source": [
    "gscv.fit(x_train, y_train)"
   ]
  },
  {
   "cell_type": "code",
   "execution_count": 198,
   "metadata": {},
   "outputs": [
    {
     "data": {
      "text/plain": [
       "{'mean_fit_time': array([0.07781768, 0.00040007, 0.00080009, 0.00060024, 0.00020013,\n",
       "        0.0806191 , 0.00640149, 0.03500762, 0.03160744, 0.00060015,\n",
       "        0.05561252, 0.06301417, 0.0006001 , 0.00100026, 0.00040035,\n",
       "        0.0006001 , 0.        , 0.0006    , 0.00060015, 0.00080013,\n",
       "        0.0006001 , 0.00040002, 0.00080018, 0.0006001 , 0.03660812,\n",
       "        0.00060019, 0.00080013, 0.00080023, 0.00060005, 0.07201653,\n",
       "        0.00680156, 0.03320737, 0.04681025, 0.00019999, 0.05601258,\n",
       "        0.0616138 , 0.0006001 , 0.00100021, 0.00060015, 0.00060005,\n",
       "        0.00060015, 0.00059996, 0.00060019, 0.00080032, 0.0006001 ,\n",
       "        0.00060015, 0.00079999, 0.00060005]),\n",
       " 'std_fit_time': array([4.70869820e-03, 4.89979242e-04, 4.00042601e-04, 4.90096135e-04,\n",
       "        4.00257111e-04, 8.59506236e-03, 4.90115523e-04, 1.09553987e-03,\n",
       "        4.67498568e-03, 4.90018230e-04, 1.02018825e-03, 6.32636080e-04,\n",
       "        4.89979265e-04, 7.77697870e-07, 4.90329737e-04, 4.89979242e-04,\n",
       "        0.00000000e+00, 4.89901591e-04, 4.90018230e-04, 4.00066489e-04,\n",
       "        4.89979242e-04, 4.89920847e-04, 4.00090285e-04, 4.89979242e-04,\n",
       "        2.57745460e-03, 4.90057140e-04, 4.00066376e-04, 4.00114074e-04,\n",
       "        4.89940316e-04, 8.94895648e-04, 7.48379223e-04, 7.48532197e-04,\n",
       "        2.22756954e-03, 3.99971008e-04, 2.19138442e-03, 8.00550017e-04,\n",
       "        4.89979265e-04, 2.33601546e-07, 4.90018183e-04, 4.89940339e-04,\n",
       "        4.90018183e-04, 4.89862464e-04, 4.90057210e-04, 4.00161772e-04,\n",
       "        4.89979335e-04, 4.90018230e-04, 3.99994946e-04, 4.89940339e-04]),\n",
       " 'mean_score_time': array([0.00180049, 0.        , 0.        , 0.        , 0.        ,\n",
       "        0.00200033, 0.00180044, 0.00160074, 0.00160031, 0.        ,\n",
       "        0.00180078, 0.00180044, 0.        , 0.        , 0.        ,\n",
       "        0.        , 0.        , 0.        , 0.        , 0.        ,\n",
       "        0.        , 0.        , 0.        , 0.        , 0.00200057,\n",
       "        0.        , 0.        , 0.        , 0.        , 0.00180006,\n",
       "        0.00160027, 0.00140057, 0.0016006 , 0.        , 0.00200043,\n",
       "        0.00180049, 0.        , 0.        , 0.        , 0.        ,\n",
       "        0.        , 0.        , 0.        , 0.        , 0.        ,\n",
       "        0.        , 0.        , 0.        ]),\n",
       " 'std_score_time': array([7.48442932e-04, 0.00000000e+00, 0.00000000e+00, 0.00000000e+00,\n",
       "        0.00000000e+00, 1.50789149e-07, 4.00137969e-04, 4.89687269e-04,\n",
       "        4.90018206e-04, 0.00000000e+00, 3.99827971e-04, 4.00376387e-04,\n",
       "        0.00000000e+00, 0.00000000e+00, 0.00000000e+00, 0.00000000e+00,\n",
       "        0.00000000e+00, 0.00000000e+00, 0.00000000e+00, 0.00000000e+00,\n",
       "        0.00000000e+00, 0.00000000e+00, 0.00000000e+00, 0.00000000e+00,\n",
       "        3.01578299e-07, 0.00000000e+00, 0.00000000e+00, 0.00000000e+00,\n",
       "        0.00000000e+00, 4.00900965e-04, 4.89979288e-04, 4.89706761e-04,\n",
       "        4.90154518e-04, 0.00000000e+00, 4.15696997e-07, 4.00400176e-04,\n",
       "        0.00000000e+00, 0.00000000e+00, 0.00000000e+00, 0.00000000e+00,\n",
       "        0.00000000e+00, 0.00000000e+00, 0.00000000e+00, 0.00000000e+00,\n",
       "        0.00000000e+00, 0.00000000e+00, 0.00000000e+00, 0.00000000e+00]),\n",
       " 'param_class_weight': masked_array(data=['balanced', 'balanced', 'balanced', 'balanced',\n",
       "                    'balanced', 'balanced', 'balanced', 'balanced',\n",
       "                    'balanced', 'balanced', 'balanced', 'balanced',\n",
       "                    'balanced', 'balanced', 'balanced', 'balanced',\n",
       "                    'balanced', 'balanced', 'balanced', 'balanced',\n",
       "                    'balanced', 'balanced', 'balanced', 'balanced', None,\n",
       "                    None, None, None, None, None, None, None, None, None,\n",
       "                    None, None, None, None, None, None, None, None, None,\n",
       "                    None, None, None, None, None],\n",
       "              mask=[False, False, False, False, False, False, False, False,\n",
       "                    False, False, False, False, False, False, False, False,\n",
       "                    False, False, False, False, False, False, False, False,\n",
       "                    False, False, False, False, False, False, False, False,\n",
       "                    False, False, False, False, False, False, False, False,\n",
       "                    False, False, False, False, False, False, False, False],\n",
       "        fill_value='?',\n",
       "             dtype=object),\n",
       " 'param_penalty': masked_array(data=['l1', 'l1', 'l1', 'l1', 'l1', 'l1', 'l2', 'l2', 'l2',\n",
       "                    'l2', 'l2', 'l2', None, None, None, None, None, None,\n",
       "                    'elacticnet', 'elacticnet', 'elacticnet', 'elacticnet',\n",
       "                    'elacticnet', 'elacticnet', 'l1', 'l1', 'l1', 'l1',\n",
       "                    'l1', 'l1', 'l2', 'l2', 'l2', 'l2', 'l2', 'l2', None,\n",
       "                    None, None, None, None, None, 'elacticnet',\n",
       "                    'elacticnet', 'elacticnet', 'elacticnet', 'elacticnet',\n",
       "                    'elacticnet'],\n",
       "              mask=[False, False, False, False, False, False, False, False,\n",
       "                    False, False, False, False, False, False, False, False,\n",
       "                    False, False, False, False, False, False, False, False,\n",
       "                    False, False, False, False, False, False, False, False,\n",
       "                    False, False, False, False, False, False, False, False,\n",
       "                    False, False, False, False, False, False, False, False],\n",
       "        fill_value='?',\n",
       "             dtype=object),\n",
       " 'param_solver': masked_array(data=['liblinear', 'lbfgs', 'newton-cg', 'newton-cholesky',\n",
       "                    'sag', 'saga', 'liblinear', 'lbfgs', 'newton-cg',\n",
       "                    'newton-cholesky', 'sag', 'saga', 'liblinear', 'lbfgs',\n",
       "                    'newton-cg', 'newton-cholesky', 'sag', 'saga',\n",
       "                    'liblinear', 'lbfgs', 'newton-cg', 'newton-cholesky',\n",
       "                    'sag', 'saga', 'liblinear', 'lbfgs', 'newton-cg',\n",
       "                    'newton-cholesky', 'sag', 'saga', 'liblinear', 'lbfgs',\n",
       "                    'newton-cg', 'newton-cholesky', 'sag', 'saga',\n",
       "                    'liblinear', 'lbfgs', 'newton-cg', 'newton-cholesky',\n",
       "                    'sag', 'saga', 'liblinear', 'lbfgs', 'newton-cg',\n",
       "                    'newton-cholesky', 'sag', 'saga'],\n",
       "              mask=[False, False, False, False, False, False, False, False,\n",
       "                    False, False, False, False, False, False, False, False,\n",
       "                    False, False, False, False, False, False, False, False,\n",
       "                    False, False, False, False, False, False, False, False,\n",
       "                    False, False, False, False, False, False, False, False,\n",
       "                    False, False, False, False, False, False, False, False],\n",
       "        fill_value='?',\n",
       "             dtype=object),\n",
       " 'params': [{'class_weight': 'balanced',\n",
       "   'penalty': 'l1',\n",
       "   'solver': 'liblinear'},\n",
       "  {'class_weight': 'balanced', 'penalty': 'l1', 'solver': 'lbfgs'},\n",
       "  {'class_weight': 'balanced', 'penalty': 'l1', 'solver': 'newton-cg'},\n",
       "  {'class_weight': 'balanced', 'penalty': 'l1', 'solver': 'newton-cholesky'},\n",
       "  {'class_weight': 'balanced', 'penalty': 'l1', 'solver': 'sag'},\n",
       "  {'class_weight': 'balanced', 'penalty': 'l1', 'solver': 'saga'},\n",
       "  {'class_weight': 'balanced', 'penalty': 'l2', 'solver': 'liblinear'},\n",
       "  {'class_weight': 'balanced', 'penalty': 'l2', 'solver': 'lbfgs'},\n",
       "  {'class_weight': 'balanced', 'penalty': 'l2', 'solver': 'newton-cg'},\n",
       "  {'class_weight': 'balanced', 'penalty': 'l2', 'solver': 'newton-cholesky'},\n",
       "  {'class_weight': 'balanced', 'penalty': 'l2', 'solver': 'sag'},\n",
       "  {'class_weight': 'balanced', 'penalty': 'l2', 'solver': 'saga'},\n",
       "  {'class_weight': 'balanced', 'penalty': None, 'solver': 'liblinear'},\n",
       "  {'class_weight': 'balanced', 'penalty': None, 'solver': 'lbfgs'},\n",
       "  {'class_weight': 'balanced', 'penalty': None, 'solver': 'newton-cg'},\n",
       "  {'class_weight': 'balanced', 'penalty': None, 'solver': 'newton-cholesky'},\n",
       "  {'class_weight': 'balanced', 'penalty': None, 'solver': 'sag'},\n",
       "  {'class_weight': 'balanced', 'penalty': None, 'solver': 'saga'},\n",
       "  {'class_weight': 'balanced', 'penalty': 'elacticnet', 'solver': 'liblinear'},\n",
       "  {'class_weight': 'balanced', 'penalty': 'elacticnet', 'solver': 'lbfgs'},\n",
       "  {'class_weight': 'balanced', 'penalty': 'elacticnet', 'solver': 'newton-cg'},\n",
       "  {'class_weight': 'balanced',\n",
       "   'penalty': 'elacticnet',\n",
       "   'solver': 'newton-cholesky'},\n",
       "  {'class_weight': 'balanced', 'penalty': 'elacticnet', 'solver': 'sag'},\n",
       "  {'class_weight': 'balanced', 'penalty': 'elacticnet', 'solver': 'saga'},\n",
       "  {'class_weight': None, 'penalty': 'l1', 'solver': 'liblinear'},\n",
       "  {'class_weight': None, 'penalty': 'l1', 'solver': 'lbfgs'},\n",
       "  {'class_weight': None, 'penalty': 'l1', 'solver': 'newton-cg'},\n",
       "  {'class_weight': None, 'penalty': 'l1', 'solver': 'newton-cholesky'},\n",
       "  {'class_weight': None, 'penalty': 'l1', 'solver': 'sag'},\n",
       "  {'class_weight': None, 'penalty': 'l1', 'solver': 'saga'},\n",
       "  {'class_weight': None, 'penalty': 'l2', 'solver': 'liblinear'},\n",
       "  {'class_weight': None, 'penalty': 'l2', 'solver': 'lbfgs'},\n",
       "  {'class_weight': None, 'penalty': 'l2', 'solver': 'newton-cg'},\n",
       "  {'class_weight': None, 'penalty': 'l2', 'solver': 'newton-cholesky'},\n",
       "  {'class_weight': None, 'penalty': 'l2', 'solver': 'sag'},\n",
       "  {'class_weight': None, 'penalty': 'l2', 'solver': 'saga'},\n",
       "  {'class_weight': None, 'penalty': None, 'solver': 'liblinear'},\n",
       "  {'class_weight': None, 'penalty': None, 'solver': 'lbfgs'},\n",
       "  {'class_weight': None, 'penalty': None, 'solver': 'newton-cg'},\n",
       "  {'class_weight': None, 'penalty': None, 'solver': 'newton-cholesky'},\n",
       "  {'class_weight': None, 'penalty': None, 'solver': 'sag'},\n",
       "  {'class_weight': None, 'penalty': None, 'solver': 'saga'},\n",
       "  {'class_weight': None, 'penalty': 'elacticnet', 'solver': 'liblinear'},\n",
       "  {'class_weight': None, 'penalty': 'elacticnet', 'solver': 'lbfgs'},\n",
       "  {'class_weight': None, 'penalty': 'elacticnet', 'solver': 'newton-cg'},\n",
       "  {'class_weight': None, 'penalty': 'elacticnet', 'solver': 'newton-cholesky'},\n",
       "  {'class_weight': None, 'penalty': 'elacticnet', 'solver': 'sag'},\n",
       "  {'class_weight': None, 'penalty': 'elacticnet', 'solver': 'saga'}],\n",
       " 'split0_test_score': array([0.61764706,        nan,        nan,        nan,        nan,\n",
       "        0.61764706, 0.61764706, 0.61764706, 0.61764706,        nan,\n",
       "        0.64705882, 0.61764706,        nan,        nan,        nan,\n",
       "               nan,        nan,        nan,        nan,        nan,\n",
       "               nan,        nan,        nan,        nan, 0.        ,\n",
       "               nan,        nan,        nan,        nan, 0.        ,\n",
       "        0.        , 0.        , 0.        ,        nan, 0.        ,\n",
       "        0.        ,        nan,        nan,        nan,        nan,\n",
       "               nan,        nan,        nan,        nan,        nan,\n",
       "               nan,        nan,        nan]),\n",
       " 'split1_test_score': array([0.84848485,        nan,        nan,        nan,        nan,\n",
       "        0.81818182, 0.84848485, 0.84848485, 0.84848485,        nan,\n",
       "        0.81818182, 0.81818182,        nan,        nan,        nan,\n",
       "               nan,        nan,        nan,        nan,        nan,\n",
       "               nan,        nan,        nan,        nan, 0.03030303,\n",
       "               nan,        nan,        nan,        nan, 0.        ,\n",
       "        0.        , 0.        , 0.        ,        nan, 0.        ,\n",
       "        0.        ,        nan,        nan,        nan,        nan,\n",
       "               nan,        nan,        nan,        nan,        nan,\n",
       "               nan,        nan,        nan]),\n",
       " 'split2_test_score': array([0.81818182,        nan,        nan,        nan,        nan,\n",
       "        0.81818182, 0.84848485, 0.84848485, 0.84848485,        nan,\n",
       "        0.81818182, 0.81818182,        nan,        nan,        nan,\n",
       "               nan,        nan,        nan,        nan,        nan,\n",
       "               nan,        nan,        nan,        nan, 0.        ,\n",
       "               nan,        nan,        nan,        nan, 0.        ,\n",
       "        0.        , 0.        , 0.        ,        nan, 0.        ,\n",
       "        0.        ,        nan,        nan,        nan,        nan,\n",
       "               nan,        nan,        nan,        nan,        nan,\n",
       "               nan,        nan,        nan]),\n",
       " 'split3_test_score': array([0.87878788,        nan,        nan,        nan,        nan,\n",
       "        0.84848485, 0.87878788, 0.87878788, 0.87878788,        nan,\n",
       "        0.84848485, 0.84848485,        nan,        nan,        nan,\n",
       "               nan,        nan,        nan,        nan,        nan,\n",
       "               nan,        nan,        nan,        nan, 0.        ,\n",
       "               nan,        nan,        nan,        nan, 0.        ,\n",
       "        0.        , 0.        , 0.        ,        nan, 0.        ,\n",
       "        0.        ,        nan,        nan,        nan,        nan,\n",
       "               nan,        nan,        nan,        nan,        nan,\n",
       "               nan,        nan,        nan]),\n",
       " 'split4_test_score': array([0.73529412,        nan,        nan,        nan,        nan,\n",
       "        0.73529412, 0.73529412, 0.73529412, 0.73529412,        nan,\n",
       "        0.73529412, 0.73529412,        nan,        nan,        nan,\n",
       "               nan,        nan,        nan,        nan,        nan,\n",
       "               nan,        nan,        nan,        nan, 0.02941176,\n",
       "               nan,        nan,        nan,        nan, 0.        ,\n",
       "        0.02941176, 0.02941176, 0.02941176,        nan, 0.        ,\n",
       "        0.        ,        nan,        nan,        nan,        nan,\n",
       "               nan,        nan,        nan,        nan,        nan,\n",
       "               nan,        nan,        nan]),\n",
       " 'mean_test_score': array([0.77967914,        nan,        nan,        nan,        nan,\n",
       "        0.76755793, 0.78573975, 0.78573975, 0.78573975,        nan,\n",
       "        0.77344029, 0.76755793,        nan,        nan,        nan,\n",
       "               nan,        nan,        nan,        nan,        nan,\n",
       "               nan,        nan,        nan,        nan, 0.01194296,\n",
       "               nan,        nan,        nan,        nan, 0.        ,\n",
       "        0.00588235, 0.00588235, 0.00588235,        nan, 0.        ,\n",
       "        0.        ,        nan,        nan,        nan,        nan,\n",
       "               nan,        nan,        nan,        nan,        nan,\n",
       "               nan,        nan,        nan]),\n",
       " 'std_test_score': array([0.09408895,        nan,        nan,        nan,        nan,\n",
       "        0.08389153, 0.09729518, 0.09729518, 0.09729518,        nan,\n",
       "        0.07356997, 0.08389153,        nan,        nan,        nan,\n",
       "               nan,        nan,        nan,        nan,        nan,\n",
       "               nan,        nan,        nan,        nan, 0.01462979,\n",
       "               nan,        nan,        nan,        nan, 0.        ,\n",
       "        0.01176471, 0.01176471, 0.01176471,        nan, 0.        ,\n",
       "        0.        ,        nan,        nan,        nan,        nan,\n",
       "               nan,        nan,        nan,        nan,        nan,\n",
       "               nan,        nan,        nan]),\n",
       " 'rank_test_score': array([ 4, 30, 31, 32, 33,  6,  1,  1,  1, 34,  5,  6, 35, 36, 37, 38, 39,\n",
       "        40, 41, 42, 43, 44, 45, 28,  8, 29, 47, 27, 19, 12,  9,  9,  9, 15,\n",
       "        12, 12, 16, 26, 18, 17, 20, 21, 22, 23, 24, 25, 46, 48])}"
      ]
     },
     "execution_count": 198,
     "metadata": {},
     "output_type": "execute_result"
    }
   ],
   "source": [
    "gscv.cv_results_"
   ]
  },
  {
   "cell_type": "markdown",
   "metadata": {},
   "source": [
    "Итого, по результатам кросс-валидации, самые оптимальные параметры:\n",
    "\n",
    "- 'class_weight': 'balanced'\n",
    "- 'penalty': 'l2'\n",
    "- 'solver': 'liblinear' or 'lbfgs' or 'newton-cg'\n"
   ]
  },
  {
   "cell_type": "code",
   "execution_count": null,
   "metadata": {},
   "outputs": [],
   "source": []
  },
  {
   "cell_type": "code",
   "execution_count": null,
   "metadata": {},
   "outputs": [],
   "source": []
  }
 ],
 "metadata": {
  "kernelspec": {
   "display_name": "Python 3 (ipykernel)",
   "language": "python",
   "name": "python3"
  },
  "language_info": {
   "codemirror_mode": {
    "name": "ipython",
    "version": 3
   },
   "file_extension": ".py",
   "mimetype": "text/x-python",
   "name": "python",
   "nbconvert_exporter": "python",
   "pygments_lexer": "ipython3",
   "version": "3.10.6"
  },
  "toc": {
   "base_numbering": 1,
   "nav_menu": {},
   "number_sections": true,
   "sideBar": true,
   "skip_h1_title": true,
   "title_cell": "Table of Contents",
   "title_sidebar": "Contents",
   "toc_cell": false,
   "toc_position": {},
   "toc_section_display": true,
   "toc_window_display": false
  },
  "varInspector": {
   "cols": {
    "lenName": 16,
    "lenType": 16,
    "lenVar": 40
   },
   "kernels_config": {
    "python": {
     "delete_cmd_postfix": "",
     "delete_cmd_prefix": "del ",
     "library": "var_list.py",
     "varRefreshCmd": "print(var_dic_list())"
    },
    "r": {
     "delete_cmd_postfix": ") ",
     "delete_cmd_prefix": "rm(",
     "library": "var_list.r",
     "varRefreshCmd": "cat(var_dic_list()) "
    }
   },
   "types_to_exclude": [
    "module",
    "function",
    "builtin_function_or_method",
    "instance",
    "_Feature"
   ],
   "window_display": false
  }
 },
 "nbformat": 4,
 "nbformat_minor": 4
}
